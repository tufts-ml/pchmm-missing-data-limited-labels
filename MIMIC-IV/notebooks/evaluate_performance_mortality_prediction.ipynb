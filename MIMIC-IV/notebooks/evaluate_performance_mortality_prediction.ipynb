{
 "cells": [
  {
   "cell_type": "markdown",
   "metadata": {},
   "source": [
    "## Imports for PC-HMM"
   ]
  },
  {
   "cell_type": "code",
   "execution_count": 1,
   "metadata": {},
   "outputs": [],
   "source": [
    "import numpy as np\n",
    "import pandas as pd\n",
    "import glob\n",
    "import os\n",
    "import sys\n",
    "PROJECT_REPO_DIR = os.path.abspath('../PC-HMM')\n",
    "sys.path.append(PROJECT_REPO_DIR)\n",
    "sys.path.append(os.path.join(PROJECT_REPO_DIR, 'pcvae'))\n",
    "\n",
    "from pcvae.datasets.toy import toy_line, custom_dataset, custom_regression_dataset\n",
    "from pcvae.models.hmm import HMM\n",
    "from pcvae.datasets.base import dataset, real_dataset, classification_dataset, make_dataset\n",
    "\n",
    "import matplotlib.pyplot as plt\n",
    "\n",
    "from sklearn.metrics import (accuracy_score, balanced_accuracy_score, f1_score,\n",
    "                             average_precision_score, confusion_matrix, log_loss,\n",
    "                             roc_auc_score, roc_curve, precision_recall_curve, recall_score, precision_score)\n",
    "\n",
    "import seaborn as sns\n",
    "import random\n",
    "\n",
    "%matplotlib inline"
   ]
  },
  {
   "cell_type": "markdown",
   "metadata": {},
   "source": [
    "## Imports for GRU-D"
   ]
  },
  {
   "cell_type": "code",
   "execution_count": 1,
   "metadata": {},
   "outputs": [],
   "source": [
    "import numpy as np\n",
    "import pandas as pd\n",
    "import glob\n",
    "import os\n",
    "import sys\n",
    "PROJECT_SRC_DIR = \"/cluster/tufts/hugheslab/prath01/projects/pchmm-missing-data-limited-labels/MIMIC-IV\"\n",
    "sys.path.append(os.path.join(PROJECT_SRC_DIR, \"GRU_D\", \"GRU-D\"))\n",
    "from models import create_grud_model\n",
    "import matplotlib.pyplot as plt\n",
    "\n",
    "from sklearn.metrics import (accuracy_score, balanced_accuracy_score, f1_score,\n",
    "                             average_precision_score, confusion_matrix, log_loss,\n",
    "                             roc_auc_score, roc_curve, precision_recall_curve, recall_score, precision_score)\n",
    "\n",
    "import seaborn as sns\n",
    "import random\n",
    "%matplotlib inline"
   ]
  },
  {
   "cell_type": "markdown",
   "metadata": {},
   "source": [
    "## Import for MixMatch and FixMatch"
   ]
  },
  {
   "cell_type": "code",
   "execution_count": 2,
   "metadata": {},
   "outputs": [],
   "source": [
    "import numpy as np\n",
    "import pandas as pd\n",
    "import glob\n",
    "import os\n",
    "import sys\n",
    "import torch\n",
    "\n",
    "import matplotlib.pyplot as plt\n",
    "\n",
    "from sklearn.metrics import (accuracy_score, balanced_accuracy_score, f1_score,\n",
    "                             average_precision_score, confusion_matrix, log_loss,\n",
    "                             roc_auc_score, roc_curve, precision_recall_curve, recall_score, precision_score)\n",
    "\n",
    "import seaborn as sns\n",
    "import random\n",
    "\n",
    "PROJECT_SRC_DIR = \"/cluster/tufts/hugheslab/prath01/projects/pchmm-missing-data-limited-labels/MIMIC-IV\"\n",
    "sys.path.append(os.path.join(PROJECT_SRC_DIR, \"MixMatch\"))\n",
    "from SimpleRNN import SimpleRNN\n",
    "\n",
    "import torch.utils.data as data\n",
    "%matplotlib inline"
   ]
  },
  {
   "cell_type": "code",
   "execution_count": 4,
   "metadata": {},
   "outputs": [],
   "source": [
    "## DO NOT DELETE. Needed to run the following cells\n",
    "CLF_TRAIN_TEST_SPLIT_PATH = '/cluster/tufts/hugheslab/datasets/MIMIC-IV/mortality_prediction/'"
   ]
  },
  {
   "cell_type": "markdown",
   "metadata": {},
   "source": [
    "## Get performance of PC-HMM classification as a function of % labelled sequences"
   ]
  },
  {
   "cell_type": "code",
   "execution_count": 5,
   "metadata": {},
   "outputs": [
    {
     "name": "stdout",
     "output_type": "stream",
     "text": [
      "best_model : /cluster/tufts/hugheslab/prath01/projects/pchmm-missing-data-limited-labels/MIMIC-IV/results/PCHMM/mortality_prediction/semi-supervised-pchmm-lr=0.005-seed=120-init_strategy=kmeans-batch_size=128-perc_labelled=1.2-predictor_l2_penalty=0-n_states=5-lamb=10-weights.h5\n",
      "Class dist 0.08356412950052526\n",
      "Training data shape: (10471, 1, 24, 41)\n"
     ]
    },
    {
     "name": "stderr",
     "output_type": "stream",
     "text": [
      "/cluster/tufts/hugheslab/miniconda2/envs/pchmm/lib/python3.6/site-packages/keras_preprocessing/image/image_data_generator.py:947: UserWarning: Expected input to be images (as Numpy array) following the data format convention \"channels_last\" (channels on axis 3), i.e. expected either 1, 3 or 4 channels on axis 3. However, it was passed an array with shape (10000, 1, 24, 41) (41 channels).\n",
      "  ' channels).')\n"
     ]
    },
    {
     "name": "stdout",
     "output_type": "stream",
     "text": [
      "================mortality classification with 1.2 perc labelled sequences=========\n",
      "test AUPRC (full test): 0.196\n",
      "test AUPRC (bootstrapped test): 0.196\n",
      "test AUROC (full test): 0.688\n",
      "test AUROC (bootstrapped test): 0.685\n",
      "=====================================================================================\n",
      "best_model : /cluster/tufts/hugheslab/prath01/projects/pchmm-missing-data-limited-labels/MIMIC-IV/results/PCHMM/mortality_prediction/semi-supervised-pchmm-lr=0.005-seed=891-init_strategy=kmeans-batch_size=256-perc_labelled=3.7-predictor_l2_penalty=0.1-n_states=20-lamb=500-weights.h5\n",
      "Class dist 0.08356412950052526\n",
      "Training data shape: (10471, 1, 24, 41)\n"
     ]
    },
    {
     "name": "stderr",
     "output_type": "stream",
     "text": [
      "/cluster/tufts/hugheslab/miniconda2/envs/pchmm/lib/python3.6/site-packages/keras_preprocessing/image/image_data_generator.py:947: UserWarning: Expected input to be images (as Numpy array) following the data format convention \"channels_last\" (channels on axis 3), i.e. expected either 1, 3 or 4 channels on axis 3. However, it was passed an array with shape (10000, 1, 24, 41) (41 channels).\n",
      "  ' channels).')\n"
     ]
    },
    {
     "name": "stdout",
     "output_type": "stream",
     "text": [
      "================mortality classification with 3.7 perc labelled sequences=========\n",
      "test AUPRC (full test): 0.229\n",
      "test AUPRC (bootstrapped test): 0.229\n",
      "test AUROC (full test): 0.731\n",
      "test AUROC (bootstrapped test): 0.729\n",
      "=====================================================================================\n",
      "best_model : /cluster/tufts/hugheslab/prath01/projects/pchmm-missing-data-limited-labels/MIMIC-IV/results/PCHMM/mortality_prediction/semi-supervised-pchmm-lr=0.005-seed=5-init_strategy=kmeans-batch_size=128-perc_labelled=11.1-predictor_l2_penalty=0-n_states=5-lamb=50-weights.h5\n",
      "Class dist 0.08356412950052526\n",
      "Training data shape: (10471, 1, 24, 41)\n"
     ]
    },
    {
     "name": "stderr",
     "output_type": "stream",
     "text": [
      "/cluster/tufts/hugheslab/miniconda2/envs/pchmm/lib/python3.6/site-packages/keras_preprocessing/image/image_data_generator.py:947: UserWarning: Expected input to be images (as Numpy array) following the data format convention \"channels_last\" (channels on axis 3), i.e. expected either 1, 3 or 4 channels on axis 3. However, it was passed an array with shape (10000, 1, 24, 41) (41 channels).\n",
      "  ' channels).')\n"
     ]
    },
    {
     "name": "stdout",
     "output_type": "stream",
     "text": [
      "================mortality classification with 11.1 perc labelled sequences=========\n",
      "test AUPRC (full test): 0.295\n",
      "test AUPRC (bootstrapped test): 0.292\n",
      "test AUROC (full test): 0.784\n",
      "test AUROC (bootstrapped test): 0.783\n",
      "=====================================================================================\n",
      "best_model : /cluster/tufts/hugheslab/prath01/projects/pchmm-missing-data-limited-labels/MIMIC-IV/results/PCHMM/mortality_prediction/semi-supervised-pchmm-lr=0.005-seed=120-init_strategy=kmeans-batch_size=128-perc_labelled=33.3-predictor_l2_penalty=0-n_states=5-lamb=100-weights.h5\n",
      "Class dist 0.08356412950052526\n",
      "Training data shape: (10471, 1, 24, 41)\n"
     ]
    },
    {
     "name": "stderr",
     "output_type": "stream",
     "text": [
      "/cluster/tufts/hugheslab/miniconda2/envs/pchmm/lib/python3.6/site-packages/keras_preprocessing/image/image_data_generator.py:947: UserWarning: Expected input to be images (as Numpy array) following the data format convention \"channels_last\" (channels on axis 3), i.e. expected either 1, 3 or 4 channels on axis 3. However, it was passed an array with shape (10000, 1, 24, 41) (41 channels).\n",
      "  ' channels).')\n"
     ]
    },
    {
     "name": "stdout",
     "output_type": "stream",
     "text": [
      "================mortality classification with 33.3 perc labelled sequences=========\n",
      "test AUPRC (full test): 0.328\n",
      "test AUPRC (bootstrapped test): 0.326\n",
      "test AUROC (full test): 0.814\n",
      "test AUROC (bootstrapped test): 0.814\n",
      "=====================================================================================\n",
      "best_model : /cluster/tufts/hugheslab/prath01/projects/pchmm-missing-data-limited-labels/MIMIC-IV/results/PCHMM/mortality_prediction/semi-supervised-pchmm-lr=0.005-seed=123819-init_strategy=kmeans-batch_size=128-perc_labelled=100-predictor_l2_penalty=0-n_states=5-lamb=100-weights.h5\n",
      "Class dist 0.08356412950052526\n",
      "Training data shape: (10471, 1, 24, 41)\n"
     ]
    },
    {
     "name": "stderr",
     "output_type": "stream",
     "text": [
      "/cluster/tufts/hugheslab/miniconda2/envs/pchmm/lib/python3.6/site-packages/keras_preprocessing/image/image_data_generator.py:947: UserWarning: Expected input to be images (as Numpy array) following the data format convention \"channels_last\" (channels on axis 3), i.e. expected either 1, 3 or 4 channels on axis 3. However, it was passed an array with shape (10000, 1, 24, 41) (41 channels).\n",
      "  ' channels).')\n"
     ]
    },
    {
     "name": "stdout",
     "output_type": "stream",
     "text": [
      "================mortality classification with 100 perc labelled sequences=========\n",
      "test AUPRC (full test): 0.342\n",
      "test AUPRC (bootstrapped test): 0.341\n",
      "test AUROC (full test): 0.826\n",
      "test AUROC (bootstrapped test): 0.826\n",
      "=====================================================================================\n"
     ]
    }
   ],
   "source": [
    "perc_labelled_list = ['1.2', '3.7', '11.1', '33.3', '100']\n",
    "random_seed_list = [42, 1783, 78970, 86787, 8675309, 241, 61, 8942, 23, 555]\n",
    "\n",
    "\n",
    "\n",
    "pchmm_perf_dict_list = []\n",
    "for perc_labelled in perc_labelled_list:\n",
    "\n",
    "    perf_csvs = glob.glob(os.path.abspath('../results/PCHMM/mortality_prediction/final_perf*perc_labelled=%s*.csv'%(perc_labelled)))\n",
    "\n",
    "\n",
    "    valid_auprc_np = np.zeros(len(perf_csvs))\n",
    "    test_auprc_np = np.zeros(len(perf_csvs))\n",
    "\n",
    "    for ii, perf_csv in enumerate(perf_csvs):\n",
    "        curr_perf_df = pd.read_csv(perf_csv)\n",
    "        valid_auprc_np[ii] = curr_perf_df['valid_AUPRC'].values[-1]\n",
    "        test_auprc_np[ii] = curr_perf_df['test_AUPRC'].values[-1]\n",
    "\n",
    "    # curr_perf_df\n",
    "    best_ind = np.argmax(valid_auprc_np)\n",
    "    perf_df = pd.read_csv(perf_csvs[best_ind])\n",
    "    best_model_perf_csv = perf_csvs[best_ind]\n",
    "\n",
    "\n",
    "    x_test_np_filename=os.path.join(CLF_TRAIN_TEST_SPLIT_PATH, 'X_test.npy')\n",
    "    y_test_np_filename=os.path.join(CLF_TRAIN_TEST_SPLIT_PATH, 'y_test.npy')\n",
    "\n",
    "    best_model_weights = best_model_perf_csv.replace('.csv', '-weights.h5').replace('final_perf_', '')\n",
    "\n",
    "    print('best_model : %s'%best_model_weights)\n",
    "    X_test = np.load(x_test_np_filename)\n",
    "    y_test = np.load(y_test_np_filename)\n",
    "\n",
    "\n",
    "    X_test = np.expand_dims(X_test, 1)\n",
    "\n",
    "    # standardize data for PC-HMM\n",
    "    key_list = ['train', 'valid', 'test']\n",
    "    data_dict = dict.fromkeys(key_list)\n",
    "    data_dict['train'] = (X_test, y_test)\n",
    "    data_dict['valid'] = (X_test, y_test)\n",
    "    data_dict['test'] = (X_test, y_test)\n",
    "    data = custom_dataset(data_dict=data_dict)\n",
    "\n",
    "    n_states = int(best_model_weights.split('n_states=')[-1].split('-')[0])\n",
    "    # load the best PCHMM model\n",
    "    model = HMM(states=n_states,\n",
    "                observation_dist='NormalWithMissing',\n",
    "                predictor_dist='Categorical')\n",
    "\n",
    "    model.build(data)\n",
    "    model.model.load_weights(best_model_weights)\n",
    "\n",
    "    x_test, y_test = data.test().numpy()\n",
    "    z_test = model.hmm_model.predict(x_test)\n",
    "    y_test_pred_proba = model._predictor.predict(z_test)\n",
    "    labelled_inds_te = ~np.isnan(y_test[:,0])\n",
    "    test_roc_auc = roc_auc_score(y_test[labelled_inds_te], y_test_pred_proba[labelled_inds_te])\n",
    "    test_auprc = average_precision_score(y_test[labelled_inds_te, 1], y_test_pred_proba[labelled_inds_te, 1])\n",
    "\n",
    "    roc_auc_np = np.zeros(len(random_seed_list))\n",
    "    auprc_np = np.zeros(len(random_seed_list))\n",
    "    for k, seed in enumerate(random_seed_list):\n",
    "        random.seed(int(seed))\n",
    "        rnd_inds = random.sample(range(x_test.shape[0]), int(0.9*x_test.shape[0])) \n",
    "        curr_y_test = y_test[rnd_inds]\n",
    "        curr_x_test = x_test[rnd_inds, :]\n",
    "        curr_y_pred_proba = y_test_pred_proba[rnd_inds]\n",
    "\n",
    "        roc_auc_np[k] = roc_auc_score(curr_y_test, curr_y_pred_proba)\n",
    "        auprc_np[k] = average_precision_score(curr_y_test[:, 1], curr_y_pred_proba[:, 1])\n",
    "    \n",
    "    \n",
    "    pchmm_perf_dict_list.append({'perc_labelled' : perc_labelled,\n",
    "                 'test_AUC' : test_roc_auc,\n",
    "                 'test_AUPRC' : test_auprc,\n",
    "                 'test_AUPRC_50' : np.median(auprc_np),\n",
    "                 'test_AUPRC_5' : np.percentile(auprc_np, 5),\n",
    "                 'test_AUPRC_95' : np.percentile(auprc_np, 95)})\n",
    "    \n",
    "    \n",
    "    print('================mortality classification with %s perc labelled sequences========='%(perc_labelled))\n",
    "    print('test AUPRC (full test): %.3f'%test_auprc)\n",
    "    print('test AUPRC (bootstrapped test): %.3f'%np.median(auprc_np))\n",
    "    \n",
    "    print('test AUROC (full test): %.3f'%test_roc_auc)\n",
    "    print('test AUROC (bootstrapped test): %.3f'%np.median(roc_auc_np))\n",
    "    print('=====================================================================================')\n",
    "\n",
    "pchmm_perf_df = pd.DataFrame(pchmm_perf_dict_list)"
   ]
  },
  {
   "cell_type": "code",
   "execution_count": 3,
   "metadata": {},
   "outputs": [
    {
     "ename": "NameError",
     "evalue": "name 'pchmm_perf_df' is not defined",
     "output_type": "error",
     "traceback": [
      "\u001b[0;31m---------------------------------------------------------------------------\u001b[0m",
      "\u001b[0;31mNameError\u001b[0m                                 Traceback (most recent call last)",
      "\u001b[0;32m<ipython-input-3-aca99885e84e>\u001b[0m in \u001b[0;36m<module>\u001b[0;34m\u001b[0m\n\u001b[0;32m----> 1\u001b[0;31m \u001b[0mpchmm_perf_df\u001b[0m\u001b[0;34m\u001b[0m\u001b[0;34m\u001b[0m\u001b[0m\n\u001b[0m",
      "\u001b[0;31mNameError\u001b[0m: name 'pchmm_perf_df' is not defined"
     ]
    }
   ],
   "source": [
    "pchmm_perf_df"
   ]
  },
  {
   "cell_type": "markdown",
   "metadata": {},
   "source": [
    "## Get performance of HMM + predictor trained separately"
   ]
  },
  {
   "cell_type": "code",
   "execution_count": 6,
   "metadata": {},
   "outputs": [
    {
     "name": "stdout",
     "output_type": "stream",
     "text": [
      "best_model : /cluster/tufts/hugheslab/prath01/projects/pchmm-missing-data-limited-labels/MIMIC-IV/results/PCHMM/mortality_prediction/semi-supervised-pchmm-lr=0.005-seed=2577-init_strategy=kmeans-batch_size=128-perc_labelled=1.2-predictor_l2_penalty=0-n_states=5-lamb=0-weights.h5\n",
      "Class dist 0.08356412950052526\n",
      "Training data shape: (10471, 1, 24, 41)\n"
     ]
    },
    {
     "name": "stderr",
     "output_type": "stream",
     "text": [
      "/cluster/tufts/hugheslab/miniconda2/envs/pchmm/lib/python3.6/site-packages/keras_preprocessing/image/image_data_generator.py:947: UserWarning: Expected input to be images (as Numpy array) following the data format convention \"channels_last\" (channels on axis 3), i.e. expected either 1, 3 or 4 channels on axis 3. However, it was passed an array with shape (10000, 1, 24, 41) (41 channels).\n",
      "  ' channels).')\n"
     ]
    },
    {
     "name": "stdout",
     "output_type": "stream",
     "text": [
      "================mortality classification with 1.2 perc labelled sequences=========\n",
      "test AUPRC (full test): 0.190\n",
      "test AUPRC (bootstrapped test): 0.189\n",
      "test AUROC (full test): 0.652\n",
      "test AUROC (bootstrapped test): 0.653\n",
      "=====================================================================================\n",
      "best_model : /cluster/tufts/hugheslab/prath01/projects/pchmm-missing-data-limited-labels/MIMIC-IV/results/PCHMM/mortality_prediction/semi-supervised-pchmm-lr=0.005-seed=2577-init_strategy=kmeans-batch_size=128-perc_labelled=3.7-predictor_l2_penalty=0.1-n_states=5-lamb=0-weights.h5\n",
      "Class dist 0.08356412950052526\n",
      "Training data shape: (10471, 1, 24, 41)\n"
     ]
    },
    {
     "name": "stderr",
     "output_type": "stream",
     "text": [
      "/cluster/tufts/hugheslab/miniconda2/envs/pchmm/lib/python3.6/site-packages/keras_preprocessing/image/image_data_generator.py:947: UserWarning: Expected input to be images (as Numpy array) following the data format convention \"channels_last\" (channels on axis 3), i.e. expected either 1, 3 or 4 channels on axis 3. However, it was passed an array with shape (10000, 1, 24, 41) (41 channels).\n",
      "  ' channels).')\n"
     ]
    },
    {
     "name": "stdout",
     "output_type": "stream",
     "text": [
      "================mortality classification with 3.7 perc labelled sequences=========\n",
      "test AUPRC (full test): 0.208\n",
      "test AUPRC (bootstrapped test): 0.208\n",
      "test AUROC (full test): 0.692\n",
      "test AUROC (bootstrapped test): 0.693\n",
      "=====================================================================================\n",
      "best_model : /cluster/tufts/hugheslab/prath01/projects/pchmm-missing-data-limited-labels/MIMIC-IV/results/PCHMM/mortality_prediction/semi-supervised-pchmm-lr=0.005-seed=2577-init_strategy=kmeans-batch_size=256-perc_labelled=11.1-predictor_l2_penalty=0.1-n_states=5-lamb=0-weights.h5\n",
      "Class dist 0.08356412950052526\n",
      "Training data shape: (10471, 1, 24, 41)\n"
     ]
    },
    {
     "name": "stderr",
     "output_type": "stream",
     "text": [
      "/cluster/tufts/hugheslab/miniconda2/envs/pchmm/lib/python3.6/site-packages/keras_preprocessing/image/image_data_generator.py:947: UserWarning: Expected input to be images (as Numpy array) following the data format convention \"channels_last\" (channels on axis 3), i.e. expected either 1, 3 or 4 channels on axis 3. However, it was passed an array with shape (10000, 1, 24, 41) (41 channels).\n",
      "  ' channels).')\n"
     ]
    },
    {
     "name": "stdout",
     "output_type": "stream",
     "text": [
      "================mortality classification with 11.1 perc labelled sequences=========\n",
      "test AUPRC (full test): 0.214\n",
      "test AUPRC (bootstrapped test): 0.213\n",
      "test AUROC (full test): 0.698\n",
      "test AUROC (bootstrapped test): 0.697\n",
      "=====================================================================================\n",
      "best_model : /cluster/tufts/hugheslab/prath01/projects/pchmm-missing-data-limited-labels/MIMIC-IV/results/PCHMM/mortality_prediction/semi-supervised-pchmm-lr=0.005-seed=2577-init_strategy=kmeans-batch_size=256-perc_labelled=33.3-predictor_l2_penalty=0-n_states=5-lamb=0-weights.h5\n",
      "Class dist 0.08356412950052526\n",
      "Training data shape: (10471, 1, 24, 41)\n"
     ]
    },
    {
     "name": "stderr",
     "output_type": "stream",
     "text": [
      "/cluster/tufts/hugheslab/miniconda2/envs/pchmm/lib/python3.6/site-packages/keras_preprocessing/image/image_data_generator.py:947: UserWarning: Expected input to be images (as Numpy array) following the data format convention \"channels_last\" (channels on axis 3), i.e. expected either 1, 3 or 4 channels on axis 3. However, it was passed an array with shape (10000, 1, 24, 41) (41 channels).\n",
      "  ' channels).')\n"
     ]
    },
    {
     "name": "stdout",
     "output_type": "stream",
     "text": [
      "================mortality classification with 33.3 perc labelled sequences=========\n",
      "test AUPRC (full test): 0.204\n",
      "test AUPRC (bootstrapped test): 0.205\n",
      "test AUROC (full test): 0.684\n",
      "test AUROC (bootstrapped test): 0.683\n",
      "=====================================================================================\n",
      "best_model : /cluster/tufts/hugheslab/prath01/projects/pchmm-missing-data-limited-labels/MIMIC-IV/results/PCHMM/mortality_prediction/semi-supervised-pchmm-lr=0.005-seed=2577-init_strategy=kmeans-batch_size=256-perc_labelled=100-predictor_l2_penalty=0.1-n_states=5-lamb=0-weights.h5\n",
      "Class dist 0.08356412950052526\n",
      "Training data shape: (10471, 1, 24, 41)\n"
     ]
    },
    {
     "name": "stderr",
     "output_type": "stream",
     "text": [
      "/cluster/tufts/hugheslab/miniconda2/envs/pchmm/lib/python3.6/site-packages/keras_preprocessing/image/image_data_generator.py:947: UserWarning: Expected input to be images (as Numpy array) following the data format convention \"channels_last\" (channels on axis 3), i.e. expected either 1, 3 or 4 channels on axis 3. However, it was passed an array with shape (10000, 1, 24, 41) (41 channels).\n",
      "  ' channels).')\n"
     ]
    },
    {
     "name": "stdout",
     "output_type": "stream",
     "text": [
      "================mortality classification with 100 perc labelled sequences=========\n",
      "test AUPRC (full test): 0.212\n",
      "test AUPRC (bootstrapped test): 0.212\n",
      "test AUROC (full test): 0.698\n",
      "test AUROC (bootstrapped test): 0.696\n",
      "=====================================================================================\n"
     ]
    }
   ],
   "source": [
    "CLF_TRAIN_TEST_SPLIT_PATH = '/cluster/tufts/hugheslab/datasets/MIMIC-IV/mortality_prediction/'\n",
    "perc_labelled_list = ['1.2', '3.7', '11.1', '33.3', '100']\n",
    "\n",
    "\n",
    "hmm_plus_pred_perf_dict_list = []\n",
    "for perc_labelled in perc_labelled_list:\n",
    "\n",
    "    perf_csvs = glob.glob(os.path.abspath('../results/PCHMM/mortality_prediction/final_perf*perc_labelled=%s-*lamb=0*.csv'%(perc_labelled)))\n",
    "\n",
    "\n",
    "    valid_auprc_np = np.zeros(len(perf_csvs))\n",
    "    test_auprc_np = np.zeros(len(perf_csvs))\n",
    "\n",
    "    for ii, perf_csv in enumerate(perf_csvs):\n",
    "        curr_perf_df = pd.read_csv(perf_csv)\n",
    "        valid_auprc_np[ii] = curr_perf_df['valid_AUPRC'].values[-1]\n",
    "        test_auprc_np[ii] = curr_perf_df['test_AUPRC'].values[-1]\n",
    "\n",
    "    # curr_perf_df\n",
    "    best_ind = np.argmax(valid_auprc_np)\n",
    "    perf_df = pd.read_csv(perf_csvs[best_ind])\n",
    "    best_model_perf_csv = perf_csvs[best_ind]\n",
    "\n",
    "\n",
    "    x_test_np_filename=os.path.join(CLF_TRAIN_TEST_SPLIT_PATH, 'X_test.npy')\n",
    "    y_test_np_filename=os.path.join(CLF_TRAIN_TEST_SPLIT_PATH, 'y_test.npy')\n",
    "\n",
    "    best_model_weights = best_model_perf_csv.replace('.csv', '-weights.h5').replace('final_perf_', '')\n",
    "\n",
    "    print('best_model : %s'%best_model_weights)\n",
    "    X_test = np.load(x_test_np_filename)\n",
    "    y_test = np.load(y_test_np_filename)\n",
    "\n",
    "\n",
    "    X_test = np.expand_dims(X_test, 1)\n",
    "\n",
    "    # standardize data for PC-HMM\n",
    "    key_list = ['train', 'valid', 'test']\n",
    "    data_dict = dict.fromkeys(key_list)\n",
    "    data_dict['train'] = (X_test, y_test)\n",
    "    data_dict['valid'] = (X_test, y_test)\n",
    "    data_dict['test'] = (X_test, y_test)\n",
    "    data = custom_dataset(data_dict=data_dict)\n",
    "\n",
    "    n_states = int(best_model_weights.split('n_states=')[-1].split('-')[0])\n",
    "    # load the best PCHMM model\n",
    "    model = HMM(states=n_states,\n",
    "                observation_dist='NormalWithMissing',\n",
    "                predictor_dist='Categorical')\n",
    "\n",
    "    model.build(data)\n",
    "    model.model.load_weights(best_model_weights)\n",
    "\n",
    "    x_test, y_test = data.test().numpy()\n",
    "    z_test = model.hmm_model.predict(x_test)\n",
    "    y_test_pred_proba = model._predictor.predict(z_test)\n",
    "    labelled_inds_te = ~np.isnan(y_test[:,0])\n",
    "    test_roc_auc = roc_auc_score(y_test[labelled_inds_te], y_test_pred_proba[labelled_inds_te])\n",
    "    test_auprc = average_precision_score(y_test[labelled_inds_te, 1], y_test_pred_proba[labelled_inds_te, 1])\n",
    "    \n",
    "    roc_auc_np = np.zeros(len(random_seed_list))\n",
    "    auprc_np = np.zeros(len(random_seed_list))\n",
    "    for k, seed in enumerate(random_seed_list):\n",
    "        random.seed(int(seed))\n",
    "        rnd_inds = random.sample(range(x_test.shape[0]), int(0.9*x_test.shape[0])) \n",
    "        curr_y_test = y_test[rnd_inds]\n",
    "        curr_x_test = x_test[rnd_inds, :]\n",
    "        curr_y_pred_proba = y_test_pred_proba[rnd_inds]\n",
    "\n",
    "        roc_auc_np[k] = roc_auc_score(curr_y_test, curr_y_pred_proba)\n",
    "        auprc_np[k] = average_precision_score(curr_y_test[:, 1], curr_y_pred_proba[:, 1])\n",
    "    \n",
    "    \n",
    "    \n",
    "    hmm_plus_pred_perf_dict_list.append({'perc_labelled' : perc_labelled,\n",
    "                     'test_AUC' : test_roc_auc,\n",
    "                     'test_AUPRC' : test_auprc,\n",
    "                     'test_AUPRC_50' : np.median(auprc_np),\n",
    "                     'test_AUPRC_5' : np.percentile(auprc_np, 5),\n",
    "                     'test_AUPRC_95' : np.percentile(auprc_np, 95)})\n",
    "\n",
    "\n",
    "\n",
    "    print('================mortality classification with %s perc labelled sequences========='%(perc_labelled))\n",
    "    print('test AUPRC (full test): %.3f'%test_auprc)\n",
    "    print('test AUPRC (bootstrapped test): %.3f'%np.median(auprc_np))\n",
    "    \n",
    "    print('test AUROC (full test): %.3f'%test_roc_auc)\n",
    "    print('test AUROC (bootstrapped test): %.3f'%np.median(roc_auc_np))\n",
    "    print('=====================================================================================')\n",
    "\n",
    "hmm_plus_pred_perf_df = pd.DataFrame(hmm_plus_pred_perf_dict_list)"
   ]
  },
  {
   "cell_type": "markdown",
   "metadata": {},
   "source": [
    "## Get performance of HMM + predictor trained with max likelihood (lambda=1)"
   ]
  },
  {
   "cell_type": "code",
   "execution_count": 7,
   "metadata": {},
   "outputs": [
    {
     "name": "stdout",
     "output_type": "stream",
     "text": [
      "best_model : /cluster/tufts/hugheslab/prath01/projects/pchmm-missing-data-limited-labels/MIMIC-IV/results/PCHMM/mortality_prediction/semi-supervised-pchmm-lr=0.005-seed=12-init_strategy=kmeans-batch_size=128-perc_labelled=1.2-predictor_l2_penalty=0-n_states=5-lamb=1-weights.h5\n",
      "Class dist 0.08356412950052526\n",
      "Training data shape: (10471, 1, 24, 41)\n"
     ]
    },
    {
     "name": "stderr",
     "output_type": "stream",
     "text": [
      "/cluster/tufts/hugheslab/miniconda2/envs/pchmm/lib/python3.6/site-packages/keras_preprocessing/image/image_data_generator.py:947: UserWarning: Expected input to be images (as Numpy array) following the data format convention \"channels_last\" (channels on axis 3), i.e. expected either 1, 3 or 4 channels on axis 3. However, it was passed an array with shape (10000, 1, 24, 41) (41 channels).\n",
      "  ' channels).')\n"
     ]
    },
    {
     "name": "stdout",
     "output_type": "stream",
     "text": [
      "================mortality classification with 1.2 perc labelled sequences=========\n",
      "test AUPRC (full test): 0.191\n",
      "test AUPRC (bootstrapped test): 0.192\n",
      "test AUROC (full test): 0.646\n",
      "test AUROC (bootstrapped test): 0.646\n",
      "=====================================================================================\n",
      "best_model : /cluster/tufts/hugheslab/prath01/projects/pchmm-missing-data-limited-labels/MIMIC-IV/results/PCHMM/mortality_prediction/semi-supervised-pchmm-lr=0.005-seed=12-init_strategy=kmeans-batch_size=128-perc_labelled=3.7-predictor_l2_penalty=0-n_states=5-lamb=1-weights.h5\n",
      "Class dist 0.08356412950052526\n",
      "Training data shape: (10471, 1, 24, 41)\n"
     ]
    },
    {
     "name": "stderr",
     "output_type": "stream",
     "text": [
      "/cluster/tufts/hugheslab/miniconda2/envs/pchmm/lib/python3.6/site-packages/keras_preprocessing/image/image_data_generator.py:947: UserWarning: Expected input to be images (as Numpy array) following the data format convention \"channels_last\" (channels on axis 3), i.e. expected either 1, 3 or 4 channels on axis 3. However, it was passed an array with shape (10000, 1, 24, 41) (41 channels).\n",
      "  ' channels).')\n"
     ]
    },
    {
     "name": "stdout",
     "output_type": "stream",
     "text": [
      "================mortality classification with 3.7 perc labelled sequences=========\n",
      "test AUPRC (full test): 0.207\n",
      "test AUPRC (bootstrapped test): 0.206\n",
      "test AUROC (full test): 0.695\n",
      "test AUROC (bootstrapped test): 0.694\n",
      "=====================================================================================\n",
      "best_model : /cluster/tufts/hugheslab/prath01/projects/pchmm-missing-data-limited-labels/MIMIC-IV/results/PCHMM/mortality_prediction/semi-supervised-pchmm-lr=0.005-seed=12-init_strategy=kmeans-batch_size=128-perc_labelled=11.1-predictor_l2_penalty=0-n_states=5-lamb=1-weights.h5\n",
      "Class dist 0.08356412950052526\n",
      "Training data shape: (10471, 1, 24, 41)\n"
     ]
    },
    {
     "name": "stderr",
     "output_type": "stream",
     "text": [
      "/cluster/tufts/hugheslab/miniconda2/envs/pchmm/lib/python3.6/site-packages/keras_preprocessing/image/image_data_generator.py:947: UserWarning: Expected input to be images (as Numpy array) following the data format convention \"channels_last\" (channels on axis 3), i.e. expected either 1, 3 or 4 channels on axis 3. However, it was passed an array with shape (10000, 1, 24, 41) (41 channels).\n",
      "  ' channels).')\n"
     ]
    },
    {
     "name": "stdout",
     "output_type": "stream",
     "text": [
      "================mortality classification with 11.1 perc labelled sequences=========\n",
      "test AUPRC (full test): 0.218\n",
      "test AUPRC (bootstrapped test): 0.218\n",
      "test AUROC (full test): 0.700\n",
      "test AUROC (bootstrapped test): 0.699\n",
      "=====================================================================================\n",
      "best_model : /cluster/tufts/hugheslab/prath01/projects/pchmm-missing-data-limited-labels/MIMIC-IV/results/PCHMM/mortality_prediction/semi-supervised-pchmm-lr=0.005-seed=2577-init_strategy=kmeans-batch_size=256-perc_labelled=33.3-predictor_l2_penalty=0-n_states=5-lamb=1-weights.h5\n",
      "Class dist 0.08356412950052526\n",
      "Training data shape: (10471, 1, 24, 41)\n"
     ]
    },
    {
     "name": "stderr",
     "output_type": "stream",
     "text": [
      "/cluster/tufts/hugheslab/miniconda2/envs/pchmm/lib/python3.6/site-packages/keras_preprocessing/image/image_data_generator.py:947: UserWarning: Expected input to be images (as Numpy array) following the data format convention \"channels_last\" (channels on axis 3), i.e. expected either 1, 3 or 4 channels on axis 3. However, it was passed an array with shape (10000, 1, 24, 41) (41 channels).\n",
      "  ' channels).')\n"
     ]
    },
    {
     "name": "stdout",
     "output_type": "stream",
     "text": [
      "================mortality classification with 33.3 perc labelled sequences=========\n",
      "test AUPRC (full test): 0.266\n",
      "test AUPRC (bootstrapped test): 0.264\n",
      "test AUROC (full test): 0.741\n",
      "test AUROC (bootstrapped test): 0.740\n",
      "=====================================================================================\n",
      "best_model : /cluster/tufts/hugheslab/prath01/projects/pchmm-missing-data-limited-labels/MIMIC-IV/results/PCHMM/mortality_prediction/semi-supervised-pchmm-lr=0.005-seed=2577-init_strategy=kmeans-batch_size=256-perc_labelled=100-predictor_l2_penalty=0-n_states=5-lamb=1-weights.h5\n",
      "Class dist 0.08356412950052526\n",
      "Training data shape: (10471, 1, 24, 41)\n"
     ]
    },
    {
     "name": "stderr",
     "output_type": "stream",
     "text": [
      "/cluster/tufts/hugheslab/miniconda2/envs/pchmm/lib/python3.6/site-packages/keras_preprocessing/image/image_data_generator.py:947: UserWarning: Expected input to be images (as Numpy array) following the data format convention \"channels_last\" (channels on axis 3), i.e. expected either 1, 3 or 4 channels on axis 3. However, it was passed an array with shape (10000, 1, 24, 41) (41 channels).\n",
      "  ' channels).')\n"
     ]
    },
    {
     "name": "stdout",
     "output_type": "stream",
     "text": [
      "================mortality classification with 100 perc labelled sequences=========\n",
      "test AUPRC (full test): 0.298\n",
      "test AUPRC (bootstrapped test): 0.298\n",
      "test AUROC (full test): 0.786\n",
      "test AUROC (bootstrapped test): 0.786\n",
      "=====================================================================================\n"
     ]
    }
   ],
   "source": [
    "CLF_TRAIN_TEST_SPLIT_PATH = '/cluster/tufts/hugheslab/datasets/MIMIC-IV/mortality_prediction/'\n",
    "perc_labelled_list = ['1.2', '3.7', '11.1', '33.3', '100']\n",
    "\n",
    "\n",
    "supervised_pchmm_perf_dict_list = []\n",
    "for perc_labelled in perc_labelled_list:\n",
    "\n",
    "    perf_csvs = glob.glob(os.path.abspath('../results/PCHMM/mortality_prediction/final_perf*perc_labelled=%s-*lamb=1.csv'%(perc_labelled)))\n",
    "\n",
    "\n",
    "    valid_auprc_np = np.zeros(len(perf_csvs))\n",
    "    test_auprc_np = np.zeros(len(perf_csvs))\n",
    "\n",
    "    for ii, perf_csv in enumerate(perf_csvs):\n",
    "        curr_perf_df = pd.read_csv(perf_csv)\n",
    "        valid_auprc_np[ii] = curr_perf_df['valid_AUPRC'].values[-1]\n",
    "        test_auprc_np[ii] = curr_perf_df['test_AUPRC'].values[-1]\n",
    "\n",
    "    # curr_perf_df\n",
    "    best_ind = np.argmax(valid_auprc_np)\n",
    "    perf_df = pd.read_csv(perf_csvs[best_ind])\n",
    "    best_model_perf_csv = perf_csvs[best_ind]\n",
    "\n",
    "\n",
    "    x_test_np_filename=os.path.join(CLF_TRAIN_TEST_SPLIT_PATH, 'X_test.npy')\n",
    "    y_test_np_filename=os.path.join(CLF_TRAIN_TEST_SPLIT_PATH, 'y_test.npy')\n",
    "\n",
    "    best_model_weights = best_model_perf_csv.replace('.csv', '-weights.h5').replace('final_perf_', '')\n",
    "\n",
    "    print('best_model : %s'%best_model_weights)\n",
    "    X_test = np.load(x_test_np_filename)\n",
    "    y_test = np.load(y_test_np_filename)\n",
    "\n",
    "\n",
    "    X_test = np.expand_dims(X_test, 1)\n",
    "\n",
    "    # standardize data for PC-HMM\n",
    "    key_list = ['train', 'valid', 'test']\n",
    "    data_dict = dict.fromkeys(key_list)\n",
    "    data_dict['train'] = (X_test, y_test)\n",
    "    data_dict['valid'] = (X_test, y_test)\n",
    "    data_dict['test'] = (X_test, y_test)\n",
    "    data = custom_dataset(data_dict=data_dict)\n",
    "\n",
    "    n_states = int(best_model_weights.split('n_states=')[-1].split('-')[0])\n",
    "    # load the best PCHMM model\n",
    "    model = HMM(states=n_states,\n",
    "                observation_dist='NormalWithMissing',\n",
    "                predictor_dist='Categorical')\n",
    "\n",
    "    model.build(data)\n",
    "    model.model.load_weights(best_model_weights)\n",
    "\n",
    "    x_test, y_test = data.test().numpy()\n",
    "    z_test = model.hmm_model.predict(x_test)\n",
    "    y_test_pred_proba = model._predictor.predict(z_test)\n",
    "    labelled_inds_te = ~np.isnan(y_test[:,0])\n",
    "    test_roc_auc = roc_auc_score(y_test[labelled_inds_te], y_test_pred_proba[labelled_inds_te])\n",
    "    test_auprc = average_precision_score(y_test[labelled_inds_te, 1], y_test_pred_proba[labelled_inds_te, 1])\n",
    "    \n",
    "    roc_auc_np = np.zeros(len(random_seed_list))\n",
    "    auprc_np = np.zeros(len(random_seed_list))\n",
    "    for k, seed in enumerate(random_seed_list):\n",
    "        random.seed(int(seed))\n",
    "        rnd_inds = random.sample(range(x_test.shape[0]), int(0.9*x_test.shape[0])) \n",
    "        curr_y_test = y_test[rnd_inds]\n",
    "        curr_x_test = x_test[rnd_inds, :]\n",
    "        curr_y_pred_proba = y_test_pred_proba[rnd_inds]\n",
    "\n",
    "        roc_auc_np[k] = roc_auc_score(curr_y_test, curr_y_pred_proba)\n",
    "        auprc_np[k] = average_precision_score(curr_y_test[:, 1], curr_y_pred_proba[:, 1])\n",
    "    \n",
    "    \n",
    "    supervised_pchmm_perf_dict_list.append({'perc_labelled' : perc_labelled,\n",
    "                     'test_AUC' : test_roc_auc,\n",
    "                     'test_AUPRC' : test_auprc,\n",
    "                     'test_AUPRC_50' : np.median(auprc_np),\n",
    "                     'test_AUPRC_5' : np.percentile(auprc_np, 5),\n",
    "                     'test_AUPRC_95' : np.percentile(auprc_np, 95)})\n",
    "\n",
    "\n",
    "\n",
    "    print('================mortality classification with %s perc labelled sequences========='%(perc_labelled))\n",
    "    print('test AUPRC (full test): %.3f'%test_auprc)\n",
    "    print('test AUPRC (bootstrapped test): %.3f'%np.median(auprc_np))\n",
    "    \n",
    "    print('test AUROC (full test): %.3f'%test_roc_auc)\n",
    "    print('test AUROC (bootstrapped test): %.3f'%np.median(roc_auc_np))\n",
    "    print('=====================================================================================')\n",
    "\n",
    "supervised_pchmm_pred_perf_df = pd.DataFrame(supervised_pchmm_perf_dict_list)"
   ]
  },
  {
   "cell_type": "markdown",
   "metadata": {},
   "source": [
    "## Get performance of GRU-D classification as a function of % labelled sequences"
   ]
  },
  {
   "cell_type": "code",
   "execution_count": 8,
   "metadata": {},
   "outputs": [],
   "source": [
    "def get_train_test_data(CLF_TRAIN_TEST_SPLIT_PATH):\n",
    "    x_train_np_filename = os.path.join(CLF_TRAIN_TEST_SPLIT_PATH, 'X_train.npy')\n",
    "    x_test_np_filename = os.path.join(CLF_TRAIN_TEST_SPLIT_PATH, 'X_test.npy')\n",
    "    y_train_np_filename = os.path.join(CLF_TRAIN_TEST_SPLIT_PATH, 'y_train.npy')\n",
    "    y_test_np_filename = os.path.join(CLF_TRAIN_TEST_SPLIT_PATH, 'y_test.npy')    \n",
    "    \n",
    "    \n",
    "    X_train_fs = np.load(x_train_np_filename)\n",
    "    X_test = np.load(x_test_np_filename)\n",
    "    y_train = np.load(y_train_np_filename)\n",
    "    y_test = np.load(y_test_np_filename)\n",
    "    \n",
    "    return X_train_fs, y_train, X_test, y_test"
   ]
  },
  {
   "cell_type": "code",
   "execution_count": 5,
   "metadata": {},
   "outputs": [],
   "source": [
    "perc_labelled_list = ['1.2', '3.7', '11.1', '33.3', '100']\n",
    "grud_perf_dict_list = []\n",
    "\n",
    "\n",
    "X_train_fs, y_train, X_test, y_test = get_train_test_data(CLF_TRAIN_TEST_SPLIT_PATH)\n",
    "X_train = X_train_fs.copy()\n",
    "N,T,D = X_test.shape\n",
    "just_T_hrs = np.arange(0, T)\n",
    "train_x_mask_NTD = 1-np.isnan(X_train).astype(int)\n",
    "test_x_mask_NTD = 1-np.isnan(X_test).astype(int)\n",
    "test_timestep = np.expand_dims(just_T_hrs * np.ones(X_test.shape[:-1]), -1)\n",
    "\n",
    "\n",
    "for d in range(D):\n",
    "    # impute missing values by mean filling using estimates from full training set\n",
    "    fill_vals = np.nanmean(X_train_fs[:, :, d])\n",
    "\n",
    "    X_train[:, :, d] = np.nan_to_num(X_train[:, :, d], nan=fill_vals)\n",
    "    X_test[:, :, d] = np.nan_to_num(X_test[:, :, d], nan=fill_vals)        \n",
    "\n",
    "    # zscore normalization\n",
    "    den = 1#np.nanstd(X_train_fs[:, :, d])\n",
    "    X_train[:, :, d] = (X_train[:, :, d] - np.nanmean(X_train_fs[:, :, d]))/den\n",
    "    X_test[:, :, d] = (X_test[:, :, d] - np.nanmean(X_train_fs[:, :, d]))/den   \n",
    "\n",
    "\n",
    "for perc_labelled in perc_labelled_list:\n",
    "\n",
    "    perf_csvs = glob.glob(os.path.abspath('../results/GRUD/mortality_prediction/final_perf*perc_labelled=%s*.csv'%(perc_labelled)))\n",
    "\n",
    "\n",
    "    valid_auprc_np = np.zeros(len(perf_csvs))\n",
    "    test_auprc_np = np.zeros(len(perf_csvs))\n",
    "\n",
    "    for ii, perf_csv in enumerate(perf_csvs):\n",
    "        curr_perf_df = pd.read_csv(perf_csv)\n",
    "        valid_auprc_np[ii] = curr_perf_df['valid_AUPRC'].values[-1]\n",
    "        test_auprc_np[ii] = curr_perf_df['test_AUPRC'].values[-1]\n",
    "\n",
    "    # curr_perf_df\n",
    "    best_ind = np.argmax(valid_auprc_np)\n",
    "    perf_df = pd.read_csv(perf_csvs[best_ind])\n",
    "    best_model_perf_csv = perf_csvs[best_ind]\n",
    "    \n",
    "    input_dim = D\n",
    "    output_dim = 1\n",
    "    output_activation = 'sigmoid'\n",
    "    predefined_model = 'GRUD'\n",
    "    use_bidirectional_rnn=False\n",
    "    outcome=\"did_overheat_binary_label\"\n",
    "    recurrent_dim = [128]\n",
    "    hidden_dim = [8]\n",
    "\n",
    "    model = create_grud_model(input_dim=input_dim,\n",
    "                              output_dim=output_dim,\n",
    "                              output_activation=output_activation,\n",
    "                              recurrent_dim=recurrent_dim,\n",
    "                              hidden_dim=hidden_dim,\n",
    "                              predefined_model=predefined_model,\n",
    "                              use_bidirectional_rnn=use_bidirectional_rnn)\n",
    "    \n",
    "    \n",
    "    best_model_file = best_model_perf_csv.replace('.csv', '-weights.h5').replace('final_perf_', '')\n",
    "    model.load_weights(best_model_file)\n",
    "    \n",
    "    \n",
    "    test_roc_auc = perf_df['test_AUC']\n",
    "    test_auprc = perf_df['test_AUPRC']\n",
    "\n",
    "    # bootstrap of test set\n",
    "    roc_auc_np = np.zeros(len(random_seed_list))\n",
    "    auprc_np = np.zeros(len(random_seed_list))\n",
    "    outputs = model.predict([X_test, test_x_mask_NTD, test_timestep])\n",
    "    targets = y_test.copy()\n",
    "    \n",
    "    \n",
    "    for k, seed in enumerate(random_seed_list):\n",
    "        random.seed(int(seed))\n",
    "        rnd_inds = random.sample(range(targets.shape[0]), int(0.9*targets.shape[0])) \n",
    "        curr_y_test = targets[rnd_inds]\n",
    "        curr_y_pred = np.argmax(outputs[rnd_inds], -1)\n",
    "        curr_y_pred_proba = outputs[rnd_inds]\n",
    "\n",
    "        roc_auc_np[k] = roc_auc_score(curr_y_test, curr_y_pred_proba)\n",
    "        auprc_np[k] = average_precision_score(curr_y_test, curr_y_pred_proba)\n",
    "    \n",
    "    \n",
    "    grud_perf_dict_list.append({'perc_labelled' : perc_labelled,\n",
    "                     'test_AUC' : test_roc_auc,\n",
    "                     'test_AUPRC' : test_auprc,\n",
    "                     'test_AUPRC_50' : np.median(auprc_np),\n",
    "                     'test_AUPRC_5' : np.percentile(auprc_np, 5),\n",
    "                     'test_AUPRC_95' : np.percentile(auprc_np, 95)}\n",
    "                              )\n",
    "\n",
    "\n",
    "\n",
    "    print('================mortality classification with %s perc labelled sequences========='%(perc_labelled))\n",
    "    print('test AUPRC (full test): %.3f'%test_auprc)\n",
    "    print('test AUPRC (bootstrapped test): %.3f'%np.median(auprc_np))\n",
    "    \n",
    "    print('test AUROC (full test): %.3f'%test_roc_auc)\n",
    "    print('test AUROC (bootstrapped test): %.3f'%np.median(roc_auc_np))\n",
    "    print('=====================================================================================')\n",
    "\n",
    "grud_perf_df = pd.DataFrame(grud_perf_dict_list)\n",
    "grud_perf_df.to_csv('grud_performance_mortality_prediction.csv', \n",
    "                    index=False)"
   ]
  },
  {
   "cell_type": "code",
   "execution_count": 8,
   "metadata": {},
   "outputs": [],
   "source": [
    "# Use if you haven't run the GRU-D results due to different environment\n",
    "grud_perf_df = pd.read_csv('grud_performance_mortality_prediction.csv')\n",
    "grud_perf_df['test_AUPRC'] = [i.replace('0    ', '').replace('\\nName: test_AUPRC, dtype: float64', '') for i in grud_perf_df['test_AUPRC'].values]\n",
    "grud_perf_df['test_AUPRC'] = grud_perf_df['test_AUPRC'].astype(float)"
   ]
  },
  {
   "cell_type": "markdown",
   "metadata": {},
   "source": [
    "## Get the MixMatch Performance as a function of % labelled sequences"
   ]
  },
  {
   "cell_type": "code",
   "execution_count": 9,
   "metadata": {},
   "outputs": [],
   "source": [
    "def create_model(ema=False, hidden_size=64):\n",
    "    model=SimpleRNN(input_size=D, hidden_size=hidden_size, \n",
    "                output_size=2, num_layers=2)\n",
    "    return model\n",
    "\n",
    "def ffill(arr):\n",
    "    mask = np.isnan(arr)\n",
    "    idx = np.where(~mask,np.arange(mask.shape[1]),0)\n",
    "    np.maximum.accumulate(idx,axis=1, out=idx)\n",
    "    out = arr[np.arange(idx.shape[0])[:,None], idx]\n",
    "    return out"
   ]
  },
  {
   "cell_type": "code",
   "execution_count": 10,
   "metadata": {},
   "outputs": [
    {
     "name": "stdout",
     "output_type": "stream",
     "text": [
      "================mortality classification with 1.2 perc labelled sequences=========\n",
      "test AUPRC (full test): 0.130\n",
      "test AUPRC (bootstrapped test): 0.130\n",
      "test AUROC (full test): 0.573\n",
      "test AUROC (bootstrapped test): 0.573\n",
      "=====================================================================================\n",
      "================mortality classification with 3.7 perc labelled sequences=========\n",
      "test AUPRC (full test): 0.150\n",
      "test AUPRC (bootstrapped test): 0.150\n",
      "test AUROC (full test): 0.599\n",
      "test AUROC (bootstrapped test): 0.599\n",
      "=====================================================================================\n",
      "================mortality classification with 11.1 perc labelled sequences=========\n",
      "test AUPRC (full test): 0.202\n",
      "test AUPRC (bootstrapped test): 0.202\n",
      "test AUROC (full test): 0.670\n",
      "test AUROC (bootstrapped test): 0.670\n",
      "=====================================================================================\n",
      "================mortality classification with 33.3 perc labelled sequences=========\n",
      "test AUPRC (full test): 0.234\n",
      "test AUPRC (bootstrapped test): 0.234\n",
      "test AUROC (full test): 0.727\n",
      "test AUROC (bootstrapped test): 0.727\n",
      "=====================================================================================\n",
      "================mortality classification with 100 perc labelled sequences=========\n",
      "test AUPRC (full test): 0.246\n",
      "test AUPRC (bootstrapped test): 0.246\n",
      "test AUROC (full test): 0.743\n",
      "test AUROC (bootstrapped test): 0.743\n",
      "=====================================================================================\n"
     ]
    }
   ],
   "source": [
    "mixmatch_perf_dict_list = []\n",
    "perc_labelled_list = ['1.2', '3.7', '11.1', '33.3', '100']\n",
    "\n",
    "'''\n",
    "X_train_fs, y_train, X_test, y_test = get_train_test_data(CLF_TRAIN_TEST_SPLIT_PATH)\n",
    "N,T,D = X_test.shape    \n",
    "X_train = X_train_fs.copy()\n",
    "for d in range(D):\n",
    "    # impute missing values by mean filling using estimates from full training set\n",
    "    fill_vals = np.nanmean(X_train_fs[:, :, d])      \n",
    "    \n",
    "    X_train[:, :, d] = ffill(X_train[:, :, d])\n",
    "    X_test[:, :, d] = ffill(X_test[:, :, d])\n",
    "    \n",
    "    X_train[:, :, d] = np.nan_to_num(X_train[:, :, d], nan=fill_vals)\n",
    "    X_test[:, :, d] = np.nan_to_num(X_test[:, :, d], nan=fill_vals)\n",
    "    \n",
    "    \n",
    "    # zscore normalization\n",
    "    den = 1#np.nanstd(X_train_fs[:, :, d])\n",
    "    X_train[:, :, d] = (X_train[:, :, d] - np.nanmean(X_train_fs[:, :, d]))/den\n",
    "    X_test[:, :, d] = (X_test[:, :, d] - np.nanmean(X_train_fs[:, :, d]))/den  \n",
    "    \n",
    "    \n",
    "test_data, test_label = torch.Tensor(X_test), torch.Tensor(y_test[:, np.newaxis])\n",
    "test_set = data.TensorDataset(test_data, test_label)  \n",
    "test_loader = data.DataLoader(test_set, batch_size=len(test_set), shuffle=False, num_workers=0)    \n",
    "'''\n",
    "for perc_labelled in perc_labelled_list:\n",
    "\n",
    "    perf_csvs = glob.glob(os.path.abspath('../results/MixMatch/mortality_prediction/final_perf*perc_labelled=%s*.csv'%(perc_labelled)))\n",
    "\n",
    "\n",
    "    valid_auprc_np = np.zeros(len(perf_csvs))\n",
    "    test_auprc_np = np.zeros(len(perf_csvs))\n",
    "\n",
    "    for ii, perf_csv in enumerate(perf_csvs):\n",
    "        curr_perf_df = pd.read_csv(perf_csv)\n",
    "        valid_auprc_np[ii] = curr_perf_df['valid_AUPRC'].values[-1]\n",
    "        test_auprc_np[ii] = curr_perf_df['test_AUPRC'].values[-1]\n",
    "\n",
    "    # curr_perf_df\n",
    "    best_ind = np.argmax(valid_auprc_np)\n",
    "    perf_df = pd.read_csv(perf_csvs[best_ind])\n",
    "    best_model_perf_csv = perf_csvs[best_ind]\n",
    "    '''\n",
    "    best_model_file = best_model_perf_csv.replace('.csv', '.pt').replace('final_perf_', '')\n",
    "    model = create_model()\n",
    "    model.load_state_dict(torch.load(best_model_file))\n",
    "    \n",
    "    with torch.no_grad():      \n",
    "        for batch_idx, (inputs, targets) in enumerate(test_loader):\n",
    "            outputs = model(inputs)\n",
    "            batch_size = inputs.size(0)\n",
    "            # Transform label to one-hot\n",
    "            targets = torch.zeros(batch_size, 2).scatter_(1, targets.view(-1,1).long(), 1)            \n",
    "#             test_auroc = roc_auc_score(targets, outputs)\n",
    "#             test_auprc = average_precision_score(targets[:, 1], outputs[:, 1])\n",
    "    \n",
    "    roc_auc_np = np.zeros(len(random_seed_list))\n",
    "    auprc_np = np.zeros(len(random_seed_list))\n",
    "    for k, seed in enumerate(random_seed_list):\n",
    "        random.seed(int(seed))\n",
    "        rnd_inds = random.sample(range(targets.shape[0]), int(0.9*targets.shape[0])) \n",
    "        curr_y_test = targets[rnd_inds]\n",
    "        curr_y_pred_proba = outputs[rnd_inds]\n",
    "\n",
    "        roc_auc_np[k] = roc_auc_score(curr_y_test, curr_y_pred_proba)\n",
    "        auprc_np[k] = average_precision_score(curr_y_test[:, 1], curr_y_pred_proba[:, 1])\n",
    "    \n",
    "    '''\n",
    "    test_roc_auc = perf_df['test_AUROC'].values[-1]\n",
    "    test_auprc = perf_df['test_AUPRC'].values[-1]\n",
    "\n",
    "    '''\n",
    "    mixmatch_perf_dict_list.append({'perc_labelled' : perc_labelled,\n",
    "                     'test_AUC' : test_roc_auc,\n",
    "                     'test_AUPRC' : test_auprc,\n",
    "                     'test_AUPRC_50' : np.median(auprc_np),\n",
    "                     'test_AUPRC_5' : np.percentile(auprc_np, 5),\n",
    "                     'test_AUPRC_95' : np.percentile(auprc_np, 95)})\n",
    "    '''\n",
    "    mixmatch_perf_dict_list.append({'perc_labelled' : perc_labelled,\n",
    "                     'test_AUC' : test_roc_auc,\n",
    "                     'test_AUPRC' : test_auprc,\n",
    "                     'test_AUPRC_50' : test_auprc,\n",
    "                     'test_AUPRC_5' : test_auprc,\n",
    "                     'test_AUPRC_95' : test_auprc})\n",
    "    \n",
    "\n",
    "\n",
    "    print('================mortality classification with %s perc labelled sequences========='%(perc_labelled))\n",
    "    print('test AUPRC (full test): %.3f'%test_auprc)\n",
    "    print('test AUPRC (bootstrapped test): %.3f'%test_auprc)\n",
    "    \n",
    "    print('test AUROC (full test): %.3f'%test_roc_auc)\n",
    "    print('test AUROC (bootstrapped test): %.3f'%test_roc_auc)\n",
    "    print('=====================================================================================')\n",
    "\n",
    "mixmatch_perf_df = pd.DataFrame(mixmatch_perf_dict_list)"
   ]
  },
  {
   "cell_type": "code",
   "execution_count": 17,
   "metadata": {},
   "outputs": [
    {
     "data": {
      "text/html": [
       "<div>\n",
       "<style scoped>\n",
       "    .dataframe tbody tr th:only-of-type {\n",
       "        vertical-align: middle;\n",
       "    }\n",
       "\n",
       "    .dataframe tbody tr th {\n",
       "        vertical-align: top;\n",
       "    }\n",
       "\n",
       "    .dataframe thead th {\n",
       "        text-align: right;\n",
       "    }\n",
       "</style>\n",
       "<table border=\"1\" class=\"dataframe\">\n",
       "  <thead>\n",
       "    <tr style=\"text-align: right;\">\n",
       "      <th></th>\n",
       "      <th>perc_labelled</th>\n",
       "      <th>test_AUC</th>\n",
       "      <th>test_AUPRC</th>\n",
       "      <th>test_AUPRC_50</th>\n",
       "      <th>test_AUPRC_5</th>\n",
       "      <th>test_AUPRC_95</th>\n",
       "    </tr>\n",
       "  </thead>\n",
       "  <tbody>\n",
       "    <tr>\n",
       "      <td>0</td>\n",
       "      <td>1.2</td>\n",
       "      <td>0.573108</td>\n",
       "      <td>0.130467</td>\n",
       "      <td>0.132022</td>\n",
       "      <td>0.129104</td>\n",
       "      <td>0.135368</td>\n",
       "    </tr>\n",
       "    <tr>\n",
       "      <td>1</td>\n",
       "      <td>3.7</td>\n",
       "      <td>0.598663</td>\n",
       "      <td>0.150465</td>\n",
       "      <td>0.150404</td>\n",
       "      <td>0.145403</td>\n",
       "      <td>0.155268</td>\n",
       "    </tr>\n",
       "    <tr>\n",
       "      <td>2</td>\n",
       "      <td>11.1</td>\n",
       "      <td>0.670152</td>\n",
       "      <td>0.201557</td>\n",
       "      <td>0.179176</td>\n",
       "      <td>0.172571</td>\n",
       "      <td>0.186428</td>\n",
       "    </tr>\n",
       "    <tr>\n",
       "      <td>3</td>\n",
       "      <td>33.3</td>\n",
       "      <td>0.726873</td>\n",
       "      <td>0.234349</td>\n",
       "      <td>0.212348</td>\n",
       "      <td>0.207887</td>\n",
       "      <td>0.220222</td>\n",
       "    </tr>\n",
       "    <tr>\n",
       "      <td>4</td>\n",
       "      <td>100</td>\n",
       "      <td>0.743481</td>\n",
       "      <td>0.246231</td>\n",
       "      <td>0.212151</td>\n",
       "      <td>0.207278</td>\n",
       "      <td>0.218206</td>\n",
       "    </tr>\n",
       "  </tbody>\n",
       "</table>\n",
       "</div>"
      ],
      "text/plain": [
       "  perc_labelled  test_AUC  test_AUPRC  test_AUPRC_50  test_AUPRC_5  \\\n",
       "0           1.2  0.573108    0.130467       0.132022      0.129104   \n",
       "1           3.7  0.598663    0.150465       0.150404      0.145403   \n",
       "2          11.1  0.670152    0.201557       0.179176      0.172571   \n",
       "3          33.3  0.726873    0.234349       0.212348      0.207887   \n",
       "4           100  0.743481    0.246231       0.212151      0.207278   \n",
       "\n",
       "   test_AUPRC_95  \n",
       "0       0.135368  \n",
       "1       0.155268  \n",
       "2       0.186428  \n",
       "3       0.220222  \n",
       "4       0.218206  "
      ]
     },
     "execution_count": 17,
     "metadata": {},
     "output_type": "execute_result"
    }
   ],
   "source": [
    "mixmatch_perf_df"
   ]
  },
  {
   "cell_type": "markdown",
   "metadata": {},
   "source": [
    "## Get FixMatch performance as a function of % labelled sequences"
   ]
  },
  {
   "cell_type": "code",
   "execution_count": 11,
   "metadata": {},
   "outputs": [
    {
     "name": "stdout",
     "output_type": "stream",
     "text": [
      "================mortality classification with 1.2 perc labelled sequences=========\n",
      "test AUPRC (full test): 0.154\n",
      "test AUPRC (bootstrapped test): 0.154\n",
      "test AUROC (full test): 0.540\n",
      "test AUROC (bootstrapped test): 0.540\n",
      "=====================================================================================\n",
      "================mortality classification with 3.7 perc labelled sequences=========\n",
      "test AUPRC (full test): 0.177\n",
      "test AUPRC (bootstrapped test): 0.177\n",
      "test AUROC (full test): 0.633\n",
      "test AUROC (bootstrapped test): 0.633\n",
      "=====================================================================================\n",
      "================mortality classification with 11.1 perc labelled sequences=========\n",
      "test AUPRC (full test): 0.135\n",
      "test AUPRC (bootstrapped test): 0.135\n",
      "test AUROC (full test): 0.650\n",
      "test AUROC (bootstrapped test): 0.650\n",
      "=====================================================================================\n",
      "================mortality classification with 33.3 perc labelled sequences=========\n",
      "test AUPRC (full test): 0.205\n",
      "test AUPRC (bootstrapped test): 0.205\n",
      "test AUROC (full test): 0.720\n",
      "test AUROC (bootstrapped test): 0.720\n",
      "=====================================================================================\n",
      "================mortality classification with 100 perc labelled sequences=========\n",
      "test AUPRC (full test): 0.300\n",
      "test AUPRC (bootstrapped test): 0.300\n",
      "test AUROC (full test): 0.784\n",
      "test AUROC (bootstrapped test): 0.784\n",
      "=====================================================================================\n"
     ]
    }
   ],
   "source": [
    "fixmatch_perf_dict_list = []\n",
    "perc_labelled_list = ['1.2', '3.7', '11.1', '33.3', '100']\n",
    "\n",
    "'''\n",
    "X_train_fs, y_train, X_test, y_test = get_train_test_data(CLF_TRAIN_TEST_SPLIT_PATH)\n",
    "N,T,D = X_test.shape    \n",
    "X_train = X_train_fs.copy()\n",
    "for d in range(D):\n",
    "    # impute missing values by mean filling using estimates from full training set\n",
    "    fill_vals = np.nanmean(X_train_fs[:, :, d])      \n",
    "    \n",
    "#     X_train[:, :, d] = ffill(X_train[:, :, d])\n",
    "#     X_test[:, :, d] = ffill(X_test[:, :, d])\n",
    "    \n",
    "    X_train[:, :, d] = np.nan_to_num(X_train[:, :, d], nan=fill_vals)\n",
    "    X_test[:, :, d] = np.nan_to_num(X_test[:, :, d], nan=fill_vals)\n",
    "    \n",
    "    \n",
    "    # zscore normalization\n",
    "#     den = np.nanstd(X_train_fs[:, :, d])\n",
    "#     if den==0:\n",
    "    den=1\n",
    "    \n",
    "    X_train[:, :, d] = (X_train[:, :, d] - np.nanmean(X_train_fs[:, :, d]))/den\n",
    "    X_test[:, :, d] = (X_test[:, :, d] - np.nanmean(X_train_fs[:, :, d]))/den  \n",
    "    \n",
    "    \n",
    "test_data, test_label = torch.Tensor(X_test), torch.Tensor(y_test[:, np.newaxis])\n",
    "test_set = data.TensorDataset(test_data, test_label)  \n",
    "test_loader = data.DataLoader(test_set, batch_size=len(test_set), shuffle=False, num_workers=0)    \n",
    "'''\n",
    "\n",
    "for perc_labelled in perc_labelled_list:\n",
    "\n",
    "    perf_csvs = glob.glob(os.path.abspath('../results/FixMatch/mortality_prediction/final_perf*perc_labelled=%s*.csv'%(perc_labelled)))\n",
    "\n",
    "\n",
    "    valid_auprc_np = np.zeros(len(perf_csvs))\n",
    "    test_auprc_np = np.zeros(len(perf_csvs))\n",
    "\n",
    "    for ii, perf_csv in enumerate(perf_csvs):\n",
    "        curr_perf_df = pd.read_csv(perf_csv)\n",
    "        valid_auprc_np[ii] = curr_perf_df['valid_AUPRC'].values[-1]\n",
    "        test_auprc_np[ii] = curr_perf_df['test_AUPRC'].values[-1]\n",
    "\n",
    "    # curr_perf_df\n",
    "    best_ind = np.argmax(valid_auprc_np)\n",
    "    perf_df = pd.read_csv(perf_csvs[best_ind])\n",
    "    best_model_perf_csv = perf_csvs[best_ind]\n",
    "    \n",
    "    best_model_file = best_model_perf_csv.replace('.csv', '.pt').replace('final_perf_', '')\n",
    "    '''\n",
    "    model = create_model()\n",
    "    model.load_state_dict(torch.load(best_model_file))\n",
    "    \n",
    "    with torch.no_grad():      \n",
    "        for batch_idx, (inputs, targets) in enumerate(test_loader):\n",
    "            outputs = model(inputs)\n",
    "            batch_size = inputs.size(0)\n",
    "            # Transform label to one-hot\n",
    "            targets = torch.zeros(batch_size, 2).scatter_(1, targets.view(-1,1).long(), 1)            \n",
    "#             test_auroc = roc_auc_score(targets, outputs)\n",
    "#             test_auprc = average_precision_score(targets[:, 1], outputs[:, 1])\n",
    "    \n",
    "    roc_auc_np = np.zeros(len(random_seed_list))\n",
    "    auprc_np = np.zeros(len(random_seed_list))\n",
    "    for k, seed in enumerate(random_seed_list):\n",
    "        random.seed(int(seed))\n",
    "        rnd_inds = random.sample(range(targets.shape[0]), int(0.9*targets.shape[0])) \n",
    "        curr_y_test = targets[rnd_inds]\n",
    "        curr_y_pred_proba = outputs[rnd_inds]\n",
    "\n",
    "        roc_auc_np[k] = roc_auc_score(curr_y_test, curr_y_pred_proba)\n",
    "        auprc_np[k] = average_precision_score(curr_y_test[:, 1], curr_y_pred_proba[:, 1])\n",
    "    \n",
    "    '''\n",
    "    test_roc_auc = perf_df['test_AUROC'].values[-1]\n",
    "    test_auprc = perf_df['test_AUPRC'].values[-1]\n",
    "\n",
    "\n",
    "    fixmatch_perf_dict_list.append({'perc_labelled' : perc_labelled,\n",
    "                     'test_AUC' : test_roc_auc,\n",
    "                     'test_AUPRC' : test_auprc,\n",
    "                     'test_AUPRC_50' : test_auprc,\n",
    "                     'test_AUPRC_5' : test_auprc,\n",
    "                     'test_AUPRC_95' : test_auprc})\n",
    "\n",
    "\n",
    "    print('================mortality classification with %s perc labelled sequences========='%(perc_labelled))\n",
    "    print('test AUPRC (full test): %.3f'%test_auprc)\n",
    "    print('test AUPRC (bootstrapped test): %.3f'%test_auprc)\n",
    "    \n",
    "    print('test AUROC (full test): %.3f'%test_roc_auc)\n",
    "    print('test AUROC (bootstrapped test): %.3f'%test_roc_auc)\n",
    "    print('=====================================================================================')\n",
    "\n",
    "fixmatch_perf_df = pd.DataFrame(fixmatch_perf_dict_list)"
   ]
  },
  {
   "cell_type": "markdown",
   "metadata": {},
   "source": [
    "## Get BRITS performance as a function of % labelled sequences"
   ]
  },
  {
   "cell_type": "code",
   "execution_count": 12,
   "metadata": {},
   "outputs": [
    {
     "name": "stdout",
     "output_type": "stream",
     "text": [
      "/cluster/tufts/hugheslab/prath01/projects/pchmm-missing-data-limited-labels/MIMIC-IV/results/BRITS/mortality_prediction/final_perf_BRITS-lr=0.001-seed=6504-batch_size=128-perc_labelled=1.2.csv\n",
      "================mortality classification with 1.2 perc labelled sequences=========\n",
      "test AUPRC (full test): 0.145\n",
      "test AUPRC (bootstrapped test): 0.145\n",
      "test AUROC (full test): 0.628\n",
      "test AUROC (bootstrapped test): 0.628\n",
      "=====================================================================================\n",
      "/cluster/tufts/hugheslab/prath01/projects/pchmm-missing-data-limited-labels/MIMIC-IV/results/BRITS/mortality_prediction/final_perf_BRITS-lr=0.001-seed=2414-batch_size=128-perc_labelled=3.7.csv\n",
      "================mortality classification with 3.7 perc labelled sequences=========\n",
      "test AUPRC (full test): 0.133\n",
      "test AUPRC (bootstrapped test): 0.133\n",
      "test AUROC (full test): 0.616\n",
      "test AUROC (bootstrapped test): 0.616\n",
      "=====================================================================================\n",
      "/cluster/tufts/hugheslab/prath01/projects/pchmm-missing-data-limited-labels/MIMIC-IV/results/BRITS/mortality_prediction/final_perf_BRITS-lr=0.001-seed=6504-batch_size=128-perc_labelled=11.1.csv\n",
      "================mortality classification with 11.1 perc labelled sequences=========\n",
      "test AUPRC (full test): 0.194\n",
      "test AUPRC (bootstrapped test): 0.194\n",
      "test AUROC (full test): 0.697\n",
      "test AUROC (bootstrapped test): 0.697\n",
      "=====================================================================================\n",
      "/cluster/tufts/hugheslab/prath01/projects/pchmm-missing-data-limited-labels/MIMIC-IV/results/BRITS/mortality_prediction/final_perf_BRITS-lr=0.001-seed=2414-batch_size=128-perc_labelled=33.3.csv\n",
      "================mortality classification with 33.3 perc labelled sequences=========\n",
      "test AUPRC (full test): 0.280\n",
      "test AUPRC (bootstrapped test): 0.280\n",
      "test AUROC (full test): 0.762\n",
      "test AUROC (bootstrapped test): 0.762\n",
      "=====================================================================================\n",
      "/cluster/tufts/hugheslab/prath01/projects/pchmm-missing-data-limited-labels/MIMIC-IV/results/BRITS/mortality_prediction/final_perf_BRITS-lr=0.001-seed=6504-batch_size=128-perc_labelled=100.csv\n",
      "================mortality classification with 100 perc labelled sequences=========\n",
      "test AUPRC (full test): 0.322\n",
      "test AUPRC (bootstrapped test): 0.322\n",
      "test AUROC (full test): 0.798\n",
      "test AUROC (bootstrapped test): 0.798\n",
      "=====================================================================================\n"
     ]
    }
   ],
   "source": [
    "perc_labelled_list = ['1.2', '3.7', '11.1', '33.3', '100']\n",
    "brits_perf_dict_list = []\n",
    "\n",
    "for perc_labelled in perc_labelled_list:\n",
    "\n",
    "    perf_csvs = glob.glob(os.path.abspath('../results/BRITS/mortality_prediction/final_perf*perc_labelled=%s*.csv'%(perc_labelled)))\n",
    "\n",
    "\n",
    "    valid_auprc_np = np.zeros(len(perf_csvs))\n",
    "    test_auprc_np = np.zeros(len(perf_csvs))\n",
    "\n",
    "    for ii, perf_csv in enumerate(perf_csvs):\n",
    "        curr_perf_df = pd.read_csv(perf_csv)\n",
    "        valid_auprc_np[ii] = curr_perf_df['AUPRC_valid'].values[-1]\n",
    "        test_auprc_np[ii] = curr_perf_df['AUPRC_test'].values[-1]\n",
    "\n",
    "    # curr_perf_df\n",
    "    try:\n",
    "        best_ind = np.argmax(valid_auprc_np)\n",
    "        perf_df = pd.read_csv(perf_csvs[best_ind])\n",
    "        best_model_perf_csv = perf_csvs[best_ind]\n",
    "        print(perf_csvs[best_ind])\n",
    "        test_roc_auc = perf_df['AUC_test'].values[-1]\n",
    "        test_auprc = perf_df['AUPRC_test'].values[-1]\n",
    "    except:\n",
    "        test_roc_auc=np.nan\n",
    "        test_auprc=np.nan\n",
    "\n",
    "\n",
    "    brits_perf_dict_list.append({'perc_labelled' : perc_labelled,\n",
    "                     'test_AUC' : test_roc_auc,\n",
    "                     'test_AUPRC' : test_auprc,\n",
    "                     'test_AUPRC_50' : test_auprc,\n",
    "                     'test_AUPRC_5' : test_auprc,\n",
    "                     'test_AUPRC_95' : test_auprc})\n",
    "\n",
    "\n",
    "\n",
    "    print('================mortality classification with %s perc labelled sequences========='%(perc_labelled))\n",
    "    print('test AUPRC (full test): %.3f'%test_auprc)\n",
    "    print('test AUPRC (bootstrapped test): %.3f'%test_auprc)\n",
    "    \n",
    "    print('test AUROC (full test): %.3f'%test_roc_auc)\n",
    "    print('test AUROC (bootstrapped test): %.3f'%test_roc_auc)\n",
    "    print('=====================================================================================')\n",
    "\n",
    "brits_perf_df = pd.DataFrame(brits_perf_dict_list)"
   ]
  },
  {
   "cell_type": "markdown",
   "metadata": {},
   "source": [
    "## Plot  binary classification SSL performance "
   ]
  },
  {
   "cell_type": "code",
   "execution_count": 14,
   "metadata": {},
   "outputs": [
    {
     "data": {
      "image/png": "[encoded data removed]",
      "text/plain": [
       "<Figure size 792x720 with 1 Axes>"
      ]
     },
     "metadata": {},
     "output_type": "display_data"
    }
   ],
   "source": [
    "pchmm_perf_df['perc_labelled'] = pchmm_perf_df['perc_labelled'].astype(float)\n",
    "grud_perf_df['perc_labelled'] = grud_perf_df['perc_labelled'].astype(float)\n",
    "mixmatch_perf_df['perc_labelled'] = mixmatch_perf_df['perc_labelled'].astype(float)\n",
    "fixmatch_perf_df['perc_labelled'] = fixmatch_perf_df['perc_labelled'].astype(float)\n",
    "brits_perf_df['perc_labelled'] = brits_perf_df['perc_labelled'].astype(float)\n",
    "hmm_plus_pred_perf_df['perc_labelled'] = hmm_plus_pred_perf_df['perc_labelled'].astype(float)\n",
    "supervised_pchmm_pred_perf_df['perc_labelled'] = supervised_pchmm_pred_perf_df['perc_labelled'].astype(float)\n",
    "\n",
    "ylims_list = [None,\n",
    "             None,\n",
    "             [0.08, 0.3]] \n",
    "\n",
    "f, axs = plt.subplots(1, 1, figsize=(11, 10))\n",
    "sns.set_context('notebook', font_scale=1.9)\n",
    "sns.set_style('whitegrid')\n",
    "curr_pchmm_perf_df = pchmm_perf_df.sort_values(by='perc_labelled')\n",
    "curr_grud_perf_df = grud_perf_df.sort_values(by='perc_labelled')\n",
    "curr_mixmatch_perf_df = mixmatch_perf_df.sort_values(by='perc_labelled')\n",
    "curr_fixmatch_perf_df = fixmatch_perf_df.sort_values(by='perc_labelled')\n",
    "curr_brits_perf_df = brits_perf_df.sort_values(by='perc_labelled')\n",
    "curr_hmm_plus_pred_perf_df = hmm_plus_pred_perf_df.sort_values(by='perc_labelled')\n",
    "curr_supervised_hmm_pred_perf_df = supervised_pchmm_pred_perf_df.sort_values(by='perc_labelled')\n",
    "\n",
    "perc_labelled = curr_pchmm_perf_df['perc_labelled'].values\n",
    "test_auprc_pchmm_np = curr_pchmm_perf_df['test_AUPRC'].values\n",
    "test_auprc_grud = curr_grud_perf_df['test_AUPRC'].values\n",
    "test_auprc_mixmatch = curr_mixmatch_perf_df['test_AUPRC'].values\n",
    "test_auprc_fixmatch = curr_fixmatch_perf_df['test_AUPRC'].values\n",
    "test_auprc_brits = curr_brits_perf_df['test_AUPRC'].values\n",
    "test_auprc_hmm_plus_pred = curr_hmm_plus_pred_perf_df['test_AUPRC'].values\n",
    "test_auprc_supervised_hmm = curr_supervised_hmm_pred_perf_df['test_AUPRC'].values\n",
    "\n",
    "lw=4\n",
    "axs.plot(perc_labelled, test_auprc_pchmm_np, 'r*-', linewidth=lw, markersize=15, label='PC-HMM')\n",
    "axs.plot(perc_labelled, test_auprc_grud, 'k--', linewidth=lw, label='GRU-D')\n",
    "axs.plot(perc_labelled, test_auprc_brits, 'c--', linewidth=lw, label='BRITS')\n",
    "axs.plot(perc_labelled, test_auprc_mixmatch, 'b*-', linewidth=lw, markersize=15, label='MixMatch')\n",
    "axs.plot(perc_labelled, test_auprc_fixmatch, 'm*-', linewidth=lw, markersize=15, label='FixMatch')\n",
    "axs.plot(perc_labelled, test_auprc_hmm_plus_pred, 'g-', linewidth=lw, label='unsupervised HMM + predictor')\n",
    "axs.plot(perc_labelled, test_auprc_supervised_hmm, 'r--', linewidth=lw, label='supervised HMM')\n",
    "\n",
    "\n",
    "#     axs.legend(bbox_to_anchor=(0.99, 1.05))\n",
    "axs.set_title('MIMIC-IV In-ICU mortality prediction in first 24 hours')\n",
    "\n",
    "axs.set_xscale('log')    \n",
    "axs.set_xticks(perc_labelled)\n",
    "axs.set_xticklabels(perc_labelled)\n",
    "\n",
    "axs.set_xlim([1.1, 103])\n",
    "# if ylims_list[pp] is not None:\n",
    "#     axs.set_ylim(ylims_list[pp])\n",
    "axs.set_ylabel('AUPRC (test)')\n",
    "axs.set_xlabel(r'$\\%$ labelled sequences')\n",
    "axs.set_ylim([0.12, 0.4])\n",
    "\n",
    "axs.legend(\n",
    "#             bbox_to_anchor=(0.99, 1.05),\n",
    "loc='upper left', fontsize=20\n",
    ")\n",
    "    \n",
    "f.savefig('perf_mortality_prediction_mimic.pdf',\n",
    "          bbox_inches='tight')\n",
    "f.savefig('perf_mortality_prediction_mimic.png',\n",
    "          bbox_inches='tight')\n",
    "\n",
    "# f.savefig('perf_mortality_prediction_mimic_nothing.png',\n",
    "#           bbox_inches='tight')\n",
    "    "
   ]
  },
  {
   "cell_type": "code",
   "execution_count": 26,
   "metadata": {},
   "outputs": [
    {
     "data": {
      "text/plain": [
       "array(['0.180109', '0.20905', '0.274126', '0.308715', '0.30929'],\n",
       "      dtype=object)"
      ]
     },
     "execution_count": 26,
     "metadata": {},
     "output_type": "execute_result"
    }
   ],
   "source": [
    "test_auprc_grud\n"
   ]
  },
  {
   "cell_type": "code",
   "execution_count": 40,
   "metadata": {},
   "outputs": [
    {
     "data": {
      "text/plain": [
       "[<matplotlib.lines.Line2D at 0x2b3e4f0dbf28>,\n",
       " <matplotlib.lines.Line2D at 0x2b3e4f057ba8>,\n",
       " <matplotlib.lines.Line2D at 0x2b3ece7a09e8>,\n",
       " <matplotlib.lines.Line2D at 0x2b3e4f19a8d0>,\n",
       " <matplotlib.lines.Line2D at 0x2b3e4f107d68>,\n",
       " <matplotlib.lines.Line2D at 0x2b3e4f057320>,\n",
       " <matplotlib.lines.Line2D at 0x2b3e4f0cb630>]"
      ]
     },
     "execution_count": 40,
     "metadata": {},
     "output_type": "execute_result"
    }
   ],
   "source": [
    "legend.legendHandles"
   ]
  },
  {
   "cell_type": "markdown",
   "metadata": {},
   "source": [
    "## Get PC-HMM performance with max-pooling across time"
   ]
  },
  {
   "cell_type": "code",
   "execution_count": 3,
   "metadata": {},
   "outputs": [
    {
     "name": "stdout",
     "output_type": "stream",
     "text": [
      "best_model : /cluster/tufts/hugheslab/prath01/projects/pchmm-missing-data-limited-labels/MIMIC-IV/results/PCHMM/mortality_prediction/max_pooling/semi-supervised-pchmm-lr=0.005-seed=555-init_strategy=kmeans-batch_size=256-perc_labelled=1.2-predictor_l2_penalty=0-n_states=5-lamb=1000-weights.h5\n",
      "Class dist 0.08356412950052526\n",
      "Training data shape: (10471, 1, 24, 41)\n"
     ]
    },
    {
     "name": "stderr",
     "output_type": "stream",
     "text": [
      "/cluster/tufts/hugheslab/miniconda2/envs/pchmm/lib/python3.6/site-packages/keras_preprocessing/image/image_data_generator.py:947: UserWarning: Expected input to be images (as Numpy array) following the data format convention \"channels_last\" (channels on axis 3), i.e. expected either 1, 3 or 4 channels on axis 3. However, it was passed an array with shape (10000, 1, 24, 41) (41 channels).\n",
      "  ' channels).')\n"
     ]
    },
    {
     "name": "stdout",
     "output_type": "stream",
     "text": [
      "================mortality classification with 1.2 perc labelled sequences=========\n",
      "test AUPRC (full test): 0.138\n",
      "test AUPRC (bootstrapped test): 0.138\n",
      "test AUROC (full test): 0.672\n",
      "test AUROC (bootstrapped test): 0.673\n",
      "=====================================================================================\n",
      "best_model : /cluster/tufts/hugheslab/prath01/projects/pchmm-missing-data-limited-labels/MIMIC-IV/results/PCHMM/mortality_prediction/max_pooling/semi-supervised-pchmm-lr=0.005-seed=555-init_strategy=kmeans-batch_size=128-perc_labelled=3.7-predictor_l2_penalty=0.1-n_states=5-lamb=500-weights.h5\n",
      "Class dist 0.08356412950052526\n",
      "Training data shape: (10471, 1, 24, 41)\n"
     ]
    },
    {
     "name": "stderr",
     "output_type": "stream",
     "text": [
      "/cluster/tufts/hugheslab/miniconda2/envs/pchmm/lib/python3.6/site-packages/keras_preprocessing/image/image_data_generator.py:947: UserWarning: Expected input to be images (as Numpy array) following the data format convention \"channels_last\" (channels on axis 3), i.e. expected either 1, 3 or 4 channels on axis 3. However, it was passed an array with shape (10000, 1, 24, 41) (41 channels).\n",
      "  ' channels).')\n"
     ]
    },
    {
     "name": "stdout",
     "output_type": "stream",
     "text": [
      "================mortality classification with 3.7 perc labelled sequences=========\n",
      "test AUPRC (full test): 0.197\n",
      "test AUPRC (bootstrapped test): 0.196\n",
      "test AUROC (full test): 0.737\n",
      "test AUROC (bootstrapped test): 0.736\n",
      "=====================================================================================\n",
      "best_model : /cluster/tufts/hugheslab/prath01/projects/pchmm-missing-data-limited-labels/MIMIC-IV/results/PCHMM/mortality_prediction/max_pooling/semi-supervised-pchmm-lr=0.005-seed=555-init_strategy=kmeans-batch_size=128-perc_labelled=11.1-predictor_l2_penalty=0.1-n_states=5-lamb=500-weights.h5\n",
      "Class dist 0.08356412950052526\n",
      "Training data shape: (10471, 1, 24, 41)\n"
     ]
    },
    {
     "name": "stderr",
     "output_type": "stream",
     "text": [
      "/cluster/tufts/hugheslab/miniconda2/envs/pchmm/lib/python3.6/site-packages/keras_preprocessing/image/image_data_generator.py:947: UserWarning: Expected input to be images (as Numpy array) following the data format convention \"channels_last\" (channels on axis 3), i.e. expected either 1, 3 or 4 channels on axis 3. However, it was passed an array with shape (10000, 1, 24, 41) (41 channels).\n",
      "  ' channels).')\n"
     ]
    },
    {
     "name": "stdout",
     "output_type": "stream",
     "text": [
      "================mortality classification with 11.1 perc labelled sequences=========\n",
      "test AUPRC (full test): 0.274\n",
      "test AUPRC (bootstrapped test): 0.272\n",
      "test AUROC (full test): 0.752\n",
      "test AUROC (bootstrapped test): 0.752\n",
      "=====================================================================================\n",
      "best_model : /cluster/tufts/hugheslab/prath01/projects/pchmm-missing-data-limited-labels/MIMIC-IV/results/PCHMM/mortality_prediction/max_pooling/semi-supervised-pchmm-lr=0.005-seed=661-init_strategy=kmeans-batch_size=128-perc_labelled=33.3-predictor_l2_penalty=0.1-n_states=5-lamb=1000-weights.h5\n",
      "Class dist 0.08356412950052526\n",
      "Training data shape: (10471, 1, 24, 41)\n"
     ]
    },
    {
     "name": "stderr",
     "output_type": "stream",
     "text": [
      "/cluster/tufts/hugheslab/miniconda2/envs/pchmm/lib/python3.6/site-packages/keras_preprocessing/image/image_data_generator.py:947: UserWarning: Expected input to be images (as Numpy array) following the data format convention \"channels_last\" (channels on axis 3), i.e. expected either 1, 3 or 4 channels on axis 3. However, it was passed an array with shape (10000, 1, 24, 41) (41 channels).\n",
      "  ' channels).')\n"
     ]
    },
    {
     "name": "stdout",
     "output_type": "stream",
     "text": [
      "================mortality classification with 33.3 perc labelled sequences=========\n",
      "test AUPRC (full test): 0.258\n",
      "test AUPRC (bootstrapped test): 0.258\n",
      "test AUROC (full test): 0.782\n",
      "test AUROC (bootstrapped test): 0.782\n",
      "=====================================================================================\n",
      "best_model : /cluster/tufts/hugheslab/prath01/projects/pchmm-missing-data-limited-labels/MIMIC-IV/results/PCHMM/mortality_prediction/max_pooling/semi-supervised-pchmm-lr=0.005-seed=421-init_strategy=kmeans-batch_size=128-perc_labelled=100-predictor_l2_penalty=0.1-n_states=5-lamb=500-weights.h5\n",
      "Class dist 0.08356412950052526\n",
      "Training data shape: (10471, 1, 24, 41)\n"
     ]
    },
    {
     "name": "stderr",
     "output_type": "stream",
     "text": [
      "/cluster/tufts/hugheslab/miniconda2/envs/pchmm/lib/python3.6/site-packages/keras_preprocessing/image/image_data_generator.py:947: UserWarning: Expected input to be images (as Numpy array) following the data format convention \"channels_last\" (channels on axis 3), i.e. expected either 1, 3 or 4 channels on axis 3. However, it was passed an array with shape (10000, 1, 24, 41) (41 channels).\n",
      "  ' channels).')\n"
     ]
    },
    {
     "name": "stdout",
     "output_type": "stream",
     "text": [
      "================mortality classification with 100 perc labelled sequences=========\n",
      "test AUPRC (full test): 0.281\n",
      "test AUPRC (bootstrapped test): 0.282\n",
      "test AUROC (full test): 0.811\n",
      "test AUROC (bootstrapped test): 0.810\n",
      "=====================================================================================\n"
     ]
    }
   ],
   "source": [
    "perc_labelled_list = ['1.2', '3.7', '11.1', '33.3', '100']\n",
    "random_seed_list = [42, 1783, 78970, 86787, 8675309, 241, 61, 8942, 23, 555]\n",
    "\n",
    "\n",
    "\n",
    "max_pool_pchmm_perf_dict_list = []\n",
    "for perc_labelled in perc_labelled_list:\n",
    "\n",
    "    perf_csvs = glob.glob(os.path.abspath('../results/PCHMM/mortality_prediction/max_pooling/final_perf*perc_labelled=%s*.csv'%(perc_labelled)))\n",
    "    \n",
    "    valid_auprc_np = np.zeros(len(perf_csvs))\n",
    "    test_auprc_np = np.zeros(len(perf_csvs))\n",
    "\n",
    "    for ii, perf_csv in enumerate(perf_csvs):\n",
    "        curr_perf_df = pd.read_csv(perf_csv)\n",
    "        valid_auprc_np[ii] = curr_perf_df['valid_AUPRC'].values[-1]\n",
    "        test_auprc_np[ii] = curr_perf_df['test_AUPRC'].values[-1]\n",
    "\n",
    "    # curr_perf_df\n",
    "    best_ind = np.argmax(valid_auprc_np)\n",
    "    perf_df = pd.read_csv(perf_csvs[best_ind])\n",
    "    best_model_perf_csv = perf_csvs[best_ind]\n",
    "\n",
    "\n",
    "    x_test_np_filename=os.path.join(CLF_TRAIN_TEST_SPLIT_PATH, 'X_test.npy')\n",
    "    y_test_np_filename=os.path.join(CLF_TRAIN_TEST_SPLIT_PATH, 'y_test.npy')\n",
    "\n",
    "    best_model_weights = best_model_perf_csv.replace('.csv', '-weights.h5').replace('final_perf_', '')\n",
    "\n",
    "    print('best_model : %s'%best_model_weights)\n",
    "    X_test = np.load(x_test_np_filename)\n",
    "    y_test = np.load(y_test_np_filename)\n",
    "\n",
    "\n",
    "    X_test = np.expand_dims(X_test, 1)\n",
    "\n",
    "    # standardize data for PC-HMM\n",
    "    key_list = ['train', 'valid', 'test']\n",
    "    data_dict = dict.fromkeys(key_list)\n",
    "    data_dict['train'] = (X_test, y_test)\n",
    "    data_dict['valid'] = (X_test, y_test)\n",
    "    data_dict['test'] = (X_test, y_test)\n",
    "    data = custom_dataset(data_dict=data_dict)\n",
    "\n",
    "    n_states = int(best_model_weights.split('n_states=')[-1].split('-')[0])\n",
    "    # load the best PCHMM model\n",
    "    model = HMM(states=n_states,\n",
    "                observation_dist='NormalWithMissing',\n",
    "                predictor_dist='Categorical')\n",
    "\n",
    "    model.build(data)\n",
    "    model.model.load_weights(best_model_weights)\n",
    "\n",
    "    x_test, y_test = data.test().numpy()\n",
    "    z_test = model.hmm_model.predict(x_test)\n",
    "    y_test_pred_proba = model._predictor.predict(z_test)\n",
    "    labelled_inds_te = ~np.isnan(y_test[:,0])\n",
    "    test_roc_auc = roc_auc_score(y_test[labelled_inds_te], y_test_pred_proba[labelled_inds_te])\n",
    "    test_auprc = average_precision_score(y_test[labelled_inds_te, 1], y_test_pred_proba[labelled_inds_te, 1])\n",
    "\n",
    "    roc_auc_np = np.zeros(len(random_seed_list))\n",
    "    auprc_np = np.zeros(len(random_seed_list))\n",
    "    for k, seed in enumerate(random_seed_list):\n",
    "        random.seed(int(seed))\n",
    "        rnd_inds = random.sample(range(x_test.shape[0]), int(0.9*x_test.shape[0])) \n",
    "        curr_y_test = y_test[rnd_inds]\n",
    "        curr_x_test = x_test[rnd_inds, :]\n",
    "        curr_y_pred_proba = y_test_pred_proba[rnd_inds]\n",
    "\n",
    "        roc_auc_np[k] = roc_auc_score(curr_y_test, curr_y_pred_proba)\n",
    "        auprc_np[k] = average_precision_score(curr_y_test[:, 1], curr_y_pred_proba[:, 1])\n",
    "    \n",
    "    \n",
    "    max_pool_pchmm_perf_dict_list.append({'perc_labelled' : perc_labelled,\n",
    "                 'test_AUC' : test_roc_auc,\n",
    "                 'test_AUPRC' : test_auprc,\n",
    "                 'test_AUPRC_50' : np.median(auprc_np),\n",
    "                 'test_AUPRC_5' : np.percentile(auprc_np, 5),\n",
    "                 'test_AUPRC_95' : np.percentile(auprc_np, 95)})\n",
    "    \n",
    "    \n",
    "    print('================mortality classification with %s perc labelled sequences========='%(perc_labelled))\n",
    "    print('test AUPRC (full test): %.3f'%test_auprc)\n",
    "    print('test AUPRC (bootstrapped test): %.3f'%np.median(auprc_np))\n",
    "    \n",
    "    print('test AUROC (full test): %.3f'%test_roc_auc)\n",
    "    print('test AUROC (bootstrapped test): %.3f'%np.median(roc_auc_np))\n",
    "    print('=====================================================================================')\n",
    "\n",
    "max_pool_pchmm_perf_df = pd.DataFrame(max_pool_pchmm_perf_dict_list)"
   ]
  },
  {
   "cell_type": "code",
   "execution_count": 4,
   "metadata": {},
   "outputs": [
    {
     "data": {
      "text/html": [
       "<div>\n",
       "<style scoped>\n",
       "    .dataframe tbody tr th:only-of-type {\n",
       "        vertical-align: middle;\n",
       "    }\n",
       "\n",
       "    .dataframe tbody tr th {\n",
       "        vertical-align: top;\n",
       "    }\n",
       "\n",
       "    .dataframe thead th {\n",
       "        text-align: right;\n",
       "    }\n",
       "</style>\n",
       "<table border=\"1\" class=\"dataframe\">\n",
       "  <thead>\n",
       "    <tr style=\"text-align: right;\">\n",
       "      <th></th>\n",
       "      <th>perc_labelled</th>\n",
       "      <th>test_AUC</th>\n",
       "      <th>test_AUPRC</th>\n",
       "      <th>test_AUPRC_50</th>\n",
       "      <th>test_AUPRC_5</th>\n",
       "      <th>test_AUPRC_95</th>\n",
       "    </tr>\n",
       "  </thead>\n",
       "  <tbody>\n",
       "    <tr>\n",
       "      <th>0</th>\n",
       "      <td>1.2</td>\n",
       "      <td>0.672276</td>\n",
       "      <td>0.138339</td>\n",
       "      <td>0.137801</td>\n",
       "      <td>0.135494</td>\n",
       "      <td>0.141813</td>\n",
       "    </tr>\n",
       "    <tr>\n",
       "      <th>1</th>\n",
       "      <td>3.7</td>\n",
       "      <td>0.736693</td>\n",
       "      <td>0.197112</td>\n",
       "      <td>0.195793</td>\n",
       "      <td>0.191381</td>\n",
       "      <td>0.199245</td>\n",
       "    </tr>\n",
       "    <tr>\n",
       "      <th>2</th>\n",
       "      <td>11.1</td>\n",
       "      <td>0.752281</td>\n",
       "      <td>0.273594</td>\n",
       "      <td>0.272308</td>\n",
       "      <td>0.267701</td>\n",
       "      <td>0.280887</td>\n",
       "    </tr>\n",
       "    <tr>\n",
       "      <th>3</th>\n",
       "      <td>33.3</td>\n",
       "      <td>0.782224</td>\n",
       "      <td>0.257739</td>\n",
       "      <td>0.258088</td>\n",
       "      <td>0.251883</td>\n",
       "      <td>0.262101</td>\n",
       "    </tr>\n",
       "    <tr>\n",
       "      <th>4</th>\n",
       "      <td>100</td>\n",
       "      <td>0.810905</td>\n",
       "      <td>0.280586</td>\n",
       "      <td>0.281638</td>\n",
       "      <td>0.275071</td>\n",
       "      <td>0.286346</td>\n",
       "    </tr>\n",
       "  </tbody>\n",
       "</table>\n",
       "</div>"
      ],
      "text/plain": [
       "  perc_labelled  test_AUC  test_AUPRC  test_AUPRC_50  test_AUPRC_5  \\\n",
       "0           1.2  0.672276    0.138339       0.137801      0.135494   \n",
       "1           3.7  0.736693    0.197112       0.195793      0.191381   \n",
       "2          11.1  0.752281    0.273594       0.272308      0.267701   \n",
       "3          33.3  0.782224    0.257739       0.258088      0.251883   \n",
       "4           100  0.810905    0.280586       0.281638      0.275071   \n",
       "\n",
       "   test_AUPRC_95  \n",
       "0       0.141813  \n",
       "1       0.199245  \n",
       "2       0.280887  \n",
       "3       0.262101  \n",
       "4       0.286346  "
      ]
     },
     "execution_count": 4,
     "metadata": {},
     "output_type": "execute_result"
    }
   ],
   "source": [
    "max_pool_pchmm_perf_df"
   ]
  },
  {
   "cell_type": "markdown",
   "metadata": {},
   "source": [
    "## Get PC-HMM performance with concatenation of first and last time points as in Joyce Ho paper"
   ]
  },
  {
   "cell_type": "code",
   "execution_count": 9,
   "metadata": {},
   "outputs": [
    {
     "name": "stdout",
     "output_type": "stream",
     "text": [
      "best_model : /cluster/tufts/hugheslab/prath01/projects/pchmm-missing-data-limited-labels/MIMIC-IV/results/PCHMM/mortality_prediction/first_last_step_pooling/semi-supervised-pchmm-lr=0.005-seed=421-init_strategy=kmeans-batch_size=128-perc_labelled=1.2-predictor_l2_penalty=0.1-n_states=5-lamb=500-weights.h5\n",
      "Class dist 0.08356412950052526\n",
      "Training data shape: (10471, 1, 24, 41)\n"
     ]
    },
    {
     "name": "stderr",
     "output_type": "stream",
     "text": [
      "/cluster/tufts/hugheslab/miniconda2/envs/pchmm/lib/python3.6/site-packages/keras_preprocessing/image/image_data_generator.py:947: UserWarning: Expected input to be images (as Numpy array) following the data format convention \"channels_last\" (channels on axis 3), i.e. expected either 1, 3 or 4 channels on axis 3. However, it was passed an array with shape (10000, 1, 24, 41) (41 channels).\n",
      "  ' channels).')\n"
     ]
    },
    {
     "name": "stdout",
     "output_type": "stream",
     "text": [
      "================mortality classification with 1.2 perc labelled sequences=========\n",
      "test AUPRC (full test): 0.158\n",
      "test AUPRC (bootstrapped test): 0.156\n",
      "test AUROC (full test): 0.639\n",
      "test AUROC (bootstrapped test): 0.639\n",
      "=====================================================================================\n",
      "best_model : /cluster/tufts/hugheslab/prath01/projects/pchmm-missing-data-limited-labels/MIMIC-IV/results/PCHMM/mortality_prediction/first_last_step_pooling/semi-supervised-pchmm-lr=0.005-seed=421-init_strategy=kmeans-batch_size=128-perc_labelled=3.7-predictor_l2_penalty=0.1-n_states=5-lamb=500-weights.h5\n",
      "Class dist 0.08356412950052526\n",
      "Training data shape: (10471, 1, 24, 41)\n"
     ]
    },
    {
     "name": "stderr",
     "output_type": "stream",
     "text": [
      "/cluster/tufts/hugheslab/miniconda2/envs/pchmm/lib/python3.6/site-packages/keras_preprocessing/image/image_data_generator.py:947: UserWarning: Expected input to be images (as Numpy array) following the data format convention \"channels_last\" (channels on axis 3), i.e. expected either 1, 3 or 4 channels on axis 3. However, it was passed an array with shape (10000, 1, 24, 41) (41 channels).\n",
      "  ' channels).')\n"
     ]
    },
    {
     "name": "stdout",
     "output_type": "stream",
     "text": [
      "================mortality classification with 3.7 perc labelled sequences=========\n",
      "test AUPRC (full test): 0.195\n",
      "test AUPRC (bootstrapped test): 0.193\n",
      "test AUROC (full test): 0.697\n",
      "test AUROC (bootstrapped test): 0.695\n",
      "=====================================================================================\n",
      "best_model : /cluster/tufts/hugheslab/prath01/projects/pchmm-missing-data-limited-labels/MIMIC-IV/results/PCHMM/mortality_prediction/first_last_step_pooling/semi-supervised-pchmm-lr=0.005-seed=421-init_strategy=kmeans-batch_size=128-perc_labelled=11.1-predictor_l2_penalty=0-n_states=5-lamb=500-weights.h5\n",
      "Class dist 0.08356412950052526\n",
      "Training data shape: (10471, 1, 24, 41)\n"
     ]
    },
    {
     "name": "stderr",
     "output_type": "stream",
     "text": [
      "/cluster/tufts/hugheslab/miniconda2/envs/pchmm/lib/python3.6/site-packages/keras_preprocessing/image/image_data_generator.py:947: UserWarning: Expected input to be images (as Numpy array) following the data format convention \"channels_last\" (channels on axis 3), i.e. expected either 1, 3 or 4 channels on axis 3. However, it was passed an array with shape (10000, 1, 24, 41) (41 channels).\n",
      "  ' channels).')\n"
     ]
    },
    {
     "name": "stdout",
     "output_type": "stream",
     "text": [
      "================mortality classification with 11.1 perc labelled sequences=========\n",
      "test AUPRC (full test): 0.208\n",
      "test AUPRC (bootstrapped test): 0.208\n",
      "test AUROC (full test): 0.740\n",
      "test AUROC (bootstrapped test): 0.739\n",
      "=====================================================================================\n",
      "best_model : /cluster/tufts/hugheslab/prath01/projects/pchmm-missing-data-limited-labels/MIMIC-IV/results/PCHMM/mortality_prediction/first_last_step_pooling/semi-supervised-pchmm-lr=0.005-seed=555-init_strategy=kmeans-batch_size=128-perc_labelled=33.3-predictor_l2_penalty=0.1-n_states=5-lamb=500-weights.h5\n",
      "Class dist 0.08356412950052526\n",
      "Training data shape: (10471, 1, 24, 41)\n"
     ]
    },
    {
     "name": "stderr",
     "output_type": "stream",
     "text": [
      "/cluster/tufts/hugheslab/miniconda2/envs/pchmm/lib/python3.6/site-packages/keras_preprocessing/image/image_data_generator.py:947: UserWarning: Expected input to be images (as Numpy array) following the data format convention \"channels_last\" (channels on axis 3), i.e. expected either 1, 3 or 4 channels on axis 3. However, it was passed an array with shape (10000, 1, 24, 41) (41 channels).\n",
      "  ' channels).')\n"
     ]
    },
    {
     "name": "stdout",
     "output_type": "stream",
     "text": [
      "================mortality classification with 33.3 perc labelled sequences=========\n",
      "test AUPRC (full test): 0.215\n",
      "test AUPRC (bootstrapped test): 0.212\n",
      "test AUROC (full test): 0.770\n",
      "test AUROC (bootstrapped test): 0.770\n",
      "=====================================================================================\n",
      "best_model : /cluster/tufts/hugheslab/prath01/projects/pchmm-missing-data-limited-labels/MIMIC-IV/results/PCHMM/mortality_prediction/first_last_step_pooling/semi-supervised-pchmm-lr=0.005-seed=661-init_strategy=kmeans-batch_size=128-perc_labelled=100-predictor_l2_penalty=0-n_states=5-lamb=1000-weights.h5\n",
      "Class dist 0.08356412950052526\n",
      "Training data shape: (10471, 1, 24, 41)\n"
     ]
    },
    {
     "name": "stderr",
     "output_type": "stream",
     "text": [
      "/cluster/tufts/hugheslab/miniconda2/envs/pchmm/lib/python3.6/site-packages/keras_preprocessing/image/image_data_generator.py:947: UserWarning: Expected input to be images (as Numpy array) following the data format convention \"channels_last\" (channels on axis 3), i.e. expected either 1, 3 or 4 channels on axis 3. However, it was passed an array with shape (10000, 1, 24, 41) (41 channels).\n",
      "  ' channels).')\n"
     ]
    },
    {
     "name": "stdout",
     "output_type": "stream",
     "text": [
      "================mortality classification with 100 perc labelled sequences=========\n",
      "test AUPRC (full test): 0.248\n",
      "test AUPRC (bootstrapped test): 0.248\n",
      "test AUROC (full test): 0.790\n",
      "test AUROC (bootstrapped test): 0.790\n",
      "=====================================================================================\n"
     ]
    }
   ],
   "source": [
    "perc_labelled_list = ['1.2', '3.7', '11.1', '33.3', '100']\n",
    "random_seed_list = [42, 1783, 78970, 86787, 8675309, 241, 61, 8942, 23, 555]\n",
    "\n",
    "\n",
    "\n",
    "first_last_step_pooling_pchmm_perf_dict_list = []\n",
    "for perc_labelled in perc_labelled_list:\n",
    "\n",
    "    perf_csvs = glob.glob(os.path.abspath('../results/PCHMM/mortality_prediction/first_last_step_pooling/final_perf*perc_labelled=%s*.csv'%(perc_labelled)))\n",
    "    \n",
    "    valid_auprc_np = np.zeros(len(perf_csvs))\n",
    "    test_auprc_np = np.zeros(len(perf_csvs))\n",
    "\n",
    "    for ii, perf_csv in enumerate(perf_csvs):\n",
    "        curr_perf_df = pd.read_csv(perf_csv)\n",
    "        valid_auprc_np[ii] = curr_perf_df['valid_AUPRC'].values[-1]\n",
    "        test_auprc_np[ii] = curr_perf_df['test_AUPRC'].values[-1]\n",
    "\n",
    "    # curr_perf_df\n",
    "    best_ind = np.argmax(valid_auprc_np)\n",
    "    perf_df = pd.read_csv(perf_csvs[best_ind])\n",
    "    best_model_perf_csv = perf_csvs[best_ind]\n",
    "\n",
    "\n",
    "    x_test_np_filename=os.path.join(CLF_TRAIN_TEST_SPLIT_PATH, 'X_test.npy')\n",
    "    y_test_np_filename=os.path.join(CLF_TRAIN_TEST_SPLIT_PATH, 'y_test.npy')\n",
    "\n",
    "    best_model_weights = best_model_perf_csv.replace('.csv', '-weights.h5').replace('final_perf_', '')\n",
    "\n",
    "    print('best_model : %s'%best_model_weights)\n",
    "    X_test = np.load(x_test_np_filename)\n",
    "    y_test = np.load(y_test_np_filename)\n",
    "\n",
    "\n",
    "    X_test = np.expand_dims(X_test, 1)\n",
    "\n",
    "    # standardize data for PC-HMM\n",
    "    key_list = ['train', 'valid', 'test']\n",
    "    data_dict = dict.fromkeys(key_list)\n",
    "    data_dict['train'] = (X_test, y_test)\n",
    "    data_dict['valid'] = (X_test, y_test)\n",
    "    data_dict['test'] = (X_test, y_test)\n",
    "    data = custom_dataset(data_dict=data_dict)\n",
    "\n",
    "    n_states = int(best_model_weights.split('n_states=')[-1].split('-')[0])\n",
    "    # load the best PCHMM model\n",
    "    model = HMM(states=n_states,\n",
    "                observation_dist='NormalWithMissing',\n",
    "                predictor_dist='Categorical',\n",
    "                predictor_time_reducer='concat')\n",
    "\n",
    "    model.build(data)\n",
    "    model.model.load_weights(best_model_weights)\n",
    "\n",
    "    x_test, y_test = data.test().numpy()\n",
    "    z_test = model.hmm_model.predict(x_test)\n",
    "    y_test_pred_proba = model._predictor.predict(z_test)\n",
    "    labelled_inds_te = ~np.isnan(y_test[:,0])\n",
    "    test_roc_auc = roc_auc_score(y_test[labelled_inds_te], y_test_pred_proba[labelled_inds_te])\n",
    "    test_auprc = average_precision_score(y_test[labelled_inds_te, 1], y_test_pred_proba[labelled_inds_te, 1])\n",
    "\n",
    "    roc_auc_np = np.zeros(len(random_seed_list))\n",
    "    auprc_np = np.zeros(len(random_seed_list))\n",
    "    for k, seed in enumerate(random_seed_list):\n",
    "        random.seed(int(seed))\n",
    "        rnd_inds = random.sample(range(x_test.shape[0]), int(0.9*x_test.shape[0])) \n",
    "        curr_y_test = y_test[rnd_inds]\n",
    "        curr_x_test = x_test[rnd_inds, :]\n",
    "        curr_y_pred_proba = y_test_pred_proba[rnd_inds]\n",
    "\n",
    "        roc_auc_np[k] = roc_auc_score(curr_y_test, curr_y_pred_proba)\n",
    "        auprc_np[k] = average_precision_score(curr_y_test[:, 1], curr_y_pred_proba[:, 1])\n",
    "    \n",
    "    \n",
    "    first_last_step_pooling_pchmm_perf_dict_list.append({'perc_labelled' : perc_labelled,\n",
    "                 'test_AUC' : test_roc_auc,\n",
    "                 'test_AUPRC' : test_auprc,\n",
    "                 'test_AUPRC_50' : np.median(auprc_np),\n",
    "                 'test_AUPRC_5' : np.percentile(auprc_np, 5),\n",
    "                 'test_AUPRC_95' : np.percentile(auprc_np, 95)})\n",
    "    \n",
    "    \n",
    "    print('================mortality classification with %s perc labelled sequences========='%(perc_labelled))\n",
    "    print('test AUPRC (full test): %.3f'%test_auprc)\n",
    "    print('test AUPRC (bootstrapped test): %.3f'%np.median(auprc_np))\n",
    "    \n",
    "    print('test AUROC (full test): %.3f'%test_roc_auc)\n",
    "    print('test AUROC (bootstrapped test): %.3f'%np.median(roc_auc_np))\n",
    "    print('=====================================================================================')\n",
    "\n",
    "first_last_step_pooling_pchmm_perf_df = pd.DataFrame(first_last_step_pooling_pchmm_perf_dict_list)"
   ]
  },
  {
   "cell_type": "code",
   "execution_count": 10,
   "metadata": {},
   "outputs": [
    {
     "data": {
      "text/html": [
       "<div>\n",
       "<style scoped>\n",
       "    .dataframe tbody tr th:only-of-type {\n",
       "        vertical-align: middle;\n",
       "    }\n",
       "\n",
       "    .dataframe tbody tr th {\n",
       "        vertical-align: top;\n",
       "    }\n",
       "\n",
       "    .dataframe thead th {\n",
       "        text-align: right;\n",
       "    }\n",
       "</style>\n",
       "<table border=\"1\" class=\"dataframe\">\n",
       "  <thead>\n",
       "    <tr style=\"text-align: right;\">\n",
       "      <th></th>\n",
       "      <th>perc_labelled</th>\n",
       "      <th>test_AUC</th>\n",
       "      <th>test_AUPRC</th>\n",
       "      <th>test_AUPRC_50</th>\n",
       "      <th>test_AUPRC_5</th>\n",
       "      <th>test_AUPRC_95</th>\n",
       "    </tr>\n",
       "  </thead>\n",
       "  <tbody>\n",
       "    <tr>\n",
       "      <th>0</th>\n",
       "      <td>1.2</td>\n",
       "      <td>0.638976</td>\n",
       "      <td>0.157553</td>\n",
       "      <td>0.156394</td>\n",
       "      <td>0.152468</td>\n",
       "      <td>0.161532</td>\n",
       "    </tr>\n",
       "    <tr>\n",
       "      <th>1</th>\n",
       "      <td>3.7</td>\n",
       "      <td>0.697156</td>\n",
       "      <td>0.194848</td>\n",
       "      <td>0.193273</td>\n",
       "      <td>0.189640</td>\n",
       "      <td>0.195827</td>\n",
       "    </tr>\n",
       "    <tr>\n",
       "      <th>2</th>\n",
       "      <td>11.1</td>\n",
       "      <td>0.739772</td>\n",
       "      <td>0.208137</td>\n",
       "      <td>0.208489</td>\n",
       "      <td>0.204464</td>\n",
       "      <td>0.210406</td>\n",
       "    </tr>\n",
       "    <tr>\n",
       "      <th>3</th>\n",
       "      <td>33.3</td>\n",
       "      <td>0.770033</td>\n",
       "      <td>0.214781</td>\n",
       "      <td>0.212483</td>\n",
       "      <td>0.208958</td>\n",
       "      <td>0.218690</td>\n",
       "    </tr>\n",
       "    <tr>\n",
       "      <th>4</th>\n",
       "      <td>100</td>\n",
       "      <td>0.790313</td>\n",
       "      <td>0.248432</td>\n",
       "      <td>0.247593</td>\n",
       "      <td>0.239590</td>\n",
       "      <td>0.251614</td>\n",
       "    </tr>\n",
       "  </tbody>\n",
       "</table>\n",
       "</div>"
      ],
      "text/plain": [
       "  perc_labelled  test_AUC  test_AUPRC  test_AUPRC_50  test_AUPRC_5  \\\n",
       "0           1.2  0.638976    0.157553       0.156394      0.152468   \n",
       "1           3.7  0.697156    0.194848       0.193273      0.189640   \n",
       "2          11.1  0.739772    0.208137       0.208489      0.204464   \n",
       "3          33.3  0.770033    0.214781       0.212483      0.208958   \n",
       "4           100  0.790313    0.248432       0.247593      0.239590   \n",
       "\n",
       "   test_AUPRC_95  \n",
       "0       0.161532  \n",
       "1       0.195827  \n",
       "2       0.210406  \n",
       "3       0.218690  \n",
       "4       0.251614  "
      ]
     },
     "execution_count": 10,
     "metadata": {},
     "output_type": "execute_result"
    }
   ],
   "source": [
    "first_last_step_pooling_pchmm_perf_df"
   ]
  },
  {
   "cell_type": "markdown",
   "metadata": {},
   "source": [
    "## Compare performance of various PC-HMM ordinal regression models across different number of states"
   ]
  },
  {
   "cell_type": "code",
   "execution_count": 17,
   "metadata": {},
   "outputs": [
    {
     "name": "stdout",
     "output_type": "stream",
     "text": [
      "Train AUPRC for n_states = 5 : 0.847\n",
      "Val AUPRC for n_states = 5 : 0.683\n",
      "Test AUPRC for n_states = 5 : 0.703\n",
      "/cluster/tufts/hugheslab/prath01/projects/pchmm-missing-data-limited-labels/MIMIC-IV/results/PCHMM/los_ordinal_regression/final_perf_semi-supervised-pchmm-lr=0.01-seed=152-init_strategy=kmeans-batch_size=128-predictor_l2_penalty=0-n_states=5-lamb=100.csv\n",
      "Train AUPRC for n_states = 10 : 0.891\n",
      "Val AUPRC for n_states = 10 : 0.681\n",
      "Test AUPRC for n_states = 10 : 0.701\n",
      "/cluster/tufts/hugheslab/prath01/projects/pchmm-missing-data-limited-labels/MIMIC-IV/results/PCHMM/los_ordinal_regression/final_perf_semi-supervised-pchmm-lr=0.01-seed=124-init_strategy=kmeans-batch_size=128-predictor_l2_penalty=0-n_states=10-lamb=50.csv\n",
      "Train AUPRC for n_states = 20 : 0.960\n",
      "Val AUPRC for n_states = 20 : 0.679\n",
      "Test AUPRC for n_states = 20 : 0.694\n",
      "/cluster/tufts/hugheslab/prath01/projects/pchmm-missing-data-limited-labels/MIMIC-IV/results/PCHMM/los_ordinal_regression/final_perf_semi-supervised-pchmm-lr=0.005-seed=194-init_strategy=kmeans-batch_size=128-predictor_l2_penalty=0.1-perc_labelled=100-n_states=20-lamb=100.csv\n",
      "Train AUPRC for n_states = 40 : 0.970\n",
      "Val AUPRC for n_states = 40 : 0.666\n",
      "Test AUPRC for n_states = 40 : 0.685\n",
      "/cluster/tufts/hugheslab/prath01/projects/pchmm-missing-data-limited-labels/MIMIC-IV/results/PCHMM/los_ordinal_regression/final_perf_semi-supervised-pchmm-lr=0.005-seed=107-init_strategy=kmeans-batch_size=128-predictor_l2_penalty=0.1-perc_labelled=100-n_states=40-lamb=100.csv\n"
     ]
    }
   ],
   "source": [
    "CLF_TRAIN_TEST_SPLIT_PATH = '/cluster/tufts/hugheslab/datasets/MIMIC-IV/ordinal_los_prediction/los_prediction_ordinal'\n",
    "# f, axs = plt.subplots(1, 1, figsize=(12, 8))\n",
    "\n",
    "states_list = ['5', '10', '20', '40']\n",
    "# perc_labelled_list = ['1.2', '3.7', '11.1', '33.3']\n",
    "train_auprc_per_state_np = np.zeros(len(states_list))\n",
    "val_auprc_per_state_np = np.zeros(len(states_list))\n",
    "test_auprc_per_state_np = np.zeros(len(states_list))\n",
    "# for perc_labelled in perc_labelled_list:\n",
    "for jj, n_states in enumerate(states_list):\n",
    "    perf_csvs = glob.glob(os.path.abspath('../results/PCHMM/los_ordinal_regression/final_perf*n_states=%s*.csv'%(n_states)))\n",
    "\n",
    "    # perf_csvs = [ii for ii in perf_csvs if 'perc_labelled' not in ii]\n",
    "\n",
    "    train_auprc_np_3 = np.zeros(len(perf_csvs))\n",
    "    valid_auprc_np_3 = np.zeros(len(perf_csvs))\n",
    "    test_auprc_np_3 = np.zeros(len(perf_csvs))\n",
    "    valid_auprc_np_7 = np.zeros(len(perf_csvs))\n",
    "    test_auprc_np_7 = np.zeros(len(perf_csvs))\n",
    "    valid_auprc_np_11 = np.zeros(len(perf_csvs))\n",
    "    test_auprc_np_11 = np.zeros(len(perf_csvs))\n",
    "\n",
    "    for ii, perf_csv in enumerate(perf_csvs):\n",
    "        curr_perf_df = pd.read_csv(perf_csv)\n",
    "        train_auprc_np_3[ii] = curr_perf_df['train_AUPRC_3'].values[-1]\n",
    "        valid_auprc_np_3[ii] = curr_perf_df['valid_AUPRC_3'].values[-1]\n",
    "        test_auprc_np_3[ii] = curr_perf_df['test_AUPRC_3'].values[-1]\n",
    "\n",
    "        valid_auprc_np_7[ii] = curr_perf_df['valid_AUPRC_7'].values[-1]\n",
    "        test_auprc_np_7[ii] = curr_perf_df['test_AUPRC_7'].values[-1]\n",
    "\n",
    "        valid_auprc_np_11[ii] = curr_perf_df['valid_AUPRC_11'].values[-1]\n",
    "        test_auprc_np_11[ii] = curr_perf_df['test_AUPRC_11'].values[-1]\n",
    "\n",
    "\n",
    "    best_ind_tr = np.argmax(train_auprc_np_3)\n",
    "    best_ind_va = np.argmax(valid_auprc_np_3)\n",
    "    perf_df = pd.read_csv(perf_csvs[best_ind_tr])\n",
    "\n",
    "\n",
    "    train_auprc_per_state_np[jj] = train_auprc_np_3[best_ind_tr]\n",
    "    val_auprc_per_state_np[jj] = valid_auprc_np_3[best_ind_va]\n",
    "    test_auprc_per_state_np[jj] = test_auprc_np_3[best_ind_va]\n",
    "    print('Train AUPRC for n_states = %s : %.3f'%(n_states, train_auprc_np_3[best_ind_tr]))\n",
    "    print('Val AUPRC for n_states = %s : %.3f'%(n_states, valid_auprc_np_3[best_ind_va]))\n",
    "    print('Test AUPRC for n_states = %s : %.3f'%(n_states, test_auprc_np_3[best_ind_va]))\n",
    "    best_model_perf_csv = perf_csvs[best_ind_va]\n",
    "    print(best_model_perf_csv)"
   ]
  },
  {
   "cell_type": "code",
   "execution_count": 18,
   "metadata": {},
   "outputs": [
    {
     "data": {
      "text/plain": [
       "Text(0.5, 1.0, 'Prediction of LOS > 3 with ordinal model')"
      ]
     },
     "execution_count": 18,
     "metadata": {},
     "output_type": "execute_result"
    },
    {
     "data": {
      "image/png": "[encoded data removed]",
      "text/plain": [
       "<Figure size 720x576 with 1 Axes>"
      ]
     },
     "metadata": {},
     "output_type": "display_data"
    }
   ],
   "source": [
    "f, axs = plt.subplots(1, 1, figsize=(10, 8))\n",
    "sns.set_context('notebook', font_scale=1.4)\n",
    "sns.set_style('whitegrid')\n",
    "axs.plot(np.array(states_list), train_auprc_per_state_np, 'k.-', label='train')\n",
    "axs.plot(np.array(states_list), val_auprc_per_state_np, 'g.-', label='valid')\n",
    "# axs.plot(np.array(states_list), test_auprc_per_state_np, 'b.-', label='test')\n",
    "axs.legend()\n",
    "axs.set_ylabel('AUPRC')\n",
    "axs.set_xlabel('number of states')\n",
    "axs.set_title('Prediction of LOS > 3 with ordinal model')"
   ]
  },
  {
   "cell_type": "markdown",
   "metadata": {},
   "source": [
    "## plot the performance as a function of penalty"
   ]
  },
  {
   "cell_type": "code",
   "execution_count": 19,
   "metadata": {},
   "outputs": [],
   "source": [
    "# penalty_list = ['0', '1e-07', '1e-05', '0.001', '0.1', '0.25', '0.5', '1', '5', '10']\n",
    "penalty_list = ['0', '1e-07', '1e-05', '0.001', '0.005', '0.1', '0.25', '0.5', '1', '5', '10']\n",
    "test_perf_per_penalty = []\n",
    "val_perf_per_penalty = []\n",
    "train_perf_per_penalty = []\n",
    "for pen in penalty_list:\n",
    "    perf_csvs = glob.glob(os.path.abspath('../results/PCHMM/los_ordinal_regression/final_perf*predictor_l2_penalty=%s-*n_states=20*.csv'%pen))\n",
    "    \n",
    "    train_auprc_np_3 = np.zeros(len(perf_csvs))\n",
    "    valid_auprc_np_3 = np.zeros(len(perf_csvs))\n",
    "    test_auprc_np_3 = np.zeros(len(perf_csvs))\n",
    "    \n",
    "    train_auprc_np_7 = np.zeros(len(perf_csvs))\n",
    "    valid_auprc_np_7 = np.zeros(len(perf_csvs))\n",
    "    test_auprc_np_7 = np.zeros(len(perf_csvs))\n",
    "    valid_auprc_np_11 = np.zeros(len(perf_csvs))\n",
    "    test_auprc_np_11 = np.zeros(len(perf_csvs))\n",
    "\n",
    "    for ii, perf_csv in enumerate(perf_csvs):\n",
    "        curr_perf_df = pd.read_csv(perf_csv)\n",
    "        train_auprc_np_3[ii] = curr_perf_df['train_AUPRC_3'].values[-1]\n",
    "        valid_auprc_np_3[ii] = curr_perf_df['valid_AUPRC_3'].values[-1]\n",
    "        test_auprc_np_3[ii] = curr_perf_df['test_AUPRC_3'].values[-1]\n",
    "        \n",
    "        train_auprc_np_7[ii] = curr_perf_df['train_AUPRC_7'].values[-1]\n",
    "        valid_auprc_np_7[ii] = curr_perf_df['valid_AUPRC_7'].values[-1]\n",
    "        test_auprc_np_7[ii] = curr_perf_df['test_AUPRC_7'].values[-1]\n",
    "\n",
    "        valid_auprc_np_11[ii] = curr_perf_df['valid_AUPRC_11'].values[-1]\n",
    "        test_auprc_np_11[ii] = curr_perf_df['test_AUPRC_11'].values[-1]\n",
    "\n",
    "\n",
    "    best_ind = np.argmax(valid_auprc_np_3)\n",
    "    val_perf_per_penalty.append(valid_auprc_np_3[best_ind])\n",
    "    test_perf_per_penalty.append(test_auprc_np_3[best_ind])\n",
    "    train_perf_per_penalty.append(train_auprc_np_3[best_ind])"
   ]
  },
  {
   "cell_type": "code",
   "execution_count": 20,
   "metadata": {},
   "outputs": [
    {
     "data": {
      "text/plain": [
       "Text(0.5, 1.0, 'Prediction of LOS > 3 with 20 state PC-HMM ordinal model')"
      ]
     },
     "execution_count": 20,
     "metadata": {},
     "output_type": "execute_result"
    },
    {
     "data": {
      "image/png": "[encoded data removed]",
      "text/plain": [
       "<Figure size 720x576 with 1 Axes>"
      ]
     },
     "metadata": {},
     "output_type": "display_data"
    }
   ],
   "source": [
    "f, axs = plt.subplots(1, 1, figsize=(10, 8))\n",
    "sns.set_context('notebook', font_scale=1.4)\n",
    "sns.set_style('whitegrid')\n",
    "axs.plot(np.array(penalty_list), np.array(val_perf_per_penalty), 'k.-')\n",
    "axs.set_ylabel('validation AUPRC')\n",
    "axs.set_xlabel('l2 penalty on predictor')\n",
    "axs.set_title('Prediction of LOS > 3 with 20 state PC-HMM ordinal model')"
   ]
  },
  {
   "cell_type": "code",
   "execution_count": 45,
   "metadata": {},
   "outputs": [
    {
     "data": {
      "text/plain": [
       "[0.5434338285561435, 0.5613730226929461]"
      ]
     },
     "execution_count": 45,
     "metadata": {},
     "output_type": "execute_result"
    }
   ],
   "source": [
    "test_perf_per_penalty"
   ]
  },
  {
   "cell_type": "markdown",
   "metadata": {},
   "source": [
    "## Plot the loss plots for the 20 state PC-HMM"
   ]
  },
  {
   "cell_type": "code",
   "execution_count": 21,
   "metadata": {},
   "outputs": [
    {
     "data": {
      "image/png": "[encoded data removed]",
      "text/plain": [
       "<Figure size 576x720 with 4 Axes>"
      ]
     },
     "metadata": {},
     "output_type": "display_data"
    }
   ],
   "source": [
    "save_dir = \"/cluster/tufts/hugheslab/prath01/projects/pchmm-missing-data-limited-labels/MIMIC-IV/results/PCHMM/los_ordinal_regression/\"\n",
    "hist_csv = os.path.join(save_dir, \"semi-supervised-pchmm-lr=0.005-seed=194-init_strategy=kmeans-batch_size=128-predictor_l2_penalty=0.1-perc_labelled=100-n_states=20-lamb=100.csv\")\n",
    "\n",
    "f, axs = plt.subplots(2, 2, figsize=(8, 10))\n",
    "axs_list = axs.flatten()\n",
    "lamb = int(hist_csv.replace('.csv', '').split('lamb=')[-1])\n",
    "\n",
    "final_hist_df = pd.read_csv(hist_csv)\n",
    "\n",
    "epochs = range(len(final_hist_df))\n",
    "train_hmm_loss = final_hist_df['hmm_model_loss'].values\n",
    "val_hmm_loss = final_hist_df['val_hmm_model_loss'].values\n",
    "\n",
    "train_predictor_loss = final_hist_df['predictor_loss'].values/lamb\n",
    "val_predictor_loss = final_hist_df['val_predictor_loss'].values/lamb\n",
    "\n",
    "axs_list[0].plot(epochs, train_hmm_loss, label='train hmm loss')\n",
    "axs_list[1].plot(epochs, val_hmm_loss, label='valid hmm loss')\n",
    "\n",
    "axs_list[2].plot(epochs, train_predictor_loss, label='train predictor loss')\n",
    "axs_list[3].plot(epochs, val_predictor_loss, label='valid predictor loss')\n",
    "\n",
    "for ax in axs_list:\n",
    "    ax.legend()"
   ]
  },
  {
   "cell_type": "code",
   "execution_count": 6,
   "metadata": {},
   "outputs": [
    {
     "data": {
      "text/plain": [
       "1338"
      ]
     },
     "execution_count": 6,
     "metadata": {},
     "output_type": "execute_result"
    }
   ],
   "source": [
    "446*3"
   ]
  },
  {
   "cell_type": "code",
   "execution_count": null,
   "metadata": {},
   "outputs": [],
   "source": []
  }
 ],
 "metadata": {
  "kernelspec": {
   "display_name": "Python 3",
   "language": "python",
   "name": "python3"
  },
  "language_info": {
   "codemirror_mode": {
    "name": "ipython",
    "version": 3
   },
   "file_extension": ".py",
   "mimetype": "text/x-python",
   "name": "python",
   "nbconvert_exporter": "python",
   "pygments_lexer": "ipython3",
   "version": "3.6.12"
  }
 },
 "nbformat": 4,
 "nbformat_minor": 2
}
