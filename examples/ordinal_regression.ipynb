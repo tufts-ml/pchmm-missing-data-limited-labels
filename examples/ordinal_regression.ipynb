{
 "cells": [
  {
   "cell_type": "code",
   "execution_count": 13,
   "metadata": {},
   "outputs": [],
   "source": [
    "import sys, os\n",
    "# from scipy.stats import norm"
   ]
  },
  {
   "cell_type": "code",
   "execution_count": 14,
   "metadata": {},
   "outputs": [],
   "source": [
    "sys.path.append(os.path.abspath(os.path.join('../utils')))\n",
    "from ordinal_model.OrdinalRegression import OrdinalRegression\n",
    "import autograd.numpy as np\n",
    "import pandas as pd\n",
    "from sklearn.preprocessing import MinMaxScaler"
   ]
  },
  {
   "cell_type": "code",
   "execution_count": 15,
   "metadata": {},
   "outputs": [],
   "source": [
    "from autograd import grad, value_and_grad"
   ]
  },
  {
   "attachments": {},
   "cell_type": "markdown",
   "metadata": {},
   "source": [
    "# Toy Data"
   ]
  },
  {
   "cell_type": "code",
   "execution_count": 39,
   "metadata": {},
   "outputs": [
    {
     "data": {
      "text/html": [
       "<div>\n",
       "<style scoped>\n",
       "    .dataframe tbody tr th:only-of-type {\n",
       "        vertical-align: middle;\n",
       "    }\n",
       "\n",
       "    .dataframe tbody tr th {\n",
       "        vertical-align: top;\n",
       "    }\n",
       "\n",
       "    .dataframe thead th {\n",
       "        text-align: right;\n",
       "    }\n",
       "</style>\n",
       "<table border=\"1\" class=\"dataframe\">\n",
       "  <thead>\n",
       "    <tr style=\"text-align: right;\">\n",
       "      <th></th>\n",
       "      <th>temperature_1</th>\n",
       "      <th>temperature_2</th>\n",
       "      <th>ordinal_label</th>\n",
       "    </tr>\n",
       "  </thead>\n",
       "  <tbody>\n",
       "    <tr>\n",
       "      <th>0</th>\n",
       "      <td>12.565857</td>\n",
       "      <td>0.109851</td>\n",
       "      <td>2</td>\n",
       "    </tr>\n",
       "    <tr>\n",
       "      <th>1</th>\n",
       "      <td>13.218399</td>\n",
       "      <td>0.167699</td>\n",
       "      <td>2</td>\n",
       "    </tr>\n",
       "    <tr>\n",
       "      <th>2</th>\n",
       "      <td>13.363536</td>\n",
       "      <td>-0.496569</td>\n",
       "      <td>1</td>\n",
       "    </tr>\n",
       "    <tr>\n",
       "      <th>3</th>\n",
       "      <td>12.975686</td>\n",
       "      <td>-0.305597</td>\n",
       "      <td>1</td>\n",
       "    </tr>\n",
       "    <tr>\n",
       "      <th>4</th>\n",
       "      <td>11.949287</td>\n",
       "      <td>-1.845899</td>\n",
       "      <td>0</td>\n",
       "    </tr>\n",
       "    <tr>\n",
       "      <th>...</th>\n",
       "      <td>...</td>\n",
       "      <td>...</td>\n",
       "      <td>...</td>\n",
       "    </tr>\n",
       "    <tr>\n",
       "      <th>94</th>\n",
       "      <td>12.652284</td>\n",
       "      <td>0.703700</td>\n",
       "      <td>2</td>\n",
       "    </tr>\n",
       "    <tr>\n",
       "      <th>95</th>\n",
       "      <td>13.164679</td>\n",
       "      <td>-0.973421</td>\n",
       "      <td>1</td>\n",
       "    </tr>\n",
       "    <tr>\n",
       "      <th>96</th>\n",
       "      <td>12.223797</td>\n",
       "      <td>0.409554</td>\n",
       "      <td>2</td>\n",
       "    </tr>\n",
       "    <tr>\n",
       "      <th>97</th>\n",
       "      <td>13.915844</td>\n",
       "      <td>1.234273</td>\n",
       "      <td>2</td>\n",
       "    </tr>\n",
       "    <tr>\n",
       "      <th>98</th>\n",
       "      <td>13.557910</td>\n",
       "      <td>0.312569</td>\n",
       "      <td>2</td>\n",
       "    </tr>\n",
       "  </tbody>\n",
       "</table>\n",
       "<p>99 rows × 3 columns</p>\n",
       "</div>"
      ],
      "text/plain": [
       "    temperature_1  temperature_2  ordinal_label\n",
       "0       12.565857       0.109851              2\n",
       "1       13.218399       0.167699              2\n",
       "2       13.363536      -0.496569              1\n",
       "3       12.975686      -0.305597              1\n",
       "4       11.949287      -1.845899              0\n",
       "..            ...            ...            ...\n",
       "94      12.652284       0.703700              2\n",
       "95      13.164679      -0.973421              1\n",
       "96      12.223797       0.409554              2\n",
       "97      13.915844       1.234273              2\n",
       "98      13.557910       0.312569              2\n",
       "\n",
       "[99 rows x 3 columns]"
      ]
     },
     "execution_count": 39,
     "metadata": {},
     "output_type": "execute_result"
    }
   ],
   "source": [
    "state_2_df = pd.read_csv('../toydata/simulated_data/features_from_state2.csv')\n",
    "state_2_df"
   ]
  },
  {
   "cell_type": "code",
   "execution_count": 51,
   "metadata": {},
   "outputs": [
    {
     "name": "stdout",
     "output_type": "stream",
     "text": [
      "X: (99, 2)\n",
      "[[0.34881215 0.55541583]\n",
      " [0.59610553 0.56971263]\n",
      " [0.65110809 0.40554345]\n",
      " [0.50412477 0.45274072]\n",
      " [0.11515082 0.07206582]\n",
      " [0.6112873  0.44652407]\n",
      " [0.96125276 0.52034405]\n",
      " [0.6887788  0.79942151]\n",
      " [0.59883038 0.34867307]\n",
      " [0.         0.74257745]\n",
      " [0.738802   0.51755134]\n",
      " [0.81027906 0.56283017]\n",
      " [0.44991055 0.28895268]\n",
      " [0.36781423 0.        ]\n",
      " [0.53119963 0.53932356]\n",
      " [0.74483891 0.79049492]\n",
      " [0.67447105 0.807817  ]\n",
      " [0.60529951 0.73029134]\n",
      " [0.57784959 0.73557156]\n",
      " [0.4403603  0.42949464]\n",
      " [0.31761671 0.70309347]\n",
      " [0.2784953  0.78627806]\n",
      " [0.3007077  0.38043927]\n",
      " [0.2158231  0.41740294]\n",
      " [0.51396616 0.39485602]\n",
      " [0.35963003 0.53475116]\n",
      " [0.69867301 0.87558782]\n",
      " [0.48060351 0.26649242]\n",
      " [0.55269547 0.43109202]\n",
      " [0.4080644  0.03979886]\n",
      " [0.49370298 0.72859512]\n",
      " [0.33445174 0.40815835]\n",
      " [0.56307376 0.26286485]\n",
      " [0.86998039 0.68568611]\n",
      " [0.83473832 0.6917939 ]\n",
      " [0.49121084 0.6144919 ]\n",
      " [0.47700583 1.        ]\n",
      " [0.10237318 0.77205017]\n",
      " [0.64652471 0.61174011]\n",
      " [0.51734508 0.54159784]\n",
      " [0.14893455 0.46515062]\n",
      " [0.62374245 0.84153806]\n",
      " [0.56645874 0.40392628]\n",
      " [0.27680474 0.18830249]\n",
      " [0.66606233 0.71761717]\n",
      " [0.43575311 0.15386083]\n",
      " [0.57758696 0.71769501]\n",
      " [0.69434698 0.47619984]\n",
      " [0.63713242 0.49341233]\n",
      " [0.80790494 0.39310643]\n",
      " [0.64515003 0.45860101]\n",
      " [0.25116687 0.45044068]\n",
      " [0.65158146 0.42327711]\n",
      " [0.48965196 0.75860503]\n",
      " [0.63429679 0.29159614]\n",
      " [0.71624159 0.40745599]\n",
      " [0.42019509 0.4682114 ]\n",
      " [0.66268602 0.93484355]\n",
      " [0.56896179 0.34333872]\n",
      " [0.84341209 0.33889997]\n",
      " [1.         0.54135717]\n",
      " [0.3564618  0.63453006]\n",
      " [0.58502823 0.28185254]\n",
      " [0.44204442 0.16994225]\n",
      " [0.72615923 0.04164823]\n",
      " [0.25184525 0.28365392]\n",
      " [0.2739679  0.58541959]\n",
      " [0.66814925 0.69995808]\n",
      " [0.37635482 0.90755692]\n",
      " [0.13151502 0.90351862]\n",
      " [0.77993737 0.12493582]\n",
      " [0.81961613 0.54091865]\n",
      " [0.62995959 0.68954667]\n",
      " [0.83287364 0.93305239]\n",
      " [0.64088559 0.76267619]\n",
      " [0.41578462 0.44162525]\n",
      " [0.82928859 0.77302108]\n",
      " [0.57538048 0.66709455]\n",
      " [0.24325116 0.1664809 ]\n",
      " [0.58835842 0.58920304]\n",
      " [0.50359301 0.93113946]\n",
      " [0.28400563 0.1969285 ]\n",
      " [0.88444457 0.05529678]\n",
      " [0.39741095 0.91933412]\n",
      " [0.16492778 0.47970912]\n",
      " [0.1984173  0.83753143]\n",
      " [0.6451317  0.15761585]\n",
      " [0.61809929 0.40287725]\n",
      " [0.19945834 0.76753903]\n",
      " [0.19965111 0.71441364]\n",
      " [0.2078976  0.5787958 ]\n",
      " [0.38338979 0.57297857]\n",
      " [0.50193279 0.65142423]\n",
      " [0.48577787 0.554308  ]\n",
      " [0.38156527 0.70218151]\n",
      " [0.57574708 0.28769256]\n",
      " [0.21918159 0.62948531]\n",
      " [0.86041566 0.83330902]\n",
      " [0.72476956 0.60551622]]\n",
      "y: (99,)\n",
      "[2 2 1 1 0 1 1 2 1 2 1 2 1 0 2 2 2 2 2 1 2 2 1 1 1 2 2 1 1 0 2 1 1 2 2 2 3\n",
      " 2 2 2 1 2 1 1 2 0 2 1 1 1 1 1 1 2 1 1 1 3 1 1 2 2 1 1 0 1 2 2 3 3 0 2 2 3\n",
      " 2 1 2 2 1 2 3 1 0 3 1 2 1 1 2 2 2 2 2 2 2 1 2 2 2]\n"
     ]
    }
   ],
   "source": [
    "scaler = MinMaxScaler()\n",
    "X = scaler.fit_transform(state_2_df[['temperature_1', 'temperature_2']].values)\n",
    "# X = state_2_df[['temperature_2']].values\n",
    "y = state_2_df['ordinal_label'].values\n",
    "print(f'X: {X.shape}')\n",
    "print(X)\n",
    "print(f'y: {y.shape}')\n",
    "print(y)"
   ]
  },
  {
   "attachments": {},
   "cell_type": "markdown",
   "metadata": {},
   "source": [
    "# Ordinal Regression"
   ]
  },
  {
   "cell_type": "code",
   "execution_count": 65,
   "metadata": {},
   "outputs": [
    {
     "name": "stderr",
     "output_type": "stream",
     "text": [
      "/Users/alexanderlobo/Code/pchmm-missing-data-limited-labels/venv/lib/python3.9/site-packages/autograd/tracer.py:48: RuntimeWarning: divide by zero encountered in log\n",
      "  return f_raw(*args, **kwargs)\n",
      "/Users/alexanderlobo/Code/pchmm-missing-data-limited-labels/venv/lib/python3.9/site-packages/autograd/numpy/numpy_vjps.py:78: RuntimeWarning: divide by zero encountered in true_divide\n",
      "  defvjp(anp.log,    lambda ans, x : lambda g: g / x)\n",
      "/Users/alexanderlobo/Code/pchmm-missing-data-limited-labels/venv/lib/python3.9/site-packages/autograd/scipy/stats/norm.py:25: RuntimeWarning: invalid value encountered in multiply\n",
      "  unbroadcast_f(x, lambda g: g * pdf(x, loc, scale)) ,\n",
      "/Users/alexanderlobo/Code/pchmm-missing-data-limited-labels/venv/lib/python3.9/site-packages/autograd/tracer.py:48: RuntimeWarning: divide by zero encountered in log\n",
      "  return f_raw(*args, **kwargs)\n",
      "/Users/alexanderlobo/Code/pchmm-missing-data-limited-labels/venv/lib/python3.9/site-packages/autograd/numpy/numpy_vjps.py:78: RuntimeWarning: divide by zero encountered in true_divide\n",
      "  defvjp(anp.log,    lambda ans, x : lambda g: g / x)\n",
      "/Users/alexanderlobo/Code/pchmm-missing-data-limited-labels/venv/lib/python3.9/site-packages/autograd/scipy/stats/norm.py:25: RuntimeWarning: invalid value encountered in multiply\n",
      "  unbroadcast_f(x, lambda g: g * pdf(x, loc, scale)) ,\n",
      "/Users/alexanderlobo/Code/pchmm-missing-data-limited-labels/venv/lib/python3.9/site-packages/autograd/tracer.py:48: RuntimeWarning: invalid value encountered in matmul\n",
      "  return f_raw(*args, **kwargs)\n"
     ]
    },
    {
     "name": "stdout",
     "output_type": "stream",
     "text": [
      "[[0.00058939 0.46685889 0.53151876 0.00103295]\n",
      " [0.00058939 0.46685891 0.53151875 0.00103295]\n",
      " [0.00058939 0.46685892 0.53151874 0.00103295]\n",
      " [0.00058939 0.46685891 0.53151875 0.00103295]\n",
      " [0.00058939 0.46685889 0.53151877 0.00103295]\n",
      " [0.00058939 0.46685891 0.53151874 0.00103295]\n",
      " [0.00058939 0.46685894 0.53151872 0.00103295]\n",
      " [0.00058939 0.46685891 0.53151874 0.00103295]\n",
      " [0.00058939 0.46685892 0.53151874 0.00103295]\n",
      " [0.00058939 0.46685886 0.53151879 0.00103295]\n",
      " [0.00058939 0.46685892 0.53151874 0.00103295]\n",
      " [0.00058939 0.46685893 0.53151873 0.00103295]\n",
      " [0.00058939 0.46685891 0.53151875 0.00103295]\n",
      " [0.00058939 0.46685891 0.53151875 0.00103295]\n",
      " [0.00058939 0.46685891 0.53151875 0.00103295]\n",
      " [0.00058939 0.46685892 0.53151874 0.00103295]\n",
      " [0.00058939 0.46685891 0.53151875 0.00103295]\n",
      " [0.00058939 0.46685891 0.53151875 0.00103295]\n",
      " [0.00058939 0.46685891 0.53151875 0.00103295]\n",
      " [0.00058939 0.4668589  0.53151876 0.00103295]\n",
      " [0.00058939 0.46685889 0.53151877 0.00103295]\n",
      " [0.00058939 0.46685888 0.53151877 0.00103295]\n",
      " [0.00058939 0.46685889 0.53151876 0.00103295]\n",
      " [0.00058939 0.46685889 0.53151877 0.00103295]\n",
      " [0.00058939 0.46685891 0.53151875 0.00103295]\n",
      " [0.00058939 0.46685889 0.53151876 0.00103295]\n",
      " [0.00058939 0.46685891 0.53151875 0.00103295]\n",
      " [0.00058939 0.46685891 0.53151875 0.00103295]\n",
      " [0.00058939 0.46685891 0.53151875 0.00103295]\n",
      " [0.00058939 0.46685891 0.53151875 0.00103295]\n",
      " [0.00058939 0.4668589  0.53151876 0.00103295]\n",
      " [0.00058939 0.4668589  0.53151876 0.00103295]\n",
      " [0.00058939 0.46685891 0.53151874 0.00103295]\n",
      " [0.00058939 0.46685893 0.53151873 0.00103295]\n",
      " [0.00058939 0.46685893 0.53151873 0.00103295]\n",
      " [0.00058939 0.4668589  0.53151876 0.00103295]\n",
      " [0.00058939 0.46685889 0.53151876 0.00103295]\n",
      " [0.00058939 0.46685887 0.53151879 0.00103295]\n",
      " [0.00058939 0.46685891 0.53151874 0.00103295]\n",
      " [0.00058939 0.46685891 0.53151875 0.00103295]\n",
      " [0.00058939 0.46685888 0.53151878 0.00103295]\n",
      " [0.00058939 0.46685891 0.53151875 0.00103295]\n",
      " [0.00058939 0.46685891 0.53151875 0.00103295]\n",
      " [0.00058939 0.4668589  0.53151876 0.00103295]\n",
      " [0.00058939 0.46685891 0.53151874 0.00103295]\n",
      " [0.00058939 0.46685891 0.53151875 0.00103295]\n",
      " [0.00058939 0.46685891 0.53151875 0.00103295]\n",
      " [0.00058939 0.46685892 0.53151874 0.00103295]\n",
      " [0.00058939 0.46685892 0.53151874 0.00103295]\n",
      " [0.00058939 0.46685893 0.53151873 0.00103295]\n",
      " [0.00058939 0.46685892 0.53151874 0.00103295]\n",
      " [0.00058939 0.46685889 0.53151877 0.00103295]\n",
      " [0.00058939 0.46685892 0.53151874 0.00103295]\n",
      " [0.00058939 0.4668589  0.53151876 0.00103295]\n",
      " [0.00058939 0.46685892 0.53151874 0.00103295]\n",
      " [0.00058939 0.46685892 0.53151874 0.00103295]\n",
      " [0.00058939 0.4668589  0.53151876 0.00103295]\n",
      " [0.00058939 0.46685891 0.53151875 0.00103295]\n",
      " [0.00058939 0.46685891 0.53151874 0.00103295]\n",
      " [0.00058939 0.46685893 0.53151872 0.00103295]\n",
      " [0.00058939 0.46685894 0.53151872 0.00103295]\n",
      " [0.00058939 0.46685889 0.53151877 0.00103295]\n",
      " [0.00058939 0.46685892 0.53151874 0.00103295]\n",
      " [0.00058939 0.46685891 0.53151875 0.00103295]\n",
      " [0.00058939 0.46685893 0.53151873 0.00103295]\n",
      " [0.00058939 0.46685889 0.53151877 0.00103295]\n",
      " [0.00058939 0.46685889 0.53151877 0.00103295]\n",
      " [0.00058939 0.46685891 0.53151874 0.00103295]\n",
      " [0.00058939 0.46685889 0.53151877 0.00103295]\n",
      " [0.00058939 0.46685887 0.53151879 0.00103295]\n",
      " [0.00058939 0.46685893 0.53151873 0.00103295]\n",
      " [0.00058939 0.46685893 0.53151873 0.00103295]\n",
      " [0.00058939 0.46685891 0.53151875 0.00103295]\n",
      " [0.00058939 0.46685892 0.53151874 0.00103295]\n",
      " [0.00058939 0.46685891 0.53151875 0.00103295]\n",
      " [0.00058939 0.4668589  0.53151876 0.00103295]\n",
      " [0.00058939 0.46685892 0.53151873 0.00103295]\n",
      " [0.00058939 0.46685891 0.53151875 0.00103295]\n",
      " [0.00058939 0.46685889 0.53151876 0.00103295]\n",
      " [0.00058939 0.46685891 0.53151875 0.00103295]\n",
      " [0.00058939 0.4668589  0.53151876 0.00103295]\n",
      " [0.00058939 0.4668589  0.53151876 0.00103295]\n",
      " [0.00058939 0.46685894 0.53151872 0.00103295]\n",
      " [0.00058939 0.46685889 0.53151877 0.00103295]\n",
      " [0.00058939 0.46685888 0.53151878 0.00103295]\n",
      " [0.00058939 0.46685888 0.53151878 0.00103295]\n",
      " [0.00058939 0.46685892 0.53151874 0.00103295]\n",
      " [0.00058939 0.46685892 0.53151874 0.00103295]\n",
      " [0.00058939 0.46685888 0.53151878 0.00103295]\n",
      " [0.00058939 0.46685888 0.53151878 0.00103295]\n",
      " [0.00058939 0.46685888 0.53151877 0.00103295]\n",
      " [0.00058939 0.4668589  0.53151876 0.00103295]\n",
      " [0.00058939 0.4668589  0.53151875 0.00103295]\n",
      " [0.00058939 0.4668589  0.53151875 0.00103295]\n",
      " [0.00058939 0.46685889 0.53151876 0.00103295]\n",
      " [0.00058939 0.46685891 0.53151874 0.00103295]\n",
      " [0.00058939 0.46685888 0.53151877 0.00103295]\n",
      " [0.00058939 0.46685893 0.53151873 0.00103295]\n",
      " [0.00058939 0.46685892 0.53151874 0.00103295]]\n",
      "[2 2 2 2 2 2 2 2 2 2 2 2 2 2 2 2 2 2 2 2 2 2 2 2 2 2 2 2 2 2 2 2 2 2 2 2 2\n",
      " 2 2 2 2 2 2 2 2 2 2 2 2 2 2 2 2 2 2 2 2 2 2 2 2 2 2 2 2 2 2 2 2 2 2 2 2 2\n",
      " 2 2 2 2 2 2 2 2 2 2 2 2 2 2 2 2 2 2 2 2 2 2 2 2 2]\n"
     ]
    }
   ],
   "source": [
    "clf = OrdinalRegression(padding=1, noise_variance=0.1)\n",
    "clf.fit(X, y)\n",
    "proba = clf.predict_proba(X)\n",
    "y_predict = clf.predict(X)\n",
    "print(proba)\n",
    "print(y_predict)"
   ]
  },
  {
   "attachments": {},
   "cell_type": "markdown",
   "metadata": {},
   "source": [
    "# Testing"
   ]
  },
  {
   "cell_type": "code",
   "execution_count": 31,
   "metadata": {},
   "outputs": [],
   "source": [
    "X = np.array(\n",
    "    [\n",
    "        [-80,-90,-100],\n",
    "        [4,5,6],\n",
    "        [80,90,100],\n",
    "        [-81,-93,-99],\n",
    "        [4.2,5.1,6.3],\n",
    "        [81,93,99],\n",
    "        [-87,-94,-98],\n",
    "        [4.1,5.2,6.5],\n",
    "        [87,94,98],\n",
    "    ]\n",
    ")\n",
    "y = np.array(\n",
    "    [\n",
    "        0,\n",
    "        1,\n",
    "        2,\n",
    "        0,\n",
    "        1,\n",
    "        2,\n",
    "        0,\n",
    "        1,\n",
    "        2,\n",
    "    ]\n",
    ")\n",
    "w_inits = []\n",
    "for i in range(100):\n",
    "    w_inits.append(np.random.rand(3) * np.random.randint(0,10))"
   ]
  },
  {
   "cell_type": "code",
   "execution_count": 32,
   "metadata": {},
   "outputs": [],
   "source": [
    "clf = OrdinalRegression(padding=50)\n",
    "# clf.set_params(R = 3, N = 3, cut_points  = np.array([-np.inf, -3, 3, np.inf]))"
   ]
  },
  {
   "cell_type": "code",
   "execution_count": 33,
   "metadata": {},
   "outputs": [],
   "source": [
    "# for w in w_inits:\n",
    "#     print(clf.log_likelihood(w, X, y))"
   ]
  },
  {
   "cell_type": "code",
   "execution_count": 34,
   "metadata": {},
   "outputs": [
    {
     "name": "stderr",
     "output_type": "stream",
     "text": [
      "/Users/alexanderlobo/Code/pchmm-missing-data-limited-labels/venv/lib/python3.9/site-packages/autograd/tracer.py:48: RuntimeWarning: divide by zero encountered in log\n",
      "  return f_raw(*args, **kwargs)\n",
      "/Users/alexanderlobo/Code/pchmm-missing-data-limited-labels/venv/lib/python3.9/site-packages/autograd/numpy/numpy_vjps.py:78: RuntimeWarning: divide by zero encountered in true_divide\n",
      "  defvjp(anp.log,    lambda ans, x : lambda g: g / x)\n",
      "/Users/alexanderlobo/Code/pchmm-missing-data-limited-labels/venv/lib/python3.9/site-packages/autograd/scipy/stats/norm.py:25: RuntimeWarning: invalid value encountered in multiply\n",
      "  unbroadcast_f(x, lambda g: g * pdf(x, loc, scale)) ,\n"
     ]
    }
   ],
   "source": [
    "clf.fit(X, y)"
   ]
  },
  {
   "cell_type": "code",
   "execution_count": 35,
   "metadata": {},
   "outputs": [],
   "source": [
    "best_w = clf.w"
   ]
  },
  {
   "cell_type": "code",
   "execution_count": 36,
   "metadata": {},
   "outputs": [
    {
     "data": {
      "text/plain": [
       "array([0, 1, 2, 0, 1, 2, 0, 1, 2])"
      ]
     },
     "execution_count": 36,
     "metadata": {},
     "output_type": "execute_result"
    }
   ],
   "source": [
    "clf.predict(X)"
   ]
  },
  {
   "cell_type": "code",
   "execution_count": 37,
   "metadata": {},
   "outputs": [
    {
     "data": {
      "text/plain": [
       "array([[1.00000000e+000, 0.00000000e+000, 0.00000000e+000],\n",
       "       [5.19228246e-206, 1.00000000e+000, 0.00000000e+000],\n",
       "       [0.00000000e+000, 0.00000000e+000, 1.00000000e+000],\n",
       "       [1.00000000e+000, 0.00000000e+000, 0.00000000e+000],\n",
       "       [5.96033427e-208, 1.00000000e+000, 0.00000000e+000],\n",
       "       [0.00000000e+000, 0.00000000e+000, 1.00000000e+000],\n",
       "       [1.00000000e+000, 0.00000000e+000, 0.00000000e+000],\n",
       "       [3.50803178e-209, 1.00000000e+000, 0.00000000e+000],\n",
       "       [0.00000000e+000, 0.00000000e+000, 1.00000000e+000]])"
      ]
     },
     "execution_count": 37,
     "metadata": {},
     "output_type": "execute_result"
    }
   ],
   "source": [
    "clf.predict_proba(X)"
   ]
  },
  {
   "cell_type": "markdown",
   "metadata": {},
   "source": []
  }
 ],
 "metadata": {
  "kernelspec": {
   "display_name": "venv",
   "language": "python",
   "name": "python3"
  },
  "language_info": {
   "codemirror_mode": {
    "name": "ipython",
    "version": 3
   },
   "file_extension": ".py",
   "mimetype": "text/x-python",
   "name": "python",
   "nbconvert_exporter": "python",
   "pygments_lexer": "ipython3",
   "version": "3.9.6"
  },
  "orig_nbformat": 4,
  "vscode": {
   "interpreter": {
    "hash": "4bcaeac6570be43e459757a564d94eac0fdd9100c64d3c233e7f5a79febd3dfb"
   }
  }
 },
 "nbformat": 4,
 "nbformat_minor": 2
}
