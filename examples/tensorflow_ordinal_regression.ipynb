{
 "cells": [
  {
   "attachments": {},
   "cell_type": "markdown",
   "metadata": {},
   "source": [
    "# Imports"
   ]
  },
  {
   "cell_type": "code",
   "execution_count": 1,
   "metadata": {},
   "outputs": [],
   "source": [
    "import sys, os\n",
    "# from scipy.stats import norm"
   ]
  },
  {
   "cell_type": "code",
   "execution_count": 2,
   "metadata": {},
   "outputs": [],
   "source": [
    "sys.path.append(os.path.abspath(os.path.join('../utils')))\n",
    "from ordinal_model.ordered_gaussian import OrderedGaussian\n",
    "from ordinal_model.ordinal_regression_TF import OrdinalRegression\n",
    "from ordinal_model.ordinal_regression_TF import OrdinalLoss"
   ]
  },
  {
   "cell_type": "code",
   "execution_count": 3,
   "metadata": {},
   "outputs": [],
   "source": [
    "import tensorflow as tf\n",
    "import tensorflow_probability as tfp\n",
    "import numpy as np"
   ]
  },
  {
   "cell_type": "code",
   "execution_count": 4,
   "metadata": {},
   "outputs": [],
   "source": [
    "# sys.path.append(os.path.abspath(os.path.join('../utils')))\n",
    "# from ordinal_model.OrdinalRegression import OrdinalRegression, softplus, softplus_inv, plot_model\n",
    "# import autograd.numpy as np\n",
    "import pandas as pd\n",
    "from sklearn.preprocessing import MinMaxScaler\n",
    "from sklearn.metrics import confusion_matrix\n",
    "import seaborn as sns\n",
    "import matplotlib.pyplot as plt"
   ]
  },
  {
   "attachments": {},
   "cell_type": "markdown",
   "metadata": {},
   "source": [
    "# Tensor Flow Probability Testing"
   ]
  },
  {
   "cell_type": "code",
   "execution_count": 14,
   "metadata": {},
   "outputs": [
    {
     "data": {
      "text/plain": [
       "<tf.Tensor: shape=(3, 4), dtype=float32, numpy=\n",
       "array([[2.2750132e-02, 4.7724986e-01, 4.7724983e-01, 2.2750139e-02],\n",
       "       [1.3498989e-03, 1.5730536e-01, 6.8268949e-01, 1.5865529e-01],\n",
       "       [3.1671265e-05, 2.2718463e-02, 4.7724986e-01, 5.0000000e-01]],\n",
       "      dtype=float32)>"
      ]
     },
     "execution_count": 14,
     "metadata": {},
     "output_type": "execute_result"
    }
   ],
   "source": [
    "dist = OrderedGaussian(cutpoints=[-2., 0, 2], loc=[0,1,2])\n",
    "dist.ordinal_probs()"
   ]
  },
  {
   "cell_type": "code",
   "execution_count": 16,
   "metadata": {},
   "outputs": [
    {
     "data": {
      "text/plain": [
       "TensorShape([3])"
      ]
     },
     "execution_count": 16,
     "metadata": {},
     "output_type": "execute_result"
    }
   ],
   "source": [
    "dist.batch_shape"
   ]
  },
  {
   "cell_type": "code",
   "execution_count": 17,
   "metadata": {},
   "outputs": [
    {
     "data": {
      "text/plain": [
       "<tf.Tensor: shape=(), dtype=float32, numpy=6.9170036>"
      ]
     },
     "execution_count": 17,
     "metadata": {},
     "output_type": "execute_result"
    }
   ],
   "source": [
    "loss = OrdinalLoss()\n",
    "loss([0,0,0], dist)"
   ]
  },
  {
   "cell_type": "code",
   "execution_count": 18,
   "metadata": {},
   "outputs": [
    {
     "data": {
      "text/plain": [
       "<tf.Tensor: shape=(3, 4), dtype=float32, numpy=\n",
       "array([[0.11920291, 0.38079712, 0.3807971 , 0.11920291],\n",
       "       [0.04742587, 0.22151555, 0.46211717, 0.26894143],\n",
       "       [0.01798621, 0.10121672, 0.38079712, 0.5       ]], dtype=float32)>"
      ]
     },
     "execution_count": 18,
     "metadata": {},
     "output_type": "execute_result"
    }
   ],
   "source": [
    "dist2 = tfp.distributions.OrderedLogistic(cutpoints=[-2., 0, 2], loc=[0., 1., 2.])\n",
    "dist2.categorical_probs()"
   ]
  },
  {
   "cell_type": "code",
   "execution_count": 19,
   "metadata": {},
   "outputs": [
    {
     "data": {
      "text/plain": [
       "TensorShape([3])"
      ]
     },
     "execution_count": 19,
     "metadata": {},
     "output_type": "execute_result"
    }
   ],
   "source": [
    "dist2.batch_shape"
   ]
  },
  {
   "attachments": {},
   "cell_type": "markdown",
   "metadata": {},
   "source": [
    "# Ordinal Regression Testing"
   ]
  },
  {
   "attachments": {},
   "cell_type": "markdown",
   "metadata": {},
   "source": [
    "## Sequence State 2--Gaussian perfect separation"
   ]
  },
  {
   "attachments": {},
   "cell_type": "markdown",
   "metadata": {},
   "source": [
    "### Toy Data"
   ]
  },
  {
   "cell_type": "code",
   "execution_count": 15,
   "metadata": {},
   "outputs": [
    {
     "data": {
      "text/html": [
       "<div>\n",
       "<style scoped>\n",
       "    .dataframe tbody tr th:only-of-type {\n",
       "        vertical-align: middle;\n",
       "    }\n",
       "\n",
       "    .dataframe tbody tr th {\n",
       "        vertical-align: top;\n",
       "    }\n",
       "\n",
       "    .dataframe thead th {\n",
       "        text-align: right;\n",
       "    }\n",
       "</style>\n",
       "<table border=\"1\" class=\"dataframe\">\n",
       "  <thead>\n",
       "    <tr style=\"text-align: right;\">\n",
       "      <th></th>\n",
       "      <th>temperature_1</th>\n",
       "      <th>temperature_2</th>\n",
       "      <th>ordinal_label</th>\n",
       "    </tr>\n",
       "  </thead>\n",
       "  <tbody>\n",
       "    <tr>\n",
       "      <th>0</th>\n",
       "      <td>13.446886</td>\n",
       "      <td>-0.552414</td>\n",
       "      <td>1</td>\n",
       "    </tr>\n",
       "    <tr>\n",
       "      <th>1</th>\n",
       "      <td>12.467339</td>\n",
       "      <td>-0.456510</td>\n",
       "      <td>1</td>\n",
       "    </tr>\n",
       "    <tr>\n",
       "      <th>2</th>\n",
       "      <td>12.240645</td>\n",
       "      <td>1.487031</td>\n",
       "      <td>3</td>\n",
       "    </tr>\n",
       "    <tr>\n",
       "      <th>3</th>\n",
       "      <td>12.920970</td>\n",
       "      <td>1.347114</td>\n",
       "      <td>3</td>\n",
       "    </tr>\n",
       "    <tr>\n",
       "      <th>4</th>\n",
       "      <td>12.365956</td>\n",
       "      <td>-0.505576</td>\n",
       "      <td>1</td>\n",
       "    </tr>\n",
       "    <tr>\n",
       "      <th>...</th>\n",
       "      <td>...</td>\n",
       "      <td>...</td>\n",
       "      <td>...</td>\n",
       "    </tr>\n",
       "    <tr>\n",
       "      <th>995</th>\n",
       "      <td>13.299201</td>\n",
       "      <td>-1.777017</td>\n",
       "      <td>0</td>\n",
       "    </tr>\n",
       "    <tr>\n",
       "      <th>996</th>\n",
       "      <td>12.508565</td>\n",
       "      <td>1.482781</td>\n",
       "      <td>3</td>\n",
       "    </tr>\n",
       "    <tr>\n",
       "      <th>997</th>\n",
       "      <td>12.692524</td>\n",
       "      <td>0.986925</td>\n",
       "      <td>2</td>\n",
       "    </tr>\n",
       "    <tr>\n",
       "      <th>998</th>\n",
       "      <td>12.897209</td>\n",
       "      <td>-0.374903</td>\n",
       "      <td>1</td>\n",
       "    </tr>\n",
       "    <tr>\n",
       "      <th>999</th>\n",
       "      <td>14.073853</td>\n",
       "      <td>1.120598</td>\n",
       "      <td>3</td>\n",
       "    </tr>\n",
       "  </tbody>\n",
       "</table>\n",
       "<p>1000 rows × 3 columns</p>\n",
       "</div>"
      ],
      "text/plain": [
       "     temperature_1  temperature_2  ordinal_label\n",
       "0        13.446886      -0.552414              1\n",
       "1        12.467339      -0.456510              1\n",
       "2        12.240645       1.487031              3\n",
       "3        12.920970       1.347114              3\n",
       "4        12.365956      -0.505576              1\n",
       "..             ...            ...            ...\n",
       "995      13.299201      -1.777017              0\n",
       "996      12.508565       1.482781              3\n",
       "997      12.692524       0.986925              2\n",
       "998      12.897209      -0.374903              1\n",
       "999      14.073853       1.120598              3\n",
       "\n",
       "[1000 rows x 3 columns]"
      ]
     },
     "execution_count": 15,
     "metadata": {},
     "output_type": "execute_result"
    }
   ],
   "source": [
    "state_2_df = pd.read_csv('../toydata/simulated_data/features_from_state2.csv', \n",
    "                         dtype={'temperature_1' : np.float32, \n",
    "                                'temperature_2' : np.float32, \n",
    "                                'ordinal_label' : np.int32},\n",
    "                    )\n",
    "state_2_df"
   ]
  },
  {
   "cell_type": "code",
   "execution_count": 16,
   "metadata": {},
   "outputs": [
    {
     "data": {
      "image/png": "[encoded data removed]",
      "text/plain": [
       "<IPython.core.display.Image object>"
      ]
     },
     "execution_count": 16,
     "metadata": {},
     "output_type": "execute_result"
    }
   ],
   "source": [
    "from IPython.display import Image\n",
    "Image(filename='../toydata/simulated_data/features_from_state_2.png') "
   ]
  },
  {
   "cell_type": "code",
   "execution_count": 17,
   "metadata": {},
   "outputs": [
    {
     "name": "stdout",
     "output_type": "stream",
     "text": [
      "X: (1000, 2)\n",
      "[[13.446886   -0.5524145 ]\n",
      " [12.467339   -0.45650953]\n",
      " [12.240645    1.4870306 ]\n",
      " ...\n",
      " [12.692524    0.9869254 ]\n",
      " [12.897209   -0.37490278]\n",
      " [14.0738535   1.120598  ]]\n",
      "y: (1000,)\n",
      "[1 1 3 3 1 2 2 1 0 1 2 1 1 2 1 3 2 2 1 0 0 2 2 1 2 1 1 0 2 2 0 0 2 2 1 2 0\n",
      " 2 2 2 1 3 0 1 1 0 3 1 3 1 3 1 0 2 1 2 2 1 2 2 2 1 3 2 1 0 0 1 1 1 3 1 1 1\n",
      " 0 2 1 1 2 3 1 2 2 1 2 2 3 1 0 1 0 1 1 2 2 0 0 0 1 2 2 2 2 2 1 0 2 1 3 2 1\n",
      " 2 3 1 3 3 2 2 0 2 2 0 3 1 3 1 2 1 0 1 2 1 1 2 0 2 2 2 2 1 2 2 1 1 1 3 3 1\n",
      " 3 3 3 0 2 2 2 2 2 0 2 2 2 0 2 2 2 2 1 1 1 1 2 1 1 2 3 3 0 1 2 2 0 2 0 2 2\n",
      " 2 2 1 1 2 3 2 1 1 0 1 2 2 2 0 1 2 0 1 2 2 1 1 2 1 2 3 0 1 3 2 0 2 1 1 0 2\n",
      " 3 2 1 2 3 2 3 3 2 1 1 3 3 1 0 2 1 2 1 1 1 3 1 2 3 2 1 3 1 3 0 1 3 2 0 1 3\n",
      " 1 3 2 3 0 2 2 1 1 1 1 3 2 1 2 2 1 3 3 2 2 2 1 3 1 0 1 2 1 3 2 1 2 3 0 3 2\n",
      " 3 2 1 2 1 0 1 2 0 2 1 2 1 2 1 2 2 2 3 2 1 1 1 0 3 2 2 2 1 3 2 0 2 1 3 2 3\n",
      " 1 1 3 3 1 0 3 2 1 0 2 2 1 3 2 2 2 3 3 3 2 0 2 1 3 1 0 3 1 1 1 2 1 2 0 3 2\n",
      " 1 3 0 3 3 2 3 1 2 3 2 2 2 1 1 1 3 0 0 2 2 1 0 2 2 3 2 2 0 1 3 1 2 2 2 1 3\n",
      " 1 2 1 0 3 2 1 3 1 2 1 1 1 3 2 2 2 1 1 1 1 1 3 3 2 0 2 1 1 2 2 3 0 2 2 1 0\n",
      " 0 1 0 1 1 1 0 0 0 1 3 2 0 1 1 2 2 1 2 2 0 2 0 1 1 3 3 3 0 2 2 3 1 1 2 3 2\n",
      " 1 0 2 1 2 1 1 3 1 0 1 1 3 0 2 1 3 3 2 2 1 1 0 1 2 0 1 2 2 1 2 1 1 2 3 3 3\n",
      " 0 2 2 3 1 2 2 0 2 3 3 1 1 1 1 3 1 1 1 0 0 1 1 2 1 2 0 2 2 3 0 1 1 1 1 2 2\n",
      " 0 2 3 3 1 1 0 2 3 0 2 2 2 1 2 0 3 2 3 1 2 1 1 1 0 3 1 1 3 3 3 2 3 1 1 2 1\n",
      " 1 3 0 2 1 3 3 1 1 0 2 1 2 0 1 1 2 3 3 1 1 2 3 3 2 0 3 0 3 1 2 1 2 2 3 2 0\n",
      " 1 2 0 2 0 2 1 0 1 0 3 2 3 2 2 2 0 1 1 3 2 0 3 0 2 2 3 1 1 2 1 2 2 1 2 2 1\n",
      " 2 2 1 0 2 3 1 3 1 3 1 2 3 1 3 1 2 1 2 2 1 1 1 1 2 3 1 3 2 2 1 2 3 3 0 2 2\n",
      " 1 3 2 0 3 1 1 3 0 1 2 3 1 1 1 2 3 0 1 1 0 0 0 1 2 1 3 1 1 2 2 1 2 2 0 3 1\n",
      " 1 2 1 2 1 0 1 1 1 2 1 1 1 2 1 1 2 2 2 3 2 2 0 2 0 3 2 2 0 1 3 1 3 3 2 3 1\n",
      " 2 0 2 3 2 1 2 1 0 3 2 3 3 2 2 3 3 2 3 3 1 2 0 2 2 3 2 1 0 0 1 2 2 2 0 2 3\n",
      " 3 2 1 3 0 1 1 1 2 2 0 3 3 1 2 2 3 2 2 0 1 1 3 0 1 1 0 1 1 2 1 1 1 1 0 0 2\n",
      " 2 1 2 1 1 2 3 2 3 2 1 2 2 2 2 3 1 0 2 1 2 0 2 2 1 1 0 0 1 1 3 3 1 2 1 1 2\n",
      " 1 2 1 0 2 0 2 3 0 1 2 3 2 2 1 1 3 0 3 2 1 3 2 2 1 0 2 1 1 1 2 1 3 1 2 2 2\n",
      " 2 0 0 2 2 1 0 3 1 1 0 1 2 1 2 2 3 1 2 2 2 2 2 3 1 2 1 2 1 0 2 1 1 3 1 0 1\n",
      " 3 2 3 2 2 3 2 1 2 0 2 1 2 1 3 2 1 1 1 3 2 2 1 0 0 0 1 2 2 3 2 1 1 0 3 2 1\n",
      " 3]\n"
     ]
    }
   ],
   "source": [
    "# scaler = MinMaxScaler()\n",
    "# X = scaler.fit_transform(state_2_df[['temperature_1', 'temperature_2']].values)\n",
    "X = state_2_df[['temperature_1', 'temperature_2']].values\n",
    "y = state_2_df['ordinal_label'].values\n",
    "print(f'X: {X.shape}')\n",
    "print(X)\n",
    "print(f'y: {y.shape}')\n",
    "print(y)"
   ]
  },
  {
   "cell_type": "code",
   "execution_count": 18,
   "metadata": {},
   "outputs": [],
   "source": [
    "# X = (X - X.mean(axis=0)) / X.std(axis=0)\n",
    "# X"
   ]
  },
  {
   "attachments": {},
   "cell_type": "markdown",
   "metadata": {},
   "source": [
    "## Model"
   ]
  },
  {
   "cell_type": "code",
   "execution_count": 13,
   "metadata": {},
   "outputs": [
    {
     "name": "stdout",
     "output_type": "stream",
     "text": [
      "\n",
      "Start of epoch 0\n",
      "LOGITS:\n",
      "tfp.distributions.OrderedLogistic(\"sequential_distribution_lambda_OrderedLogistic\", batch_shape=[1000, 1], event_shape=[], dtype=int32)\n",
      "Training loss (for one batch) at step 0: 2.1200\n",
      "Seen so far: 1000 samples\n",
      "\n",
      "Start of epoch 1\n",
      "LOGITS:\n",
      "tfp.distributions.OrderedLogistic(\"sequential_distribution_lambda_OrderedLogistic\", batch_shape=[1000, 1], event_shape=[], dtype=int32)\n",
      "Training loss (for one batch) at step 0: 2.0789\n",
      "Seen so far: 1000 samples\n",
      "\n",
      "Start of epoch 2\n",
      "LOGITS:\n",
      "tfp.distributions.OrderedLogistic(\"sequential_distribution_lambda_OrderedLogistic\", batch_shape=[1000, 1], event_shape=[], dtype=int32)\n",
      "Training loss (for one batch) at step 0: 2.0414\n",
      "Seen so far: 1000 samples\n",
      "\n",
      "Start of epoch 3\n",
      "LOGITS:\n",
      "tfp.distributions.OrderedLogistic(\"sequential_distribution_lambda_OrderedLogistic\", batch_shape=[1000, 1], event_shape=[], dtype=int32)\n",
      "Training loss (for one batch) at step 0: 2.0073\n",
      "Seen so far: 1000 samples\n",
      "\n",
      "Start of epoch 4\n",
      "LOGITS:\n",
      "tfp.distributions.OrderedLogistic(\"sequential_distribution_lambda_OrderedLogistic\", batch_shape=[1000, 1], event_shape=[], dtype=int32)\n",
      "Training loss (for one batch) at step 0: 1.9763\n",
      "Seen so far: 1000 samples\n",
      "\n",
      "Start of epoch 5\n",
      "LOGITS:\n",
      "tfp.distributions.OrderedLogistic(\"sequential_distribution_lambda_OrderedLogistic\", batch_shape=[1000, 1], event_shape=[], dtype=int32)\n",
      "Training loss (for one batch) at step 0: 1.9484\n",
      "Seen so far: 1000 samples\n",
      "\n",
      "Start of epoch 6\n",
      "LOGITS:\n",
      "tfp.distributions.OrderedLogistic(\"sequential_distribution_lambda_OrderedLogistic\", batch_shape=[1000, 1], event_shape=[], dtype=int32)\n",
      "Training loss (for one batch) at step 0: 1.9232\n",
      "Seen so far: 1000 samples\n",
      "\n",
      "Start of epoch 7\n",
      "LOGITS:\n",
      "tfp.distributions.OrderedLogistic(\"sequential_distribution_lambda_OrderedLogistic\", batch_shape=[1000, 1], event_shape=[], dtype=int32)\n",
      "Training loss (for one batch) at step 0: 1.9006\n",
      "Seen so far: 1000 samples\n",
      "\n",
      "Start of epoch 8\n",
      "LOGITS:\n",
      "tfp.distributions.OrderedLogistic(\"sequential_distribution_lambda_OrderedLogistic\", batch_shape=[1000, 1], event_shape=[], dtype=int32)\n",
      "Training loss (for one batch) at step 0: 1.8804\n",
      "Seen so far: 1000 samples\n",
      "\n",
      "Start of epoch 9\n",
      "LOGITS:\n",
      "tfp.distributions.OrderedLogistic(\"sequential_distribution_lambda_OrderedLogistic\", batch_shape=[1000, 1], event_shape=[], dtype=int32)\n",
      "Training loss (for one batch) at step 0: 1.8623\n",
      "Seen so far: 1000 samples\n",
      "\n",
      "Start of epoch 10\n",
      "LOGITS:\n",
      "tfp.distributions.OrderedLogistic(\"sequential_distribution_lambda_OrderedLogistic\", batch_shape=[1000, 1], event_shape=[], dtype=int32)\n",
      "Training loss (for one batch) at step 0: 1.8463\n",
      "Seen so far: 1000 samples\n",
      "\n",
      "Start of epoch 11\n",
      "LOGITS:\n",
      "tfp.distributions.OrderedLogistic(\"sequential_distribution_lambda_OrderedLogistic\", batch_shape=[1000, 1], event_shape=[], dtype=int32)\n",
      "Training loss (for one batch) at step 0: 1.8319\n",
      "Seen so far: 1000 samples\n",
      "\n",
      "Start of epoch 12\n",
      "LOGITS:\n",
      "tfp.distributions.OrderedLogistic(\"sequential_distribution_lambda_OrderedLogistic\", batch_shape=[1000, 1], event_shape=[], dtype=int32)\n",
      "Training loss (for one batch) at step 0: 1.8192\n",
      "Seen so far: 1000 samples\n",
      "\n",
      "Start of epoch 13\n",
      "LOGITS:\n",
      "tfp.distributions.OrderedLogistic(\"sequential_distribution_lambda_OrderedLogistic\", batch_shape=[1000, 1], event_shape=[], dtype=int32)\n",
      "Training loss (for one batch) at step 0: 1.8079\n",
      "Seen so far: 1000 samples\n",
      "\n",
      "Start of epoch 14\n",
      "LOGITS:\n",
      "tfp.distributions.OrderedLogistic(\"sequential_distribution_lambda_OrderedLogistic\", batch_shape=[1000, 1], event_shape=[], dtype=int32)\n",
      "Training loss (for one batch) at step 0: 1.7979\n",
      "Seen so far: 1000 samples\n",
      "\n",
      "Start of epoch 15\n",
      "LOGITS:\n",
      "tfp.distributions.OrderedLogistic(\"sequential_distribution_lambda_OrderedLogistic\", batch_shape=[1000, 1], event_shape=[], dtype=int32)\n",
      "Training loss (for one batch) at step 0: 1.7891\n",
      "Seen so far: 1000 samples\n",
      "\n",
      "Start of epoch 16\n",
      "LOGITS:\n",
      "tfp.distributions.OrderedLogistic(\"sequential_distribution_lambda_OrderedLogistic\", batch_shape=[1000, 1], event_shape=[], dtype=int32)\n",
      "Training loss (for one batch) at step 0: 1.7812\n",
      "Seen so far: 1000 samples\n",
      "\n",
      "Start of epoch 17\n",
      "LOGITS:\n",
      "tfp.distributions.OrderedLogistic(\"sequential_distribution_lambda_OrderedLogistic\", batch_shape=[1000, 1], event_shape=[], dtype=int32)\n",
      "Training loss (for one batch) at step 0: 1.7743\n",
      "Seen so far: 1000 samples\n",
      "\n",
      "Start of epoch 18\n",
      "LOGITS:\n",
      "tfp.distributions.OrderedLogistic(\"sequential_distribution_lambda_OrderedLogistic\", batch_shape=[1000, 1], event_shape=[], dtype=int32)\n",
      "Training loss (for one batch) at step 0: 1.7681\n",
      "Seen so far: 1000 samples\n",
      "\n",
      "Start of epoch 19\n",
      "LOGITS:\n",
      "tfp.distributions.OrderedLogistic(\"sequential_distribution_lambda_OrderedLogistic\", batch_shape=[1000, 1], event_shape=[], dtype=int32)\n",
      "Training loss (for one batch) at step 0: 1.7627\n",
      "Seen so far: 1000 samples\n",
      "\n",
      "Start of epoch 20\n",
      "LOGITS:\n",
      "tfp.distributions.OrderedLogistic(\"sequential_distribution_lambda_OrderedLogistic\", batch_shape=[1000, 1], event_shape=[], dtype=int32)\n",
      "Training loss (for one batch) at step 0: 1.7578\n",
      "Seen so far: 1000 samples\n",
      "\n",
      "Start of epoch 21\n",
      "LOGITS:\n",
      "tfp.distributions.OrderedLogistic(\"sequential_distribution_lambda_OrderedLogistic\", batch_shape=[1000, 1], event_shape=[], dtype=int32)\n",
      "Training loss (for one batch) at step 0: 1.7535\n",
      "Seen so far: 1000 samples\n",
      "\n",
      "Start of epoch 22\n",
      "LOGITS:\n",
      "tfp.distributions.OrderedLogistic(\"sequential_distribution_lambda_OrderedLogistic\", batch_shape=[1000, 1], event_shape=[], dtype=int32)\n",
      "Training loss (for one batch) at step 0: 1.7497\n",
      "Seen so far: 1000 samples\n",
      "\n",
      "Start of epoch 23\n",
      "LOGITS:\n",
      "tfp.distributions.OrderedLogistic(\"sequential_distribution_lambda_OrderedLogistic\", batch_shape=[1000, 1], event_shape=[], dtype=int32)\n",
      "Training loss (for one batch) at step 0: 1.7463\n",
      "Seen so far: 1000 samples\n",
      "\n",
      "Start of epoch 24\n",
      "LOGITS:\n",
      "tfp.distributions.OrderedLogistic(\"sequential_distribution_lambda_OrderedLogistic\", batch_shape=[1000, 1], event_shape=[], dtype=int32)\n",
      "Training loss (for one batch) at step 0: 1.7433\n",
      "Seen so far: 1000 samples\n",
      "\n",
      "Start of epoch 25\n",
      "LOGITS:\n",
      "tfp.distributions.OrderedLogistic(\"sequential_distribution_lambda_OrderedLogistic\", batch_shape=[1000, 1], event_shape=[], dtype=int32)\n",
      "Training loss (for one batch) at step 0: 1.7405\n",
      "Seen so far: 1000 samples\n",
      "\n",
      "Start of epoch 26\n",
      "LOGITS:\n",
      "tfp.distributions.OrderedLogistic(\"sequential_distribution_lambda_OrderedLogistic\", batch_shape=[1000, 1], event_shape=[], dtype=int32)\n",
      "Training loss (for one batch) at step 0: 1.7381\n",
      "Seen so far: 1000 samples\n",
      "\n",
      "Start of epoch 27\n",
      "LOGITS:\n",
      "tfp.distributions.OrderedLogistic(\"sequential_distribution_lambda_OrderedLogistic\", batch_shape=[1000, 1], event_shape=[], dtype=int32)\n",
      "Training loss (for one batch) at step 0: 1.7359\n",
      "Seen so far: 1000 samples\n",
      "\n",
      "Start of epoch 28\n",
      "LOGITS:\n",
      "tfp.distributions.OrderedLogistic(\"sequential_distribution_lambda_OrderedLogistic\", batch_shape=[1000, 1], event_shape=[], dtype=int32)\n",
      "Training loss (for one batch) at step 0: 1.7339\n",
      "Seen so far: 1000 samples\n",
      "\n",
      "Start of epoch 29\n",
      "LOGITS:\n",
      "tfp.distributions.OrderedLogistic(\"sequential_distribution_lambda_OrderedLogistic\", batch_shape=[1000, 1], event_shape=[], dtype=int32)\n",
      "Training loss (for one batch) at step 0: 1.7321\n",
      "Seen so far: 1000 samples\n",
      "\n",
      "Start of epoch 30\n",
      "LOGITS:\n",
      "tfp.distributions.OrderedLogistic(\"sequential_distribution_lambda_OrderedLogistic\", batch_shape=[1000, 1], event_shape=[], dtype=int32)\n",
      "Training loss (for one batch) at step 0: 1.7305\n",
      "Seen so far: 1000 samples\n",
      "\n",
      "Start of epoch 31\n",
      "LOGITS:\n",
      "tfp.distributions.OrderedLogistic(\"sequential_distribution_lambda_OrderedLogistic\", batch_shape=[1000, 1], event_shape=[], dtype=int32)\n",
      "Training loss (for one batch) at step 0: 1.7290\n",
      "Seen so far: 1000 samples\n",
      "\n",
      "Start of epoch 32\n",
      "LOGITS:\n",
      "tfp.distributions.OrderedLogistic(\"sequential_distribution_lambda_OrderedLogistic\", batch_shape=[1000, 1], event_shape=[], dtype=int32)\n",
      "Training loss (for one batch) at step 0: 1.7276\n",
      "Seen so far: 1000 samples\n",
      "\n",
      "Start of epoch 33\n",
      "LOGITS:\n",
      "tfp.distributions.OrderedLogistic(\"sequential_distribution_lambda_OrderedLogistic\", batch_shape=[1000, 1], event_shape=[], dtype=int32)\n",
      "Training loss (for one batch) at step 0: 1.7263\n",
      "Seen so far: 1000 samples\n",
      "\n",
      "Start of epoch 34\n",
      "LOGITS:\n",
      "tfp.distributions.OrderedLogistic(\"sequential_distribution_lambda_OrderedLogistic\", batch_shape=[1000, 1], event_shape=[], dtype=int32)\n",
      "Training loss (for one batch) at step 0: 1.7252\n",
      "Seen so far: 1000 samples\n",
      "\n",
      "Start of epoch 35\n",
      "LOGITS:\n",
      "tfp.distributions.OrderedLogistic(\"sequential_distribution_lambda_OrderedLogistic\", batch_shape=[1000, 1], event_shape=[], dtype=int32)\n",
      "Training loss (for one batch) at step 0: 1.7241\n",
      "Seen so far: 1000 samples\n",
      "\n",
      "Start of epoch 36\n",
      "LOGITS:\n",
      "tfp.distributions.OrderedLogistic(\"sequential_distribution_lambda_OrderedLogistic\", batch_shape=[1000, 1], event_shape=[], dtype=int32)\n",
      "Training loss (for one batch) at step 0: 1.7231\n",
      "Seen so far: 1000 samples\n",
      "\n",
      "Start of epoch 37\n",
      "LOGITS:\n",
      "tfp.distributions.OrderedLogistic(\"sequential_distribution_lambda_OrderedLogistic\", batch_shape=[1000, 1], event_shape=[], dtype=int32)\n",
      "Training loss (for one batch) at step 0: 1.7221\n",
      "Seen so far: 1000 samples\n",
      "\n",
      "Start of epoch 38\n",
      "LOGITS:\n",
      "tfp.distributions.OrderedLogistic(\"sequential_distribution_lambda_OrderedLogistic\", batch_shape=[1000, 1], event_shape=[], dtype=int32)\n",
      "Training loss (for one batch) at step 0: 1.7212\n",
      "Seen so far: 1000 samples\n",
      "\n",
      "Start of epoch 39\n",
      "LOGITS:\n",
      "tfp.distributions.OrderedLogistic(\"sequential_distribution_lambda_OrderedLogistic\", batch_shape=[1000, 1], event_shape=[], dtype=int32)\n",
      "Training loss (for one batch) at step 0: 1.7204\n",
      "Seen so far: 1000 samples\n",
      "\n",
      "Start of epoch 40\n",
      "LOGITS:\n",
      "tfp.distributions.OrderedLogistic(\"sequential_distribution_lambda_OrderedLogistic\", batch_shape=[1000, 1], event_shape=[], dtype=int32)\n",
      "Training loss (for one batch) at step 0: 1.7195\n",
      "Seen so far: 1000 samples\n",
      "\n",
      "Start of epoch 41\n",
      "LOGITS:\n",
      "tfp.distributions.OrderedLogistic(\"sequential_distribution_lambda_OrderedLogistic\", batch_shape=[1000, 1], event_shape=[], dtype=int32)\n",
      "Training loss (for one batch) at step 0: 1.7188\n",
      "Seen so far: 1000 samples\n",
      "\n",
      "Start of epoch 42\n",
      "LOGITS:\n",
      "tfp.distributions.OrderedLogistic(\"sequential_distribution_lambda_OrderedLogistic\", batch_shape=[1000, 1], event_shape=[], dtype=int32)\n",
      "Training loss (for one batch) at step 0: 1.7180\n",
      "Seen so far: 1000 samples\n",
      "\n",
      "Start of epoch 43\n",
      "LOGITS:\n",
      "tfp.distributions.OrderedLogistic(\"sequential_distribution_lambda_OrderedLogistic\", batch_shape=[1000, 1], event_shape=[], dtype=int32)\n",
      "Training loss (for one batch) at step 0: 1.7173\n",
      "Seen so far: 1000 samples\n",
      "\n",
      "Start of epoch 44\n",
      "LOGITS:\n",
      "tfp.distributions.OrderedLogistic(\"sequential_distribution_lambda_OrderedLogistic\", batch_shape=[1000, 1], event_shape=[], dtype=int32)\n",
      "Training loss (for one batch) at step 0: 1.7166\n",
      "Seen so far: 1000 samples\n",
      "\n",
      "Start of epoch 45\n",
      "LOGITS:\n",
      "tfp.distributions.OrderedLogistic(\"sequential_distribution_lambda_OrderedLogistic\", batch_shape=[1000, 1], event_shape=[], dtype=int32)\n",
      "Training loss (for one batch) at step 0: 1.7160\n",
      "Seen so far: 1000 samples\n",
      "\n",
      "Start of epoch 46\n",
      "LOGITS:\n",
      "tfp.distributions.OrderedLogistic(\"sequential_distribution_lambda_OrderedLogistic\", batch_shape=[1000, 1], event_shape=[], dtype=int32)\n",
      "Training loss (for one batch) at step 0: 1.7153\n",
      "Seen so far: 1000 samples\n",
      "\n",
      "Start of epoch 47\n",
      "LOGITS:\n",
      "tfp.distributions.OrderedLogistic(\"sequential_distribution_lambda_OrderedLogistic\", batch_shape=[1000, 1], event_shape=[], dtype=int32)\n",
      "Training loss (for one batch) at step 0: 1.7147\n",
      "Seen so far: 1000 samples\n",
      "\n",
      "Start of epoch 48\n",
      "LOGITS:\n",
      "tfp.distributions.OrderedLogistic(\"sequential_distribution_lambda_OrderedLogistic\", batch_shape=[1000, 1], event_shape=[], dtype=int32)\n",
      "Training loss (for one batch) at step 0: 1.7141\n",
      "Seen so far: 1000 samples\n",
      "\n",
      "Start of epoch 49\n",
      "LOGITS:\n",
      "tfp.distributions.OrderedLogistic(\"sequential_distribution_lambda_OrderedLogistic\", batch_shape=[1000, 1], event_shape=[], dtype=int32)\n",
      "Training loss (for one batch) at step 0: 1.7135\n",
      "Seen so far: 1000 samples\n",
      "\n",
      "Start of epoch 50\n",
      "LOGITS:\n",
      "tfp.distributions.OrderedLogistic(\"sequential_distribution_lambda_OrderedLogistic\", batch_shape=[1000, 1], event_shape=[], dtype=int32)\n",
      "Training loss (for one batch) at step 0: 1.7129\n",
      "Seen so far: 1000 samples\n",
      "\n",
      "Start of epoch 51\n",
      "LOGITS:\n",
      "tfp.distributions.OrderedLogistic(\"sequential_distribution_lambda_OrderedLogistic\", batch_shape=[1000, 1], event_shape=[], dtype=int32)\n",
      "Training loss (for one batch) at step 0: 1.7123\n",
      "Seen so far: 1000 samples\n",
      "\n",
      "Start of epoch 52\n",
      "LOGITS:\n",
      "tfp.distributions.OrderedLogistic(\"sequential_distribution_lambda_OrderedLogistic\", batch_shape=[1000, 1], event_shape=[], dtype=int32)\n",
      "Training loss (for one batch) at step 0: 1.7117\n",
      "Seen so far: 1000 samples\n",
      "\n",
      "Start of epoch 53\n",
      "LOGITS:\n",
      "tfp.distributions.OrderedLogistic(\"sequential_distribution_lambda_OrderedLogistic\", batch_shape=[1000, 1], event_shape=[], dtype=int32)\n",
      "Training loss (for one batch) at step 0: 1.7111\n",
      "Seen so far: 1000 samples\n",
      "\n",
      "Start of epoch 54\n",
      "LOGITS:\n",
      "tfp.distributions.OrderedLogistic(\"sequential_distribution_lambda_OrderedLogistic\", batch_shape=[1000, 1], event_shape=[], dtype=int32)\n",
      "Training loss (for one batch) at step 0: 1.7106\n",
      "Seen so far: 1000 samples\n",
      "\n",
      "Start of epoch 55\n",
      "LOGITS:\n",
      "tfp.distributions.OrderedLogistic(\"sequential_distribution_lambda_OrderedLogistic\", batch_shape=[1000, 1], event_shape=[], dtype=int32)\n",
      "Training loss (for one batch) at step 0: 1.7100\n",
      "Seen so far: 1000 samples\n",
      "\n",
      "Start of epoch 56\n",
      "LOGITS:\n",
      "tfp.distributions.OrderedLogistic(\"sequential_distribution_lambda_OrderedLogistic\", batch_shape=[1000, 1], event_shape=[], dtype=int32)\n",
      "Training loss (for one batch) at step 0: 1.7095\n",
      "Seen so far: 1000 samples\n",
      "\n",
      "Start of epoch 57\n",
      "LOGITS:\n",
      "tfp.distributions.OrderedLogistic(\"sequential_distribution_lambda_OrderedLogistic\", batch_shape=[1000, 1], event_shape=[], dtype=int32)\n",
      "Training loss (for one batch) at step 0: 1.7089\n",
      "Seen so far: 1000 samples\n",
      "\n",
      "Start of epoch 58\n",
      "LOGITS:\n",
      "tfp.distributions.OrderedLogistic(\"sequential_distribution_lambda_OrderedLogistic\", batch_shape=[1000, 1], event_shape=[], dtype=int32)\n",
      "Training loss (for one batch) at step 0: 1.7084\n",
      "Seen so far: 1000 samples\n",
      "\n",
      "Start of epoch 59\n",
      "LOGITS:\n",
      "tfp.distributions.OrderedLogistic(\"sequential_distribution_lambda_OrderedLogistic\", batch_shape=[1000, 1], event_shape=[], dtype=int32)\n",
      "Training loss (for one batch) at step 0: 1.7079\n",
      "Seen so far: 1000 samples\n",
      "\n",
      "Start of epoch 60\n",
      "LOGITS:\n",
      "tfp.distributions.OrderedLogistic(\"sequential_distribution_lambda_OrderedLogistic\", batch_shape=[1000, 1], event_shape=[], dtype=int32)\n",
      "Training loss (for one batch) at step 0: 1.7073\n",
      "Seen so far: 1000 samples\n",
      "\n",
      "Start of epoch 61\n",
      "LOGITS:\n",
      "tfp.distributions.OrderedLogistic(\"sequential_distribution_lambda_OrderedLogistic\", batch_shape=[1000, 1], event_shape=[], dtype=int32)\n",
      "Training loss (for one batch) at step 0: 1.7068\n",
      "Seen so far: 1000 samples\n",
      "\n",
      "Start of epoch 62\n",
      "LOGITS:\n",
      "tfp.distributions.OrderedLogistic(\"sequential_distribution_lambda_OrderedLogistic\", batch_shape=[1000, 1], event_shape=[], dtype=int32)\n",
      "Training loss (for one batch) at step 0: 1.7063\n",
      "Seen so far: 1000 samples\n",
      "\n",
      "Start of epoch 63\n",
      "LOGITS:\n",
      "tfp.distributions.OrderedLogistic(\"sequential_distribution_lambda_OrderedLogistic\", batch_shape=[1000, 1], event_shape=[], dtype=int32)\n",
      "Training loss (for one batch) at step 0: 1.7058\n",
      "Seen so far: 1000 samples\n",
      "\n",
      "Start of epoch 64\n",
      "LOGITS:\n",
      "tfp.distributions.OrderedLogistic(\"sequential_distribution_lambda_OrderedLogistic\", batch_shape=[1000, 1], event_shape=[], dtype=int32)\n",
      "Training loss (for one batch) at step 0: 1.7052\n",
      "Seen so far: 1000 samples\n",
      "\n",
      "Start of epoch 65\n",
      "LOGITS:\n",
      "tfp.distributions.OrderedLogistic(\"sequential_distribution_lambda_OrderedLogistic\", batch_shape=[1000, 1], event_shape=[], dtype=int32)\n",
      "Training loss (for one batch) at step 0: 1.7047\n",
      "Seen so far: 1000 samples\n",
      "\n",
      "Start of epoch 66\n",
      "LOGITS:\n",
      "tfp.distributions.OrderedLogistic(\"sequential_distribution_lambda_OrderedLogistic\", batch_shape=[1000, 1], event_shape=[], dtype=int32)\n",
      "Training loss (for one batch) at step 0: 1.7042\n",
      "Seen so far: 1000 samples\n",
      "\n",
      "Start of epoch 67\n",
      "LOGITS:\n",
      "tfp.distributions.OrderedLogistic(\"sequential_distribution_lambda_OrderedLogistic\", batch_shape=[1000, 1], event_shape=[], dtype=int32)\n",
      "Training loss (for one batch) at step 0: 1.7037\n",
      "Seen so far: 1000 samples\n",
      "\n",
      "Start of epoch 68\n",
      "LOGITS:\n",
      "tfp.distributions.OrderedLogistic(\"sequential_distribution_lambda_OrderedLogistic\", batch_shape=[1000, 1], event_shape=[], dtype=int32)\n",
      "Training loss (for one batch) at step 0: 1.7032\n",
      "Seen so far: 1000 samples\n",
      "\n",
      "Start of epoch 69\n",
      "LOGITS:\n",
      "tfp.distributions.OrderedLogistic(\"sequential_distribution_lambda_OrderedLogistic\", batch_shape=[1000, 1], event_shape=[], dtype=int32)\n",
      "Training loss (for one batch) at step 0: 1.7027\n",
      "Seen so far: 1000 samples\n",
      "\n",
      "Start of epoch 70\n",
      "LOGITS:\n",
      "tfp.distributions.OrderedLogistic(\"sequential_distribution_lambda_OrderedLogistic\", batch_shape=[1000, 1], event_shape=[], dtype=int32)\n",
      "Training loss (for one batch) at step 0: 1.7022\n",
      "Seen so far: 1000 samples\n",
      "\n",
      "Start of epoch 71\n",
      "LOGITS:\n",
      "tfp.distributions.OrderedLogistic(\"sequential_distribution_lambda_OrderedLogistic\", batch_shape=[1000, 1], event_shape=[], dtype=int32)\n",
      "Training loss (for one batch) at step 0: 1.7017\n",
      "Seen so far: 1000 samples\n",
      "\n",
      "Start of epoch 72\n",
      "LOGITS:\n",
      "tfp.distributions.OrderedLogistic(\"sequential_distribution_lambda_OrderedLogistic\", batch_shape=[1000, 1], event_shape=[], dtype=int32)\n",
      "Training loss (for one batch) at step 0: 1.7012\n",
      "Seen so far: 1000 samples\n",
      "\n",
      "Start of epoch 73\n",
      "LOGITS:\n",
      "tfp.distributions.OrderedLogistic(\"sequential_distribution_lambda_OrderedLogistic\", batch_shape=[1000, 1], event_shape=[], dtype=int32)\n",
      "Training loss (for one batch) at step 0: 1.7007\n",
      "Seen so far: 1000 samples\n",
      "\n",
      "Start of epoch 74\n",
      "LOGITS:\n",
      "tfp.distributions.OrderedLogistic(\"sequential_distribution_lambda_OrderedLogistic\", batch_shape=[1000, 1], event_shape=[], dtype=int32)\n",
      "Training loss (for one batch) at step 0: 1.7002\n",
      "Seen so far: 1000 samples\n",
      "\n",
      "Start of epoch 75\n",
      "LOGITS:\n",
      "tfp.distributions.OrderedLogistic(\"sequential_distribution_lambda_OrderedLogistic\", batch_shape=[1000, 1], event_shape=[], dtype=int32)\n",
      "Training loss (for one batch) at step 0: 1.6997\n",
      "Seen so far: 1000 samples\n",
      "\n",
      "Start of epoch 76\n",
      "LOGITS:\n",
      "tfp.distributions.OrderedLogistic(\"sequential_distribution_lambda_OrderedLogistic\", batch_shape=[1000, 1], event_shape=[], dtype=int32)\n",
      "Training loss (for one batch) at step 0: 1.6992\n",
      "Seen so far: 1000 samples\n",
      "\n",
      "Start of epoch 77\n",
      "LOGITS:\n",
      "tfp.distributions.OrderedLogistic(\"sequential_distribution_lambda_OrderedLogistic\", batch_shape=[1000, 1], event_shape=[], dtype=int32)\n",
      "Training loss (for one batch) at step 0: 1.6987\n",
      "Seen so far: 1000 samples\n",
      "\n",
      "Start of epoch 78\n",
      "LOGITS:\n",
      "tfp.distributions.OrderedLogistic(\"sequential_distribution_lambda_OrderedLogistic\", batch_shape=[1000, 1], event_shape=[], dtype=int32)\n",
      "Training loss (for one batch) at step 0: 1.6982\n",
      "Seen so far: 1000 samples\n",
      "\n",
      "Start of epoch 79\n",
      "LOGITS:\n",
      "tfp.distributions.OrderedLogistic(\"sequential_distribution_lambda_OrderedLogistic\", batch_shape=[1000, 1], event_shape=[], dtype=int32)\n",
      "Training loss (for one batch) at step 0: 1.6977\n",
      "Seen so far: 1000 samples\n",
      "\n",
      "Start of epoch 80\n",
      "LOGITS:\n",
      "tfp.distributions.OrderedLogistic(\"sequential_distribution_lambda_OrderedLogistic\", batch_shape=[1000, 1], event_shape=[], dtype=int32)\n",
      "Training loss (for one batch) at step 0: 1.6972\n",
      "Seen so far: 1000 samples\n",
      "\n",
      "Start of epoch 81\n",
      "LOGITS:\n",
      "tfp.distributions.OrderedLogistic(\"sequential_distribution_lambda_OrderedLogistic\", batch_shape=[1000, 1], event_shape=[], dtype=int32)\n",
      "Training loss (for one batch) at step 0: 1.6967\n",
      "Seen so far: 1000 samples\n",
      "\n",
      "Start of epoch 82\n",
      "LOGITS:\n",
      "tfp.distributions.OrderedLogistic(\"sequential_distribution_lambda_OrderedLogistic\", batch_shape=[1000, 1], event_shape=[], dtype=int32)\n",
      "Training loss (for one batch) at step 0: 1.6962\n",
      "Seen so far: 1000 samples\n",
      "\n",
      "Start of epoch 83\n",
      "LOGITS:\n",
      "tfp.distributions.OrderedLogistic(\"sequential_distribution_lambda_OrderedLogistic\", batch_shape=[1000, 1], event_shape=[], dtype=int32)\n",
      "Training loss (for one batch) at step 0: 1.6958\n",
      "Seen so far: 1000 samples\n",
      "\n",
      "Start of epoch 84\n",
      "LOGITS:\n",
      "tfp.distributions.OrderedLogistic(\"sequential_distribution_lambda_OrderedLogistic\", batch_shape=[1000, 1], event_shape=[], dtype=int32)\n",
      "Training loss (for one batch) at step 0: 1.6953\n",
      "Seen so far: 1000 samples\n",
      "\n",
      "Start of epoch 85\n",
      "LOGITS:\n",
      "tfp.distributions.OrderedLogistic(\"sequential_distribution_lambda_OrderedLogistic\", batch_shape=[1000, 1], event_shape=[], dtype=int32)\n",
      "Training loss (for one batch) at step 0: 1.6948\n",
      "Seen so far: 1000 samples\n",
      "\n",
      "Start of epoch 86\n",
      "LOGITS:\n",
      "tfp.distributions.OrderedLogistic(\"sequential_distribution_lambda_OrderedLogistic\", batch_shape=[1000, 1], event_shape=[], dtype=int32)\n",
      "Training loss (for one batch) at step 0: 1.6943\n",
      "Seen so far: 1000 samples\n",
      "\n",
      "Start of epoch 87\n",
      "LOGITS:\n",
      "tfp.distributions.OrderedLogistic(\"sequential_distribution_lambda_OrderedLogistic\", batch_shape=[1000, 1], event_shape=[], dtype=int32)\n",
      "Training loss (for one batch) at step 0: 1.6938\n",
      "Seen so far: 1000 samples\n",
      "\n",
      "Start of epoch 88\n",
      "LOGITS:\n",
      "tfp.distributions.OrderedLogistic(\"sequential_distribution_lambda_OrderedLogistic\", batch_shape=[1000, 1], event_shape=[], dtype=int32)\n",
      "Training loss (for one batch) at step 0: 1.6933\n",
      "Seen so far: 1000 samples\n",
      "\n",
      "Start of epoch 89\n",
      "LOGITS:\n",
      "tfp.distributions.OrderedLogistic(\"sequential_distribution_lambda_OrderedLogistic\", batch_shape=[1000, 1], event_shape=[], dtype=int32)\n",
      "Training loss (for one batch) at step 0: 1.6929\n",
      "Seen so far: 1000 samples\n",
      "\n",
      "Start of epoch 90\n",
      "LOGITS:\n",
      "tfp.distributions.OrderedLogistic(\"sequential_distribution_lambda_OrderedLogistic\", batch_shape=[1000, 1], event_shape=[], dtype=int32)\n",
      "Training loss (for one batch) at step 0: 1.6924\n",
      "Seen so far: 1000 samples\n",
      "\n",
      "Start of epoch 91\n",
      "LOGITS:\n",
      "tfp.distributions.OrderedLogistic(\"sequential_distribution_lambda_OrderedLogistic\", batch_shape=[1000, 1], event_shape=[], dtype=int32)\n",
      "Training loss (for one batch) at step 0: 1.6919\n",
      "Seen so far: 1000 samples\n",
      "\n",
      "Start of epoch 92\n",
      "LOGITS:\n",
      "tfp.distributions.OrderedLogistic(\"sequential_distribution_lambda_OrderedLogistic\", batch_shape=[1000, 1], event_shape=[], dtype=int32)\n",
      "Training loss (for one batch) at step 0: 1.6914\n",
      "Seen so far: 1000 samples\n",
      "\n",
      "Start of epoch 93\n",
      "LOGITS:\n",
      "tfp.distributions.OrderedLogistic(\"sequential_distribution_lambda_OrderedLogistic\", batch_shape=[1000, 1], event_shape=[], dtype=int32)\n",
      "Training loss (for one batch) at step 0: 1.6910\n",
      "Seen so far: 1000 samples\n",
      "\n",
      "Start of epoch 94\n",
      "LOGITS:\n",
      "tfp.distributions.OrderedLogistic(\"sequential_distribution_lambda_OrderedLogistic\", batch_shape=[1000, 1], event_shape=[], dtype=int32)\n",
      "Training loss (for one batch) at step 0: 1.6905\n",
      "Seen so far: 1000 samples\n",
      "\n",
      "Start of epoch 95\n",
      "LOGITS:\n",
      "tfp.distributions.OrderedLogistic(\"sequential_distribution_lambda_OrderedLogistic\", batch_shape=[1000, 1], event_shape=[], dtype=int32)\n",
      "Training loss (for one batch) at step 0: 1.6900\n",
      "Seen so far: 1000 samples\n",
      "\n",
      "Start of epoch 96\n",
      "LOGITS:\n",
      "tfp.distributions.OrderedLogistic(\"sequential_distribution_lambda_OrderedLogistic\", batch_shape=[1000, 1], event_shape=[], dtype=int32)\n",
      "Training loss (for one batch) at step 0: 1.6895\n",
      "Seen so far: 1000 samples\n",
      "\n",
      "Start of epoch 97\n",
      "LOGITS:\n",
      "tfp.distributions.OrderedLogistic(\"sequential_distribution_lambda_OrderedLogistic\", batch_shape=[1000, 1], event_shape=[], dtype=int32)\n",
      "Training loss (for one batch) at step 0: 1.6891\n",
      "Seen so far: 1000 samples\n",
      "\n",
      "Start of epoch 98\n",
      "LOGITS:\n",
      "tfp.distributions.OrderedLogistic(\"sequential_distribution_lambda_OrderedLogistic\", batch_shape=[1000, 1], event_shape=[], dtype=int32)\n",
      "Training loss (for one batch) at step 0: 1.6886\n",
      "Seen so far: 1000 samples\n",
      "\n",
      "Start of epoch 99\n",
      "LOGITS:\n",
      "tfp.distributions.OrderedLogistic(\"sequential_distribution_lambda_OrderedLogistic\", batch_shape=[1000, 1], event_shape=[], dtype=int32)\n",
      "Training loss (for one batch) at step 0: 1.6881\n",
      "Seen so far: 1000 samples\n",
      "\n",
      "Start of epoch 100\n",
      "LOGITS:\n",
      "tfp.distributions.OrderedLogistic(\"sequential_distribution_lambda_OrderedLogistic\", batch_shape=[1000, 1], event_shape=[], dtype=int32)\n",
      "Training loss (for one batch) at step 0: 1.6877\n",
      "Seen so far: 1000 samples\n",
      "\n",
      "Start of epoch 101\n",
      "LOGITS:\n",
      "tfp.distributions.OrderedLogistic(\"sequential_distribution_lambda_OrderedLogistic\", batch_shape=[1000, 1], event_shape=[], dtype=int32)\n",
      "Training loss (for one batch) at step 0: 1.6872\n",
      "Seen so far: 1000 samples\n",
      "\n",
      "Start of epoch 102\n",
      "LOGITS:\n",
      "tfp.distributions.OrderedLogistic(\"sequential_distribution_lambda_OrderedLogistic\", batch_shape=[1000, 1], event_shape=[], dtype=int32)\n",
      "Training loss (for one batch) at step 0: 1.6867\n",
      "Seen so far: 1000 samples\n",
      "\n",
      "Start of epoch 103\n",
      "LOGITS:\n",
      "tfp.distributions.OrderedLogistic(\"sequential_distribution_lambda_OrderedLogistic\", batch_shape=[1000, 1], event_shape=[], dtype=int32)\n",
      "Training loss (for one batch) at step 0: 1.6863\n",
      "Seen so far: 1000 samples\n",
      "\n",
      "Start of epoch 104\n",
      "LOGITS:\n",
      "tfp.distributions.OrderedLogistic(\"sequential_distribution_lambda_OrderedLogistic\", batch_shape=[1000, 1], event_shape=[], dtype=int32)\n",
      "Training loss (for one batch) at step 0: 1.6858\n",
      "Seen so far: 1000 samples\n",
      "\n",
      "Start of epoch 105\n",
      "LOGITS:\n",
      "tfp.distributions.OrderedLogistic(\"sequential_distribution_lambda_OrderedLogistic\", batch_shape=[1000, 1], event_shape=[], dtype=int32)\n",
      "Training loss (for one batch) at step 0: 1.6854\n",
      "Seen so far: 1000 samples\n",
      "\n",
      "Start of epoch 106\n",
      "LOGITS:\n",
      "tfp.distributions.OrderedLogistic(\"sequential_distribution_lambda_OrderedLogistic\", batch_shape=[1000, 1], event_shape=[], dtype=int32)\n",
      "Training loss (for one batch) at step 0: 1.6849\n",
      "Seen so far: 1000 samples\n",
      "\n",
      "Start of epoch 107\n",
      "LOGITS:\n",
      "tfp.distributions.OrderedLogistic(\"sequential_distribution_lambda_OrderedLogistic\", batch_shape=[1000, 1], event_shape=[], dtype=int32)\n",
      "Training loss (for one batch) at step 0: 1.6844\n",
      "Seen so far: 1000 samples\n",
      "\n",
      "Start of epoch 108\n",
      "LOGITS:\n",
      "tfp.distributions.OrderedLogistic(\"sequential_distribution_lambda_OrderedLogistic\", batch_shape=[1000, 1], event_shape=[], dtype=int32)\n",
      "Training loss (for one batch) at step 0: 1.6840\n",
      "Seen so far: 1000 samples\n",
      "\n",
      "Start of epoch 109\n",
      "LOGITS:\n",
      "tfp.distributions.OrderedLogistic(\"sequential_distribution_lambda_OrderedLogistic\", batch_shape=[1000, 1], event_shape=[], dtype=int32)\n",
      "Training loss (for one batch) at step 0: 1.6835\n",
      "Seen so far: 1000 samples\n",
      "\n",
      "Start of epoch 110\n",
      "LOGITS:\n",
      "tfp.distributions.OrderedLogistic(\"sequential_distribution_lambda_OrderedLogistic\", batch_shape=[1000, 1], event_shape=[], dtype=int32)\n",
      "Training loss (for one batch) at step 0: 1.6831\n",
      "Seen so far: 1000 samples\n",
      "\n",
      "Start of epoch 111\n",
      "LOGITS:\n",
      "tfp.distributions.OrderedLogistic(\"sequential_distribution_lambda_OrderedLogistic\", batch_shape=[1000, 1], event_shape=[], dtype=int32)\n",
      "Training loss (for one batch) at step 0: 1.6826\n",
      "Seen so far: 1000 samples\n",
      "\n",
      "Start of epoch 112\n",
      "LOGITS:\n",
      "tfp.distributions.OrderedLogistic(\"sequential_distribution_lambda_OrderedLogistic\", batch_shape=[1000, 1], event_shape=[], dtype=int32)\n",
      "Training loss (for one batch) at step 0: 1.6822\n",
      "Seen so far: 1000 samples\n",
      "\n",
      "Start of epoch 113\n",
      "LOGITS:\n",
      "tfp.distributions.OrderedLogistic(\"sequential_distribution_lambda_OrderedLogistic\", batch_shape=[1000, 1], event_shape=[], dtype=int32)\n",
      "Training loss (for one batch) at step 0: 1.6817\n",
      "Seen so far: 1000 samples\n",
      "\n",
      "Start of epoch 114\n",
      "LOGITS:\n",
      "tfp.distributions.OrderedLogistic(\"sequential_distribution_lambda_OrderedLogistic\", batch_shape=[1000, 1], event_shape=[], dtype=int32)\n",
      "Training loss (for one batch) at step 0: 1.6813\n",
      "Seen so far: 1000 samples\n",
      "\n",
      "Start of epoch 115\n",
      "LOGITS:\n",
      "tfp.distributions.OrderedLogistic(\"sequential_distribution_lambda_OrderedLogistic\", batch_shape=[1000, 1], event_shape=[], dtype=int32)\n",
      "Training loss (for one batch) at step 0: 1.6808\n",
      "Seen so far: 1000 samples\n",
      "\n",
      "Start of epoch 116\n",
      "LOGITS:\n",
      "tfp.distributions.OrderedLogistic(\"sequential_distribution_lambda_OrderedLogistic\", batch_shape=[1000, 1], event_shape=[], dtype=int32)\n",
      "Training loss (for one batch) at step 0: 1.6804\n",
      "Seen so far: 1000 samples\n",
      "\n",
      "Start of epoch 117\n",
      "LOGITS:\n",
      "tfp.distributions.OrderedLogistic(\"sequential_distribution_lambda_OrderedLogistic\", batch_shape=[1000, 1], event_shape=[], dtype=int32)\n",
      "Training loss (for one batch) at step 0: 1.6799\n",
      "Seen so far: 1000 samples\n",
      "\n",
      "Start of epoch 118\n",
      "LOGITS:\n",
      "tfp.distributions.OrderedLogistic(\"sequential_distribution_lambda_OrderedLogistic\", batch_shape=[1000, 1], event_shape=[], dtype=int32)\n",
      "Training loss (for one batch) at step 0: 1.6795\n",
      "Seen so far: 1000 samples\n",
      "\n",
      "Start of epoch 119\n",
      "LOGITS:\n",
      "tfp.distributions.OrderedLogistic(\"sequential_distribution_lambda_OrderedLogistic\", batch_shape=[1000, 1], event_shape=[], dtype=int32)\n",
      "Training loss (for one batch) at step 0: 1.6790\n",
      "Seen so far: 1000 samples\n",
      "\n",
      "Start of epoch 120\n",
      "LOGITS:\n",
      "tfp.distributions.OrderedLogistic(\"sequential_distribution_lambda_OrderedLogistic\", batch_shape=[1000, 1], event_shape=[], dtype=int32)\n",
      "Training loss (for one batch) at step 0: 1.6786\n",
      "Seen so far: 1000 samples\n",
      "\n",
      "Start of epoch 121\n",
      "LOGITS:\n",
      "tfp.distributions.OrderedLogistic(\"sequential_distribution_lambda_OrderedLogistic\", batch_shape=[1000, 1], event_shape=[], dtype=int32)\n",
      "Training loss (for one batch) at step 0: 1.6781\n",
      "Seen so far: 1000 samples\n",
      "\n",
      "Start of epoch 122\n",
      "LOGITS:\n",
      "tfp.distributions.OrderedLogistic(\"sequential_distribution_lambda_OrderedLogistic\", batch_shape=[1000, 1], event_shape=[], dtype=int32)\n",
      "Training loss (for one batch) at step 0: 1.6777\n",
      "Seen so far: 1000 samples\n",
      "\n",
      "Start of epoch 123\n",
      "LOGITS:\n",
      "tfp.distributions.OrderedLogistic(\"sequential_distribution_lambda_OrderedLogistic\", batch_shape=[1000, 1], event_shape=[], dtype=int32)\n",
      "Training loss (for one batch) at step 0: 1.6772\n",
      "Seen so far: 1000 samples\n",
      "\n",
      "Start of epoch 124\n",
      "LOGITS:\n",
      "tfp.distributions.OrderedLogistic(\"sequential_distribution_lambda_OrderedLogistic\", batch_shape=[1000, 1], event_shape=[], dtype=int32)\n",
      "Training loss (for one batch) at step 0: 1.6768\n",
      "Seen so far: 1000 samples\n",
      "\n",
      "Start of epoch 125\n",
      "LOGITS:\n",
      "tfp.distributions.OrderedLogistic(\"sequential_distribution_lambda_OrderedLogistic\", batch_shape=[1000, 1], event_shape=[], dtype=int32)\n",
      "Training loss (for one batch) at step 0: 1.6764\n",
      "Seen so far: 1000 samples\n",
      "\n",
      "Start of epoch 126\n",
      "LOGITS:\n",
      "tfp.distributions.OrderedLogistic(\"sequential_distribution_lambda_OrderedLogistic\", batch_shape=[1000, 1], event_shape=[], dtype=int32)\n",
      "Training loss (for one batch) at step 0: 1.6759\n",
      "Seen so far: 1000 samples\n",
      "\n",
      "Start of epoch 127\n",
      "LOGITS:\n",
      "tfp.distributions.OrderedLogistic(\"sequential_distribution_lambda_OrderedLogistic\", batch_shape=[1000, 1], event_shape=[], dtype=int32)\n",
      "Training loss (for one batch) at step 0: 1.6755\n",
      "Seen so far: 1000 samples\n",
      "\n",
      "Start of epoch 128\n",
      "LOGITS:\n",
      "tfp.distributions.OrderedLogistic(\"sequential_distribution_lambda_OrderedLogistic\", batch_shape=[1000, 1], event_shape=[], dtype=int32)\n",
      "Training loss (for one batch) at step 0: 1.6751\n",
      "Seen so far: 1000 samples\n",
      "\n",
      "Start of epoch 129\n",
      "LOGITS:\n",
      "tfp.distributions.OrderedLogistic(\"sequential_distribution_lambda_OrderedLogistic\", batch_shape=[1000, 1], event_shape=[], dtype=int32)\n",
      "Training loss (for one batch) at step 0: 1.6746\n",
      "Seen so far: 1000 samples\n",
      "\n",
      "Start of epoch 130\n",
      "LOGITS:\n",
      "tfp.distributions.OrderedLogistic(\"sequential_distribution_lambda_OrderedLogistic\", batch_shape=[1000, 1], event_shape=[], dtype=int32)\n",
      "Training loss (for one batch) at step 0: 1.6742\n",
      "Seen so far: 1000 samples\n",
      "\n",
      "Start of epoch 131\n",
      "LOGITS:\n",
      "tfp.distributions.OrderedLogistic(\"sequential_distribution_lambda_OrderedLogistic\", batch_shape=[1000, 1], event_shape=[], dtype=int32)\n",
      "Training loss (for one batch) at step 0: 1.6738\n",
      "Seen so far: 1000 samples\n",
      "\n",
      "Start of epoch 132\n",
      "LOGITS:\n",
      "tfp.distributions.OrderedLogistic(\"sequential_distribution_lambda_OrderedLogistic\", batch_shape=[1000, 1], event_shape=[], dtype=int32)\n",
      "Training loss (for one batch) at step 0: 1.6733\n",
      "Seen so far: 1000 samples\n",
      "\n",
      "Start of epoch 133\n",
      "LOGITS:\n",
      "tfp.distributions.OrderedLogistic(\"sequential_distribution_lambda_OrderedLogistic\", batch_shape=[1000, 1], event_shape=[], dtype=int32)\n",
      "Training loss (for one batch) at step 0: 1.6729\n",
      "Seen so far: 1000 samples\n",
      "\n",
      "Start of epoch 134\n",
      "LOGITS:\n",
      "tfp.distributions.OrderedLogistic(\"sequential_distribution_lambda_OrderedLogistic\", batch_shape=[1000, 1], event_shape=[], dtype=int32)\n",
      "Training loss (for one batch) at step 0: 1.6725\n",
      "Seen so far: 1000 samples\n",
      "\n",
      "Start of epoch 135\n",
      "LOGITS:\n",
      "tfp.distributions.OrderedLogistic(\"sequential_distribution_lambda_OrderedLogistic\", batch_shape=[1000, 1], event_shape=[], dtype=int32)\n",
      "Training loss (for one batch) at step 0: 1.6720\n",
      "Seen so far: 1000 samples\n",
      "\n",
      "Start of epoch 136\n",
      "LOGITS:\n",
      "tfp.distributions.OrderedLogistic(\"sequential_distribution_lambda_OrderedLogistic\", batch_shape=[1000, 1], event_shape=[], dtype=int32)\n",
      "Training loss (for one batch) at step 0: 1.6716\n",
      "Seen so far: 1000 samples\n",
      "\n",
      "Start of epoch 137\n",
      "LOGITS:\n",
      "tfp.distributions.OrderedLogistic(\"sequential_distribution_lambda_OrderedLogistic\", batch_shape=[1000, 1], event_shape=[], dtype=int32)\n",
      "Training loss (for one batch) at step 0: 1.6712\n",
      "Seen so far: 1000 samples\n",
      "\n",
      "Start of epoch 138\n",
      "LOGITS:\n",
      "tfp.distributions.OrderedLogistic(\"sequential_distribution_lambda_OrderedLogistic\", batch_shape=[1000, 1], event_shape=[], dtype=int32)\n",
      "Training loss (for one batch) at step 0: 1.6707\n",
      "Seen so far: 1000 samples\n",
      "\n",
      "Start of epoch 139\n",
      "LOGITS:\n",
      "tfp.distributions.OrderedLogistic(\"sequential_distribution_lambda_OrderedLogistic\", batch_shape=[1000, 1], event_shape=[], dtype=int32)\n",
      "Training loss (for one batch) at step 0: 1.6703\n",
      "Seen so far: 1000 samples\n",
      "\n",
      "Start of epoch 140\n",
      "LOGITS:\n",
      "tfp.distributions.OrderedLogistic(\"sequential_distribution_lambda_OrderedLogistic\", batch_shape=[1000, 1], event_shape=[], dtype=int32)\n",
      "Training loss (for one batch) at step 0: 1.6699\n",
      "Seen so far: 1000 samples\n",
      "\n",
      "Start of epoch 141\n",
      "LOGITS:\n",
      "tfp.distributions.OrderedLogistic(\"sequential_distribution_lambda_OrderedLogistic\", batch_shape=[1000, 1], event_shape=[], dtype=int32)\n",
      "Training loss (for one batch) at step 0: 1.6695\n",
      "Seen so far: 1000 samples\n",
      "\n",
      "Start of epoch 142\n",
      "LOGITS:\n",
      "tfp.distributions.OrderedLogistic(\"sequential_distribution_lambda_OrderedLogistic\", batch_shape=[1000, 1], event_shape=[], dtype=int32)\n",
      "Training loss (for one batch) at step 0: 1.6690\n",
      "Seen so far: 1000 samples\n",
      "\n",
      "Start of epoch 143\n",
      "LOGITS:\n",
      "tfp.distributions.OrderedLogistic(\"sequential_distribution_lambda_OrderedLogistic\", batch_shape=[1000, 1], event_shape=[], dtype=int32)\n",
      "Training loss (for one batch) at step 0: 1.6686\n",
      "Seen so far: 1000 samples\n",
      "\n",
      "Start of epoch 144\n",
      "LOGITS:\n",
      "tfp.distributions.OrderedLogistic(\"sequential_distribution_lambda_OrderedLogistic\", batch_shape=[1000, 1], event_shape=[], dtype=int32)\n",
      "Training loss (for one batch) at step 0: 1.6682\n",
      "Seen so far: 1000 samples\n",
      "\n",
      "Start of epoch 145\n",
      "LOGITS:\n",
      "tfp.distributions.OrderedLogistic(\"sequential_distribution_lambda_OrderedLogistic\", batch_shape=[1000, 1], event_shape=[], dtype=int32)\n",
      "Training loss (for one batch) at step 0: 1.6678\n",
      "Seen so far: 1000 samples\n",
      "\n",
      "Start of epoch 146\n",
      "LOGITS:\n",
      "tfp.distributions.OrderedLogistic(\"sequential_distribution_lambda_OrderedLogistic\", batch_shape=[1000, 1], event_shape=[], dtype=int32)\n",
      "Training loss (for one batch) at step 0: 1.6674\n",
      "Seen so far: 1000 samples\n",
      "\n",
      "Start of epoch 147\n",
      "LOGITS:\n",
      "tfp.distributions.OrderedLogistic(\"sequential_distribution_lambda_OrderedLogistic\", batch_shape=[1000, 1], event_shape=[], dtype=int32)\n",
      "Training loss (for one batch) at step 0: 1.6669\n",
      "Seen so far: 1000 samples\n",
      "\n",
      "Start of epoch 148\n",
      "LOGITS:\n",
      "tfp.distributions.OrderedLogistic(\"sequential_distribution_lambda_OrderedLogistic\", batch_shape=[1000, 1], event_shape=[], dtype=int32)\n",
      "Training loss (for one batch) at step 0: 1.6665\n",
      "Seen so far: 1000 samples\n",
      "\n",
      "Start of epoch 149\n",
      "LOGITS:\n",
      "tfp.distributions.OrderedLogistic(\"sequential_distribution_lambda_OrderedLogistic\", batch_shape=[1000, 1], event_shape=[], dtype=int32)\n",
      "Training loss (for one batch) at step 0: 1.6661\n",
      "Seen so far: 1000 samples\n",
      "\n",
      "Start of epoch 150\n",
      "LOGITS:\n",
      "tfp.distributions.OrderedLogistic(\"sequential_distribution_lambda_OrderedLogistic\", batch_shape=[1000, 1], event_shape=[], dtype=int32)\n",
      "Training loss (for one batch) at step 0: 1.6657\n",
      "Seen so far: 1000 samples\n",
      "\n",
      "Start of epoch 151\n",
      "LOGITS:\n",
      "tfp.distributions.OrderedLogistic(\"sequential_distribution_lambda_OrderedLogistic\", batch_shape=[1000, 1], event_shape=[], dtype=int32)\n",
      "Training loss (for one batch) at step 0: 1.6653\n",
      "Seen so far: 1000 samples\n",
      "\n",
      "Start of epoch 152\n",
      "LOGITS:\n",
      "tfp.distributions.OrderedLogistic(\"sequential_distribution_lambda_OrderedLogistic\", batch_shape=[1000, 1], event_shape=[], dtype=int32)\n",
      "Training loss (for one batch) at step 0: 1.6649\n",
      "Seen so far: 1000 samples\n",
      "\n",
      "Start of epoch 153\n",
      "LOGITS:\n",
      "tfp.distributions.OrderedLogistic(\"sequential_distribution_lambda_OrderedLogistic\", batch_shape=[1000, 1], event_shape=[], dtype=int32)\n",
      "Training loss (for one batch) at step 0: 1.6645\n",
      "Seen so far: 1000 samples\n",
      "\n",
      "Start of epoch 154\n",
      "LOGITS:\n",
      "tfp.distributions.OrderedLogistic(\"sequential_distribution_lambda_OrderedLogistic\", batch_shape=[1000, 1], event_shape=[], dtype=int32)\n",
      "Training loss (for one batch) at step 0: 1.6640\n",
      "Seen so far: 1000 samples\n",
      "\n",
      "Start of epoch 155\n",
      "LOGITS:\n",
      "tfp.distributions.OrderedLogistic(\"sequential_distribution_lambda_OrderedLogistic\", batch_shape=[1000, 1], event_shape=[], dtype=int32)\n",
      "Training loss (for one batch) at step 0: 1.6636\n",
      "Seen so far: 1000 samples\n",
      "\n",
      "Start of epoch 156\n",
      "LOGITS:\n",
      "tfp.distributions.OrderedLogistic(\"sequential_distribution_lambda_OrderedLogistic\", batch_shape=[1000, 1], event_shape=[], dtype=int32)\n",
      "Training loss (for one batch) at step 0: 1.6632\n",
      "Seen so far: 1000 samples\n",
      "\n",
      "Start of epoch 157\n",
      "LOGITS:\n",
      "tfp.distributions.OrderedLogistic(\"sequential_distribution_lambda_OrderedLogistic\", batch_shape=[1000, 1], event_shape=[], dtype=int32)\n",
      "Training loss (for one batch) at step 0: 1.6628\n",
      "Seen so far: 1000 samples\n",
      "\n",
      "Start of epoch 158\n",
      "LOGITS:\n",
      "tfp.distributions.OrderedLogistic(\"sequential_distribution_lambda_OrderedLogistic\", batch_shape=[1000, 1], event_shape=[], dtype=int32)\n",
      "Training loss (for one batch) at step 0: 1.6624\n",
      "Seen so far: 1000 samples\n",
      "\n",
      "Start of epoch 159\n",
      "LOGITS:\n",
      "tfp.distributions.OrderedLogistic(\"sequential_distribution_lambda_OrderedLogistic\", batch_shape=[1000, 1], event_shape=[], dtype=int32)\n",
      "Training loss (for one batch) at step 0: 1.6620\n",
      "Seen so far: 1000 samples\n",
      "\n",
      "Start of epoch 160\n",
      "LOGITS:\n",
      "tfp.distributions.OrderedLogistic(\"sequential_distribution_lambda_OrderedLogistic\", batch_shape=[1000, 1], event_shape=[], dtype=int32)\n",
      "Training loss (for one batch) at step 0: 1.6616\n",
      "Seen so far: 1000 samples\n",
      "\n",
      "Start of epoch 161\n",
      "LOGITS:\n",
      "tfp.distributions.OrderedLogistic(\"sequential_distribution_lambda_OrderedLogistic\", batch_shape=[1000, 1], event_shape=[], dtype=int32)\n",
      "Training loss (for one batch) at step 0: 1.6612\n",
      "Seen so far: 1000 samples\n",
      "\n",
      "Start of epoch 162\n",
      "LOGITS:\n",
      "tfp.distributions.OrderedLogistic(\"sequential_distribution_lambda_OrderedLogistic\", batch_shape=[1000, 1], event_shape=[], dtype=int32)\n",
      "Training loss (for one batch) at step 0: 1.6608\n",
      "Seen so far: 1000 samples\n",
      "\n",
      "Start of epoch 163\n",
      "LOGITS:\n",
      "tfp.distributions.OrderedLogistic(\"sequential_distribution_lambda_OrderedLogistic\", batch_shape=[1000, 1], event_shape=[], dtype=int32)\n",
      "Training loss (for one batch) at step 0: 1.6604\n",
      "Seen so far: 1000 samples\n",
      "\n",
      "Start of epoch 164\n",
      "LOGITS:\n",
      "tfp.distributions.OrderedLogistic(\"sequential_distribution_lambda_OrderedLogistic\", batch_shape=[1000, 1], event_shape=[], dtype=int32)\n",
      "Training loss (for one batch) at step 0: 1.6600\n",
      "Seen so far: 1000 samples\n",
      "\n",
      "Start of epoch 165\n",
      "LOGITS:\n",
      "tfp.distributions.OrderedLogistic(\"sequential_distribution_lambda_OrderedLogistic\", batch_shape=[1000, 1], event_shape=[], dtype=int32)\n",
      "Training loss (for one batch) at step 0: 1.6596\n",
      "Seen so far: 1000 samples\n",
      "\n",
      "Start of epoch 166\n",
      "LOGITS:\n",
      "tfp.distributions.OrderedLogistic(\"sequential_distribution_lambda_OrderedLogistic\", batch_shape=[1000, 1], event_shape=[], dtype=int32)\n",
      "Training loss (for one batch) at step 0: 1.6592\n",
      "Seen so far: 1000 samples\n",
      "\n",
      "Start of epoch 167\n",
      "LOGITS:\n",
      "tfp.distributions.OrderedLogistic(\"sequential_distribution_lambda_OrderedLogistic\", batch_shape=[1000, 1], event_shape=[], dtype=int32)\n",
      "Training loss (for one batch) at step 0: 1.6588\n",
      "Seen so far: 1000 samples\n",
      "\n",
      "Start of epoch 168\n",
      "LOGITS:\n",
      "tfp.distributions.OrderedLogistic(\"sequential_distribution_lambda_OrderedLogistic\", batch_shape=[1000, 1], event_shape=[], dtype=int32)\n",
      "Training loss (for one batch) at step 0: 1.6584\n",
      "Seen so far: 1000 samples\n",
      "\n",
      "Start of epoch 169\n",
      "LOGITS:\n",
      "tfp.distributions.OrderedLogistic(\"sequential_distribution_lambda_OrderedLogistic\", batch_shape=[1000, 1], event_shape=[], dtype=int32)\n",
      "Training loss (for one batch) at step 0: 1.6580\n",
      "Seen so far: 1000 samples\n",
      "\n",
      "Start of epoch 170\n",
      "LOGITS:\n",
      "tfp.distributions.OrderedLogistic(\"sequential_distribution_lambda_OrderedLogistic\", batch_shape=[1000, 1], event_shape=[], dtype=int32)\n",
      "Training loss (for one batch) at step 0: 1.6576\n",
      "Seen so far: 1000 samples\n",
      "\n",
      "Start of epoch 171\n",
      "LOGITS:\n",
      "tfp.distributions.OrderedLogistic(\"sequential_distribution_lambda_OrderedLogistic\", batch_shape=[1000, 1], event_shape=[], dtype=int32)\n",
      "Training loss (for one batch) at step 0: 1.6572\n",
      "Seen so far: 1000 samples\n",
      "\n",
      "Start of epoch 172\n",
      "LOGITS:\n",
      "tfp.distributions.OrderedLogistic(\"sequential_distribution_lambda_OrderedLogistic\", batch_shape=[1000, 1], event_shape=[], dtype=int32)\n",
      "Training loss (for one batch) at step 0: 1.6568\n",
      "Seen so far: 1000 samples\n",
      "\n",
      "Start of epoch 173\n",
      "LOGITS:\n",
      "tfp.distributions.OrderedLogistic(\"sequential_distribution_lambda_OrderedLogistic\", batch_shape=[1000, 1], event_shape=[], dtype=int32)\n",
      "Training loss (for one batch) at step 0: 1.6564\n",
      "Seen so far: 1000 samples\n",
      "\n",
      "Start of epoch 174\n",
      "LOGITS:\n",
      "tfp.distributions.OrderedLogistic(\"sequential_distribution_lambda_OrderedLogistic\", batch_shape=[1000, 1], event_shape=[], dtype=int32)\n",
      "Training loss (for one batch) at step 0: 1.6560\n",
      "Seen so far: 1000 samples\n",
      "\n",
      "Start of epoch 175\n",
      "LOGITS:\n",
      "tfp.distributions.OrderedLogistic(\"sequential_distribution_lambda_OrderedLogistic\", batch_shape=[1000, 1], event_shape=[], dtype=int32)\n",
      "Training loss (for one batch) at step 0: 1.6556\n",
      "Seen so far: 1000 samples\n",
      "\n",
      "Start of epoch 176\n",
      "LOGITS:\n",
      "tfp.distributions.OrderedLogistic(\"sequential_distribution_lambda_OrderedLogistic\", batch_shape=[1000, 1], event_shape=[], dtype=int32)\n",
      "Training loss (for one batch) at step 0: 1.6552\n",
      "Seen so far: 1000 samples\n",
      "\n",
      "Start of epoch 177\n",
      "LOGITS:\n",
      "tfp.distributions.OrderedLogistic(\"sequential_distribution_lambda_OrderedLogistic\", batch_shape=[1000, 1], event_shape=[], dtype=int32)\n",
      "Training loss (for one batch) at step 0: 1.6548\n",
      "Seen so far: 1000 samples\n",
      "\n",
      "Start of epoch 178\n",
      "LOGITS:\n",
      "tfp.distributions.OrderedLogistic(\"sequential_distribution_lambda_OrderedLogistic\", batch_shape=[1000, 1], event_shape=[], dtype=int32)\n",
      "Training loss (for one batch) at step 0: 1.6544\n",
      "Seen so far: 1000 samples\n",
      "\n",
      "Start of epoch 179\n",
      "LOGITS:\n",
      "tfp.distributions.OrderedLogistic(\"sequential_distribution_lambda_OrderedLogistic\", batch_shape=[1000, 1], event_shape=[], dtype=int32)\n",
      "Training loss (for one batch) at step 0: 1.6540\n",
      "Seen so far: 1000 samples\n",
      "\n",
      "Start of epoch 180\n",
      "LOGITS:\n",
      "tfp.distributions.OrderedLogistic(\"sequential_distribution_lambda_OrderedLogistic\", batch_shape=[1000, 1], event_shape=[], dtype=int32)\n",
      "Training loss (for one batch) at step 0: 1.6536\n",
      "Seen so far: 1000 samples\n",
      "\n",
      "Start of epoch 181\n",
      "LOGITS:\n",
      "tfp.distributions.OrderedLogistic(\"sequential_distribution_lambda_OrderedLogistic\", batch_shape=[1000, 1], event_shape=[], dtype=int32)\n",
      "Training loss (for one batch) at step 0: 1.6532\n",
      "Seen so far: 1000 samples\n",
      "\n",
      "Start of epoch 182\n",
      "LOGITS:\n",
      "tfp.distributions.OrderedLogistic(\"sequential_distribution_lambda_OrderedLogistic\", batch_shape=[1000, 1], event_shape=[], dtype=int32)\n",
      "Training loss (for one batch) at step 0: 1.6529\n",
      "Seen so far: 1000 samples\n",
      "\n",
      "Start of epoch 183\n",
      "LOGITS:\n",
      "tfp.distributions.OrderedLogistic(\"sequential_distribution_lambda_OrderedLogistic\", batch_shape=[1000, 1], event_shape=[], dtype=int32)\n",
      "Training loss (for one batch) at step 0: 1.6525\n",
      "Seen so far: 1000 samples\n",
      "\n",
      "Start of epoch 184\n",
      "LOGITS:\n",
      "tfp.distributions.OrderedLogistic(\"sequential_distribution_lambda_OrderedLogistic\", batch_shape=[1000, 1], event_shape=[], dtype=int32)\n",
      "Training loss (for one batch) at step 0: 1.6521\n",
      "Seen so far: 1000 samples\n",
      "\n",
      "Start of epoch 185\n",
      "LOGITS:\n",
      "tfp.distributions.OrderedLogistic(\"sequential_distribution_lambda_OrderedLogistic\", batch_shape=[1000, 1], event_shape=[], dtype=int32)\n",
      "Training loss (for one batch) at step 0: 1.6517\n",
      "Seen so far: 1000 samples\n",
      "\n",
      "Start of epoch 186\n",
      "LOGITS:\n",
      "tfp.distributions.OrderedLogistic(\"sequential_distribution_lambda_OrderedLogistic\", batch_shape=[1000, 1], event_shape=[], dtype=int32)\n",
      "Training loss (for one batch) at step 0: 1.6513\n",
      "Seen so far: 1000 samples\n",
      "\n",
      "Start of epoch 187\n",
      "LOGITS:\n",
      "tfp.distributions.OrderedLogistic(\"sequential_distribution_lambda_OrderedLogistic\", batch_shape=[1000, 1], event_shape=[], dtype=int32)\n",
      "Training loss (for one batch) at step 0: 1.6509\n",
      "Seen so far: 1000 samples\n",
      "\n",
      "Start of epoch 188\n",
      "LOGITS:\n",
      "tfp.distributions.OrderedLogistic(\"sequential_distribution_lambda_OrderedLogistic\", batch_shape=[1000, 1], event_shape=[], dtype=int32)\n",
      "Training loss (for one batch) at step 0: 1.6505\n",
      "Seen so far: 1000 samples\n",
      "\n",
      "Start of epoch 189\n",
      "LOGITS:\n",
      "tfp.distributions.OrderedLogistic(\"sequential_distribution_lambda_OrderedLogistic\", batch_shape=[1000, 1], event_shape=[], dtype=int32)\n",
      "Training loss (for one batch) at step 0: 1.6502\n",
      "Seen so far: 1000 samples\n",
      "\n",
      "Start of epoch 190\n",
      "LOGITS:\n",
      "tfp.distributions.OrderedLogistic(\"sequential_distribution_lambda_OrderedLogistic\", batch_shape=[1000, 1], event_shape=[], dtype=int32)\n",
      "Training loss (for one batch) at step 0: 1.6498\n",
      "Seen so far: 1000 samples\n",
      "\n",
      "Start of epoch 191\n",
      "LOGITS:\n",
      "tfp.distributions.OrderedLogistic(\"sequential_distribution_lambda_OrderedLogistic\", batch_shape=[1000, 1], event_shape=[], dtype=int32)\n",
      "Training loss (for one batch) at step 0: 1.6494\n",
      "Seen so far: 1000 samples\n",
      "\n",
      "Start of epoch 192\n",
      "LOGITS:\n",
      "tfp.distributions.OrderedLogistic(\"sequential_distribution_lambda_OrderedLogistic\", batch_shape=[1000, 1], event_shape=[], dtype=int32)\n",
      "Training loss (for one batch) at step 0: 1.6490\n",
      "Seen so far: 1000 samples\n",
      "\n",
      "Start of epoch 193\n",
      "LOGITS:\n",
      "tfp.distributions.OrderedLogistic(\"sequential_distribution_lambda_OrderedLogistic\", batch_shape=[1000, 1], event_shape=[], dtype=int32)\n",
      "Training loss (for one batch) at step 0: 1.6486\n",
      "Seen so far: 1000 samples\n",
      "\n",
      "Start of epoch 194\n",
      "LOGITS:\n",
      "tfp.distributions.OrderedLogistic(\"sequential_distribution_lambda_OrderedLogistic\", batch_shape=[1000, 1], event_shape=[], dtype=int32)\n",
      "Training loss (for one batch) at step 0: 1.6483\n",
      "Seen so far: 1000 samples\n",
      "\n",
      "Start of epoch 195\n",
      "LOGITS:\n",
      "tfp.distributions.OrderedLogistic(\"sequential_distribution_lambda_OrderedLogistic\", batch_shape=[1000, 1], event_shape=[], dtype=int32)\n",
      "Training loss (for one batch) at step 0: 1.6479\n",
      "Seen so far: 1000 samples\n",
      "\n",
      "Start of epoch 196\n",
      "LOGITS:\n",
      "tfp.distributions.OrderedLogistic(\"sequential_distribution_lambda_OrderedLogistic\", batch_shape=[1000, 1], event_shape=[], dtype=int32)\n",
      "Training loss (for one batch) at step 0: 1.6475\n",
      "Seen so far: 1000 samples\n",
      "\n",
      "Start of epoch 197\n",
      "LOGITS:\n",
      "tfp.distributions.OrderedLogistic(\"sequential_distribution_lambda_OrderedLogistic\", batch_shape=[1000, 1], event_shape=[], dtype=int32)\n",
      "Training loss (for one batch) at step 0: 1.6471\n",
      "Seen so far: 1000 samples\n",
      "\n",
      "Start of epoch 198\n",
      "LOGITS:\n",
      "tfp.distributions.OrderedLogistic(\"sequential_distribution_lambda_OrderedLogistic\", batch_shape=[1000, 1], event_shape=[], dtype=int32)\n",
      "Training loss (for one batch) at step 0: 1.6468\n",
      "Seen so far: 1000 samples\n",
      "\n",
      "Start of epoch 199\n",
      "LOGITS:\n",
      "tfp.distributions.OrderedLogistic(\"sequential_distribution_lambda_OrderedLogistic\", batch_shape=[1000, 1], event_shape=[], dtype=int32)\n",
      "Training loss (for one batch) at step 0: 1.6464\n",
      "Seen so far: 1000 samples\n"
     ]
    }
   ],
   "source": [
    "clf = OrdinalRegression()\n",
    "clf.fit(X, y, use_gradient_tape=True, epochs=200, learning_rate=1e-3)\n",
    "# proba = clf.predict_proba(X)\n",
    "# y_predict = clf.predict(X)\n",
    "# print(proba)\n",
    "# print(y_predict)"
   ]
  },
  {
   "cell_type": "code",
   "execution_count": 20,
   "metadata": {},
   "outputs": [
    {
     "data": {
      "image/png": "[encoded data removed]",
      "text/plain": [
       "<Figure size 432x288 with 1 Axes>"
      ]
     },
     "metadata": {
      "needs_background": "light"
     },
     "output_type": "display_data"
    }
   ],
   "source": [
    "clf.plot_losses(flatten_epochs=True)"
   ]
  },
  {
   "cell_type": "code",
   "execution_count": 15,
   "metadata": {},
   "outputs": [
    {
     "name": "stdout",
     "output_type": "stream",
     "text": [
      "Model: \"sequential_1\"\n",
      "_________________________________________________________________\n",
      "Layer (type)                 Output Shape              Param #   \n",
      "=================================================================\n",
      "dense_1 (Dense)              (None, 1)                 3         \n",
      "_________________________________________________________________\n",
      "distribution_lambda_1 (Distr ((None, 1), (None, 1))    3         \n",
      "=================================================================\n",
      "Total params: 6\n",
      "Trainable params: 6\n",
      "Non-trainable params: 0\n",
      "_________________________________________________________________\n"
     ]
    }
   ],
   "source": [
    "clf.model.summary()"
   ]
  },
  {
   "cell_type": "code",
   "execution_count": 16,
   "metadata": {},
   "outputs": [
    {
     "data": {
      "text/plain": [
       "[<tf.Variable 'dense_1/kernel:0' shape=(2, 1) dtype=float32, numpy=\n",
       " array([[nan],\n",
       "        [nan]], dtype=float32)>,\n",
       " <tf.Variable 'dense_1/bias:0' shape=(1,) dtype=float32, numpy=array([nan], dtype=float32)>,\n",
       " <tf.Variable 'Variable:0' shape=(3,) dtype=float32, numpy=array([nan, nan, nan], dtype=float32)>]"
      ]
     },
     "execution_count": 16,
     "metadata": {},
     "output_type": "execute_result"
    }
   ],
   "source": [
    "clf.model.trainable_variables"
   ]
  },
  {
   "cell_type": "code",
   "execution_count": 23,
   "metadata": {},
   "outputs": [],
   "source": [
    "y_predict = clf.predict(X)"
   ]
  },
  {
   "cell_type": "code",
   "execution_count": 24,
   "metadata": {},
   "outputs": [
    {
     "data": {
      "image/png": "[encoded data removed]",
      "text/plain": [
       "<Figure size 432x288 with 2 Axes>"
      ]
     },
     "metadata": {
      "needs_background": "light"
     },
     "output_type": "display_data"
    }
   ],
   "source": [
    "cf_matrix = confusion_matrix(y, y_predict, normalize='true',labels=list(range(y.max()+1))) \n",
    "\n",
    "ax = sns.heatmap(cf_matrix, linewidths=1, annot=True, fmt='.2f')\n",
    "ax.set_ylabel(f'Actual')\n",
    "ax.set_xlabel(f'Predicted')\n",
    "plt.show()"
   ]
  },
  {
   "cell_type": "code",
   "execution_count": null,
   "metadata": {},
   "outputs": [],
   "source": [
    "clf.grid_search_variance()"
   ]
  },
  {
   "attachments": {},
   "cell_type": "markdown",
   "metadata": {},
   "source": [
    "## Sequence State 2--Gaussian with label noise"
   ]
  },
  {
   "attachments": {},
   "cell_type": "markdown",
   "metadata": {},
   "source": [
    "### Toy Data"
   ]
  },
  {
   "cell_type": "code",
   "execution_count": null,
   "metadata": {},
   "outputs": [],
   "source": [
    "state_2_with_noise_df = pd.read_csv('../toydata/simulated_data/features_from_state2_with_noise.csv')\n",
    "state_2_with_noise_df"
   ]
  },
  {
   "cell_type": "code",
   "execution_count": null,
   "metadata": {},
   "outputs": [],
   "source": [
    "from IPython.display import Image\n",
    "Image(filename='../toydata/simulated_data/features_from_state2_with_noise.png') "
   ]
  },
  {
   "cell_type": "code",
   "execution_count": null,
   "metadata": {},
   "outputs": [],
   "source": [
    "# scaler = MinMaxScaler()\n",
    "# X = scaler.fit_transform(state_2_df[['temperature_1', 'temperature_2']].values)\n",
    "X = state_2_with_noise_df[['temperature_1', 'temperature_2']].values\n",
    "y = state_2_with_noise_df['ordinal_label'].values\n",
    "print(f'X: {X.shape}')\n",
    "print(X)\n",
    "print(f'y: {y.shape}')\n",
    "print(y)"
   ]
  },
  {
   "attachments": {},
   "cell_type": "markdown",
   "metadata": {},
   "source": [
    "### Model"
   ]
  },
  {
   "cell_type": "code",
   "execution_count": null,
   "metadata": {},
   "outputs": [],
   "source": [
    "clf = OrdinalRegression(noise_variance = None, C=1, save_loss=True, random_state=10)\n",
    "clf.fit(X, y)\n",
    "proba = clf.predict_proba(X)\n",
    "y_predict = clf.predict(X)\n",
    "print(proba)\n",
    "print(y_predict)"
   ]
  },
  {
   "cell_type": "code",
   "execution_count": null,
   "metadata": {},
   "outputs": [],
   "source": [
    "plot_model(clf)"
   ]
  },
  {
   "cell_type": "code",
   "execution_count": null,
   "metadata": {},
   "outputs": [],
   "source": [
    "cf_matrix = confusion_matrix(y, y_predict, normalize='true',labels=list(range(y.max()+1))) \n",
    "\n",
    "ax = sns.heatmap(cf_matrix, linewidths=1, annot=True, fmt='.2f')\n",
    "ax.set_ylabel(f'Actual')\n",
    "ax.set_xlabel(f'Predicted')\n",
    "plt.show()"
   ]
  },
  {
   "attachments": {},
   "cell_type": "markdown",
   "metadata": {},
   "source": [
    "## Crescent Shapes"
   ]
  },
  {
   "attachments": {},
   "cell_type": "markdown",
   "metadata": {},
   "source": [
    "### Toy Data"
   ]
  },
  {
   "cell_type": "code",
   "execution_count": null,
   "metadata": {},
   "outputs": [],
   "source": [
    "cresent_df = pd.read_csv('../toydata/ordinal_data/crescent_shapes_4_labels.csv')\n",
    "cresent_df"
   ]
  },
  {
   "cell_type": "code",
   "execution_count": null,
   "metadata": {},
   "outputs": [],
   "source": [
    "from IPython.display import Image\n",
    "Image(filename='../toydata/ordinal_data/crescent_shapes_4_labels.png') "
   ]
  },
  {
   "cell_type": "code",
   "execution_count": null,
   "metadata": {},
   "outputs": [],
   "source": [
    "# scaler = MinMaxScaler()\n",
    "# X = scaler.fit_transform(state_2_df[['temperature_1', 'temperature_2']].values)\n",
    "X = cresent_df[['x1', 'x2']].values\n",
    "y = cresent_df['label'].values.astype(int)\n",
    "print(f'X: {X.shape}')\n",
    "print(X)\n",
    "print(f'y: {y.shape}')\n",
    "print(y)"
   ]
  },
  {
   "cell_type": "markdown",
   "metadata": {},
   "source": [
    "### Model"
   ]
  },
  {
   "cell_type": "code",
   "execution_count": null,
   "metadata": {},
   "outputs": [],
   "source": [
    "clf = OrdinalRegression(noise_variance = 1, C=1, save_loss=True, random_state=10)\n",
    "clf.fit(X, y)\n",
    "proba = clf.predict_proba(X)\n",
    "y_predict = clf.predict(X)\n",
    "print(proba)\n",
    "print(y_predict)"
   ]
  },
  {
   "cell_type": "code",
   "execution_count": null,
   "metadata": {},
   "outputs": [],
   "source": [
    "plot_model(clf)"
   ]
  },
  {
   "cell_type": "code",
   "execution_count": null,
   "metadata": {},
   "outputs": [],
   "source": [
    "cf_matrix = confusion_matrix(y, y_predict, normalize='true',labels=list(range(y.max()+1))) \n",
    "\n",
    "ax = sns.heatmap(cf_matrix, linewidths=1, annot=True, fmt='.2f')\n",
    "ax.set_ylabel(f'Actual')\n",
    "ax.set_xlabel(f'Predicted')\n",
    "plt.show()"
   ]
  },
  {
   "attachments": {},
   "cell_type": "markdown",
   "metadata": {},
   "source": [
    "## Concentric Circles"
   ]
  },
  {
   "attachments": {},
   "cell_type": "markdown",
   "metadata": {},
   "source": [
    "### Toy Data, Point Density Factor = 1"
   ]
  },
  {
   "cell_type": "code",
   "execution_count": null,
   "metadata": {},
   "outputs": [],
   "source": [
    "circles_df = pd.read_csv('../toydata/ordinal_data/concentric_circles_4_labels_1.0_densityfactor.csv')\n",
    "circles_df"
   ]
  },
  {
   "cell_type": "code",
   "execution_count": null,
   "metadata": {},
   "outputs": [],
   "source": [
    "from IPython.display import Image\n",
    "Image(filename='../toydata/ordinal_data/concentric_circles_4_labels_1.0_densityfactor.png') "
   ]
  },
  {
   "cell_type": "code",
   "execution_count": null,
   "metadata": {},
   "outputs": [],
   "source": [
    "# scaler = MinMaxScaler()\n",
    "# X = scaler.fit_transform(state_2_df[['temperature_1', 'temperature_2']].values)\n",
    "X = circles_df[['x1', 'x2']].values\n",
    "y = circles_df['ordinal_label'].values\n",
    "print(f'X: {X.shape}')\n",
    "print(X)\n",
    "print(f'y: {y.shape}')\n",
    "print(y)"
   ]
  },
  {
   "cell_type": "markdown",
   "metadata": {},
   "source": [
    "### Model"
   ]
  },
  {
   "cell_type": "code",
   "execution_count": null,
   "metadata": {},
   "outputs": [],
   "source": [
    "clf = OrdinalRegression(noise_variance = 1, C=1, save_loss=True, random_state=10)\n",
    "clf.fit(X, y)\n",
    "proba = clf.predict_proba(X)\n",
    "y_predict = clf.predict(X)\n",
    "print(proba)\n",
    "print(y_predict)"
   ]
  },
  {
   "cell_type": "code",
   "execution_count": null,
   "metadata": {},
   "outputs": [],
   "source": [
    "plot_model(clf)"
   ]
  },
  {
   "cell_type": "code",
   "execution_count": null,
   "metadata": {},
   "outputs": [],
   "source": [
    "cf_matrix = confusion_matrix(y, y_predict, normalize='true',labels=list(range(y.max()+1))) \n",
    "\n",
    "ax = sns.heatmap(cf_matrix, linewidths=1, annot=True, fmt='.2f')\n",
    "ax.set_ylabel(f'Actual')\n",
    "ax.set_xlabel(f'Predicted')\n",
    "plt.show()"
   ]
  },
  {
   "attachments": {},
   "cell_type": "markdown",
   "metadata": {},
   "source": [
    "## Concentric Semi Circles"
   ]
  },
  {
   "cell_type": "markdown",
   "metadata": {},
   "source": [
    "### Toy Data, Point Density Factor = 1"
   ]
  },
  {
   "cell_type": "code",
   "execution_count": null,
   "metadata": {},
   "outputs": [],
   "source": [
    "semi_circles_df = pd.read_csv('../toydata/ordinal_data/concentric_semi_circles_4_labels_1_densityfactor.csv')\n",
    "semi_circles_df"
   ]
  },
  {
   "cell_type": "code",
   "execution_count": null,
   "metadata": {},
   "outputs": [],
   "source": [
    "from IPython.display import Image\n",
    "Image(filename='../toydata/ordinal_data/concentric_semi_circles_4_labels_1_densityfactor.png') "
   ]
  },
  {
   "cell_type": "code",
   "execution_count": null,
   "metadata": {},
   "outputs": [],
   "source": [
    "# scaler = MinMaxScaler()\n",
    "# X = scaler.fit_transform(state_2_df[['temperature_1', 'temperature_2']].values)\n",
    "X = semi_circles_df[['x1', 'x2']].values\n",
    "y = semi_circles_df['ordinal_label'].values\n",
    "print(f'X: {X.shape}')\n",
    "print(X)\n",
    "print(f'y: {y.shape}')\n",
    "print(y)"
   ]
  },
  {
   "cell_type": "markdown",
   "metadata": {},
   "source": [
    "### Model"
   ]
  },
  {
   "cell_type": "code",
   "execution_count": null,
   "metadata": {},
   "outputs": [],
   "source": [
    "clf = OrdinalRegression(noise_variance = 10, C=1, save_loss=True, random_state=10)\n",
    "clf.fit(X, y)\n",
    "proba = clf.predict_proba(X)\n",
    "y_predict = clf.predict(X)\n",
    "print(proba)\n",
    "print(y_predict)"
   ]
  },
  {
   "cell_type": "code",
   "execution_count": null,
   "metadata": {},
   "outputs": [],
   "source": [
    "plot_model(clf)"
   ]
  },
  {
   "cell_type": "code",
   "execution_count": null,
   "metadata": {},
   "outputs": [],
   "source": [
    "cf_matrix = confusion_matrix(y, y_predict, normalize='true',labels=list(range(y.max()+1))) \n",
    "\n",
    "ax = sns.heatmap(cf_matrix, linewidths=1, annot=True, fmt='.2f')\n",
    "ax.set_ylabel(f'Actual')\n",
    "ax.set_xlabel(f'Predicted')\n",
    "plt.show()"
   ]
  },
  {
   "attachments": {},
   "cell_type": "markdown",
   "metadata": {},
   "source": [
    "## Stacked Gaussians"
   ]
  },
  {
   "attachments": {},
   "cell_type": "markdown",
   "metadata": {},
   "source": [
    "### Toy Data, Point Density Factor = 1, Mean scale = 4"
   ]
  },
  {
   "cell_type": "code",
   "execution_count": 5,
   "metadata": {},
   "outputs": [
    {
     "data": {
      "text/html": [
       "<div>\n",
       "<style scoped>\n",
       "    .dataframe tbody tr th:only-of-type {\n",
       "        vertical-align: middle;\n",
       "    }\n",
       "\n",
       "    .dataframe tbody tr th {\n",
       "        vertical-align: top;\n",
       "    }\n",
       "\n",
       "    .dataframe thead th {\n",
       "        text-align: right;\n",
       "    }\n",
       "</style>\n",
       "<table border=\"1\" class=\"dataframe\">\n",
       "  <thead>\n",
       "    <tr style=\"text-align: right;\">\n",
       "      <th></th>\n",
       "      <th>x1</th>\n",
       "      <th>x2</th>\n",
       "      <th>ordinal_label</th>\n",
       "    </tr>\n",
       "  </thead>\n",
       "  <tbody>\n",
       "    <tr>\n",
       "      <th>0</th>\n",
       "      <td>0.715279</td>\n",
       "      <td>1.883148</td>\n",
       "      <td>0</td>\n",
       "    </tr>\n",
       "    <tr>\n",
       "      <th>1</th>\n",
       "      <td>-0.008384</td>\n",
       "      <td>-2.185526</td>\n",
       "      <td>0</td>\n",
       "    </tr>\n",
       "    <tr>\n",
       "      <th>2</th>\n",
       "      <td>-0.720086</td>\n",
       "      <td>0.878702</td>\n",
       "      <td>0</td>\n",
       "    </tr>\n",
       "    <tr>\n",
       "      <th>3</th>\n",
       "      <td>0.108549</td>\n",
       "      <td>0.375490</td>\n",
       "      <td>0</td>\n",
       "    </tr>\n",
       "    <tr>\n",
       "      <th>4</th>\n",
       "      <td>-0.174600</td>\n",
       "      <td>0.006069</td>\n",
       "      <td>0</td>\n",
       "    </tr>\n",
       "    <tr>\n",
       "      <th>...</th>\n",
       "      <td>...</td>\n",
       "      <td>...</td>\n",
       "      <td>...</td>\n",
       "    </tr>\n",
       "    <tr>\n",
       "      <th>1995</th>\n",
       "      <td>1.150269</td>\n",
       "      <td>13.570840</td>\n",
       "      <td>3</td>\n",
       "    </tr>\n",
       "    <tr>\n",
       "      <th>1996</th>\n",
       "      <td>0.488751</td>\n",
       "      <td>12.953526</td>\n",
       "      <td>3</td>\n",
       "    </tr>\n",
       "    <tr>\n",
       "      <th>1997</th>\n",
       "      <td>-1.498064</td>\n",
       "      <td>12.627589</td>\n",
       "      <td>3</td>\n",
       "    </tr>\n",
       "    <tr>\n",
       "      <th>1998</th>\n",
       "      <td>1.287536</td>\n",
       "      <td>13.271711</td>\n",
       "      <td>3</td>\n",
       "    </tr>\n",
       "    <tr>\n",
       "      <th>1999</th>\n",
       "      <td>-0.054898</td>\n",
       "      <td>10.967138</td>\n",
       "      <td>3</td>\n",
       "    </tr>\n",
       "  </tbody>\n",
       "</table>\n",
       "<p>2000 rows × 3 columns</p>\n",
       "</div>"
      ],
      "text/plain": [
       "            x1         x2  ordinal_label\n",
       "0     0.715279   1.883148              0\n",
       "1    -0.008384  -2.185526              0\n",
       "2    -0.720086   0.878702              0\n",
       "3     0.108549   0.375490              0\n",
       "4    -0.174600   0.006069              0\n",
       "...        ...        ...            ...\n",
       "1995  1.150269  13.570840              3\n",
       "1996  0.488751  12.953526              3\n",
       "1997 -1.498064  12.627589              3\n",
       "1998  1.287536  13.271711              3\n",
       "1999 -0.054898  10.967138              3\n",
       "\n",
       "[2000 rows x 3 columns]"
      ]
     },
     "execution_count": 5,
     "metadata": {},
     "output_type": "execute_result"
    }
   ],
   "source": [
    "stacked_gaussian_df = pd.read_csv('../toydata/ordinal_data/stacked_gaussian_4_labels_1_densityfactor.csv')\n",
    "stacked_gaussian_df"
   ]
  },
  {
   "cell_type": "code",
   "execution_count": 6,
   "metadata": {},
   "outputs": [
    {
     "data": {
      "image/png": "[encoded data removed]",
      "text/plain": [
       "<IPython.core.display.Image object>"
      ]
     },
     "execution_count": 6,
     "metadata": {},
     "output_type": "execute_result"
    }
   ],
   "source": [
    "from IPython.display import Image\n",
    "Image(filename='../toydata/ordinal_data/stacked_gaussian_4_labels_1_densityfactor.png') "
   ]
  },
  {
   "cell_type": "code",
   "execution_count": 7,
   "metadata": {},
   "outputs": [
    {
     "name": "stdout",
     "output_type": "stream",
     "text": [
      "X: (2000, 2)\n",
      "[[ 7.15278974e-01  1.88314769e+00]\n",
      " [-8.38384993e-03 -2.18552605e+00]\n",
      " [-7.20085561e-01  8.78701761e-01]\n",
      " ...\n",
      " [-1.49806385e+00  1.26275894e+01]\n",
      " [ 1.28753594e+00  1.32717106e+01]\n",
      " [-5.48980805e-02  1.09671385e+01]]\n",
      "y: (2000,)\n",
      "[0 0 0 ... 3 3 3]\n"
     ]
    }
   ],
   "source": [
    "# scaler = MinMaxScaler()\n",
    "# X = scaler.fit_transform(state_2_df[['temperature_1', 'temperature_2']].values)\n",
    "X = stacked_gaussian_df[['x1', 'x2']].values\n",
    "y = stacked_gaussian_df['ordinal_label'].values\n",
    "print(f'X: {X.shape}')\n",
    "print(X)\n",
    "print(f'y: {y.shape}')\n",
    "print(y)"
   ]
  },
  {
   "cell_type": "markdown",
   "metadata": {},
   "source": [
    "### Model"
   ]
  },
  {
   "cell_type": "code",
   "execution_count": 9,
   "metadata": {},
   "outputs": [
    {
     "ename": "ValueError",
     "evalue": "object arrays are not supported",
     "output_type": "error",
     "traceback": [
      "\u001b[0;31m---------------------------------------------------------------------------\u001b[0m",
      "\u001b[0;31mValueError\u001b[0m                                Traceback (most recent call last)",
      "Cell \u001b[0;32mIn[9], line 2\u001b[0m\n\u001b[1;32m      1\u001b[0m clf \u001b[39m=\u001b[39m OrdinalRegression(noise_variance \u001b[39m=\u001b[39m \u001b[39m1\u001b[39m, C\u001b[39m=\u001b[39m\u001b[39m1\u001b[39m, save_loss\u001b[39m=\u001b[39m\u001b[39mTrue\u001b[39;00m, random_state\u001b[39m=\u001b[39m\u001b[39m10\u001b[39m)\n\u001b[0;32m----> 2\u001b[0m clf\u001b[39m.\u001b[39;49mfit(X, y)\n\u001b[1;32m      3\u001b[0m proba \u001b[39m=\u001b[39m clf\u001b[39m.\u001b[39mpredict_proba(X)\n\u001b[1;32m      4\u001b[0m y_predict \u001b[39m=\u001b[39m clf\u001b[39m.\u001b[39mpredict(X)\n",
      "File \u001b[0;32m~/Code/pchmm-missing-data-limited-labels/utils/ordinal_model/OrdinalRegression.py:276\u001b[0m, in \u001b[0;36mOrdinalRegression.fit\u001b[0;34m(self, X, y, fit_noise_variance)\u001b[0m\n\u001b[1;32m    274\u001b[0m \u001b[39mwith\u001b[39;00m \u001b[39mopen\u001b[39m(\u001b[39mself\u001b[39m\u001b[39m.\u001b[39mdirectory\u001b[39m.\u001b[39mjoinpath(\u001b[39m'\u001b[39m\u001b[39mneg_log_likelihood.csv\u001b[39m\u001b[39m'\u001b[39m), \u001b[39m'\u001b[39m\u001b[39mw\u001b[39m\u001b[39m'\u001b[39m) \u001b[39mas\u001b[39;00m f:\n\u001b[1;32m    275\u001b[0m     \u001b[39mprint\u001b[39m(\u001b[39m'\u001b[39m\u001b[39mIter,Neg_Log_Likelihood_per_sample\u001b[39m\u001b[39m'\u001b[39m, file\u001b[39m=\u001b[39mf)\n\u001b[0;32m--> 276\u001b[0m params \u001b[39m=\u001b[39m minimize(\n\u001b[1;32m    277\u001b[0m     fun\u001b[39m=\u001b[39;49mvalue_and_grad(loss_function),\n\u001b[1;32m    278\u001b[0m     x0\u001b[39m=\u001b[39;49minit_params,\n\u001b[1;32m    279\u001b[0m     jac\u001b[39m=\u001b[39;49m\u001b[39mTrue\u001b[39;49;00m,\n\u001b[1;32m    280\u001b[0m     method\u001b[39m=\u001b[39;49m\u001b[39m'\u001b[39;49m\u001b[39mL-BFGS-B\u001b[39;49m\u001b[39m'\u001b[39;49m,\n\u001b[1;32m    281\u001b[0m     callback\u001b[39m=\u001b[39;49mcallbackF,\n\u001b[1;32m    282\u001b[0m )\u001b[39m.\u001b[39mx\n\u001b[1;32m    284\u001b[0m \u001b[39m# Plot the neg log likelihood over time\u001b[39;00m\n\u001b[1;32m    285\u001b[0m \u001b[39mself\u001b[39m\u001b[39m.\u001b[39m_plot_log_likelihood()\n",
      "File \u001b[0;32m~/Code/pchmm-missing-data-limited-labels/venv/lib/python3.9/site-packages/scipy/optimize/_minimize.py:696\u001b[0m, in \u001b[0;36mminimize\u001b[0;34m(fun, x0, args, method, jac, hess, hessp, bounds, constraints, tol, callback, options)\u001b[0m\n\u001b[1;32m    693\u001b[0m     res \u001b[39m=\u001b[39m _minimize_newtoncg(fun, x0, args, jac, hess, hessp, callback,\n\u001b[1;32m    694\u001b[0m                              \u001b[39m*\u001b[39m\u001b[39m*\u001b[39moptions)\n\u001b[1;32m    695\u001b[0m \u001b[39melif\u001b[39;00m meth \u001b[39m==\u001b[39m \u001b[39m'\u001b[39m\u001b[39ml-bfgs-b\u001b[39m\u001b[39m'\u001b[39m:\n\u001b[0;32m--> 696\u001b[0m     res \u001b[39m=\u001b[39m _minimize_lbfgsb(fun, x0, args, jac, bounds,\n\u001b[1;32m    697\u001b[0m                            callback\u001b[39m=\u001b[39;49mcallback, \u001b[39m*\u001b[39;49m\u001b[39m*\u001b[39;49moptions)\n\u001b[1;32m    698\u001b[0m \u001b[39melif\u001b[39;00m meth \u001b[39m==\u001b[39m \u001b[39m'\u001b[39m\u001b[39mtnc\u001b[39m\u001b[39m'\u001b[39m:\n\u001b[1;32m    699\u001b[0m     res \u001b[39m=\u001b[39m _minimize_tnc(fun, x0, args, jac, bounds, callback\u001b[39m=\u001b[39mcallback,\n\u001b[1;32m    700\u001b[0m                         \u001b[39m*\u001b[39m\u001b[39m*\u001b[39moptions)\n",
      "File \u001b[0;32m~/Code/pchmm-missing-data-limited-labels/venv/lib/python3.9/site-packages/scipy/optimize/_lbfgsb_py.py:305\u001b[0m, in \u001b[0;36m_minimize_lbfgsb\u001b[0;34m(fun, x0, args, jac, bounds, disp, maxcor, ftol, gtol, eps, maxfun, maxiter, iprint, callback, maxls, finite_diff_rel_step, **unknown_options)\u001b[0m\n\u001b[1;32m    302\u001b[0m     \u001b[39melse\u001b[39;00m:\n\u001b[1;32m    303\u001b[0m         iprint \u001b[39m=\u001b[39m disp\n\u001b[0;32m--> 305\u001b[0m sf \u001b[39m=\u001b[39m _prepare_scalar_function(fun, x0, jac\u001b[39m=\u001b[39;49mjac, args\u001b[39m=\u001b[39;49margs, epsilon\u001b[39m=\u001b[39;49meps,\n\u001b[1;32m    306\u001b[0m                               bounds\u001b[39m=\u001b[39;49mnew_bounds,\n\u001b[1;32m    307\u001b[0m                               finite_diff_rel_step\u001b[39m=\u001b[39;49mfinite_diff_rel_step)\n\u001b[1;32m    309\u001b[0m func_and_grad \u001b[39m=\u001b[39m sf\u001b[39m.\u001b[39mfun_and_grad\n\u001b[1;32m    311\u001b[0m fortran_int \u001b[39m=\u001b[39m _lbfgsb\u001b[39m.\u001b[39mtypes\u001b[39m.\u001b[39mintvar\u001b[39m.\u001b[39mdtype\n",
      "File \u001b[0;32m~/Code/pchmm-missing-data-limited-labels/venv/lib/python3.9/site-packages/scipy/optimize/_optimize.py:332\u001b[0m, in \u001b[0;36m_prepare_scalar_function\u001b[0;34m(fun, x0, jac, args, bounds, epsilon, finite_diff_rel_step, hess)\u001b[0m\n\u001b[1;32m    328\u001b[0m     bounds \u001b[39m=\u001b[39m (\u001b[39m-\u001b[39mnp\u001b[39m.\u001b[39minf, np\u001b[39m.\u001b[39minf)\n\u001b[1;32m    330\u001b[0m \u001b[39m# ScalarFunction caches. Reuse of fun(x) during grad\u001b[39;00m\n\u001b[1;32m    331\u001b[0m \u001b[39m# calculation reduces overall function evaluations.\u001b[39;00m\n\u001b[0;32m--> 332\u001b[0m sf \u001b[39m=\u001b[39m ScalarFunction(fun, x0, args, grad, hess,\n\u001b[1;32m    333\u001b[0m                     finite_diff_rel_step, bounds, epsilon\u001b[39m=\u001b[39;49mepsilon)\n\u001b[1;32m    335\u001b[0m \u001b[39mreturn\u001b[39;00m sf\n",
      "File \u001b[0;32m~/Code/pchmm-missing-data-limited-labels/venv/lib/python3.9/site-packages/scipy/optimize/_differentiable_functions.py:158\u001b[0m, in \u001b[0;36mScalarFunction.__init__\u001b[0;34m(self, fun, x0, args, grad, hess, finite_diff_rel_step, finite_diff_bounds, epsilon)\u001b[0m\n\u001b[1;32m    155\u001b[0m     \u001b[39mself\u001b[39m\u001b[39m.\u001b[39mf \u001b[39m=\u001b[39m fun_wrapped(\u001b[39mself\u001b[39m\u001b[39m.\u001b[39mx)\n\u001b[1;32m    157\u001b[0m \u001b[39mself\u001b[39m\u001b[39m.\u001b[39m_update_fun_impl \u001b[39m=\u001b[39m update_fun\n\u001b[0;32m--> 158\u001b[0m \u001b[39mself\u001b[39;49m\u001b[39m.\u001b[39;49m_update_fun()\n\u001b[1;32m    160\u001b[0m \u001b[39m# Gradient evaluation\u001b[39;00m\n\u001b[1;32m    161\u001b[0m \u001b[39mif\u001b[39;00m callable(grad):\n",
      "File \u001b[0;32m~/Code/pchmm-missing-data-limited-labels/venv/lib/python3.9/site-packages/scipy/optimize/_differentiable_functions.py:251\u001b[0m, in \u001b[0;36mScalarFunction._update_fun\u001b[0;34m(self)\u001b[0m\n\u001b[1;32m    249\u001b[0m \u001b[39mdef\u001b[39;00m \u001b[39m_update_fun\u001b[39m(\u001b[39mself\u001b[39m):\n\u001b[1;32m    250\u001b[0m     \u001b[39mif\u001b[39;00m \u001b[39mnot\u001b[39;00m \u001b[39mself\u001b[39m\u001b[39m.\u001b[39mf_updated:\n\u001b[0;32m--> 251\u001b[0m         \u001b[39mself\u001b[39;49m\u001b[39m.\u001b[39;49m_update_fun_impl()\n\u001b[1;32m    252\u001b[0m         \u001b[39mself\u001b[39m\u001b[39m.\u001b[39mf_updated \u001b[39m=\u001b[39m \u001b[39mTrue\u001b[39;00m\n",
      "File \u001b[0;32m~/Code/pchmm-missing-data-limited-labels/venv/lib/python3.9/site-packages/scipy/optimize/_differentiable_functions.py:155\u001b[0m, in \u001b[0;36mScalarFunction.__init__.<locals>.update_fun\u001b[0;34m()\u001b[0m\n\u001b[1;32m    154\u001b[0m \u001b[39mdef\u001b[39;00m \u001b[39mupdate_fun\u001b[39m():\n\u001b[0;32m--> 155\u001b[0m     \u001b[39mself\u001b[39m\u001b[39m.\u001b[39mf \u001b[39m=\u001b[39m fun_wrapped(\u001b[39mself\u001b[39;49m\u001b[39m.\u001b[39;49mx)\n",
      "File \u001b[0;32m~/Code/pchmm-missing-data-limited-labels/venv/lib/python3.9/site-packages/scipy/optimize/_differentiable_functions.py:137\u001b[0m, in \u001b[0;36mScalarFunction.__init__.<locals>.fun_wrapped\u001b[0;34m(x)\u001b[0m\n\u001b[1;32m    133\u001b[0m \u001b[39mself\u001b[39m\u001b[39m.\u001b[39mnfev \u001b[39m+\u001b[39m\u001b[39m=\u001b[39m \u001b[39m1\u001b[39m\n\u001b[1;32m    134\u001b[0m \u001b[39m# Send a copy because the user may overwrite it.\u001b[39;00m\n\u001b[1;32m    135\u001b[0m \u001b[39m# Overwriting results in undefined behaviour because\u001b[39;00m\n\u001b[1;32m    136\u001b[0m \u001b[39m# fun(self.x) will change self.x, with the two no longer linked.\u001b[39;00m\n\u001b[0;32m--> 137\u001b[0m fx \u001b[39m=\u001b[39m fun(np\u001b[39m.\u001b[39;49mcopy(x), \u001b[39m*\u001b[39;49margs)\n\u001b[1;32m    138\u001b[0m \u001b[39m# Make sure the function returns a true scalar\u001b[39;00m\n\u001b[1;32m    139\u001b[0m \u001b[39mif\u001b[39;00m \u001b[39mnot\u001b[39;00m np\u001b[39m.\u001b[39misscalar(fx):\n",
      "File \u001b[0;32m~/Code/pchmm-missing-data-limited-labels/venv/lib/python3.9/site-packages/scipy/optimize/_optimize.py:76\u001b[0m, in \u001b[0;36mMemoizeJac.__call__\u001b[0;34m(self, x, *args)\u001b[0m\n\u001b[1;32m     74\u001b[0m \u001b[39mdef\u001b[39;00m \u001b[39m__call__\u001b[39m(\u001b[39mself\u001b[39m, x, \u001b[39m*\u001b[39margs):\n\u001b[1;32m     75\u001b[0m     \u001b[39m\"\"\" returns the function value \"\"\"\u001b[39;00m\n\u001b[0;32m---> 76\u001b[0m     \u001b[39mself\u001b[39;49m\u001b[39m.\u001b[39;49m_compute_if_needed(x, \u001b[39m*\u001b[39;49margs)\n\u001b[1;32m     77\u001b[0m     \u001b[39mreturn\u001b[39;00m \u001b[39mself\u001b[39m\u001b[39m.\u001b[39m_value\n",
      "File \u001b[0;32m~/Code/pchmm-missing-data-limited-labels/venv/lib/python3.9/site-packages/scipy/optimize/_optimize.py:70\u001b[0m, in \u001b[0;36mMemoizeJac._compute_if_needed\u001b[0;34m(self, x, *args)\u001b[0m\n\u001b[1;32m     68\u001b[0m \u001b[39mif\u001b[39;00m \u001b[39mnot\u001b[39;00m np\u001b[39m.\u001b[39mall(x \u001b[39m==\u001b[39m \u001b[39mself\u001b[39m\u001b[39m.\u001b[39mx) \u001b[39mor\u001b[39;00m \u001b[39mself\u001b[39m\u001b[39m.\u001b[39m_value \u001b[39mis\u001b[39;00m \u001b[39mNone\u001b[39;00m \u001b[39mor\u001b[39;00m \u001b[39mself\u001b[39m\u001b[39m.\u001b[39mjac \u001b[39mis\u001b[39;00m \u001b[39mNone\u001b[39;00m:\n\u001b[1;32m     69\u001b[0m     \u001b[39mself\u001b[39m\u001b[39m.\u001b[39mx \u001b[39m=\u001b[39m np\u001b[39m.\u001b[39masarray(x)\u001b[39m.\u001b[39mcopy()\n\u001b[0;32m---> 70\u001b[0m     fg \u001b[39m=\u001b[39m \u001b[39mself\u001b[39;49m\u001b[39m.\u001b[39;49mfun(x, \u001b[39m*\u001b[39;49margs)\n\u001b[1;32m     71\u001b[0m     \u001b[39mself\u001b[39m\u001b[39m.\u001b[39mjac \u001b[39m=\u001b[39m fg[\u001b[39m1\u001b[39m]\n\u001b[1;32m     72\u001b[0m     \u001b[39mself\u001b[39m\u001b[39m.\u001b[39m_value \u001b[39m=\u001b[39m fg[\u001b[39m0\u001b[39m]\n",
      "File \u001b[0;32m~/Code/pchmm-missing-data-limited-labels/venv/lib/python3.9/site-packages/autograd/wrap_util.py:20\u001b[0m, in \u001b[0;36munary_to_nary.<locals>.nary_operator.<locals>.nary_f\u001b[0;34m(*args, **kwargs)\u001b[0m\n\u001b[1;32m     18\u001b[0m \u001b[39melse\u001b[39;00m:\n\u001b[1;32m     19\u001b[0m     x \u001b[39m=\u001b[39m \u001b[39mtuple\u001b[39m(args[i] \u001b[39mfor\u001b[39;00m i \u001b[39min\u001b[39;00m argnum)\n\u001b[0;32m---> 20\u001b[0m \u001b[39mreturn\u001b[39;00m unary_operator(unary_f, x, \u001b[39m*\u001b[39;49mnary_op_args, \u001b[39m*\u001b[39;49m\u001b[39m*\u001b[39;49mnary_op_kwargs)\n",
      "File \u001b[0;32m~/Code/pchmm-missing-data-limited-labels/venv/lib/python3.9/site-packages/autograd/differential_operators.py:138\u001b[0m, in \u001b[0;36mvalue_and_grad\u001b[0;34m(fun, x)\u001b[0m\n\u001b[1;32m    134\u001b[0m \u001b[39m@unary_to_nary\u001b[39m\n\u001b[1;32m    135\u001b[0m \u001b[39mdef\u001b[39;00m \u001b[39mvalue_and_grad\u001b[39m(fun, x):\n\u001b[1;32m    136\u001b[0m     \u001b[39m\"\"\"Returns a function that returns both value and gradient. Suitable for use\u001b[39;00m\n\u001b[1;32m    137\u001b[0m \u001b[39m    in scipy.optimize\"\"\"\u001b[39;00m\n\u001b[0;32m--> 138\u001b[0m     vjp, ans \u001b[39m=\u001b[39m _make_vjp(fun, x)\n\u001b[1;32m    139\u001b[0m     \u001b[39mif\u001b[39;00m \u001b[39mnot\u001b[39;00m vspace(ans)\u001b[39m.\u001b[39msize \u001b[39m==\u001b[39m \u001b[39m1\u001b[39m:\n\u001b[1;32m    140\u001b[0m         \u001b[39mraise\u001b[39;00m \u001b[39mTypeError\u001b[39;00m(\u001b[39m\"\u001b[39m\u001b[39mvalue_and_grad only applies to real scalar-output \u001b[39m\u001b[39m\"\u001b[39m\n\u001b[1;32m    141\u001b[0m                         \u001b[39m\"\u001b[39m\u001b[39mfunctions. Try jacobian, elementwise_grad or \u001b[39m\u001b[39m\"\u001b[39m\n\u001b[1;32m    142\u001b[0m                         \u001b[39m\"\u001b[39m\u001b[39mholomorphic_grad.\u001b[39m\u001b[39m\"\u001b[39m)\n",
      "File \u001b[0;32m~/Code/pchmm-missing-data-limited-labels/venv/lib/python3.9/site-packages/autograd/core.py:10\u001b[0m, in \u001b[0;36mmake_vjp\u001b[0;34m(fun, x)\u001b[0m\n\u001b[1;32m      8\u001b[0m \u001b[39mdef\u001b[39;00m \u001b[39mmake_vjp\u001b[39m(fun, x):\n\u001b[1;32m      9\u001b[0m     start_node \u001b[39m=\u001b[39m VJPNode\u001b[39m.\u001b[39mnew_root()\n\u001b[0;32m---> 10\u001b[0m     end_value, end_node \u001b[39m=\u001b[39m  trace(start_node, fun, x)\n\u001b[1;32m     11\u001b[0m     \u001b[39mif\u001b[39;00m end_node \u001b[39mis\u001b[39;00m \u001b[39mNone\u001b[39;00m:\n\u001b[1;32m     12\u001b[0m         \u001b[39mdef\u001b[39;00m \u001b[39mvjp\u001b[39m(g): \u001b[39mreturn\u001b[39;00m vspace(x)\u001b[39m.\u001b[39mzeros()\n",
      "File \u001b[0;32m~/Code/pchmm-missing-data-limited-labels/venv/lib/python3.9/site-packages/autograd/tracer.py:10\u001b[0m, in \u001b[0;36mtrace\u001b[0;34m(start_node, fun, x)\u001b[0m\n\u001b[1;32m      8\u001b[0m \u001b[39mwith\u001b[39;00m trace_stack\u001b[39m.\u001b[39mnew_trace() \u001b[39mas\u001b[39;00m t:\n\u001b[1;32m      9\u001b[0m     start_box \u001b[39m=\u001b[39m new_box(x, t, start_node)\n\u001b[0;32m---> 10\u001b[0m     end_box \u001b[39m=\u001b[39m fun(start_box)\n\u001b[1;32m     11\u001b[0m     \u001b[39mif\u001b[39;00m isbox(end_box) \u001b[39mand\u001b[39;00m end_box\u001b[39m.\u001b[39m_trace \u001b[39m==\u001b[39m start_box\u001b[39m.\u001b[39m_trace:\n\u001b[1;32m     12\u001b[0m         \u001b[39mreturn\u001b[39;00m end_box\u001b[39m.\u001b[39m_value, end_box\u001b[39m.\u001b[39m_node\n",
      "File \u001b[0;32m~/Code/pchmm-missing-data-limited-labels/venv/lib/python3.9/site-packages/autograd/wrap_util.py:15\u001b[0m, in \u001b[0;36munary_to_nary.<locals>.nary_operator.<locals>.nary_f.<locals>.unary_f\u001b[0;34m(x)\u001b[0m\n\u001b[1;32m     13\u001b[0m \u001b[39melse\u001b[39;00m:\n\u001b[1;32m     14\u001b[0m     subargs \u001b[39m=\u001b[39m subvals(args, \u001b[39mzip\u001b[39m(argnum, x))\n\u001b[0;32m---> 15\u001b[0m \u001b[39mreturn\u001b[39;00m fun(\u001b[39m*\u001b[39;49msubargs, \u001b[39m*\u001b[39;49m\u001b[39m*\u001b[39;49mkwargs)\n",
      "File \u001b[0;32m~/Code/pchmm-missing-data-limited-labels/utils/ordinal_model/OrdinalRegression.py:249\u001b[0m, in \u001b[0;36mOrdinalRegression.fit.<locals>.loss_function\u001b[0;34m(params)\u001b[0m\n\u001b[1;32m    246\u001b[0m w \u001b[39m=\u001b[39m params[R:]\n\u001b[1;32m    248\u001b[0m \u001b[39m# Return negative log-likelihood with complexity penalty (optional)\u001b[39;00m\n\u001b[0;32m--> 249\u001b[0m \u001b[39mreturn\u001b[39;00m \u001b[39m-\u001b[39m\u001b[39mself\u001b[39;49m\u001b[39m.\u001b[39;49mlog_likelihood(variance, w, b, X_transformed, y) \u001b[39m+\u001b[39m \u001b[39mself\u001b[39m\u001b[39m.\u001b[39mC \u001b[39m*\u001b[39m ag_np\u001b[39m.\u001b[39msum(b\u001b[39m*\u001b[39m\u001b[39m*\u001b[39m\u001b[39m2\u001b[39m)\n",
      "File \u001b[0;32m~/Code/pchmm-missing-data-limited-labels/utils/ordinal_model/OrdinalRegression.py:400\u001b[0m, in \u001b[0;36mOrdinalRegression.log_likelihood\u001b[0;34m(self, variance, w, b, X, y)\u001b[0m\n\u001b[1;32m    395\u001b[0m N \u001b[39m=\u001b[39m X\u001b[39m.\u001b[39mshape[\u001b[39m0\u001b[39m]\n\u001b[1;32m    397\u001b[0m \u001b[39m# Log Likelihood\u001b[39;00m\n\u001b[1;32m    398\u001b[0m \u001b[39m# proba_NR = self.log_proba(variance, w, b, X)\u001b[39;00m\n\u001b[1;32m    399\u001b[0m \u001b[39m# log_likelihood_N = ag_np.log(proba_NR[ag_np.arange(N), y] + 1e-7)\u001b[39;00m\n\u001b[0;32m--> 400\u001b[0m log_proba_NR \u001b[39m=\u001b[39m \u001b[39mself\u001b[39;49m\u001b[39m.\u001b[39;49mlog_proba(variance, w, b, X)\n\u001b[1;32m    401\u001b[0m \u001b[39m# log_proba_NR = ag_np.log(self.proba(variance, w, b, X))\u001b[39;00m\n\u001b[1;32m    402\u001b[0m log_likelihood_N \u001b[39m=\u001b[39m log_proba_NR[ag_np\u001b[39m.\u001b[39marange(N), y]\n",
      "File \u001b[0;32m~/Code/pchmm-missing-data-limited-labels/utils/ordinal_model/OrdinalRegression.py:483\u001b[0m, in \u001b[0;36mOrdinalRegression.log_proba\u001b[0;34m(self, variance, w, b, X)\u001b[0m\n\u001b[1;32m    480\u001b[0m log_cdf_NR_1 \u001b[39m=\u001b[39m ag_stats\u001b[39m.\u001b[39mnorm\u001b[39m.\u001b[39mlogcdf(z_matrix_NR_1)\n\u001b[1;32m    481\u001b[0m log_cdf_NR_2 \u001b[39m=\u001b[39m ag_stats\u001b[39m.\u001b[39mnorm\u001b[39m.\u001b[39mlogcdf(z_matrix_NR_2)\n\u001b[0;32m--> 483\u001b[0m log_proba_NR \u001b[39m=\u001b[39m ag_special\u001b[39m.\u001b[39;49mlogsumexp(\n\u001b[1;32m    484\u001b[0m     a\u001b[39m=\u001b[39;49mag_np\u001b[39m.\u001b[39;49mstack((log_cdf_NR_1, log_cdf_NR_2), axis\u001b[39m=\u001b[39;49m\u001b[39m-\u001b[39;49m\u001b[39m1\u001b[39;49m),\n\u001b[1;32m    485\u001b[0m     axis\u001b[39m=\u001b[39;49m\u001b[39m2\u001b[39;49m,\n\u001b[1;32m    486\u001b[0m     b\u001b[39m=\u001b[39;49mag_np\u001b[39m.\u001b[39;49marray([\u001b[39m1\u001b[39;49m, \u001b[39m-\u001b[39;49m\u001b[39m1\u001b[39;49m]),\n\u001b[1;32m    487\u001b[0m )\n\u001b[1;32m    488\u001b[0m \u001b[39m# log_proba_NR = ag_np.log(\u001b[39;00m\n\u001b[1;32m    489\u001b[0m \u001b[39m#     ag_np.exp(log_cdf_NR_1) - ag_np.exp(log_cdf_NR_1))\u001b[39;00m\n\u001b[1;32m    490\u001b[0m \n\u001b[1;32m    491\u001b[0m \u001b[39m# log_proba_NR = cdf_NR_1 - cdf_NR_2\u001b[39;00m\n\u001b[1;32m    493\u001b[0m \u001b[39mreturn\u001b[39;00m log_proba_NR\n",
      "File \u001b[0;32m~/Code/pchmm-missing-data-limited-labels/venv/lib/python3.9/site-packages/autograd/tracer.py:48\u001b[0m, in \u001b[0;36mprimitive.<locals>.f_wrapped\u001b[0;34m(*args, **kwargs)\u001b[0m\n\u001b[1;32m     46\u001b[0m     \u001b[39mreturn\u001b[39;00m new_box(ans, trace, node)\n\u001b[1;32m     47\u001b[0m \u001b[39melse\u001b[39;00m:\n\u001b[0;32m---> 48\u001b[0m     \u001b[39mreturn\u001b[39;00m f_raw(\u001b[39m*\u001b[39;49margs, \u001b[39m*\u001b[39;49m\u001b[39m*\u001b[39;49mkwargs)\n",
      "File \u001b[0;32m~/Code/pchmm-missing-data-limited-labels/venv/lib/python3.9/site-packages/scipy/special/_logsumexp.py:93\u001b[0m, in \u001b[0;36mlogsumexp\u001b[0;34m(a, axis, b, keepdims, return_sign)\u001b[0m\n\u001b[1;32m      7\u001b[0m \u001b[39mdef\u001b[39;00m \u001b[39mlogsumexp\u001b[39m(a, axis\u001b[39m=\u001b[39m\u001b[39mNone\u001b[39;00m, b\u001b[39m=\u001b[39m\u001b[39mNone\u001b[39;00m, keepdims\u001b[39m=\u001b[39m\u001b[39mFalse\u001b[39;00m, return_sign\u001b[39m=\u001b[39m\u001b[39mFalse\u001b[39;00m):\n\u001b[1;32m      8\u001b[0m     \u001b[39m\"\"\"Compute the log of the sum of exponentials of input elements.\u001b[39;00m\n\u001b[1;32m      9\u001b[0m \n\u001b[1;32m     10\u001b[0m \u001b[39m    Parameters\u001b[39;00m\n\u001b[0;32m   (...)\u001b[0m\n\u001b[1;32m     91\u001b[0m \n\u001b[1;32m     92\u001b[0m \u001b[39m    \"\"\"\u001b[39;00m\n\u001b[0;32m---> 93\u001b[0m     a \u001b[39m=\u001b[39m _asarray_validated(a, check_finite\u001b[39m=\u001b[39;49m\u001b[39mFalse\u001b[39;49;00m)\n\u001b[1;32m     94\u001b[0m     \u001b[39mif\u001b[39;00m b \u001b[39mis\u001b[39;00m \u001b[39mnot\u001b[39;00m \u001b[39mNone\u001b[39;00m:\n\u001b[1;32m     95\u001b[0m         a, b \u001b[39m=\u001b[39m np\u001b[39m.\u001b[39mbroadcast_arrays(a, b)\n",
      "File \u001b[0;32m~/Code/pchmm-missing-data-limited-labels/venv/lib/python3.9/site-packages/scipy/_lib/_util.py:255\u001b[0m, in \u001b[0;36m_asarray_validated\u001b[0;34m(a, check_finite, sparse_ok, objects_ok, mask_ok, as_inexact)\u001b[0m\n\u001b[1;32m    253\u001b[0m \u001b[39mif\u001b[39;00m \u001b[39mnot\u001b[39;00m objects_ok:\n\u001b[1;32m    254\u001b[0m     \u001b[39mif\u001b[39;00m a\u001b[39m.\u001b[39mdtype \u001b[39mis\u001b[39;00m np\u001b[39m.\u001b[39mdtype(\u001b[39m'\u001b[39m\u001b[39mO\u001b[39m\u001b[39m'\u001b[39m):\n\u001b[0;32m--> 255\u001b[0m         \u001b[39mraise\u001b[39;00m \u001b[39mValueError\u001b[39;00m(\u001b[39m'\u001b[39m\u001b[39mobject arrays are not supported\u001b[39m\u001b[39m'\u001b[39m)\n\u001b[1;32m    256\u001b[0m \u001b[39mif\u001b[39;00m as_inexact:\n\u001b[1;32m    257\u001b[0m     \u001b[39mif\u001b[39;00m \u001b[39mnot\u001b[39;00m np\u001b[39m.\u001b[39missubdtype(a\u001b[39m.\u001b[39mdtype, np\u001b[39m.\u001b[39minexact):\n",
      "\u001b[0;31mValueError\u001b[0m: object arrays are not supported"
     ]
    }
   ],
   "source": [
    "clf = OrdinalRegression(noise_variance = 1, C=1, save_loss=True, random_state=10)\n",
    "clf.fit(X, y)\n",
    "proba = clf.predict_proba(X)\n",
    "y_predict = clf.predict(X)\n",
    "print(proba)\n",
    "print(y_predict)"
   ]
  },
  {
   "cell_type": "code",
   "execution_count": 16,
   "metadata": {},
   "outputs": [
    {
     "data": {
      "text/plain": [
       "numpy.ndarray"
      ]
     },
     "execution_count": 16,
     "metadata": {},
     "output_type": "execute_result"
    }
   ],
   "source": [
    "log_proba = clf.predict_log_proba(X)\n",
    "type(proba)"
   ]
  },
  {
   "cell_type": "code",
   "execution_count": 19,
   "metadata": {},
   "outputs": [
    {
     "data": {
      "text/plain": [
       "array([ 1.11022302e-16,  4.58617519e-17,  0.00000000e+00, ...,\n",
       "        5.20417043e-18, -8.98261500e-17,  8.32667268e-17])"
      ]
     },
     "execution_count": 19,
     "metadata": {},
     "output_type": "execute_result"
    }
   ],
   "source": [
    "logsumexp(log_proba, axis=1)"
   ]
  },
  {
   "cell_type": "code",
   "execution_count": 16,
   "metadata": {},
   "outputs": [
    {
     "data": {
      "text/plain": [
       "array([3.9999992e-07, 3.9999992e-07, 3.9999992e-07, ..., 3.9999992e-07,\n",
       "       3.9999992e-07, 3.9999992e-07])"
      ]
     },
     "execution_count": 16,
     "metadata": {},
     "output_type": "execute_result"
    }
   ],
   "source": [
    "np.log(np.sum(proba, axis=1))"
   ]
  },
  {
   "cell_type": "code",
   "execution_count": 9,
   "metadata": {},
   "outputs": [
    {
     "data": {
      "image/png": "[encoded data removed]",
      "text/plain": [
       "<Figure size 500x500 with 2 Axes>"
      ]
     },
     "metadata": {},
     "output_type": "display_data"
    }
   ],
   "source": [
    "plot_model(clf)"
   ]
  },
  {
   "cell_type": "code",
   "execution_count": 10,
   "metadata": {},
   "outputs": [
    {
     "data": {
      "image/png": "[encoded data removed]",
      "text/plain": [
       "<Figure size 640x480 with 2 Axes>"
      ]
     },
     "metadata": {},
     "output_type": "display_data"
    }
   ],
   "source": [
    "cf_matrix = confusion_matrix(y, y_predict, normalize='true',labels=list(range(y.max()+1))) \n",
    "\n",
    "ax = sns.heatmap(cf_matrix, linewidths=1, annot=True, fmt='.2f')\n",
    "ax.set_ylabel(f'Actual')\n",
    "ax.set_xlabel(f'Predicted')\n",
    "plt.show()"
   ]
  },
  {
   "cell_type": "code",
   "execution_count": null,
   "metadata": {},
   "outputs": [],
   "source": [
    "min_variance = clf.find_global_minimum_variance(iter=50)"
   ]
  },
  {
   "attachments": {},
   "cell_type": "markdown",
   "metadata": {},
   "source": [
    "### Toy Data, Point Density Factor = 0.5, Mean scale = 2"
   ]
  },
  {
   "cell_type": "code",
   "execution_count": null,
   "metadata": {},
   "outputs": [],
   "source": [
    "stacked_gaussian_df = pd.read_csv('../toydata/ordinal_data/stacked_gaussian_4_labels_0.5_densityfactor_2_meanscale.csv')\n",
    "stacked_gaussian_df"
   ]
  },
  {
   "cell_type": "code",
   "execution_count": null,
   "metadata": {},
   "outputs": [],
   "source": [
    "from IPython.display import Image\n",
    "Image(filename='../toydata/ordinal_data/stacked_gaussian_4_labels_0.5_densityfactor_2_meanscale.png') "
   ]
  },
  {
   "cell_type": "code",
   "execution_count": null,
   "metadata": {},
   "outputs": [],
   "source": [
    "# scaler = MinMaxScaler()\n",
    "# X = scaler.fit_transform(state_2_df[['temperature_1', 'temperature_2']].values)\n",
    "X = stacked_gaussian_df[['x1', 'x2']].values\n",
    "y = stacked_gaussian_df['ordinal_label'].values\n",
    "print(f'X: {X.shape}')\n",
    "print(X)\n",
    "print(f'y: {y.shape}')\n",
    "print(y)"
   ]
  },
  {
   "cell_type": "markdown",
   "metadata": {},
   "source": [
    "### Model"
   ]
  },
  {
   "cell_type": "code",
   "execution_count": null,
   "metadata": {},
   "outputs": [],
   "source": [
    "clf = OrdinalRegression(noise_variance = 1, C=1, save_loss=True, random_state=10)\n",
    "clf.fit(X, y)\n",
    "proba = clf.predict_proba(X)\n",
    "y_predict = clf.predict(X)\n",
    "print(proba)\n",
    "print(y_predict)"
   ]
  },
  {
   "cell_type": "code",
   "execution_count": null,
   "metadata": {},
   "outputs": [],
   "source": [
    "plot_model(clf)"
   ]
  },
  {
   "cell_type": "code",
   "execution_count": null,
   "metadata": {},
   "outputs": [],
   "source": [
    "cf_matrix = confusion_matrix(y, y_predict, normalize='true',labels=list(range(y.max()+1))) \n",
    "\n",
    "ax = sns.heatmap(cf_matrix, linewidths=1, annot=True, fmt='.2f')\n",
    "ax.set_ylabel(f'Actual')\n",
    "ax.set_xlabel(f'Predicted')\n",
    "plt.show()"
   ]
  },
  {
   "cell_type": "code",
   "execution_count": null,
   "metadata": {},
   "outputs": [],
   "source": [
    "min_variance = clf.find_global_minimum_variance()"
   ]
  },
  {
   "cell_type": "code",
   "execution_count": null,
   "metadata": {},
   "outputs": [],
   "source": [
    "clf.grid_search_variance()"
   ]
  },
  {
   "cell_type": "markdown",
   "metadata": {},
   "source": [
    "## Concentric Semi Circles"
   ]
  },
  {
   "cell_type": "markdown",
   "metadata": {},
   "source": [
    "### Toy Data, Point Density Factor = 1"
   ]
  },
  {
   "cell_type": "code",
   "execution_count": null,
   "metadata": {},
   "outputs": [],
   "source": [
    "semi_circles_df = pd.read_csv('../toydata/ordinal_data/concentric_semi_circles_4_labels_1_densityfactor.csv')\n",
    "semi_circles_df"
   ]
  },
  {
   "cell_type": "code",
   "execution_count": null,
   "metadata": {},
   "outputs": [],
   "source": [
    "from IPython.display import Image\n",
    "Image(filename='../toydata/ordinal_data/concentric_semi_circles_4_labels_1_densityfactor.png') "
   ]
  },
  {
   "cell_type": "code",
   "execution_count": null,
   "metadata": {},
   "outputs": [],
   "source": [
    "# scaler = MinMaxScaler()\n",
    "# X = scaler.fit_transform(state_2_df[['temperature_1', 'temperature_2']].values)\n",
    "X = semi_circles_df[['x1', 'x2']].values\n",
    "y = semi_circles_df['ordinal_label'].values\n",
    "print(f'X: {X.shape}')\n",
    "print(X)\n",
    "print(f'y: {y.shape}')\n",
    "print(y)"
   ]
  },
  {
   "cell_type": "markdown",
   "metadata": {},
   "source": [
    "### Model"
   ]
  },
  {
   "cell_type": "code",
   "execution_count": 11,
   "metadata": {},
   "outputs": [
    {
     "ename": "ValueError",
     "evalue": "object arrays are not supported",
     "output_type": "error",
     "traceback": [
      "\u001b[0;31m---------------------------------------------------------------------------\u001b[0m",
      "\u001b[0;31mValueError\u001b[0m                                Traceback (most recent call last)",
      "Cell \u001b[0;32mIn[11], line 2\u001b[0m\n\u001b[1;32m      1\u001b[0m clf \u001b[39m=\u001b[39m OrdinalRegression(noise_variance \u001b[39m=\u001b[39m \u001b[39m1\u001b[39m, C\u001b[39m=\u001b[39m\u001b[39m1\u001b[39m, save_loss\u001b[39m=\u001b[39m\u001b[39mTrue\u001b[39;00m, random_state\u001b[39m=\u001b[39m\u001b[39m10\u001b[39m)\n\u001b[0;32m----> 2\u001b[0m clf\u001b[39m.\u001b[39;49mfit(X, y)\n\u001b[1;32m      3\u001b[0m proba \u001b[39m=\u001b[39m clf\u001b[39m.\u001b[39mpredict_proba(X)\n\u001b[1;32m      4\u001b[0m y_predict \u001b[39m=\u001b[39m clf\u001b[39m.\u001b[39mpredict(X)\n",
      "File \u001b[0;32m~/Code/pchmm-missing-data-limited-labels/utils/ordinal_model/OrdinalRegression.py:276\u001b[0m, in \u001b[0;36mOrdinalRegression.fit\u001b[0;34m(self, X, y, fit_noise_variance)\u001b[0m\n\u001b[1;32m    274\u001b[0m \u001b[39mwith\u001b[39;00m \u001b[39mopen\u001b[39m(\u001b[39mself\u001b[39m\u001b[39m.\u001b[39mdirectory\u001b[39m.\u001b[39mjoinpath(\u001b[39m'\u001b[39m\u001b[39mneg_log_likelihood.csv\u001b[39m\u001b[39m'\u001b[39m), \u001b[39m'\u001b[39m\u001b[39mw\u001b[39m\u001b[39m'\u001b[39m) \u001b[39mas\u001b[39;00m f:\n\u001b[1;32m    275\u001b[0m     \u001b[39mprint\u001b[39m(\u001b[39m'\u001b[39m\u001b[39mIter,Neg_Log_Likelihood_per_sample\u001b[39m\u001b[39m'\u001b[39m, file\u001b[39m=\u001b[39mf)\n\u001b[0;32m--> 276\u001b[0m params \u001b[39m=\u001b[39m minimize(\n\u001b[1;32m    277\u001b[0m     fun\u001b[39m=\u001b[39;49mvalue_and_grad(loss_function),\n\u001b[1;32m    278\u001b[0m     x0\u001b[39m=\u001b[39;49minit_params,\n\u001b[1;32m    279\u001b[0m     jac\u001b[39m=\u001b[39;49m\u001b[39mTrue\u001b[39;49;00m,\n\u001b[1;32m    280\u001b[0m     method\u001b[39m=\u001b[39;49m\u001b[39m'\u001b[39;49m\u001b[39mL-BFGS-B\u001b[39;49m\u001b[39m'\u001b[39;49m,\n\u001b[1;32m    281\u001b[0m     callback\u001b[39m=\u001b[39;49mcallbackF,\n\u001b[1;32m    282\u001b[0m )\u001b[39m.\u001b[39mx\n\u001b[1;32m    284\u001b[0m \u001b[39m# Plot the neg log likelihood over time\u001b[39;00m\n\u001b[1;32m    285\u001b[0m \u001b[39mself\u001b[39m\u001b[39m.\u001b[39m_plot_log_likelihood()\n",
      "File \u001b[0;32m~/Code/pchmm-missing-data-limited-labels/venv/lib/python3.9/site-packages/scipy/optimize/_minimize.py:696\u001b[0m, in \u001b[0;36mminimize\u001b[0;34m(fun, x0, args, method, jac, hess, hessp, bounds, constraints, tol, callback, options)\u001b[0m\n\u001b[1;32m    693\u001b[0m     res \u001b[39m=\u001b[39m _minimize_newtoncg(fun, x0, args, jac, hess, hessp, callback,\n\u001b[1;32m    694\u001b[0m                              \u001b[39m*\u001b[39m\u001b[39m*\u001b[39moptions)\n\u001b[1;32m    695\u001b[0m \u001b[39melif\u001b[39;00m meth \u001b[39m==\u001b[39m \u001b[39m'\u001b[39m\u001b[39ml-bfgs-b\u001b[39m\u001b[39m'\u001b[39m:\n\u001b[0;32m--> 696\u001b[0m     res \u001b[39m=\u001b[39m _minimize_lbfgsb(fun, x0, args, jac, bounds,\n\u001b[1;32m    697\u001b[0m                            callback\u001b[39m=\u001b[39;49mcallback, \u001b[39m*\u001b[39;49m\u001b[39m*\u001b[39;49moptions)\n\u001b[1;32m    698\u001b[0m \u001b[39melif\u001b[39;00m meth \u001b[39m==\u001b[39m \u001b[39m'\u001b[39m\u001b[39mtnc\u001b[39m\u001b[39m'\u001b[39m:\n\u001b[1;32m    699\u001b[0m     res \u001b[39m=\u001b[39m _minimize_tnc(fun, x0, args, jac, bounds, callback\u001b[39m=\u001b[39mcallback,\n\u001b[1;32m    700\u001b[0m                         \u001b[39m*\u001b[39m\u001b[39m*\u001b[39moptions)\n",
      "File \u001b[0;32m~/Code/pchmm-missing-data-limited-labels/venv/lib/python3.9/site-packages/scipy/optimize/_lbfgsb_py.py:305\u001b[0m, in \u001b[0;36m_minimize_lbfgsb\u001b[0;34m(fun, x0, args, jac, bounds, disp, maxcor, ftol, gtol, eps, maxfun, maxiter, iprint, callback, maxls, finite_diff_rel_step, **unknown_options)\u001b[0m\n\u001b[1;32m    302\u001b[0m     \u001b[39melse\u001b[39;00m:\n\u001b[1;32m    303\u001b[0m         iprint \u001b[39m=\u001b[39m disp\n\u001b[0;32m--> 305\u001b[0m sf \u001b[39m=\u001b[39m _prepare_scalar_function(fun, x0, jac\u001b[39m=\u001b[39;49mjac, args\u001b[39m=\u001b[39;49margs, epsilon\u001b[39m=\u001b[39;49meps,\n\u001b[1;32m    306\u001b[0m                               bounds\u001b[39m=\u001b[39;49mnew_bounds,\n\u001b[1;32m    307\u001b[0m                               finite_diff_rel_step\u001b[39m=\u001b[39;49mfinite_diff_rel_step)\n\u001b[1;32m    309\u001b[0m func_and_grad \u001b[39m=\u001b[39m sf\u001b[39m.\u001b[39mfun_and_grad\n\u001b[1;32m    311\u001b[0m fortran_int \u001b[39m=\u001b[39m _lbfgsb\u001b[39m.\u001b[39mtypes\u001b[39m.\u001b[39mintvar\u001b[39m.\u001b[39mdtype\n",
      "File \u001b[0;32m~/Code/pchmm-missing-data-limited-labels/venv/lib/python3.9/site-packages/scipy/optimize/_optimize.py:332\u001b[0m, in \u001b[0;36m_prepare_scalar_function\u001b[0;34m(fun, x0, jac, args, bounds, epsilon, finite_diff_rel_step, hess)\u001b[0m\n\u001b[1;32m    328\u001b[0m     bounds \u001b[39m=\u001b[39m (\u001b[39m-\u001b[39mnp\u001b[39m.\u001b[39minf, np\u001b[39m.\u001b[39minf)\n\u001b[1;32m    330\u001b[0m \u001b[39m# ScalarFunction caches. Reuse of fun(x) during grad\u001b[39;00m\n\u001b[1;32m    331\u001b[0m \u001b[39m# calculation reduces overall function evaluations.\u001b[39;00m\n\u001b[0;32m--> 332\u001b[0m sf \u001b[39m=\u001b[39m ScalarFunction(fun, x0, args, grad, hess,\n\u001b[1;32m    333\u001b[0m                     finite_diff_rel_step, bounds, epsilon\u001b[39m=\u001b[39;49mepsilon)\n\u001b[1;32m    335\u001b[0m \u001b[39mreturn\u001b[39;00m sf\n",
      "File \u001b[0;32m~/Code/pchmm-missing-data-limited-labels/venv/lib/python3.9/site-packages/scipy/optimize/_differentiable_functions.py:158\u001b[0m, in \u001b[0;36mScalarFunction.__init__\u001b[0;34m(self, fun, x0, args, grad, hess, finite_diff_rel_step, finite_diff_bounds, epsilon)\u001b[0m\n\u001b[1;32m    155\u001b[0m     \u001b[39mself\u001b[39m\u001b[39m.\u001b[39mf \u001b[39m=\u001b[39m fun_wrapped(\u001b[39mself\u001b[39m\u001b[39m.\u001b[39mx)\n\u001b[1;32m    157\u001b[0m \u001b[39mself\u001b[39m\u001b[39m.\u001b[39m_update_fun_impl \u001b[39m=\u001b[39m update_fun\n\u001b[0;32m--> 158\u001b[0m \u001b[39mself\u001b[39;49m\u001b[39m.\u001b[39;49m_update_fun()\n\u001b[1;32m    160\u001b[0m \u001b[39m# Gradient evaluation\u001b[39;00m\n\u001b[1;32m    161\u001b[0m \u001b[39mif\u001b[39;00m callable(grad):\n",
      "File \u001b[0;32m~/Code/pchmm-missing-data-limited-labels/venv/lib/python3.9/site-packages/scipy/optimize/_differentiable_functions.py:251\u001b[0m, in \u001b[0;36mScalarFunction._update_fun\u001b[0;34m(self)\u001b[0m\n\u001b[1;32m    249\u001b[0m \u001b[39mdef\u001b[39;00m \u001b[39m_update_fun\u001b[39m(\u001b[39mself\u001b[39m):\n\u001b[1;32m    250\u001b[0m     \u001b[39mif\u001b[39;00m \u001b[39mnot\u001b[39;00m \u001b[39mself\u001b[39m\u001b[39m.\u001b[39mf_updated:\n\u001b[0;32m--> 251\u001b[0m         \u001b[39mself\u001b[39;49m\u001b[39m.\u001b[39;49m_update_fun_impl()\n\u001b[1;32m    252\u001b[0m         \u001b[39mself\u001b[39m\u001b[39m.\u001b[39mf_updated \u001b[39m=\u001b[39m \u001b[39mTrue\u001b[39;00m\n",
      "File \u001b[0;32m~/Code/pchmm-missing-data-limited-labels/venv/lib/python3.9/site-packages/scipy/optimize/_differentiable_functions.py:155\u001b[0m, in \u001b[0;36mScalarFunction.__init__.<locals>.update_fun\u001b[0;34m()\u001b[0m\n\u001b[1;32m    154\u001b[0m \u001b[39mdef\u001b[39;00m \u001b[39mupdate_fun\u001b[39m():\n\u001b[0;32m--> 155\u001b[0m     \u001b[39mself\u001b[39m\u001b[39m.\u001b[39mf \u001b[39m=\u001b[39m fun_wrapped(\u001b[39mself\u001b[39;49m\u001b[39m.\u001b[39;49mx)\n",
      "File \u001b[0;32m~/Code/pchmm-missing-data-limited-labels/venv/lib/python3.9/site-packages/scipy/optimize/_differentiable_functions.py:137\u001b[0m, in \u001b[0;36mScalarFunction.__init__.<locals>.fun_wrapped\u001b[0;34m(x)\u001b[0m\n\u001b[1;32m    133\u001b[0m \u001b[39mself\u001b[39m\u001b[39m.\u001b[39mnfev \u001b[39m+\u001b[39m\u001b[39m=\u001b[39m \u001b[39m1\u001b[39m\n\u001b[1;32m    134\u001b[0m \u001b[39m# Send a copy because the user may overwrite it.\u001b[39;00m\n\u001b[1;32m    135\u001b[0m \u001b[39m# Overwriting results in undefined behaviour because\u001b[39;00m\n\u001b[1;32m    136\u001b[0m \u001b[39m# fun(self.x) will change self.x, with the two no longer linked.\u001b[39;00m\n\u001b[0;32m--> 137\u001b[0m fx \u001b[39m=\u001b[39m fun(np\u001b[39m.\u001b[39;49mcopy(x), \u001b[39m*\u001b[39;49margs)\n\u001b[1;32m    138\u001b[0m \u001b[39m# Make sure the function returns a true scalar\u001b[39;00m\n\u001b[1;32m    139\u001b[0m \u001b[39mif\u001b[39;00m \u001b[39mnot\u001b[39;00m np\u001b[39m.\u001b[39misscalar(fx):\n",
      "File \u001b[0;32m~/Code/pchmm-missing-data-limited-labels/venv/lib/python3.9/site-packages/scipy/optimize/_optimize.py:76\u001b[0m, in \u001b[0;36mMemoizeJac.__call__\u001b[0;34m(self, x, *args)\u001b[0m\n\u001b[1;32m     74\u001b[0m \u001b[39mdef\u001b[39;00m \u001b[39m__call__\u001b[39m(\u001b[39mself\u001b[39m, x, \u001b[39m*\u001b[39margs):\n\u001b[1;32m     75\u001b[0m     \u001b[39m\"\"\" returns the function value \"\"\"\u001b[39;00m\n\u001b[0;32m---> 76\u001b[0m     \u001b[39mself\u001b[39;49m\u001b[39m.\u001b[39;49m_compute_if_needed(x, \u001b[39m*\u001b[39;49margs)\n\u001b[1;32m     77\u001b[0m     \u001b[39mreturn\u001b[39;00m \u001b[39mself\u001b[39m\u001b[39m.\u001b[39m_value\n",
      "File \u001b[0;32m~/Code/pchmm-missing-data-limited-labels/venv/lib/python3.9/site-packages/scipy/optimize/_optimize.py:70\u001b[0m, in \u001b[0;36mMemoizeJac._compute_if_needed\u001b[0;34m(self, x, *args)\u001b[0m\n\u001b[1;32m     68\u001b[0m \u001b[39mif\u001b[39;00m \u001b[39mnot\u001b[39;00m np\u001b[39m.\u001b[39mall(x \u001b[39m==\u001b[39m \u001b[39mself\u001b[39m\u001b[39m.\u001b[39mx) \u001b[39mor\u001b[39;00m \u001b[39mself\u001b[39m\u001b[39m.\u001b[39m_value \u001b[39mis\u001b[39;00m \u001b[39mNone\u001b[39;00m \u001b[39mor\u001b[39;00m \u001b[39mself\u001b[39m\u001b[39m.\u001b[39mjac \u001b[39mis\u001b[39;00m \u001b[39mNone\u001b[39;00m:\n\u001b[1;32m     69\u001b[0m     \u001b[39mself\u001b[39m\u001b[39m.\u001b[39mx \u001b[39m=\u001b[39m np\u001b[39m.\u001b[39masarray(x)\u001b[39m.\u001b[39mcopy()\n\u001b[0;32m---> 70\u001b[0m     fg \u001b[39m=\u001b[39m \u001b[39mself\u001b[39;49m\u001b[39m.\u001b[39;49mfun(x, \u001b[39m*\u001b[39;49margs)\n\u001b[1;32m     71\u001b[0m     \u001b[39mself\u001b[39m\u001b[39m.\u001b[39mjac \u001b[39m=\u001b[39m fg[\u001b[39m1\u001b[39m]\n\u001b[1;32m     72\u001b[0m     \u001b[39mself\u001b[39m\u001b[39m.\u001b[39m_value \u001b[39m=\u001b[39m fg[\u001b[39m0\u001b[39m]\n",
      "File \u001b[0;32m~/Code/pchmm-missing-data-limited-labels/venv/lib/python3.9/site-packages/autograd/wrap_util.py:20\u001b[0m, in \u001b[0;36munary_to_nary.<locals>.nary_operator.<locals>.nary_f\u001b[0;34m(*args, **kwargs)\u001b[0m\n\u001b[1;32m     18\u001b[0m \u001b[39melse\u001b[39;00m:\n\u001b[1;32m     19\u001b[0m     x \u001b[39m=\u001b[39m \u001b[39mtuple\u001b[39m(args[i] \u001b[39mfor\u001b[39;00m i \u001b[39min\u001b[39;00m argnum)\n\u001b[0;32m---> 20\u001b[0m \u001b[39mreturn\u001b[39;00m unary_operator(unary_f, x, \u001b[39m*\u001b[39;49mnary_op_args, \u001b[39m*\u001b[39;49m\u001b[39m*\u001b[39;49mnary_op_kwargs)\n",
      "File \u001b[0;32m~/Code/pchmm-missing-data-limited-labels/venv/lib/python3.9/site-packages/autograd/differential_operators.py:138\u001b[0m, in \u001b[0;36mvalue_and_grad\u001b[0;34m(fun, x)\u001b[0m\n\u001b[1;32m    134\u001b[0m \u001b[39m@unary_to_nary\u001b[39m\n\u001b[1;32m    135\u001b[0m \u001b[39mdef\u001b[39;00m \u001b[39mvalue_and_grad\u001b[39m(fun, x):\n\u001b[1;32m    136\u001b[0m     \u001b[39m\"\"\"Returns a function that returns both value and gradient. Suitable for use\u001b[39;00m\n\u001b[1;32m    137\u001b[0m \u001b[39m    in scipy.optimize\"\"\"\u001b[39;00m\n\u001b[0;32m--> 138\u001b[0m     vjp, ans \u001b[39m=\u001b[39m _make_vjp(fun, x)\n\u001b[1;32m    139\u001b[0m     \u001b[39mif\u001b[39;00m \u001b[39mnot\u001b[39;00m vspace(ans)\u001b[39m.\u001b[39msize \u001b[39m==\u001b[39m \u001b[39m1\u001b[39m:\n\u001b[1;32m    140\u001b[0m         \u001b[39mraise\u001b[39;00m \u001b[39mTypeError\u001b[39;00m(\u001b[39m\"\u001b[39m\u001b[39mvalue_and_grad only applies to real scalar-output \u001b[39m\u001b[39m\"\u001b[39m\n\u001b[1;32m    141\u001b[0m                         \u001b[39m\"\u001b[39m\u001b[39mfunctions. Try jacobian, elementwise_grad or \u001b[39m\u001b[39m\"\u001b[39m\n\u001b[1;32m    142\u001b[0m                         \u001b[39m\"\u001b[39m\u001b[39mholomorphic_grad.\u001b[39m\u001b[39m\"\u001b[39m)\n",
      "File \u001b[0;32m~/Code/pchmm-missing-data-limited-labels/venv/lib/python3.9/site-packages/autograd/core.py:10\u001b[0m, in \u001b[0;36mmake_vjp\u001b[0;34m(fun, x)\u001b[0m\n\u001b[1;32m      8\u001b[0m \u001b[39mdef\u001b[39;00m \u001b[39mmake_vjp\u001b[39m(fun, x):\n\u001b[1;32m      9\u001b[0m     start_node \u001b[39m=\u001b[39m VJPNode\u001b[39m.\u001b[39mnew_root()\n\u001b[0;32m---> 10\u001b[0m     end_value, end_node \u001b[39m=\u001b[39m  trace(start_node, fun, x)\n\u001b[1;32m     11\u001b[0m     \u001b[39mif\u001b[39;00m end_node \u001b[39mis\u001b[39;00m \u001b[39mNone\u001b[39;00m:\n\u001b[1;32m     12\u001b[0m         \u001b[39mdef\u001b[39;00m \u001b[39mvjp\u001b[39m(g): \u001b[39mreturn\u001b[39;00m vspace(x)\u001b[39m.\u001b[39mzeros()\n",
      "File \u001b[0;32m~/Code/pchmm-missing-data-limited-labels/venv/lib/python3.9/site-packages/autograd/tracer.py:10\u001b[0m, in \u001b[0;36mtrace\u001b[0;34m(start_node, fun, x)\u001b[0m\n\u001b[1;32m      8\u001b[0m \u001b[39mwith\u001b[39;00m trace_stack\u001b[39m.\u001b[39mnew_trace() \u001b[39mas\u001b[39;00m t:\n\u001b[1;32m      9\u001b[0m     start_box \u001b[39m=\u001b[39m new_box(x, t, start_node)\n\u001b[0;32m---> 10\u001b[0m     end_box \u001b[39m=\u001b[39m fun(start_box)\n\u001b[1;32m     11\u001b[0m     \u001b[39mif\u001b[39;00m isbox(end_box) \u001b[39mand\u001b[39;00m end_box\u001b[39m.\u001b[39m_trace \u001b[39m==\u001b[39m start_box\u001b[39m.\u001b[39m_trace:\n\u001b[1;32m     12\u001b[0m         \u001b[39mreturn\u001b[39;00m end_box\u001b[39m.\u001b[39m_value, end_box\u001b[39m.\u001b[39m_node\n",
      "File \u001b[0;32m~/Code/pchmm-missing-data-limited-labels/venv/lib/python3.9/site-packages/autograd/wrap_util.py:15\u001b[0m, in \u001b[0;36munary_to_nary.<locals>.nary_operator.<locals>.nary_f.<locals>.unary_f\u001b[0;34m(x)\u001b[0m\n\u001b[1;32m     13\u001b[0m \u001b[39melse\u001b[39;00m:\n\u001b[1;32m     14\u001b[0m     subargs \u001b[39m=\u001b[39m subvals(args, \u001b[39mzip\u001b[39m(argnum, x))\n\u001b[0;32m---> 15\u001b[0m \u001b[39mreturn\u001b[39;00m fun(\u001b[39m*\u001b[39;49msubargs, \u001b[39m*\u001b[39;49m\u001b[39m*\u001b[39;49mkwargs)\n",
      "File \u001b[0;32m~/Code/pchmm-missing-data-limited-labels/utils/ordinal_model/OrdinalRegression.py:249\u001b[0m, in \u001b[0;36mOrdinalRegression.fit.<locals>.loss_function\u001b[0;34m(params)\u001b[0m\n\u001b[1;32m    246\u001b[0m w \u001b[39m=\u001b[39m params[R:]\n\u001b[1;32m    248\u001b[0m \u001b[39m# Return negative log-likelihood with complexity penalty (optional)\u001b[39;00m\n\u001b[0;32m--> 249\u001b[0m \u001b[39mreturn\u001b[39;00m \u001b[39m-\u001b[39m\u001b[39mself\u001b[39;49m\u001b[39m.\u001b[39;49mlog_likelihood(variance, w, b, X_transformed, y) \u001b[39m+\u001b[39m \u001b[39mself\u001b[39m\u001b[39m.\u001b[39mC \u001b[39m*\u001b[39m ag_np\u001b[39m.\u001b[39msum(b\u001b[39m*\u001b[39m\u001b[39m*\u001b[39m\u001b[39m2\u001b[39m)\n",
      "File \u001b[0;32m~/Code/pchmm-missing-data-limited-labels/utils/ordinal_model/OrdinalRegression.py:400\u001b[0m, in \u001b[0;36mOrdinalRegression.log_likelihood\u001b[0;34m(self, variance, w, b, X, y)\u001b[0m\n\u001b[1;32m    395\u001b[0m N \u001b[39m=\u001b[39m X\u001b[39m.\u001b[39mshape[\u001b[39m0\u001b[39m]\n\u001b[1;32m    397\u001b[0m \u001b[39m# Log Likelihood\u001b[39;00m\n\u001b[1;32m    398\u001b[0m \u001b[39m# proba_NR = self.log_proba(variance, w, b, X)\u001b[39;00m\n\u001b[1;32m    399\u001b[0m \u001b[39m# log_likelihood_N = ag_np.log(proba_NR[ag_np.arange(N), y] + 1e-7)\u001b[39;00m\n\u001b[0;32m--> 400\u001b[0m log_proba_NR \u001b[39m=\u001b[39m \u001b[39mself\u001b[39;49m\u001b[39m.\u001b[39;49mlog_proba(variance, w, b, X)\n\u001b[1;32m    401\u001b[0m \u001b[39m# log_proba_NR = ag_np.log(self.proba(variance, w, b, X))\u001b[39;00m\n\u001b[1;32m    402\u001b[0m log_likelihood_N \u001b[39m=\u001b[39m log_proba_NR[ag_np\u001b[39m.\u001b[39marange(N), y]\n",
      "File \u001b[0;32m~/Code/pchmm-missing-data-limited-labels/utils/ordinal_model/OrdinalRegression.py:465\u001b[0m, in \u001b[0;36mOrdinalRegression.log_proba\u001b[0;34m(self, variance, w, b, X)\u001b[0m\n\u001b[1;32m    462\u001b[0m log_cdf_NR_1 \u001b[39m=\u001b[39m ag_stats\u001b[39m.\u001b[39mnorm\u001b[39m.\u001b[39mlogcdf(z_matrix_NR_1)\n\u001b[1;32m    463\u001b[0m log_cdf_NR_2 \u001b[39m=\u001b[39m ag_stats\u001b[39m.\u001b[39mnorm\u001b[39m.\u001b[39mlogcdf(z_matrix_NR_2)\n\u001b[0;32m--> 465\u001b[0m log_proba_NR \u001b[39m=\u001b[39m ag_special\u001b[39m.\u001b[39;49mlogsumexp(\n\u001b[1;32m    466\u001b[0m     a\u001b[39m=\u001b[39;49mag_np\u001b[39m.\u001b[39;49mstack((log_cdf_NR_1, log_cdf_NR_2), axis\u001b[39m=\u001b[39;49m\u001b[39m-\u001b[39;49m\u001b[39m1\u001b[39;49m),\n\u001b[1;32m    467\u001b[0m     axis\u001b[39m=\u001b[39;49m\u001b[39m2\u001b[39;49m,\n\u001b[1;32m    468\u001b[0m     b\u001b[39m=\u001b[39;49mag_np\u001b[39m.\u001b[39;49marray([\u001b[39m1\u001b[39;49m, \u001b[39m-\u001b[39;49m\u001b[39m1\u001b[39;49m]),\n\u001b[1;32m    469\u001b[0m )\n\u001b[1;32m    470\u001b[0m \u001b[39m# log_proba_NR = ag_np.log(\u001b[39;00m\n\u001b[1;32m    471\u001b[0m \u001b[39m#     ag_np.exp(log_cdf_NR_1) - ag_np.exp(log_cdf_NR_1))\u001b[39;00m\n\u001b[1;32m    472\u001b[0m \n\u001b[1;32m    473\u001b[0m \u001b[39m# log_proba_NR = cdf_NR_1 - cdf_NR_2\u001b[39;00m\n\u001b[1;32m    475\u001b[0m \u001b[39mreturn\u001b[39;00m log_proba_NR\n",
      "File \u001b[0;32m~/Code/pchmm-missing-data-limited-labels/venv/lib/python3.9/site-packages/autograd/tracer.py:48\u001b[0m, in \u001b[0;36mprimitive.<locals>.f_wrapped\u001b[0;34m(*args, **kwargs)\u001b[0m\n\u001b[1;32m     46\u001b[0m     \u001b[39mreturn\u001b[39;00m new_box(ans, trace, node)\n\u001b[1;32m     47\u001b[0m \u001b[39melse\u001b[39;00m:\n\u001b[0;32m---> 48\u001b[0m     \u001b[39mreturn\u001b[39;00m f_raw(\u001b[39m*\u001b[39;49margs, \u001b[39m*\u001b[39;49m\u001b[39m*\u001b[39;49mkwargs)\n",
      "File \u001b[0;32m~/Code/pchmm-missing-data-limited-labels/venv/lib/python3.9/site-packages/scipy/special/_logsumexp.py:93\u001b[0m, in \u001b[0;36mlogsumexp\u001b[0;34m(a, axis, b, keepdims, return_sign)\u001b[0m\n\u001b[1;32m      7\u001b[0m \u001b[39mdef\u001b[39;00m \u001b[39mlogsumexp\u001b[39m(a, axis\u001b[39m=\u001b[39m\u001b[39mNone\u001b[39;00m, b\u001b[39m=\u001b[39m\u001b[39mNone\u001b[39;00m, keepdims\u001b[39m=\u001b[39m\u001b[39mFalse\u001b[39;00m, return_sign\u001b[39m=\u001b[39m\u001b[39mFalse\u001b[39;00m):\n\u001b[1;32m      8\u001b[0m     \u001b[39m\"\"\"Compute the log of the sum of exponentials of input elements.\u001b[39;00m\n\u001b[1;32m      9\u001b[0m \n\u001b[1;32m     10\u001b[0m \u001b[39m    Parameters\u001b[39;00m\n\u001b[0;32m   (...)\u001b[0m\n\u001b[1;32m     91\u001b[0m \n\u001b[1;32m     92\u001b[0m \u001b[39m    \"\"\"\u001b[39;00m\n\u001b[0;32m---> 93\u001b[0m     a \u001b[39m=\u001b[39m _asarray_validated(a, check_finite\u001b[39m=\u001b[39;49m\u001b[39mFalse\u001b[39;49;00m)\n\u001b[1;32m     94\u001b[0m     \u001b[39mif\u001b[39;00m b \u001b[39mis\u001b[39;00m \u001b[39mnot\u001b[39;00m \u001b[39mNone\u001b[39;00m:\n\u001b[1;32m     95\u001b[0m         a, b \u001b[39m=\u001b[39m np\u001b[39m.\u001b[39mbroadcast_arrays(a, b)\n",
      "File \u001b[0;32m~/Code/pchmm-missing-data-limited-labels/venv/lib/python3.9/site-packages/scipy/_lib/_util.py:255\u001b[0m, in \u001b[0;36m_asarray_validated\u001b[0;34m(a, check_finite, sparse_ok, objects_ok, mask_ok, as_inexact)\u001b[0m\n\u001b[1;32m    253\u001b[0m \u001b[39mif\u001b[39;00m \u001b[39mnot\u001b[39;00m objects_ok:\n\u001b[1;32m    254\u001b[0m     \u001b[39mif\u001b[39;00m a\u001b[39m.\u001b[39mdtype \u001b[39mis\u001b[39;00m np\u001b[39m.\u001b[39mdtype(\u001b[39m'\u001b[39m\u001b[39mO\u001b[39m\u001b[39m'\u001b[39m):\n\u001b[0;32m--> 255\u001b[0m         \u001b[39mraise\u001b[39;00m \u001b[39mValueError\u001b[39;00m(\u001b[39m'\u001b[39m\u001b[39mobject arrays are not supported\u001b[39m\u001b[39m'\u001b[39m)\n\u001b[1;32m    256\u001b[0m \u001b[39mif\u001b[39;00m as_inexact:\n\u001b[1;32m    257\u001b[0m     \u001b[39mif\u001b[39;00m \u001b[39mnot\u001b[39;00m np\u001b[39m.\u001b[39missubdtype(a\u001b[39m.\u001b[39mdtype, np\u001b[39m.\u001b[39minexact):\n",
      "\u001b[0;31mValueError\u001b[0m: object arrays are not supported"
     ]
    }
   ],
   "source": [
    "clf = OrdinalRegression(noise_variance = 1, C=1, save_loss=True, random_state=10)\n",
    "clf.fit(X, y)\n",
    "proba = clf.predict_proba(X)\n",
    "y_predict = clf.predict(X)\n",
    "print(proba)\n",
    "print(y_predict)"
   ]
  },
  {
   "cell_type": "code",
   "execution_count": null,
   "metadata": {},
   "outputs": [],
   "source": [
    "plot_model(clf)"
   ]
  },
  {
   "cell_type": "code",
   "execution_count": null,
   "metadata": {},
   "outputs": [],
   "source": [
    "cf_matrix = confusion_matrix(y, y_predict, normalize='true',labels=list(range(y.max()+1))) \n",
    "\n",
    "ax = sns.heatmap(cf_matrix, linewidths=1, annot=True, fmt='.2f')\n",
    "ax.set_ylabel(f'Actual')\n",
    "ax.set_xlabel(f'Predicted')\n",
    "plt.show()"
   ]
  },
  {
   "attachments": {},
   "cell_type": "markdown",
   "metadata": {},
   "source": [
    "# Misc. Testing"
   ]
  },
  {
   "cell_type": "code",
   "execution_count": null,
   "metadata": {},
   "outputs": [],
   "source": [
    "X = np.array(\n",
    "    [\n",
    "        [-80,-90,-100],\n",
    "        [4,5,6],\n",
    "        [80,90,100],\n",
    "        [-81,-93,-99],\n",
    "        [4.2,5.1,6.3],\n",
    "        [81,93,99],\n",
    "        [-87,-94,-98],\n",
    "        [4.1,5.2,6.5],\n",
    "        [87,94,98],\n",
    "    ]\n",
    ")\n",
    "y = np.array(\n",
    "    [\n",
    "        0,\n",
    "        1,\n",
    "        2,\n",
    "        0,\n",
    "        1,\n",
    "        2,\n",
    "        0,\n",
    "        1,\n",
    "        2,\n",
    "    ]\n",
    ")\n",
    "w_inits = []\n",
    "for i in range(100):\n",
    "    w_inits.append(np.random.rand(3) * np.random.randint(0,10))"
   ]
  },
  {
   "cell_type": "code",
   "execution_count": null,
   "metadata": {},
   "outputs": [],
   "source": [
    "clf = OrdinalRegression()\n",
    "clf.set_params(R = 3, N = 3, cut_points  = np.array([-np.inf, -3, 3, np.inf]))"
   ]
  },
  {
   "cell_type": "code",
   "execution_count": null,
   "metadata": {},
   "outputs": [],
   "source": [
    "# for w in w_inits:\n",
    "#     print(clf.log_likelihood(w, X, y))"
   ]
  },
  {
   "cell_type": "code",
   "execution_count": null,
   "metadata": {},
   "outputs": [],
   "source": [
    "clf.fit(X, y)"
   ]
  },
  {
   "cell_type": "code",
   "execution_count": null,
   "metadata": {},
   "outputs": [],
   "source": [
    "best_w = clf.w"
   ]
  },
  {
   "cell_type": "code",
   "execution_count": null,
   "metadata": {},
   "outputs": [],
   "source": [
    "clf.predict(X)"
   ]
  },
  {
   "attachments": {},
   "cell_type": "markdown",
   "metadata": {},
   "source": [
    "## Softplus"
   ]
  },
  {
   "cell_type": "code",
   "execution_count": null,
   "metadata": {},
   "outputs": [],
   "source": [
    "test_arr = np.absolute(np.random.normal(size=3))\n",
    "print(test_arr)\n",
    "inverse_arr = softplus_inv(test_arr)\n",
    "print(inverse_arr)\n",
    "recovered = softplus(inverse_arr)\n",
    "print(recovered)"
   ]
  },
  {
   "cell_type": "code",
   "execution_count": null,
   "metadata": {},
   "outputs": [],
   "source": [
    "softplus_inv(0.5969)"
   ]
  },
  {
   "cell_type": "code",
   "execution_count": null,
   "metadata": {},
   "outputs": [],
   "source": [
    "softplus(np.array([1,2,3]))"
   ]
  },
  {
   "cell_type": "code",
   "execution_count": null,
   "metadata": {},
   "outputs": [],
   "source": [
    "arr = np.array([1,2,10, 50])"
   ]
  },
  {
   "cell_type": "code",
   "execution_count": null,
   "metadata": {},
   "outputs": [],
   "source": [
    "arr.shape"
   ]
  },
  {
   "cell_type": "code",
   "execution_count": null,
   "metadata": {},
   "outputs": [],
   "source": [
    "softplus(arr)"
   ]
  },
  {
   "cell_type": "code",
   "execution_count": null,
   "metadata": {},
   "outputs": [],
   "source": [
    "np.array(1)[np.newaxis].shape"
   ]
  },
  {
   "cell_type": "code",
   "execution_count": null,
   "metadata": {},
   "outputs": [],
   "source": []
  }
 ],
 "metadata": {
  "kernelspec": {
   "display_name": "pchmm",
   "language": "python",
   "name": "python3"
  },
  "language_info": {
   "codemirror_mode": {
    "name": "ipython",
    "version": 3
   },
   "file_extension": ".py",
   "mimetype": "text/x-python",
   "name": "python",
   "nbconvert_exporter": "python",
   "pygments_lexer": "ipython3",
   "version": "3.6.12"
  },
  "orig_nbformat": 4,
  "vscode": {
   "interpreter": {
    "hash": "8e69f699a147a25772268aff28204399ade70520118b5e6fc0347c6bec943bcc"
   }
  }
 },
 "nbformat": 4,
 "nbformat_minor": 2
}
