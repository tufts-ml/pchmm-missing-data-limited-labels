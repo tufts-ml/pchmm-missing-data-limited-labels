{
 "cells": [
  {
   "attachments": {},
   "cell_type": "markdown",
   "metadata": {},
   "source": [
    "# Imports"
   ]
  },
  {
   "cell_type": "code",
   "execution_count": 1,
   "metadata": {},
   "outputs": [],
   "source": [
    "import sys, os\n",
    "# from scipy.stats import norm"
   ]
  },
  {
   "cell_type": "code",
   "execution_count": 2,
   "metadata": {},
   "outputs": [],
   "source": [
    "# Local Module imports\n",
    "sys.path.append(os.path.abspath(os.path.join('../utils')))\n",
    "from ordinal_model.ordered_gaussian import OrderedGaussian, OrderedGaussian2\n",
    "from ordinal_model.ordinal_regression_TF import OrdinalRegression, OrdinalLoss, plot_model"
   ]
  },
  {
   "cell_type": "code",
   "execution_count": 3,
   "metadata": {},
   "outputs": [],
   "source": [
    "# TF and Numpy\n",
    "import tensorflow as tf\n",
    "import tensorflow_probability as tfp\n",
    "import numpy as np"
   ]
  },
  {
   "cell_type": "code",
   "execution_count": 4,
   "metadata": {},
   "outputs": [],
   "source": [
    "# Misc.\n",
    "# sys.path.append(os.path.abspath(os.path.join('../utils')))\n",
    "# from ordinal_model.OrdinalRegression import OrdinalRegression, softplus, softplus_inv, plot_model\n",
    "# import autograd.numpy as np\n",
    "import pandas as pd\n",
    "from sklearn.preprocessing import MinMaxScaler\n",
    "from sklearn.metrics import confusion_matrix\n",
    "import seaborn as sns\n",
    "import matplotlib.pyplot as plt"
   ]
  },
  {
   "attachments": {},
   "cell_type": "markdown",
   "metadata": {},
   "source": [
    "# Tensor Flow Probability Testing"
   ]
  },
  {
   "cell_type": "code",
   "execution_count": 6,
   "metadata": {},
   "outputs": [
    {
     "data": {
      "text/plain": [
       "<tf.Tensor: shape=(3, 4), dtype=float32, numpy=\n",
       "array([[2.2750132e-02, 4.7724986e-01, 4.7724983e-01, 2.2750139e-02],\n",
       "       [1.3498989e-03, 1.5730536e-01, 6.8268949e-01, 1.5865529e-01],\n",
       "       [3.1671265e-05, 2.2718463e-02, 4.7724986e-01, 5.0000000e-01]],\n",
       "      dtype=float32)>"
      ]
     },
     "execution_count": 6,
     "metadata": {},
     "output_type": "execute_result"
    }
   ],
   "source": [
    "dist1 = OrderedGaussian(cutpoints=[-2., 0, 2], loc=[0,1,2])\n",
    "dist1.ordinal_probs()"
   ]
  },
  {
   "cell_type": "code",
   "execution_count": 7,
   "metadata": {},
   "outputs": [
    {
     "data": {
      "text/plain": [
       "<tf.Tensor: shape=(3, 4), dtype=float32, numpy=\n",
       "array([[2.2750132e-02, 4.7724986e-01, 4.7724983e-01, 2.2750139e-02],\n",
       "       [1.3498989e-03, 1.5730536e-01, 6.8268949e-01, 1.5865529e-01],\n",
       "       [3.1671265e-05, 2.2718463e-02, 4.7724986e-01, 5.0000000e-01]],\n",
       "      dtype=float32)>"
      ]
     },
     "execution_count": 7,
     "metadata": {},
     "output_type": "execute_result"
    }
   ],
   "source": [
    "dist2 = OrderedGaussian2(cutpoints=[-2., 0, 2], loc=[0,1,2])\n",
    "dist2.categorical_probs()"
   ]
  },
  {
   "cell_type": "code",
   "execution_count": 8,
   "metadata": {},
   "outputs": [
    {
     "data": {
      "text/plain": [
       "<tfp.distributions.OrderedGaussian2 'OrderedGuassian' batch_shape=[3] event_shape=[] dtype=int32>"
      ]
     },
     "execution_count": 8,
     "metadata": {},
     "output_type": "execute_result"
    }
   ],
   "source": [
    "dist2"
   ]
  },
  {
   "cell_type": "code",
   "execution_count": 9,
   "metadata": {},
   "outputs": [
    {
     "data": {
      "text/plain": [
       "<tf.Tensor: shape=(), dtype=float32, numpy=6.9170036>"
      ]
     },
     "execution_count": 9,
     "metadata": {},
     "output_type": "execute_result"
    }
   ],
   "source": [
    "loss = OrdinalLoss()\n",
    "loss([0,0,0], dist2)"
   ]
  },
  {
   "cell_type": "code",
   "execution_count": 10,
   "metadata": {},
   "outputs": [
    {
     "data": {
      "text/plain": [
       "<tf.Tensor: shape=(3, 4), dtype=float32, numpy=\n",
       "array([[0.11920291, 0.38079712, 0.3807971 , 0.11920291],\n",
       "       [0.04742587, 0.22151555, 0.46211717, 0.26894143],\n",
       "       [0.01798621, 0.10121672, 0.38079712, 0.5       ]], dtype=float32)>"
      ]
     },
     "execution_count": 10,
     "metadata": {},
     "output_type": "execute_result"
    }
   ],
   "source": [
    "dist3 = tfp.distributions.OrderedLogistic(cutpoints=[-2., 0, 2], loc=[0., 1., 2.])\n",
    "dist3.categorical_probs()"
   ]
  },
  {
   "cell_type": "code",
   "execution_count": 11,
   "metadata": {},
   "outputs": [
    {
     "data": {
      "text/plain": [
       "TensorShape([3])"
      ]
     },
     "execution_count": 11,
     "metadata": {},
     "output_type": "execute_result"
    }
   ],
   "source": [
    "dist3.batch_shape"
   ]
  },
  {
   "attachments": {},
   "cell_type": "markdown",
   "metadata": {},
   "source": [
    "# Ordinal Regression Testing"
   ]
  },
  {
   "attachments": {},
   "cell_type": "markdown",
   "metadata": {},
   "source": [
    "## Sequence State 2--Gaussian perfect separation"
   ]
  },
  {
   "attachments": {},
   "cell_type": "markdown",
   "metadata": {},
   "source": [
    "### Toy Data"
   ]
  },
  {
   "cell_type": "code",
   "execution_count": 12,
   "metadata": {},
   "outputs": [
    {
     "data": {
      "text/html": [
       "<div>\n",
       "<style scoped>\n",
       "    .dataframe tbody tr th:only-of-type {\n",
       "        vertical-align: middle;\n",
       "    }\n",
       "\n",
       "    .dataframe tbody tr th {\n",
       "        vertical-align: top;\n",
       "    }\n",
       "\n",
       "    .dataframe thead th {\n",
       "        text-align: right;\n",
       "    }\n",
       "</style>\n",
       "<table border=\"1\" class=\"dataframe\">\n",
       "  <thead>\n",
       "    <tr style=\"text-align: right;\">\n",
       "      <th></th>\n",
       "      <th>temperature_1</th>\n",
       "      <th>temperature_2</th>\n",
       "      <th>ordinal_label</th>\n",
       "    </tr>\n",
       "  </thead>\n",
       "  <tbody>\n",
       "    <tr>\n",
       "      <th>0</th>\n",
       "      <td>13.446886</td>\n",
       "      <td>-0.552414</td>\n",
       "      <td>1</td>\n",
       "    </tr>\n",
       "    <tr>\n",
       "      <th>1</th>\n",
       "      <td>12.467339</td>\n",
       "      <td>-0.456510</td>\n",
       "      <td>1</td>\n",
       "    </tr>\n",
       "    <tr>\n",
       "      <th>2</th>\n",
       "      <td>12.240645</td>\n",
       "      <td>1.487031</td>\n",
       "      <td>3</td>\n",
       "    </tr>\n",
       "    <tr>\n",
       "      <th>3</th>\n",
       "      <td>12.920970</td>\n",
       "      <td>1.347114</td>\n",
       "      <td>3</td>\n",
       "    </tr>\n",
       "    <tr>\n",
       "      <th>4</th>\n",
       "      <td>12.365956</td>\n",
       "      <td>-0.505576</td>\n",
       "      <td>1</td>\n",
       "    </tr>\n",
       "    <tr>\n",
       "      <th>...</th>\n",
       "      <td>...</td>\n",
       "      <td>...</td>\n",
       "      <td>...</td>\n",
       "    </tr>\n",
       "    <tr>\n",
       "      <th>995</th>\n",
       "      <td>13.299201</td>\n",
       "      <td>-1.777017</td>\n",
       "      <td>0</td>\n",
       "    </tr>\n",
       "    <tr>\n",
       "      <th>996</th>\n",
       "      <td>12.508565</td>\n",
       "      <td>1.482781</td>\n",
       "      <td>3</td>\n",
       "    </tr>\n",
       "    <tr>\n",
       "      <th>997</th>\n",
       "      <td>12.692524</td>\n",
       "      <td>0.986925</td>\n",
       "      <td>2</td>\n",
       "    </tr>\n",
       "    <tr>\n",
       "      <th>998</th>\n",
       "      <td>12.897209</td>\n",
       "      <td>-0.374903</td>\n",
       "      <td>1</td>\n",
       "    </tr>\n",
       "    <tr>\n",
       "      <th>999</th>\n",
       "      <td>14.073853</td>\n",
       "      <td>1.120598</td>\n",
       "      <td>3</td>\n",
       "    </tr>\n",
       "  </tbody>\n",
       "</table>\n",
       "<p>1000 rows × 3 columns</p>\n",
       "</div>"
      ],
      "text/plain": [
       "     temperature_1  temperature_2  ordinal_label\n",
       "0        13.446886      -0.552414              1\n",
       "1        12.467339      -0.456510              1\n",
       "2        12.240645       1.487031              3\n",
       "3        12.920970       1.347114              3\n",
       "4        12.365956      -0.505576              1\n",
       "..             ...            ...            ...\n",
       "995      13.299201      -1.777017              0\n",
       "996      12.508565       1.482781              3\n",
       "997      12.692524       0.986925              2\n",
       "998      12.897209      -0.374903              1\n",
       "999      14.073853       1.120598              3\n",
       "\n",
       "[1000 rows x 3 columns]"
      ]
     },
     "execution_count": 12,
     "metadata": {},
     "output_type": "execute_result"
    }
   ],
   "source": [
    "state_2_df = pd.read_csv('../toydata/simulated_data/features_from_state2.csv', \n",
    "                         dtype={'temperature_1' : np.float32, \n",
    "                                'temperature_2' : np.float32, \n",
    "                                'ordinal_label' : np.int32},\n",
    "                    )\n",
    "state_2_df"
   ]
  },
  {
   "cell_type": "code",
   "execution_count": 13,
   "metadata": {},
   "outputs": [
    {
     "data": {
      "image/png": "[encoded data removed]",
      "text/plain": [
       "<IPython.core.display.Image object>"
      ]
     },
     "execution_count": 13,
     "metadata": {},
     "output_type": "execute_result"
    }
   ],
   "source": [
    "from IPython.display import Image\n",
    "Image(filename='../toydata/simulated_data/features_from_state_2.png') "
   ]
  },
  {
   "cell_type": "code",
   "execution_count": 14,
   "metadata": {},
   "outputs": [
    {
     "name": "stdout",
     "output_type": "stream",
     "text": [
      "X: (1000, 2)\n",
      "[[13.446886   -0.5524145 ]\n",
      " [12.467339   -0.45650953]\n",
      " [12.240645    1.4870306 ]\n",
      " ...\n",
      " [12.692524    0.9869254 ]\n",
      " [12.897209   -0.37490278]\n",
      " [14.0738535   1.120598  ]]\n",
      "y: (1000,)\n",
      "[1 1 3 3 1 2 2 1 0 1 2 1 1 2 1 3 2 2 1 0 0 2 2 1 2 1 1 0 2 2 0 0 2 2 1 2 0\n",
      " 2 2 2 1 3 0 1 1 0 3 1 3 1 3 1 0 2 1 2 2 1 2 2 2 1 3 2 1 0 0 1 1 1 3 1 1 1\n",
      " 0 2 1 1 2 3 1 2 2 1 2 2 3 1 0 1 0 1 1 2 2 0 0 0 1 2 2 2 2 2 1 0 2 1 3 2 1\n",
      " 2 3 1 3 3 2 2 0 2 2 0 3 1 3 1 2 1 0 1 2 1 1 2 0 2 2 2 2 1 2 2 1 1 1 3 3 1\n",
      " 3 3 3 0 2 2 2 2 2 0 2 2 2 0 2 2 2 2 1 1 1 1 2 1 1 2 3 3 0 1 2 2 0 2 0 2 2\n",
      " 2 2 1 1 2 3 2 1 1 0 1 2 2 2 0 1 2 0 1 2 2 1 1 2 1 2 3 0 1 3 2 0 2 1 1 0 2\n",
      " 3 2 1 2 3 2 3 3 2 1 1 3 3 1 0 2 1 2 1 1 1 3 1 2 3 2 1 3 1 3 0 1 3 2 0 1 3\n",
      " 1 3 2 3 0 2 2 1 1 1 1 3 2 1 2 2 1 3 3 2 2 2 1 3 1 0 1 2 1 3 2 1 2 3 0 3 2\n",
      " 3 2 1 2 1 0 1 2 0 2 1 2 1 2 1 2 2 2 3 2 1 1 1 0 3 2 2 2 1 3 2 0 2 1 3 2 3\n",
      " 1 1 3 3 1 0 3 2 1 0 2 2 1 3 2 2 2 3 3 3 2 0 2 1 3 1 0 3 1 1 1 2 1 2 0 3 2\n",
      " 1 3 0 3 3 2 3 1 2 3 2 2 2 1 1 1 3 0 0 2 2 1 0 2 2 3 2 2 0 1 3 1 2 2 2 1 3\n",
      " 1 2 1 0 3 2 1 3 1 2 1 1 1 3 2 2 2 1 1 1 1 1 3 3 2 0 2 1 1 2 2 3 0 2 2 1 0\n",
      " 0 1 0 1 1 1 0 0 0 1 3 2 0 1 1 2 2 1 2 2 0 2 0 1 1 3 3 3 0 2 2 3 1 1 2 3 2\n",
      " 1 0 2 1 2 1 1 3 1 0 1 1 3 0 2 1 3 3 2 2 1 1 0 1 2 0 1 2 2 1 2 1 1 2 3 3 3\n",
      " 0 2 2 3 1 2 2 0 2 3 3 1 1 1 1 3 1 1 1 0 0 1 1 2 1 2 0 2 2 3 0 1 1 1 1 2 2\n",
      " 0 2 3 3 1 1 0 2 3 0 2 2 2 1 2 0 3 2 3 1 2 1 1 1 0 3 1 1 3 3 3 2 3 1 1 2 1\n",
      " 1 3 0 2 1 3 3 1 1 0 2 1 2 0 1 1 2 3 3 1 1 2 3 3 2 0 3 0 3 1 2 1 2 2 3 2 0\n",
      " 1 2 0 2 0 2 1 0 1 0 3 2 3 2 2 2 0 1 1 3 2 0 3 0 2 2 3 1 1 2 1 2 2 1 2 2 1\n",
      " 2 2 1 0 2 3 1 3 1 3 1 2 3 1 3 1 2 1 2 2 1 1 1 1 2 3 1 3 2 2 1 2 3 3 0 2 2\n",
      " 1 3 2 0 3 1 1 3 0 1 2 3 1 1 1 2 3 0 1 1 0 0 0 1 2 1 3 1 1 2 2 1 2 2 0 3 1\n",
      " 1 2 1 2 1 0 1 1 1 2 1 1 1 2 1 1 2 2 2 3 2 2 0 2 0 3 2 2 0 1 3 1 3 3 2 3 1\n",
      " 2 0 2 3 2 1 2 1 0 3 2 3 3 2 2 3 3 2 3 3 1 2 0 2 2 3 2 1 0 0 1 2 2 2 0 2 3\n",
      " 3 2 1 3 0 1 1 1 2 2 0 3 3 1 2 2 3 2 2 0 1 1 3 0 1 1 0 1 1 2 1 1 1 1 0 0 2\n",
      " 2 1 2 1 1 2 3 2 3 2 1 2 2 2 2 3 1 0 2 1 2 0 2 2 1 1 0 0 1 1 3 3 1 2 1 1 2\n",
      " 1 2 1 0 2 0 2 3 0 1 2 3 2 2 1 1 3 0 3 2 1 3 2 2 1 0 2 1 1 1 2 1 3 1 2 2 2\n",
      " 2 0 0 2 2 1 0 3 1 1 0 1 2 1 2 2 3 1 2 2 2 2 2 3 1 2 1 2 1 0 2 1 1 3 1 0 1\n",
      " 3 2 3 2 2 3 2 1 2 0 2 1 2 1 3 2 1 1 1 3 2 2 1 0 0 0 1 2 2 3 2 1 1 0 3 2 1\n",
      " 3]\n"
     ]
    }
   ],
   "source": [
    "# scaler = MinMaxScaler()\n",
    "# X = scaler.fit_transform(state_2_df[['temperature_1', 'temperature_2']].values)\n",
    "X = state_2_df[['temperature_1', 'temperature_2']].values\n",
    "y = state_2_df['ordinal_label'].values\n",
    "print(f'X: {X.shape}')\n",
    "print(X)\n",
    "print(f'y: {y.shape}')\n",
    "print(y)"
   ]
  },
  {
   "cell_type": "code",
   "execution_count": 15,
   "metadata": {},
   "outputs": [],
   "source": [
    "# Normalize X\n",
    "\n",
    "# X = (X - X.mean(axis=0)) / X.std(axis=0)\n",
    "# X"
   ]
  },
  {
   "attachments": {},
   "cell_type": "markdown",
   "metadata": {},
   "source": [
    "## Model"
   ]
  },
  {
   "cell_type": "code",
   "execution_count": 19,
   "metadata": {},
   "outputs": [
    {
     "name": "stdout",
     "output_type": "stream",
     "text": [
      "Epoch 1/200\n",
      "32/32 [==============================] - 0s 1ms/step - loss: nan\n",
      "Epoch 2/200\n",
      "32/32 [==============================] - 0s 1ms/step - loss: nan\n",
      "Epoch 3/200\n",
      "32/32 [==============================] - 0s 1ms/step - loss: nan\n",
      "Epoch 4/200\n",
      "32/32 [==============================] - 0s 1ms/step - loss: nan\n",
      "Epoch 5/200\n",
      "32/32 [==============================] - 0s 1ms/step - loss: nan\n",
      "Epoch 6/200\n",
      "32/32 [==============================] - 0s 1ms/step - loss: nan\n",
      "Epoch 7/200\n",
      "32/32 [==============================] - 0s 1ms/step - loss: nan\n",
      "Epoch 8/200\n",
      "32/32 [==============================] - 0s 1ms/step - loss: nan\n",
      "Epoch 9/200\n",
      "32/32 [==============================] - 0s 1ms/step - loss: nan\n",
      "Epoch 10/200\n",
      "32/32 [==============================] - 0s 1ms/step - loss: nan\n",
      "Epoch 11/200\n",
      "32/32 [==============================] - 0s 1ms/step - loss: nan\n",
      "Epoch 12/200\n",
      "32/32 [==============================] - 0s 1ms/step - loss: nan\n",
      "Epoch 13/200\n",
      "32/32 [==============================] - 0s 1ms/step - loss: nan\n",
      "Epoch 14/200\n",
      "32/32 [==============================] - 0s 1ms/step - loss: nan\n",
      "Epoch 15/200\n",
      "32/32 [==============================] - 0s 1ms/step - loss: nan\n",
      "Epoch 16/200\n",
      "32/32 [==============================] - 0s 1ms/step - loss: nan\n",
      "Epoch 17/200\n",
      "32/32 [==============================] - 0s 1ms/step - loss: nan\n",
      "Epoch 18/200\n",
      "32/32 [==============================] - 0s 1ms/step - loss: nan\n",
      "Epoch 19/200\n",
      "32/32 [==============================] - 0s 1ms/step - loss: nan\n",
      "Epoch 20/200\n",
      "32/32 [==============================] - 0s 1ms/step - loss: nan\n",
      "Epoch 21/200\n",
      "32/32 [==============================] - 0s 1ms/step - loss: nan\n",
      "Epoch 22/200\n",
      "32/32 [==============================] - 0s 1ms/step - loss: nan\n",
      "Epoch 23/200\n",
      "32/32 [==============================] - 0s 1ms/step - loss: nan\n",
      "Epoch 24/200\n",
      "32/32 [==============================] - 0s 1ms/step - loss: nan\n",
      "Epoch 25/200\n",
      "32/32 [==============================] - 0s 1ms/step - loss: nan\n",
      "Epoch 26/200\n",
      "32/32 [==============================] - 0s 1ms/step - loss: nan\n",
      "Epoch 27/200\n",
      "32/32 [==============================] - 0s 1ms/step - loss: nan\n",
      "Epoch 28/200\n",
      "32/32 [==============================] - 0s 1ms/step - loss: nan\n",
      "Epoch 29/200\n",
      "32/32 [==============================] - 0s 1ms/step - loss: nan\n",
      "Epoch 30/200\n",
      "32/32 [==============================] - 0s 1ms/step - loss: nan\n",
      "Epoch 31/200\n",
      "32/32 [==============================] - 0s 1ms/step - loss: nan\n",
      "Epoch 32/200\n",
      "32/32 [==============================] - 0s 1ms/step - loss: nan\n",
      "Epoch 33/200\n",
      "32/32 [==============================] - 0s 1ms/step - loss: nan\n",
      "Epoch 34/200\n",
      "32/32 [==============================] - 0s 1ms/step - loss: nan\n",
      "Epoch 35/200\n",
      "32/32 [==============================] - 0s 1ms/step - loss: nan\n",
      "Epoch 36/200\n",
      "32/32 [==============================] - 0s 1ms/step - loss: nan\n",
      "Epoch 37/200\n",
      "32/32 [==============================] - 0s 1ms/step - loss: nan\n",
      "Epoch 38/200\n",
      "32/32 [==============================] - 0s 1ms/step - loss: nan\n",
      "Epoch 39/200\n",
      "32/32 [==============================] - 0s 1ms/step - loss: nan\n",
      "Epoch 40/200\n",
      "32/32 [==============================] - 0s 1ms/step - loss: nan\n",
      "Epoch 41/200\n",
      "32/32 [==============================] - 0s 1ms/step - loss: nan\n",
      "Epoch 42/200\n",
      "32/32 [==============================] - 0s 1ms/step - loss: nan\n",
      "Epoch 43/200\n",
      "32/32 [==============================] - 0s 1ms/step - loss: nan\n",
      "Epoch 44/200\n",
      "32/32 [==============================] - 0s 1ms/step - loss: nan\n",
      "Epoch 45/200\n",
      "32/32 [==============================] - 0s 1ms/step - loss: nan\n",
      "Epoch 46/200\n",
      "32/32 [==============================] - 0s 1ms/step - loss: nan\n",
      "Epoch 47/200\n",
      "32/32 [==============================] - 0s 1ms/step - loss: nan\n",
      "Epoch 48/200\n",
      "32/32 [==============================] - 0s 1ms/step - loss: nan\n",
      "Epoch 49/200\n",
      "32/32 [==============================] - 0s 1ms/step - loss: nan\n",
      "Epoch 50/200\n",
      "32/32 [==============================] - 0s 1ms/step - loss: nan\n",
      "Epoch 51/200\n",
      "32/32 [==============================] - 0s 1ms/step - loss: nan\n",
      "Epoch 52/200\n",
      "32/32 [==============================] - 0s 1ms/step - loss: nan\n",
      "Epoch 53/200\n",
      "32/32 [==============================] - 0s 1ms/step - loss: nan\n",
      "Epoch 54/200\n",
      "32/32 [==============================] - 0s 1ms/step - loss: nan\n",
      "Epoch 55/200\n",
      "32/32 [==============================] - 0s 1ms/step - loss: nan\n",
      "Epoch 56/200\n",
      "32/32 [==============================] - 0s 1ms/step - loss: nan\n",
      "Epoch 57/200\n",
      "32/32 [==============================] - 0s 1ms/step - loss: nan\n",
      "Epoch 58/200\n",
      "32/32 [==============================] - 0s 1ms/step - loss: nan\n",
      "Epoch 59/200\n",
      "32/32 [==============================] - 0s 1ms/step - loss: nan\n",
      "Epoch 60/200\n",
      "32/32 [==============================] - 0s 1ms/step - loss: nan\n",
      "Epoch 61/200\n",
      "32/32 [==============================] - 0s 1ms/step - loss: nan\n",
      "Epoch 62/200\n",
      "32/32 [==============================] - 0s 1ms/step - loss: nan\n",
      "Epoch 63/200\n",
      "32/32 [==============================] - 0s 1ms/step - loss: nan\n",
      "Epoch 64/200\n",
      "32/32 [==============================] - 0s 1ms/step - loss: nan\n",
      "Epoch 65/200\n",
      "32/32 [==============================] - 0s 1ms/step - loss: nan\n",
      "Epoch 66/200\n",
      "32/32 [==============================] - 0s 1ms/step - loss: nan\n",
      "Epoch 67/200\n",
      "32/32 [==============================] - 0s 1ms/step - loss: nan\n",
      "Epoch 68/200\n",
      "32/32 [==============================] - 0s 1ms/step - loss: nan\n",
      "Epoch 69/200\n",
      "32/32 [==============================] - 0s 1ms/step - loss: nan\n",
      "Epoch 70/200\n",
      "32/32 [==============================] - 0s 1ms/step - loss: nan\n",
      "Epoch 71/200\n",
      "32/32 [==============================] - 0s 1ms/step - loss: nan\n",
      "Epoch 72/200\n",
      "32/32 [==============================] - 0s 1ms/step - loss: nan\n",
      "Epoch 73/200\n",
      "32/32 [==============================] - 0s 1ms/step - loss: nan\n",
      "Epoch 74/200\n",
      "32/32 [==============================] - 0s 1ms/step - loss: nan\n",
      "Epoch 75/200\n",
      "32/32 [==============================] - 0s 1ms/step - loss: nan\n",
      "Epoch 76/200\n",
      "32/32 [==============================] - 0s 1ms/step - loss: nan\n",
      "Epoch 77/200\n",
      "32/32 [==============================] - 0s 1ms/step - loss: nan\n",
      "Epoch 78/200\n",
      "32/32 [==============================] - 0s 1ms/step - loss: nan\n",
      "Epoch 79/200\n",
      "32/32 [==============================] - 0s 1ms/step - loss: nan\n",
      "Epoch 80/200\n",
      "32/32 [==============================] - 0s 1ms/step - loss: nan\n",
      "Epoch 81/200\n",
      "32/32 [==============================] - 0s 1ms/step - loss: nan\n",
      "Epoch 82/200\n",
      "32/32 [==============================] - 0s 1ms/step - loss: nan\n",
      "Epoch 83/200\n",
      "32/32 [==============================] - 0s 1ms/step - loss: nan\n",
      "Epoch 84/200\n",
      "32/32 [==============================] - 0s 1ms/step - loss: nan\n",
      "Epoch 85/200\n",
      "32/32 [==============================] - 0s 1ms/step - loss: nan\n",
      "Epoch 86/200\n",
      "32/32 [==============================] - 0s 1ms/step - loss: nan\n",
      "Epoch 87/200\n",
      "32/32 [==============================] - 0s 1ms/step - loss: nan\n",
      "Epoch 88/200\n",
      "32/32 [==============================] - 0s 1ms/step - loss: nan\n",
      "Epoch 89/200\n",
      "32/32 [==============================] - 0s 1ms/step - loss: nan\n",
      "Epoch 90/200\n",
      "32/32 [==============================] - 0s 1ms/step - loss: nan\n",
      "Epoch 91/200\n",
      "32/32 [==============================] - 0s 1ms/step - loss: nan\n",
      "Epoch 92/200\n",
      "32/32 [==============================] - 0s 1ms/step - loss: nan\n",
      "Epoch 93/200\n",
      "32/32 [==============================] - 0s 1ms/step - loss: nan\n",
      "Epoch 94/200\n",
      "32/32 [==============================] - 0s 1ms/step - loss: nan\n",
      "Epoch 95/200\n",
      "32/32 [==============================] - 0s 1ms/step - loss: nan\n",
      "Epoch 96/200\n",
      "32/32 [==============================] - 0s 1ms/step - loss: nan\n",
      "Epoch 97/200\n",
      "32/32 [==============================] - 0s 1ms/step - loss: nan\n",
      "Epoch 98/200\n",
      "32/32 [==============================] - 0s 1ms/step - loss: nan\n",
      "Epoch 99/200\n",
      "32/32 [==============================] - 0s 1ms/step - loss: nan\n",
      "Epoch 100/200\n",
      "32/32 [==============================] - 0s 1ms/step - loss: nan\n",
      "Epoch 101/200\n",
      "32/32 [==============================] - 0s 1ms/step - loss: nan\n",
      "Epoch 102/200\n",
      "32/32 [==============================] - 0s 1ms/step - loss: nan\n",
      "Epoch 103/200\n",
      "32/32 [==============================] - 0s 1ms/step - loss: nan\n",
      "Epoch 104/200\n",
      "32/32 [==============================] - 0s 1ms/step - loss: nan\n",
      "Epoch 105/200\n",
      "32/32 [==============================] - 0s 1ms/step - loss: nan\n",
      "Epoch 106/200\n",
      "32/32 [==============================] - 0s 1ms/step - loss: nan\n",
      "Epoch 107/200\n",
      "32/32 [==============================] - 0s 1ms/step - loss: nan\n",
      "Epoch 108/200\n",
      "32/32 [==============================] - 0s 1ms/step - loss: nan\n",
      "Epoch 109/200\n",
      "32/32 [==============================] - 0s 1ms/step - loss: nan\n",
      "Epoch 110/200\n",
      "32/32 [==============================] - 0s 1ms/step - loss: nan\n",
      "Epoch 111/200\n",
      "32/32 [==============================] - 0s 1ms/step - loss: nan\n",
      "Epoch 112/200\n",
      "32/32 [==============================] - 0s 1ms/step - loss: nan\n",
      "Epoch 113/200\n",
      "32/32 [==============================] - 0s 1ms/step - loss: nan\n",
      "Epoch 114/200\n",
      "32/32 [==============================] - 0s 1ms/step - loss: nan\n",
      "Epoch 115/200\n",
      "32/32 [==============================] - 0s 1ms/step - loss: nan\n",
      "Epoch 116/200\n",
      "32/32 [==============================] - 0s 1ms/step - loss: nan\n",
      "Epoch 117/200\n",
      "32/32 [==============================] - 0s 1ms/step - loss: nan\n",
      "Epoch 118/200\n",
      "32/32 [==============================] - 0s 1ms/step - loss: nan\n",
      "Epoch 119/200\n",
      "32/32 [==============================] - 0s 1ms/step - loss: nan\n",
      "Epoch 120/200\n",
      "32/32 [==============================] - 0s 1ms/step - loss: nan\n",
      "Epoch 121/200\n",
      "32/32 [==============================] - 0s 1ms/step - loss: nan\n",
      "Epoch 122/200\n",
      "32/32 [==============================] - 0s 1ms/step - loss: nan\n",
      "Epoch 123/200\n",
      "32/32 [==============================] - 0s 1ms/step - loss: nan\n",
      "Epoch 124/200\n",
      "32/32 [==============================] - 0s 1ms/step - loss: nan\n",
      "Epoch 125/200\n",
      "32/32 [==============================] - 0s 1ms/step - loss: nan\n",
      "Epoch 126/200\n",
      "32/32 [==============================] - 0s 1ms/step - loss: nan\n",
      "Epoch 127/200\n",
      "32/32 [==============================] - 0s 1ms/step - loss: nan\n",
      "Epoch 128/200\n",
      "32/32 [==============================] - 0s 1ms/step - loss: nan\n",
      "Epoch 129/200\n",
      "32/32 [==============================] - 0s 1ms/step - loss: nan\n",
      "Epoch 130/200\n",
      "32/32 [==============================] - 0s 1ms/step - loss: nan\n",
      "Epoch 131/200\n",
      "32/32 [==============================] - 0s 1ms/step - loss: nan\n",
      "Epoch 132/200\n",
      "32/32 [==============================] - 0s 1ms/step - loss: nan\n",
      "Epoch 133/200\n",
      "32/32 [==============================] - 0s 1ms/step - loss: nan\n",
      "Epoch 134/200\n",
      "32/32 [==============================] - 0s 1ms/step - loss: nan\n",
      "Epoch 135/200\n",
      "32/32 [==============================] - 0s 1ms/step - loss: nan\n",
      "Epoch 136/200\n",
      "32/32 [==============================] - 0s 1ms/step - loss: nan\n",
      "Epoch 137/200\n",
      "32/32 [==============================] - 0s 1ms/step - loss: nan\n",
      "Epoch 138/200\n",
      "32/32 [==============================] - 0s 1ms/step - loss: nan\n",
      "Epoch 139/200\n",
      "32/32 [==============================] - 0s 1ms/step - loss: nan\n",
      "Epoch 140/200\n",
      "32/32 [==============================] - 0s 1ms/step - loss: nan\n",
      "Epoch 141/200\n",
      "32/32 [==============================] - 0s 1ms/step - loss: nan\n",
      "Epoch 142/200\n",
      "32/32 [==============================] - 0s 1ms/step - loss: nan\n",
      "Epoch 143/200\n",
      "32/32 [==============================] - 0s 1ms/step - loss: nan\n",
      "Epoch 144/200\n",
      "32/32 [==============================] - 0s 1ms/step - loss: nan\n",
      "Epoch 145/200\n",
      "32/32 [==============================] - 0s 1ms/step - loss: nan\n",
      "Epoch 146/200\n",
      "32/32 [==============================] - 0s 1ms/step - loss: nan\n",
      "Epoch 147/200\n",
      "32/32 [==============================] - 0s 1ms/step - loss: nan\n",
      "Epoch 148/200\n",
      "32/32 [==============================] - 0s 1ms/step - loss: nan\n",
      "Epoch 149/200\n",
      "32/32 [==============================] - 0s 1ms/step - loss: nan\n",
      "Epoch 150/200\n",
      "32/32 [==============================] - 0s 1ms/step - loss: nan\n",
      "Epoch 151/200\n",
      "32/32 [==============================] - 0s 1ms/step - loss: nan\n",
      "Epoch 152/200\n",
      "32/32 [==============================] - 0s 1ms/step - loss: nan\n",
      "Epoch 153/200\n",
      "32/32 [==============================] - 0s 1ms/step - loss: nan\n",
      "Epoch 154/200\n",
      "32/32 [==============================] - 0s 1ms/step - loss: nan\n",
      "Epoch 155/200\n",
      "32/32 [==============================] - 0s 1ms/step - loss: nan\n",
      "Epoch 156/200\n",
      "32/32 [==============================] - 0s 1ms/step - loss: nan\n",
      "Epoch 157/200\n",
      "32/32 [==============================] - 0s 1ms/step - loss: nan\n",
      "Epoch 158/200\n",
      "32/32 [==============================] - 0s 1ms/step - loss: nan\n",
      "Epoch 159/200\n",
      "32/32 [==============================] - 0s 1ms/step - loss: nan\n",
      "Epoch 160/200\n",
      "32/32 [==============================] - 0s 1ms/step - loss: nan\n",
      "Epoch 161/200\n",
      "32/32 [==============================] - 0s 1ms/step - loss: nan\n",
      "Epoch 162/200\n",
      "32/32 [==============================] - 0s 1ms/step - loss: nan\n",
      "Epoch 163/200\n",
      "32/32 [==============================] - 0s 1ms/step - loss: nan\n",
      "Epoch 164/200\n",
      "32/32 [==============================] - 0s 1ms/step - loss: nan\n",
      "Epoch 165/200\n",
      "32/32 [==============================] - 0s 1ms/step - loss: nan\n",
      "Epoch 166/200\n",
      "32/32 [==============================] - 0s 1ms/step - loss: nan\n",
      "Epoch 167/200\n",
      "32/32 [==============================] - 0s 1ms/step - loss: nan\n",
      "Epoch 168/200\n",
      "32/32 [==============================] - 0s 1ms/step - loss: nan\n",
      "Epoch 169/200\n",
      "32/32 [==============================] - 0s 1ms/step - loss: nan\n",
      "Epoch 170/200\n",
      "32/32 [==============================] - 0s 1ms/step - loss: nan\n",
      "Epoch 171/200\n",
      "32/32 [==============================] - 0s 1ms/step - loss: nan\n",
      "Epoch 172/200\n",
      "32/32 [==============================] - 0s 1ms/step - loss: nan\n",
      "Epoch 173/200\n",
      "32/32 [==============================] - 0s 1ms/step - loss: nan\n",
      "Epoch 174/200\n",
      "32/32 [==============================] - 0s 1ms/step - loss: nan\n",
      "Epoch 175/200\n",
      "32/32 [==============================] - 0s 1ms/step - loss: nan\n",
      "Epoch 176/200\n",
      "32/32 [==============================] - 0s 1ms/step - loss: nan\n",
      "Epoch 177/200\n",
      "32/32 [==============================] - 0s 1ms/step - loss: nan\n",
      "Epoch 178/200\n",
      "32/32 [==============================] - 0s 1ms/step - loss: nan\n",
      "Epoch 179/200\n",
      "32/32 [==============================] - 0s 1ms/step - loss: nan\n",
      "Epoch 180/200\n",
      "32/32 [==============================] - 0s 1ms/step - loss: nan\n",
      "Epoch 181/200\n",
      "32/32 [==============================] - 0s 1ms/step - loss: nan\n",
      "Epoch 182/200\n",
      "32/32 [==============================] - 0s 1ms/step - loss: nan\n",
      "Epoch 183/200\n",
      "32/32 [==============================] - 0s 1ms/step - loss: nan\n",
      "Epoch 184/200\n",
      "32/32 [==============================] - 0s 1ms/step - loss: nan\n",
      "Epoch 185/200\n",
      "32/32 [==============================] - 0s 1ms/step - loss: nan\n",
      "Epoch 186/200\n",
      "32/32 [==============================] - 0s 1ms/step - loss: nan\n",
      "Epoch 187/200\n",
      "32/32 [==============================] - 0s 1ms/step - loss: nan\n",
      "Epoch 188/200\n",
      "32/32 [==============================] - 0s 1ms/step - loss: nan\n",
      "Epoch 189/200\n",
      "32/32 [==============================] - 0s 1ms/step - loss: nan\n",
      "Epoch 190/200\n",
      "32/32 [==============================] - 0s 1ms/step - loss: nan\n",
      "Epoch 191/200\n",
      "32/32 [==============================] - 0s 1ms/step - loss: nan\n",
      "Epoch 192/200\n",
      "32/32 [==============================] - 0s 1ms/step - loss: nan\n",
      "Epoch 193/200\n",
      "32/32 [==============================] - 0s 1ms/step - loss: nan\n",
      "Epoch 194/200\n",
      "32/32 [==============================] - 0s 1ms/step - loss: nan\n",
      "Epoch 195/200\n",
      "32/32 [==============================] - 0s 1ms/step - loss: nan\n",
      "Epoch 196/200\n",
      "32/32 [==============================] - 0s 2ms/step - loss: nan\n",
      "Epoch 197/200\n",
      "32/32 [==============================] - 0s 1ms/step - loss: nan\n",
      "Epoch 198/200\n",
      "32/32 [==============================] - 0s 1ms/step - loss: nan\n",
      "Epoch 199/200\n",
      "32/32 [==============================] - 0s 1ms/step - loss: nan\n",
      "Epoch 200/200\n",
      "32/32 [==============================] - 0s 1ms/step - loss: nan\n"
     ]
    }
   ],
   "source": [
    "clf1 = OrdinalRegression()\n",
    "clf1.fit(X, y, use_gradient_tape=False, epochs=200, learning_rate=1e-2, dist='og')"
   ]
  },
  {
   "cell_type": "code",
   "execution_count": 20,
   "metadata": {},
   "outputs": [
    {
     "name": "stdout",
     "output_type": "stream",
     "text": [
      "Epoch 1/200\n",
      "32/32 [==============================] - 0s 1ms/step - loss: nan\n",
      "Epoch 2/200\n",
      "32/32 [==============================] - 0s 1ms/step - loss: nan\n",
      "Epoch 3/200\n",
      "32/32 [==============================] - 0s 1ms/step - loss: nan\n",
      "Epoch 4/200\n",
      "32/32 [==============================] - 0s 1ms/step - loss: nan\n",
      "Epoch 5/200\n",
      "32/32 [==============================] - 0s 1ms/step - loss: nan\n",
      "Epoch 6/200\n",
      "32/32 [==============================] - 0s 1ms/step - loss: nan\n",
      "Epoch 7/200\n",
      "32/32 [==============================] - 0s 1ms/step - loss: nan\n",
      "Epoch 8/200\n",
      "32/32 [==============================] - 0s 1ms/step - loss: nan\n",
      "Epoch 9/200\n",
      "32/32 [==============================] - 0s 1ms/step - loss: nan\n",
      "Epoch 10/200\n",
      "32/32 [==============================] - 0s 1ms/step - loss: nan\n",
      "Epoch 11/200\n",
      "32/32 [==============================] - 0s 1ms/step - loss: nan\n",
      "Epoch 12/200\n",
      "32/32 [==============================] - 0s 1ms/step - loss: nan\n",
      "Epoch 13/200\n",
      "32/32 [==============================] - 0s 1ms/step - loss: nan\n",
      "Epoch 14/200\n",
      "32/32 [==============================] - 0s 1ms/step - loss: nan\n",
      "Epoch 15/200\n",
      "32/32 [==============================] - 0s 1000us/step - loss: nan\n",
      "Epoch 16/200\n",
      "32/32 [==============================] - 0s 1ms/step - loss: nan\n",
      "Epoch 17/200\n",
      "32/32 [==============================] - 0s 2ms/step - loss: nan\n",
      "Epoch 18/200\n",
      "32/32 [==============================] - 0s 1ms/step - loss: nan\n",
      "Epoch 19/200\n",
      "32/32 [==============================] - 0s 1ms/step - loss: nan\n",
      "Epoch 20/200\n",
      "32/32 [==============================] - 0s 1ms/step - loss: nan\n",
      "Epoch 21/200\n",
      "32/32 [==============================] - 0s 1ms/step - loss: nan\n",
      "Epoch 22/200\n",
      "32/32 [==============================] - 0s 1ms/step - loss: nan\n",
      "Epoch 23/200\n",
      "32/32 [==============================] - 0s 1ms/step - loss: nan\n",
      "Epoch 24/200\n",
      "32/32 [==============================] - 0s 1ms/step - loss: nan\n",
      "Epoch 25/200\n",
      "32/32 [==============================] - 0s 1ms/step - loss: nan\n",
      "Epoch 26/200\n",
      "32/32 [==============================] - 0s 1ms/step - loss: nan\n",
      "Epoch 27/200\n",
      "32/32 [==============================] - 0s 1ms/step - loss: nan\n",
      "Epoch 28/200\n",
      "32/32 [==============================] - 0s 1ms/step - loss: nan\n",
      "Epoch 29/200\n",
      "32/32 [==============================] - 0s 1ms/step - loss: nan\n",
      "Epoch 30/200\n",
      "32/32 [==============================] - 0s 1ms/step - loss: nan\n",
      "Epoch 31/200\n",
      "32/32 [==============================] - 0s 1ms/step - loss: nan\n",
      "Epoch 32/200\n",
      "32/32 [==============================] - 0s 1ms/step - loss: nan\n",
      "Epoch 33/200\n",
      "32/32 [==============================] - 0s 1ms/step - loss: nan\n",
      "Epoch 34/200\n",
      "32/32 [==============================] - 0s 1ms/step - loss: nan\n",
      "Epoch 35/200\n",
      "32/32 [==============================] - 0s 1ms/step - loss: nan\n",
      "Epoch 36/200\n",
      "32/32 [==============================] - 0s 1ms/step - loss: nan\n",
      "Epoch 37/200\n",
      "32/32 [==============================] - 0s 1ms/step - loss: nan\n",
      "Epoch 38/200\n",
      "32/32 [==============================] - 0s 1ms/step - loss: nan\n",
      "Epoch 39/200\n",
      "32/32 [==============================] - 0s 1ms/step - loss: nan\n",
      "Epoch 40/200\n",
      "32/32 [==============================] - 0s 986us/step - loss: nan\n",
      "Epoch 41/200\n",
      "32/32 [==============================] - 0s 1ms/step - loss: nan\n",
      "Epoch 42/200\n",
      "32/32 [==============================] - 0s 1ms/step - loss: nan\n",
      "Epoch 43/200\n",
      "32/32 [==============================] - 0s 1ms/step - loss: nan\n",
      "Epoch 44/200\n",
      "32/32 [==============================] - 0s 1ms/step - loss: nan\n",
      "Epoch 45/200\n",
      "32/32 [==============================] - 0s 1ms/step - loss: nan\n",
      "Epoch 46/200\n",
      "32/32 [==============================] - 0s 1ms/step - loss: nan\n",
      "Epoch 47/200\n",
      "32/32 [==============================] - 0s 1ms/step - loss: nan\n",
      "Epoch 48/200\n",
      "32/32 [==============================] - 0s 1ms/step - loss: nan\n",
      "Epoch 49/200\n",
      "32/32 [==============================] - 0s 1ms/step - loss: nan\n",
      "Epoch 50/200\n",
      "32/32 [==============================] - 0s 2ms/step - loss: nan\n",
      "Epoch 51/200\n",
      "32/32 [==============================] - 0s 1ms/step - loss: nan\n",
      "Epoch 52/200\n",
      "32/32 [==============================] - 0s 1ms/step - loss: nan\n",
      "Epoch 53/200\n",
      "32/32 [==============================] - 0s 1ms/step - loss: nan\n",
      "Epoch 54/200\n",
      "32/32 [==============================] - 0s 1ms/step - loss: nan\n",
      "Epoch 55/200\n",
      "32/32 [==============================] - 0s 1ms/step - loss: nan\n",
      "Epoch 56/200\n",
      "32/32 [==============================] - 0s 1ms/step - loss: nan\n",
      "Epoch 57/200\n",
      "32/32 [==============================] - 0s 1ms/step - loss: nan\n",
      "Epoch 58/200\n",
      "32/32 [==============================] - 0s 1ms/step - loss: nan\n",
      "Epoch 59/200\n",
      "32/32 [==============================] - 0s 1ms/step - loss: nan\n",
      "Epoch 60/200\n",
      "32/32 [==============================] - 0s 1ms/step - loss: nan\n",
      "Epoch 61/200\n",
      "32/32 [==============================] - 0s 1ms/step - loss: nan\n",
      "Epoch 62/200\n",
      "32/32 [==============================] - 0s 1ms/step - loss: nan\n",
      "Epoch 63/200\n",
      "32/32 [==============================] - 0s 1ms/step - loss: nan\n",
      "Epoch 64/200\n",
      "32/32 [==============================] - 0s 1ms/step - loss: nan\n",
      "Epoch 65/200\n",
      "32/32 [==============================] - 0s 1ms/step - loss: nan\n",
      "Epoch 66/200\n",
      "32/32 [==============================] - 0s 1ms/step - loss: nan\n",
      "Epoch 67/200\n",
      "32/32 [==============================] - 0s 1ms/step - loss: nan\n",
      "Epoch 68/200\n",
      "32/32 [==============================] - 0s 1ms/step - loss: nan\n",
      "Epoch 69/200\n",
      "32/32 [==============================] - 0s 1ms/step - loss: nan\n",
      "Epoch 70/200\n",
      "32/32 [==============================] - 0s 1ms/step - loss: nan\n",
      "Epoch 71/200\n",
      "32/32 [==============================] - 0s 1ms/step - loss: nan\n",
      "Epoch 72/200\n",
      "32/32 [==============================] - 0s 1ms/step - loss: nan\n",
      "Epoch 73/200\n",
      "32/32 [==============================] - 0s 1ms/step - loss: nan\n",
      "Epoch 74/200\n",
      "32/32 [==============================] - 0s 1ms/step - loss: nan\n",
      "Epoch 75/200\n",
      "32/32 [==============================] - 0s 1ms/step - loss: nan\n",
      "Epoch 76/200\n",
      "32/32 [==============================] - 0s 1ms/step - loss: nan\n",
      "Epoch 77/200\n",
      "32/32 [==============================] - 0s 1ms/step - loss: nan\n",
      "Epoch 78/200\n",
      "32/32 [==============================] - 0s 1ms/step - loss: nan\n",
      "Epoch 79/200\n",
      "32/32 [==============================] - 0s 1ms/step - loss: nan\n",
      "Epoch 80/200\n",
      "32/32 [==============================] - 0s 1ms/step - loss: nan\n",
      "Epoch 81/200\n",
      "32/32 [==============================] - 0s 1ms/step - loss: nan\n",
      "Epoch 82/200\n",
      "32/32 [==============================] - 0s 1ms/step - loss: nan\n",
      "Epoch 83/200\n",
      "32/32 [==============================] - 0s 1ms/step - loss: nan\n",
      "Epoch 84/200\n",
      "32/32 [==============================] - 0s 1ms/step - loss: nan\n",
      "Epoch 85/200\n",
      "32/32 [==============================] - 0s 1ms/step - loss: nan\n",
      "Epoch 86/200\n",
      "32/32 [==============================] - 0s 1ms/step - loss: nan\n",
      "Epoch 87/200\n",
      "32/32 [==============================] - 0s 1ms/step - loss: nan\n",
      "Epoch 88/200\n",
      "32/32 [==============================] - 0s 1ms/step - loss: nan\n",
      "Epoch 89/200\n",
      "32/32 [==============================] - 0s 1ms/step - loss: nan\n",
      "Epoch 90/200\n",
      "32/32 [==============================] - 0s 1ms/step - loss: nan\n",
      "Epoch 91/200\n",
      "32/32 [==============================] - 0s 1ms/step - loss: nan\n",
      "Epoch 92/200\n",
      "32/32 [==============================] - 0s 1ms/step - loss: nan\n",
      "Epoch 93/200\n",
      "32/32 [==============================] - 0s 1ms/step - loss: nan\n",
      "Epoch 94/200\n",
      "32/32 [==============================] - 0s 1ms/step - loss: nan\n",
      "Epoch 95/200\n",
      "32/32 [==============================] - 0s 1ms/step - loss: nan\n",
      "Epoch 96/200\n",
      "32/32 [==============================] - 0s 1ms/step - loss: nan\n",
      "Epoch 97/200\n",
      "32/32 [==============================] - 0s 1ms/step - loss: nan\n",
      "Epoch 98/200\n",
      "32/32 [==============================] - 0s 1ms/step - loss: nan\n",
      "Epoch 99/200\n",
      "32/32 [==============================] - 0s 1ms/step - loss: nan\n",
      "Epoch 100/200\n",
      "32/32 [==============================] - 0s 1ms/step - loss: nan\n",
      "Epoch 101/200\n",
      "32/32 [==============================] - 0s 1ms/step - loss: nan\n",
      "Epoch 102/200\n",
      "32/32 [==============================] - 0s 1ms/step - loss: nan\n",
      "Epoch 103/200\n",
      "32/32 [==============================] - 0s 1ms/step - loss: nan\n",
      "Epoch 104/200\n",
      "32/32 [==============================] - 0s 1ms/step - loss: nan\n",
      "Epoch 105/200\n",
      "32/32 [==============================] - 0s 1ms/step - loss: nan\n",
      "Epoch 106/200\n",
      "32/32 [==============================] - 0s 1ms/step - loss: nan\n",
      "Epoch 107/200\n",
      "32/32 [==============================] - 0s 1ms/step - loss: nan\n",
      "Epoch 108/200\n",
      "32/32 [==============================] - 0s 1ms/step - loss: nan\n",
      "Epoch 109/200\n",
      "32/32 [==============================] - 0s 996us/step - loss: nan\n",
      "Epoch 110/200\n",
      "32/32 [==============================] - 0s 1ms/step - loss: nan\n",
      "Epoch 111/200\n",
      "32/32 [==============================] - 0s 1ms/step - loss: nan\n",
      "Epoch 112/200\n",
      "32/32 [==============================] - 0s 1ms/step - loss: nan\n",
      "Epoch 113/200\n",
      "32/32 [==============================] - 0s 1ms/step - loss: nan\n",
      "Epoch 114/200\n",
      "32/32 [==============================] - 0s 1ms/step - loss: nan\n",
      "Epoch 115/200\n",
      "32/32 [==============================] - 0s 1ms/step - loss: nan\n",
      "Epoch 116/200\n",
      "32/32 [==============================] - 0s 1ms/step - loss: nan\n",
      "Epoch 117/200\n",
      "32/32 [==============================] - 0s 1ms/step - loss: nan\n",
      "Epoch 118/200\n",
      "32/32 [==============================] - 0s 1ms/step - loss: nan\n",
      "Epoch 119/200\n",
      "32/32 [==============================] - 0s 1ms/step - loss: nan\n",
      "Epoch 120/200\n",
      "32/32 [==============================] - 0s 1ms/step - loss: nan\n",
      "Epoch 121/200\n",
      "32/32 [==============================] - 0s 980us/step - loss: nan\n",
      "Epoch 122/200\n",
      "32/32 [==============================] - 0s 1ms/step - loss: nan\n",
      "Epoch 123/200\n",
      "32/32 [==============================] - 0s 1ms/step - loss: nan\n",
      "Epoch 124/200\n",
      "32/32 [==============================] - 0s 1ms/step - loss: nan\n",
      "Epoch 125/200\n",
      "32/32 [==============================] - 0s 1ms/step - loss: nan\n",
      "Epoch 126/200\n",
      "32/32 [==============================] - 0s 1ms/step - loss: nan\n",
      "Epoch 127/200\n",
      "32/32 [==============================] - 0s 1ms/step - loss: nan\n",
      "Epoch 128/200\n",
      "32/32 [==============================] - 0s 1ms/step - loss: nan\n",
      "Epoch 129/200\n",
      "32/32 [==============================] - 0s 1ms/step - loss: nan\n",
      "Epoch 130/200\n",
      "32/32 [==============================] - 0s 1ms/step - loss: nan\n",
      "Epoch 131/200\n",
      "32/32 [==============================] - 0s 1ms/step - loss: nan\n",
      "Epoch 132/200\n",
      "32/32 [==============================] - 0s 1ms/step - loss: nan\n",
      "Epoch 133/200\n",
      "32/32 [==============================] - 0s 1ms/step - loss: nan\n",
      "Epoch 134/200\n",
      "32/32 [==============================] - 0s 1ms/step - loss: nan\n",
      "Epoch 135/200\n",
      "32/32 [==============================] - 0s 1ms/step - loss: nan\n",
      "Epoch 136/200\n",
      "32/32 [==============================] - 0s 1ms/step - loss: nan\n",
      "Epoch 137/200\n",
      "32/32 [==============================] - 0s 1ms/step - loss: nan\n",
      "Epoch 138/200\n",
      "32/32 [==============================] - 0s 1ms/step - loss: nan\n",
      "Epoch 139/200\n",
      "32/32 [==============================] - 0s 1ms/step - loss: nan\n",
      "Epoch 140/200\n",
      "32/32 [==============================] - 0s 1ms/step - loss: nan\n",
      "Epoch 141/200\n",
      "32/32 [==============================] - 0s 1ms/step - loss: nan\n",
      "Epoch 142/200\n",
      "32/32 [==============================] - 0s 1ms/step - loss: nan\n",
      "Epoch 143/200\n",
      "32/32 [==============================] - 0s 1ms/step - loss: nan\n",
      "Epoch 144/200\n",
      "32/32 [==============================] - 0s 1ms/step - loss: nan\n",
      "Epoch 145/200\n",
      "32/32 [==============================] - 0s 1ms/step - loss: nan\n",
      "Epoch 146/200\n",
      "32/32 [==============================] - 0s 1ms/step - loss: nan\n",
      "Epoch 147/200\n",
      "32/32 [==============================] - 0s 1ms/step - loss: nan\n",
      "Epoch 148/200\n",
      "32/32 [==============================] - 0s 1ms/step - loss: nan\n",
      "Epoch 149/200\n",
      "32/32 [==============================] - 0s 1ms/step - loss: nan\n",
      "Epoch 150/200\n",
      "32/32 [==============================] - 0s 1ms/step - loss: nan\n",
      "Epoch 151/200\n",
      "32/32 [==============================] - 0s 1ms/step - loss: nan\n",
      "Epoch 152/200\n",
      "32/32 [==============================] - 0s 1ms/step - loss: nan\n",
      "Epoch 153/200\n",
      "32/32 [==============================] - 0s 1ms/step - loss: nan\n",
      "Epoch 154/200\n",
      "32/32 [==============================] - 0s 1ms/step - loss: nan\n",
      "Epoch 155/200\n",
      "32/32 [==============================] - 0s 1ms/step - loss: nan\n",
      "Epoch 156/200\n",
      "32/32 [==============================] - 0s 1ms/step - loss: nan\n",
      "Epoch 157/200\n",
      "32/32 [==============================] - 0s 1ms/step - loss: nan\n",
      "Epoch 158/200\n",
      "32/32 [==============================] - 0s 1ms/step - loss: nan\n",
      "Epoch 159/200\n",
      "32/32 [==============================] - 0s 1ms/step - loss: nan\n",
      "Epoch 160/200\n",
      "32/32 [==============================] - 0s 1ms/step - loss: nan\n",
      "Epoch 161/200\n",
      "32/32 [==============================] - 0s 1ms/step - loss: nan\n",
      "Epoch 162/200\n",
      "32/32 [==============================] - 0s 1ms/step - loss: nan\n",
      "Epoch 163/200\n",
      "32/32 [==============================] - 0s 1ms/step - loss: nan\n",
      "Epoch 164/200\n",
      "32/32 [==============================] - 0s 1ms/step - loss: nan\n",
      "Epoch 165/200\n",
      "32/32 [==============================] - 0s 1ms/step - loss: nan\n",
      "Epoch 166/200\n",
      "32/32 [==============================] - 0s 1ms/step - loss: nan\n",
      "Epoch 167/200\n",
      "32/32 [==============================] - 0s 1ms/step - loss: nan\n",
      "Epoch 168/200\n",
      "32/32 [==============================] - 0s 2ms/step - loss: nan\n",
      "Epoch 169/200\n",
      "32/32 [==============================] - 0s 1ms/step - loss: nan\n",
      "Epoch 170/200\n",
      "32/32 [==============================] - 0s 1ms/step - loss: nan\n",
      "Epoch 171/200\n",
      "32/32 [==============================] - 0s 1ms/step - loss: nan\n",
      "Epoch 172/200\n",
      "32/32 [==============================] - 0s 1ms/step - loss: nan\n",
      "Epoch 173/200\n",
      "32/32 [==============================] - 0s 1ms/step - loss: nan\n",
      "Epoch 174/200\n",
      "32/32 [==============================] - 0s 1ms/step - loss: nan\n",
      "Epoch 175/200\n",
      "32/32 [==============================] - 0s 1ms/step - loss: nan\n",
      "Epoch 176/200\n",
      "32/32 [==============================] - 0s 1ms/step - loss: nan\n",
      "Epoch 177/200\n",
      "32/32 [==============================] - 0s 1ms/step - loss: nan\n",
      "Epoch 178/200\n",
      "32/32 [==============================] - 0s 1ms/step - loss: nan\n",
      "Epoch 179/200\n",
      "32/32 [==============================] - 0s 1ms/step - loss: nan\n",
      "Epoch 180/200\n",
      "32/32 [==============================] - 0s 1ms/step - loss: nan\n",
      "Epoch 181/200\n",
      "32/32 [==============================] - 0s 1ms/step - loss: nan\n",
      "Epoch 182/200\n",
      "32/32 [==============================] - 0s 1ms/step - loss: nan\n",
      "Epoch 183/200\n",
      "32/32 [==============================] - 0s 1ms/step - loss: nan\n",
      "Epoch 184/200\n",
      "32/32 [==============================] - 0s 1ms/step - loss: nan\n",
      "Epoch 185/200\n",
      "32/32 [==============================] - 0s 1ms/step - loss: nan\n",
      "Epoch 186/200\n",
      "32/32 [==============================] - 0s 1ms/step - loss: nan\n",
      "Epoch 187/200\n",
      "32/32 [==============================] - 0s 1ms/step - loss: nan\n",
      "Epoch 188/200\n",
      "32/32 [==============================] - 0s 1ms/step - loss: nan\n",
      "Epoch 189/200\n",
      "32/32 [==============================] - 0s 1ms/step - loss: nan\n",
      "Epoch 190/200\n",
      "32/32 [==============================] - 0s 1ms/step - loss: nan\n",
      "Epoch 191/200\n",
      "32/32 [==============================] - 0s 1ms/step - loss: nan\n",
      "Epoch 192/200\n",
      "32/32 [==============================] - 0s 1ms/step - loss: nan\n",
      "Epoch 193/200\n",
      "32/32 [==============================] - 0s 1ms/step - loss: nan\n",
      "Epoch 194/200\n",
      "32/32 [==============================] - 0s 1ms/step - loss: nan\n",
      "Epoch 195/200\n",
      "32/32 [==============================] - 0s 1ms/step - loss: nan\n",
      "Epoch 196/200\n",
      "32/32 [==============================] - 0s 1ms/step - loss: nan\n",
      "Epoch 197/200\n",
      "32/32 [==============================] - 0s 1ms/step - loss: nan\n",
      "Epoch 198/200\n",
      "32/32 [==============================] - 0s 1ms/step - loss: nan\n",
      "Epoch 199/200\n",
      "32/32 [==============================] - 0s 1ms/step - loss: nan\n",
      "Epoch 200/200\n",
      "32/32 [==============================] - 0s 1ms/step - loss: nan\n"
     ]
    }
   ],
   "source": [
    "clf2 = OrdinalRegression()\n",
    "clf2.fit(X, y, use_gradient_tape=False, epochs=200, learning_rate=1e-2, dist='og2')"
   ]
  },
  {
   "cell_type": "code",
   "execution_count": 21,
   "metadata": {},
   "outputs": [
    {
     "name": "stdout",
     "output_type": "stream",
     "text": [
      "Epoch 1/200\n",
      "32/32 [==============================] - 0s 1ms/step - loss: 2.5703\n",
      "Epoch 2/200\n",
      "32/32 [==============================] - 0s 934us/step - loss: 1.1631\n",
      "Epoch 3/200\n",
      "32/32 [==============================] - 0s 886us/step - loss: 0.9986\n",
      "Epoch 4/200\n",
      "32/32 [==============================] - 0s 864us/step - loss: 0.8970\n",
      "Epoch 5/200\n",
      "32/32 [==============================] - 0s 857us/step - loss: 0.8196\n",
      "Epoch 6/200\n",
      "32/32 [==============================] - 0s 862us/step - loss: 0.7577\n",
      "Epoch 7/200\n",
      "32/32 [==============================] - 0s 878us/step - loss: 0.7070\n",
      "Epoch 8/200\n",
      "32/32 [==============================] - 0s 881us/step - loss: 0.6643\n",
      "Epoch 9/200\n",
      "32/32 [==============================] - 0s 873us/step - loss: 0.6276\n",
      "Epoch 10/200\n",
      "32/32 [==============================] - 0s 924us/step - loss: 0.5950\n",
      "Epoch 11/200\n",
      "32/32 [==============================] - 0s 849us/step - loss: 0.5670\n",
      "Epoch 12/200\n",
      "32/32 [==============================] - 0s 885us/step - loss: 0.5425\n",
      "Epoch 13/200\n",
      "32/32 [==============================] - 0s 887us/step - loss: 0.5205\n",
      "Epoch 14/200\n",
      "32/32 [==============================] - 0s 868us/step - loss: 0.5005\n",
      "Epoch 15/200\n",
      "32/32 [==============================] - 0s 864us/step - loss: 0.4835\n",
      "Epoch 16/200\n",
      "32/32 [==============================] - 0s 865us/step - loss: 0.4670\n",
      "Epoch 17/200\n",
      "32/32 [==============================] - 0s 917us/step - loss: 0.4518\n",
      "Epoch 18/200\n",
      "32/32 [==============================] - 0s 865us/step - loss: 0.4382\n",
      "Epoch 19/200\n",
      "32/32 [==============================] - 0s 879us/step - loss: 0.4272\n",
      "Epoch 20/200\n",
      "32/32 [==============================] - 0s 886us/step - loss: 0.4145\n",
      "Epoch 21/200\n",
      "32/32 [==============================] - 0s 886us/step - loss: 0.4033\n",
      "Epoch 22/200\n",
      "32/32 [==============================] - 0s 947us/step - loss: 0.3930\n",
      "Epoch 23/200\n",
      "32/32 [==============================] - 0s 937us/step - loss: 0.3841\n",
      "Epoch 24/200\n",
      "32/32 [==============================] - 0s 922us/step - loss: 0.3773\n",
      "Epoch 25/200\n",
      "32/32 [==============================] - 0s 938us/step - loss: 0.3673\n",
      "Epoch 26/200\n",
      "32/32 [==============================] - 0s 883us/step - loss: 0.3589\n",
      "Epoch 27/200\n",
      "32/32 [==============================] - 0s 931us/step - loss: 0.3516\n",
      "Epoch 28/200\n",
      "32/32 [==============================] - 0s 881us/step - loss: 0.3445\n",
      "Epoch 29/200\n",
      "32/32 [==============================] - 0s 913us/step - loss: 0.3385\n",
      "Epoch 30/200\n",
      "32/32 [==============================] - 0s 874us/step - loss: 0.3319\n",
      "Epoch 31/200\n",
      "32/32 [==============================] - 0s 914us/step - loss: 0.3262\n",
      "Epoch 32/200\n",
      "32/32 [==============================] - 0s 1ms/step - loss: 0.3204\n",
      "Epoch 33/200\n",
      "32/32 [==============================] - 0s 1ms/step - loss: 0.3162\n",
      "Epoch 34/200\n",
      "32/32 [==============================] - 0s 887us/step - loss: 0.3111\n",
      "Epoch 35/200\n",
      "32/32 [==============================] - 0s 879us/step - loss: 0.3051\n",
      "Epoch 36/200\n",
      "32/32 [==============================] - 0s 887us/step - loss: 0.3007\n",
      "Epoch 37/200\n",
      "32/32 [==============================] - 0s 873us/step - loss: 0.2960\n",
      "Epoch 38/200\n",
      "32/32 [==============================] - 0s 886us/step - loss: 0.2916\n",
      "Epoch 39/200\n",
      "32/32 [==============================] - 0s 878us/step - loss: 0.2879\n",
      "Epoch 40/200\n",
      "32/32 [==============================] - 0s 895us/step - loss: 0.2842\n",
      "Epoch 41/200\n",
      "32/32 [==============================] - 0s 892us/step - loss: 0.2798\n",
      "Epoch 42/200\n",
      "32/32 [==============================] - 0s 1ms/step - loss: 0.2761\n",
      "Epoch 43/200\n",
      "32/32 [==============================] - 0s 988us/step - loss: 0.2735\n",
      "Epoch 44/200\n",
      "32/32 [==============================] - 0s 843us/step - loss: 0.2693\n",
      "Epoch 45/200\n",
      "32/32 [==============================] - 0s 867us/step - loss: 0.2667\n",
      "Epoch 46/200\n",
      "32/32 [==============================] - 0s 884us/step - loss: 0.2622\n",
      "Epoch 47/200\n",
      "32/32 [==============================] - 0s 884us/step - loss: 0.2597\n",
      "Epoch 48/200\n",
      "32/32 [==============================] - 0s 865us/step - loss: 0.2568\n",
      "Epoch 49/200\n",
      "32/32 [==============================] - 0s 887us/step - loss: 0.2545\n",
      "Epoch 50/200\n",
      "32/32 [==============================] - 0s 892us/step - loss: 0.2511\n",
      "Epoch 51/200\n",
      "32/32 [==============================] - 0s 867us/step - loss: 0.2480\n",
      "Epoch 52/200\n",
      "32/32 [==============================] - 0s 868us/step - loss: 0.2453\n",
      "Epoch 53/200\n",
      "32/32 [==============================] - 0s 882us/step - loss: 0.2426\n",
      "Epoch 54/200\n",
      "32/32 [==============================] - 0s 866us/step - loss: 0.2401\n",
      "Epoch 55/200\n",
      "32/32 [==============================] - 0s 856us/step - loss: 0.2373\n",
      "Epoch 56/200\n",
      "32/32 [==============================] - 0s 935us/step - loss: 0.2355\n",
      "Epoch 57/200\n",
      "32/32 [==============================] - 0s 1ms/step - loss: 0.2331\n",
      "Epoch 58/200\n",
      "32/32 [==============================] - 0s 1ms/step - loss: 0.2309\n",
      "Epoch 59/200\n",
      "32/32 [==============================] - 0s 954us/step - loss: 0.2291\n",
      "Epoch 60/200\n",
      "32/32 [==============================] - 0s 843us/step - loss: 0.2260\n",
      "Epoch 61/200\n",
      "32/32 [==============================] - 0s 849us/step - loss: 0.2250\n",
      "Epoch 62/200\n",
      "32/32 [==============================] - 0s 913us/step - loss: 0.2223\n",
      "Epoch 63/200\n",
      "32/32 [==============================] - 0s 937us/step - loss: 0.2204\n",
      "Epoch 64/200\n",
      "32/32 [==============================] - 0s 931us/step - loss: 0.2184\n",
      "Epoch 65/200\n",
      "32/32 [==============================] - 0s 881us/step - loss: 0.2174\n",
      "Epoch 66/200\n",
      "32/32 [==============================] - 0s 888us/step - loss: 0.2157\n",
      "Epoch 67/200\n",
      "32/32 [==============================] - 0s 862us/step - loss: 0.2133\n",
      "Epoch 68/200\n",
      "32/32 [==============================] - 0s 867us/step - loss: 0.2113\n",
      "Epoch 69/200\n",
      "32/32 [==============================] - 0s 915us/step - loss: 0.2101\n",
      "Epoch 70/200\n",
      "32/32 [==============================] - 0s 881us/step - loss: 0.2075\n",
      "Epoch 71/200\n",
      "32/32 [==============================] - 0s 887us/step - loss: 0.2071\n",
      "Epoch 72/200\n",
      "32/32 [==============================] - 0s 880us/step - loss: 0.2046\n",
      "Epoch 73/200\n",
      "32/32 [==============================] - 0s 889us/step - loss: 0.2026\n",
      "Epoch 74/200\n",
      "32/32 [==============================] - 0s 909us/step - loss: 0.2015\n",
      "Epoch 75/200\n",
      "32/32 [==============================] - 0s 1ms/step - loss: 0.1990\n",
      "Epoch 76/200\n",
      "32/32 [==============================] - 0s 1ms/step - loss: 0.1986\n",
      "Epoch 77/200\n",
      "32/32 [==============================] - 0s 864us/step - loss: 0.1957\n",
      "Epoch 78/200\n",
      "32/32 [==============================] - 0s 875us/step - loss: 0.1950\n",
      "Epoch 79/200\n",
      "32/32 [==============================] - 0s 883us/step - loss: 0.1937\n",
      "Epoch 80/200\n",
      "32/32 [==============================] - 0s 884us/step - loss: 0.1929\n",
      "Epoch 81/200\n",
      "32/32 [==============================] - 0s 862us/step - loss: 0.1911\n",
      "Epoch 82/200\n",
      "32/32 [==============================] - 0s 855us/step - loss: 0.1905\n",
      "Epoch 83/200\n",
      "32/32 [==============================] - 0s 860us/step - loss: 0.1885\n",
      "Epoch 84/200\n",
      "32/32 [==============================] - 0s 894us/step - loss: 0.1863\n",
      "Epoch 85/200\n",
      "32/32 [==============================] - 0s 875us/step - loss: 0.1850\n",
      "Epoch 86/200\n",
      "32/32 [==============================] - 0s 874us/step - loss: 0.1840\n",
      "Epoch 87/200\n",
      "32/32 [==============================] - 0s 862us/step - loss: 0.1826\n",
      "Epoch 88/200\n",
      "32/32 [==============================] - 0s 864us/step - loss: 0.1823\n",
      "Epoch 89/200\n",
      "32/32 [==============================] - 0s 883us/step - loss: 0.1797\n",
      "Epoch 90/200\n",
      "32/32 [==============================] - 0s 876us/step - loss: 0.1794\n",
      "Epoch 91/200\n",
      "32/32 [==============================] - 0s 873us/step - loss: 0.1777\n",
      "Epoch 92/200\n",
      "32/32 [==============================] - 0s 864us/step - loss: 0.1769\n",
      "Epoch 93/200\n",
      "32/32 [==============================] - 0s 894us/step - loss: 0.1757\n",
      "Epoch 94/200\n",
      "32/32 [==============================] - 0s 872us/step - loss: 0.1741\n",
      "Epoch 95/200\n",
      "32/32 [==============================] - 0s 873us/step - loss: 0.1739\n",
      "Epoch 96/200\n",
      "32/32 [==============================] - 0s 891us/step - loss: 0.1737\n",
      "Epoch 97/200\n",
      "32/32 [==============================] - 0s 898us/step - loss: 0.1707\n",
      "Epoch 98/200\n",
      "32/32 [==============================] - 0s 873us/step - loss: 0.1697\n",
      "Epoch 99/200\n",
      "32/32 [==============================] - 0s 849us/step - loss: 0.1708\n",
      "Epoch 100/200\n",
      "32/32 [==============================] - 0s 875us/step - loss: 0.1687\n",
      "Epoch 101/200\n",
      "32/32 [==============================] - 0s 942us/step - loss: 0.1674\n",
      "Epoch 102/200\n",
      "32/32 [==============================] - 0s 891us/step - loss: 0.1661\n",
      "Epoch 103/200\n",
      "32/32 [==============================] - 0s 883us/step - loss: 0.1669\n",
      "Epoch 104/200\n",
      "32/32 [==============================] - 0s 895us/step - loss: 0.1640\n",
      "Epoch 105/200\n",
      "32/32 [==============================] - 0s 870us/step - loss: 0.1634\n",
      "Epoch 106/200\n",
      "32/32 [==============================] - 0s 873us/step - loss: 0.1631\n",
      "Epoch 107/200\n",
      "32/32 [==============================] - 0s 903us/step - loss: 0.1614\n",
      "Epoch 108/200\n",
      "32/32 [==============================] - 0s 912us/step - loss: 0.1603\n",
      "Epoch 109/200\n",
      "32/32 [==============================] - 0s 886us/step - loss: 0.1598\n",
      "Epoch 110/200\n",
      "32/32 [==============================] - 0s 884us/step - loss: 0.1586\n",
      "Epoch 111/200\n",
      "32/32 [==============================] - 0s 914us/step - loss: 0.1574\n",
      "Epoch 112/200\n",
      "32/32 [==============================] - 0s 880us/step - loss: 0.1590\n",
      "Epoch 113/200\n",
      "32/32 [==============================] - 0s 899us/step - loss: 0.1562\n",
      "Epoch 114/200\n",
      "32/32 [==============================] - 0s 917us/step - loss: 0.1555\n",
      "Epoch 115/200\n",
      "32/32 [==============================] - 0s 868us/step - loss: 0.1550\n",
      "Epoch 116/200\n",
      "32/32 [==============================] - 0s 874us/step - loss: 0.1546\n",
      "Epoch 117/200\n",
      "32/32 [==============================] - 0s 838us/step - loss: 0.1530\n",
      "Epoch 118/200\n",
      "32/32 [==============================] - 0s 871us/step - loss: 0.1520\n",
      "Epoch 119/200\n",
      "32/32 [==============================] - 0s 924us/step - loss: 0.1514\n",
      "Epoch 120/200\n",
      "32/32 [==============================] - 0s 894us/step - loss: 0.1498\n",
      "Epoch 121/200\n",
      "32/32 [==============================] - 0s 867us/step - loss: 0.1510\n",
      "Epoch 122/200\n",
      "32/32 [==============================] - 0s 902us/step - loss: 0.1489\n",
      "Epoch 123/200\n",
      "32/32 [==============================] - 0s 886us/step - loss: 0.1491\n",
      "Epoch 124/200\n",
      "32/32 [==============================] - 0s 881us/step - loss: 0.1482\n",
      "Epoch 125/200\n",
      "32/32 [==============================] - 0s 866us/step - loss: 0.1460\n",
      "Epoch 126/200\n",
      "32/32 [==============================] - 0s 871us/step - loss: 0.1457\n",
      "Epoch 127/200\n",
      "32/32 [==============================] - 0s 2ms/step - loss: 0.1452\n",
      "Epoch 128/200\n",
      "32/32 [==============================] - 0s 895us/step - loss: 0.1447\n",
      "Epoch 129/200\n",
      "32/32 [==============================] - 0s 889us/step - loss: 0.1444\n",
      "Epoch 130/200\n",
      "32/32 [==============================] - 0s 958us/step - loss: 0.1430\n",
      "Epoch 131/200\n",
      "32/32 [==============================] - 0s 907us/step - loss: 0.1412\n",
      "Epoch 132/200\n",
      "32/32 [==============================] - 0s 933us/step - loss: 0.1435\n",
      "Epoch 133/200\n",
      "32/32 [==============================] - 0s 893us/step - loss: 0.1405\n",
      "Epoch 134/200\n",
      "32/32 [==============================] - 0s 894us/step - loss: 0.1401\n",
      "Epoch 135/200\n",
      "32/32 [==============================] - 0s 891us/step - loss: 0.1397\n",
      "Epoch 136/200\n",
      "32/32 [==============================] - 0s 874us/step - loss: 0.1402\n",
      "Epoch 137/200\n",
      "32/32 [==============================] - 0s 876us/step - loss: 0.1383\n",
      "Epoch 138/200\n",
      "32/32 [==============================] - 0s 936us/step - loss: 0.1372\n",
      "Epoch 139/200\n",
      "32/32 [==============================] - 0s 889us/step - loss: 0.1371\n",
      "Epoch 140/200\n",
      "32/32 [==============================] - 0s 882us/step - loss: 0.1372\n",
      "Epoch 141/200\n",
      "32/32 [==============================] - 0s 882us/step - loss: 0.1410\n",
      "Epoch 142/200\n",
      "32/32 [==============================] - 0s 903us/step - loss: 0.1363\n",
      "Epoch 143/200\n",
      "32/32 [==============================] - 0s 890us/step - loss: 0.1351\n",
      "Epoch 144/200\n",
      "32/32 [==============================] - 0s 869us/step - loss: 0.1348\n",
      "Epoch 145/200\n",
      "32/32 [==============================] - 0s 901us/step - loss: 0.1349\n",
      "Epoch 146/200\n",
      "32/32 [==============================] - 0s 894us/step - loss: 0.1361\n",
      "Epoch 147/200\n",
      "32/32 [==============================] - 0s 898us/step - loss: 0.1343\n",
      "Epoch 148/200\n",
      "32/32 [==============================] - 0s 925us/step - loss: 0.1314\n",
      "Epoch 149/200\n",
      "32/32 [==============================] - 0s 887us/step - loss: 0.1307\n",
      "Epoch 150/200\n",
      "32/32 [==============================] - 0s 884us/step - loss: 0.1308\n",
      "Epoch 151/200\n",
      "32/32 [==============================] - 0s 903us/step - loss: 0.1302\n",
      "Epoch 152/200\n",
      "32/32 [==============================] - 0s 900us/step - loss: 0.1308\n",
      "Epoch 153/200\n",
      "32/32 [==============================] - 0s 895us/step - loss: 0.1302\n",
      "Epoch 154/200\n",
      "32/32 [==============================] - 0s 903us/step - loss: 0.1292\n",
      "Epoch 155/200\n",
      "32/32 [==============================] - 0s 926us/step - loss: 0.1277\n",
      "Epoch 156/200\n",
      "32/32 [==============================] - 0s 907us/step - loss: 0.1279\n",
      "Epoch 157/200\n",
      "32/32 [==============================] - 0s 877us/step - loss: 0.1273\n",
      "Epoch 158/200\n",
      "32/32 [==============================] - 0s 891us/step - loss: 0.1261\n",
      "Epoch 159/200\n",
      "32/32 [==============================] - 0s 889us/step - loss: 0.1259\n",
      "Epoch 160/200\n",
      "32/32 [==============================] - 0s 924us/step - loss: 0.1251\n",
      "Epoch 161/200\n",
      "32/32 [==============================] - 0s 894us/step - loss: 0.1245\n",
      "Epoch 162/200\n",
      "32/32 [==============================] - 0s 868us/step - loss: 0.1261\n",
      "Epoch 163/200\n",
      "32/32 [==============================] - 0s 873us/step - loss: 0.1236\n",
      "Epoch 164/200\n",
      "32/32 [==============================] - 0s 877us/step - loss: 0.1251\n",
      "Epoch 165/200\n",
      "32/32 [==============================] - 0s 879us/step - loss: 0.1235\n",
      "Epoch 166/200\n",
      "32/32 [==============================] - 0s 878us/step - loss: 0.1226\n",
      "Epoch 167/200\n",
      "32/32 [==============================] - 0s 877us/step - loss: 0.1230\n",
      "Epoch 168/200\n",
      "32/32 [==============================] - 0s 876us/step - loss: 0.1222\n",
      "Epoch 169/200\n",
      "32/32 [==============================] - 0s 878us/step - loss: 0.1217\n",
      "Epoch 170/200\n",
      "32/32 [==============================] - 0s 936us/step - loss: 0.1208\n",
      "Epoch 171/200\n",
      "32/32 [==============================] - 0s 983us/step - loss: 0.1200\n",
      "Epoch 172/200\n",
      "32/32 [==============================] - 0s 896us/step - loss: 0.1200\n",
      "Epoch 173/200\n",
      "32/32 [==============================] - 0s 896us/step - loss: 0.1192\n",
      "Epoch 174/200\n",
      "32/32 [==============================] - 0s 867us/step - loss: 0.1188\n",
      "Epoch 175/200\n",
      "32/32 [==============================] - 0s 876us/step - loss: 0.1206\n",
      "Epoch 176/200\n",
      "32/32 [==============================] - 0s 876us/step - loss: 0.1177\n",
      "Epoch 177/200\n",
      "32/32 [==============================] - 0s 887us/step - loss: 0.1193\n",
      "Epoch 178/200\n",
      "32/32 [==============================] - 0s 881us/step - loss: 0.1171\n",
      "Epoch 179/200\n",
      "32/32 [==============================] - 0s 898us/step - loss: 0.1179\n",
      "Epoch 180/200\n",
      "32/32 [==============================] - 0s 891us/step - loss: 0.1161\n",
      "Epoch 181/200\n",
      "32/32 [==============================] - 0s 922us/step - loss: 0.1171\n",
      "Epoch 182/200\n",
      "32/32 [==============================] - 0s 936us/step - loss: 0.1165\n",
      "Epoch 183/200\n",
      "32/32 [==============================] - 0s 916us/step - loss: 0.1163\n",
      "Epoch 184/200\n",
      "32/32 [==============================] - 0s 976us/step - loss: 0.1162\n",
      "Epoch 185/200\n",
      "32/32 [==============================] - 0s 924us/step - loss: 0.1145\n",
      "Epoch 186/200\n",
      "32/32 [==============================] - 0s 882us/step - loss: 0.1140\n",
      "Epoch 187/200\n",
      "32/32 [==============================] - 0s 879us/step - loss: 0.1143\n",
      "Epoch 188/200\n",
      "32/32 [==============================] - 0s 900us/step - loss: 0.1136\n",
      "Epoch 189/200\n",
      "32/32 [==============================] - 0s 894us/step - loss: 0.1128\n",
      "Epoch 190/200\n",
      "32/32 [==============================] - 0s 920us/step - loss: 0.1129\n",
      "Epoch 191/200\n",
      "32/32 [==============================] - 0s 900us/step - loss: 0.1130\n",
      "Epoch 192/200\n",
      "32/32 [==============================] - 0s 980us/step - loss: 0.1137\n",
      "Epoch 193/200\n",
      "32/32 [==============================] - 0s 875us/step - loss: 0.1124\n",
      "Epoch 194/200\n",
      "32/32 [==============================] - 0s 880us/step - loss: 0.1113\n",
      "Epoch 195/200\n",
      "32/32 [==============================] - 0s 905us/step - loss: 0.1101\n",
      "Epoch 196/200\n",
      "32/32 [==============================] - 0s 878us/step - loss: 0.1121\n",
      "Epoch 197/200\n",
      "32/32 [==============================] - 0s 833us/step - loss: 0.1101\n",
      "Epoch 198/200\n",
      "32/32 [==============================] - 0s 886us/step - loss: 0.1094\n",
      "Epoch 199/200\n",
      "32/32 [==============================] - 0s 893us/step - loss: 0.1091\n",
      "Epoch 200/200\n",
      "32/32 [==============================] - 0s 895us/step - loss: 0.1095\n"
     ]
    }
   ],
   "source": [
    "clf3 = OrdinalRegression()\n",
    "clf3.fit(X, y, use_gradient_tape=False, epochs=200, learning_rate=1e-2, dist='ol')"
   ]
  },
  {
   "attachments": {},
   "cell_type": "markdown",
   "metadata": {},
   "source": [
    "# Model Comparison"
   ]
  },
  {
   "attachments": {},
   "cell_type": "markdown",
   "metadata": {},
   "source": [
    "## OrderedGuassian(1)"
   ]
  },
  {
   "cell_type": "code",
   "execution_count": 22,
   "metadata": {},
   "outputs": [
    {
     "data": {
      "image/png": "[encoded data removed]",
      "text/plain": [
       "<Figure size 432x288 with 1 Axes>"
      ]
     },
     "metadata": {
      "needs_background": "light"
     },
     "output_type": "display_data"
    }
   ],
   "source": [
    "clf1.plot_losses(flatten_epochs=True)"
   ]
  },
  {
   "cell_type": "code",
   "execution_count": 23,
   "metadata": {},
   "outputs": [
    {
     "name": "stdout",
     "output_type": "stream",
     "text": [
      "Model: \"sequential_3\"\n",
      "_________________________________________________________________\n",
      "Layer (type)                 Output Shape              Param #   \n",
      "=================================================================\n",
      "dense_3 (Dense)              (None, 1)                 3         \n",
      "_________________________________________________________________\n",
      "distribution_lambda_3 (Distr ((None, 1), (None, 1))    3         \n",
      "=================================================================\n",
      "Total params: 6\n",
      "Trainable params: 6\n",
      "Non-trainable params: 0\n",
      "_________________________________________________________________\n"
     ]
    }
   ],
   "source": [
    "clf1.model.summary()"
   ]
  },
  {
   "cell_type": "code",
   "execution_count": 24,
   "metadata": {},
   "outputs": [
    {
     "data": {
      "text/plain": [
       "[<tf.Variable 'dense_3/kernel:0' shape=(2, 1) dtype=float32, numpy=\n",
       " array([[nan],\n",
       "        [nan]], dtype=float32)>,\n",
       " <tf.Variable 'dense_3/bias:0' shape=(1,) dtype=float32, numpy=array([nan], dtype=float32)>,\n",
       " <tf.Variable 'Variable:0' shape=(3,) dtype=float32, numpy=array([nan, nan, nan], dtype=float32)>]"
      ]
     },
     "execution_count": 24,
     "metadata": {},
     "output_type": "execute_result"
    }
   ],
   "source": [
    "clf1.model.trainable_variables"
   ]
  },
  {
   "cell_type": "code",
   "execution_count": 25,
   "metadata": {},
   "outputs": [],
   "source": [
    "y_predict = clf1.predict(X)"
   ]
  },
  {
   "cell_type": "code",
   "execution_count": 26,
   "metadata": {},
   "outputs": [
    {
     "data": {
      "image/png": "[encoded data removed]",
      "text/plain": [
       "<Figure size 432x288 with 2 Axes>"
      ]
     },
     "metadata": {
      "needs_background": "light"
     },
     "output_type": "display_data"
    }
   ],
   "source": [
    "cf_matrix = confusion_matrix(y, y_predict, normalize='true',labels=list(range(y.max()+1))) \n",
    "ax = sns.heatmap(cf_matrix, linewidths=1, annot=True, fmt='.2f')\n",
    "ax.set_ylabel(f'Actual')\n",
    "ax.set_xlabel(f'Predicted')\n",
    "plt.show()"
   ]
  },
  {
   "attachments": {},
   "cell_type": "markdown",
   "metadata": {},
   "source": [
    "## OrderedGuassian2"
   ]
  },
  {
   "cell_type": "code",
   "execution_count": 27,
   "metadata": {},
   "outputs": [
    {
     "data": {
      "image/png": "[encoded data removed]",
      "text/plain": [
       "<Figure size 432x288 with 1 Axes>"
      ]
     },
     "metadata": {
      "needs_background": "light"
     },
     "output_type": "display_data"
    }
   ],
   "source": [
    "clf2.plot_losses(flatten_epochs=True)"
   ]
  },
  {
   "cell_type": "code",
   "execution_count": 28,
   "metadata": {},
   "outputs": [
    {
     "name": "stdout",
     "output_type": "stream",
     "text": [
      "Model: \"sequential_4\"\n",
      "_________________________________________________________________\n",
      "Layer (type)                 Output Shape              Param #   \n",
      "=================================================================\n",
      "dense_4 (Dense)              (None, 1)                 3         \n",
      "_________________________________________________________________\n",
      "distribution_lambda_4 (Distr ((None, 1), (None, 1))    3         \n",
      "=================================================================\n",
      "Total params: 6\n",
      "Trainable params: 6\n",
      "Non-trainable params: 0\n",
      "_________________________________________________________________\n"
     ]
    }
   ],
   "source": [
    "clf2.model.summary()"
   ]
  },
  {
   "cell_type": "code",
   "execution_count": 29,
   "metadata": {},
   "outputs": [
    {
     "data": {
      "text/plain": [
       "[<tf.Variable 'dense_4/kernel:0' shape=(2, 1) dtype=float32, numpy=\n",
       " array([[nan],\n",
       "        [nan]], dtype=float32)>,\n",
       " <tf.Variable 'dense_4/bias:0' shape=(1,) dtype=float32, numpy=array([nan], dtype=float32)>,\n",
       " <tf.Variable 'Variable:0' shape=(3,) dtype=float32, numpy=array([nan, nan, nan], dtype=float32)>]"
      ]
     },
     "execution_count": 29,
     "metadata": {},
     "output_type": "execute_result"
    }
   ],
   "source": [
    "clf2.model.trainable_variables"
   ]
  },
  {
   "cell_type": "code",
   "execution_count": 30,
   "metadata": {},
   "outputs": [],
   "source": [
    "y_predict = clf2.predict(X)"
   ]
  },
  {
   "cell_type": "code",
   "execution_count": 31,
   "metadata": {},
   "outputs": [
    {
     "data": {
      "image/png": "[encoded data removed]",
      "text/plain": [
       "<Figure size 432x288 with 2 Axes>"
      ]
     },
     "metadata": {
      "needs_background": "light"
     },
     "output_type": "display_data"
    }
   ],
   "source": [
    "cf_matrix = confusion_matrix(y, y_predict, normalize='true',labels=list(range(y.max()+1))) \n",
    "ax = sns.heatmap(cf_matrix, linewidths=1, annot=True, fmt='.2f')\n",
    "ax.set_ylabel(f'Actual')\n",
    "ax.set_xlabel(f'Predicted')\n",
    "plt.show()"
   ]
  },
  {
   "attachments": {},
   "cell_type": "markdown",
   "metadata": {},
   "source": [
    "## OrderedLogistic"
   ]
  },
  {
   "cell_type": "code",
   "execution_count": 32,
   "metadata": {},
   "outputs": [
    {
     "data": {
      "image/png": "[encoded data removed]",
      "text/plain": [
       "<Figure size 432x288 with 1 Axes>"
      ]
     },
     "metadata": {
      "needs_background": "light"
     },
     "output_type": "display_data"
    }
   ],
   "source": [
    "clf3.plot_losses(flatten_epochs=True)"
   ]
  },
  {
   "cell_type": "code",
   "execution_count": 33,
   "metadata": {},
   "outputs": [
    {
     "name": "stdout",
     "output_type": "stream",
     "text": [
      "Model: \"sequential_5\"\n",
      "_________________________________________________________________\n",
      "Layer (type)                 Output Shape              Param #   \n",
      "=================================================================\n",
      "dense_5 (Dense)              (None, 1)                 3         \n",
      "_________________________________________________________________\n",
      "distribution_lambda_5 (Distr ((None, 1), (None, 1))    3         \n",
      "=================================================================\n",
      "Total params: 6\n",
      "Trainable params: 6\n",
      "Non-trainable params: 0\n",
      "_________________________________________________________________\n"
     ]
    }
   ],
   "source": [
    "clf3.model.summary()"
   ]
  },
  {
   "cell_type": "code",
   "execution_count": 34,
   "metadata": {},
   "outputs": [
    {
     "data": {
      "text/plain": [
       "[<tf.Variable 'dense_5/kernel:0' shape=(2, 1) dtype=float32, numpy=\n",
       " array([[-0.04662225],\n",
       "        [13.495632  ]], dtype=float32)>,\n",
       " <tf.Variable 'dense_5/bias:0' shape=(1,) dtype=float32, numpy=array([-0.5286117], dtype=float32)>,\n",
       " <tf.Variable 'Variable:0' shape=(3,) dtype=float32, numpy=array([-14.667827 ,  -1.2678663,  12.274976 ], dtype=float32)>]"
      ]
     },
     "execution_count": 34,
     "metadata": {},
     "output_type": "execute_result"
    }
   ],
   "source": [
    "clf3.model.trainable_variables"
   ]
  },
  {
   "cell_type": "code",
   "execution_count": 35,
   "metadata": {},
   "outputs": [],
   "source": [
    "y_predict = clf3.predict(X)"
   ]
  },
  {
   "cell_type": "code",
   "execution_count": 36,
   "metadata": {},
   "outputs": [
    {
     "data": {
      "image/png": "[encoded data removed]",
      "text/plain": [
       "<Figure size 432x288 with 2 Axes>"
      ]
     },
     "metadata": {
      "needs_background": "light"
     },
     "output_type": "display_data"
    }
   ],
   "source": [
    "cf_matrix = confusion_matrix(y, y_predict, normalize='true',labels=list(range(y.max()+1))) \n",
    "ax = sns.heatmap(cf_matrix, linewidths=1, annot=True, fmt='.2f')\n",
    "ax.set_ylabel(f'Actual')\n",
    "ax.set_xlabel(f'Predicted')\n",
    "plt.show()"
   ]
  },
  {
   "cell_type": "code",
   "execution_count": 37,
   "metadata": {},
   "outputs": [
    {
     "data": {
      "image/png": "[encoded data removed]",
      "text/plain": [
       "<Figure size 360x360 with 2 Axes>"
      ]
     },
     "metadata": {
      "needs_background": "light"
     },
     "output_type": "display_data"
    }
   ],
   "source": [
    "plot_model(clf3)"
   ]
  },
  {
   "attachments": {},
   "cell_type": "markdown",
   "metadata": {},
   "source": [
    "--------------\n",
    "# IGNORE BELOW\n",
    "--------------"
   ]
  },
  {
   "attachments": {},
   "cell_type": "markdown",
   "metadata": {},
   "source": [
    "## Sequence State 2--Gaussian with label noise"
   ]
  },
  {
   "attachments": {},
   "cell_type": "markdown",
   "metadata": {},
   "source": [
    "### Toy Data"
   ]
  },
  {
   "cell_type": "code",
   "execution_count": null,
   "metadata": {},
   "outputs": [],
   "source": [
    "state_2_with_noise_df = pd.read_csv('../toydata/simulated_data/features_from_state2_with_noise.csv')\n",
    "state_2_with_noise_df"
   ]
  },
  {
   "cell_type": "code",
   "execution_count": null,
   "metadata": {},
   "outputs": [],
   "source": [
    "from IPython.display import Image\n",
    "Image(filename='../toydata/simulated_data/features_from_state2_with_noise.png') "
   ]
  },
  {
   "cell_type": "code",
   "execution_count": null,
   "metadata": {},
   "outputs": [],
   "source": [
    "# scaler = MinMaxScaler()\n",
    "# X = scaler.fit_transform(state_2_df[['temperature_1', 'temperature_2']].values)\n",
    "X = state_2_with_noise_df[['temperature_1', 'temperature_2']].values\n",
    "y = state_2_with_noise_df['ordinal_label'].values\n",
    "print(f'X: {X.shape}')\n",
    "print(X)\n",
    "print(f'y: {y.shape}')\n",
    "print(y)"
   ]
  },
  {
   "attachments": {},
   "cell_type": "markdown",
   "metadata": {},
   "source": [
    "### Model"
   ]
  },
  {
   "cell_type": "code",
   "execution_count": null,
   "metadata": {},
   "outputs": [],
   "source": [
    "clf = OrdinalRegression(noise_variance = None, C=1, save_loss=True, random_state=10)\n",
    "clf.fit(X, y)\n",
    "proba = clf.predict_proba(X)\n",
    "y_predict = clf.predict(X)\n",
    "print(proba)\n",
    "print(y_predict)"
   ]
  },
  {
   "cell_type": "code",
   "execution_count": null,
   "metadata": {},
   "outputs": [],
   "source": [
    "plot_model(clf)"
   ]
  },
  {
   "cell_type": "code",
   "execution_count": null,
   "metadata": {},
   "outputs": [],
   "source": [
    "cf_matrix = confusion_matrix(y, y_predict, normalize='true',labels=list(range(y.max()+1))) \n",
    "\n",
    "ax = sns.heatmap(cf_matrix, linewidths=1, annot=True, fmt='.2f')\n",
    "ax.set_ylabel(f'Actual')\n",
    "ax.set_xlabel(f'Predicted')\n",
    "plt.show()"
   ]
  },
  {
   "attachments": {},
   "cell_type": "markdown",
   "metadata": {},
   "source": [
    "## Crescent Shapes"
   ]
  },
  {
   "attachments": {},
   "cell_type": "markdown",
   "metadata": {},
   "source": [
    "### Toy Data"
   ]
  },
  {
   "cell_type": "code",
   "execution_count": null,
   "metadata": {},
   "outputs": [],
   "source": [
    "cresent_df = pd.read_csv('../toydata/ordinal_data/crescent_shapes_4_labels.csv')\n",
    "cresent_df"
   ]
  },
  {
   "cell_type": "code",
   "execution_count": null,
   "metadata": {},
   "outputs": [],
   "source": [
    "from IPython.display import Image\n",
    "Image(filename='../toydata/ordinal_data/crescent_shapes_4_labels.png') "
   ]
  },
  {
   "cell_type": "code",
   "execution_count": null,
   "metadata": {},
   "outputs": [],
   "source": [
    "# scaler = MinMaxScaler()\n",
    "# X = scaler.fit_transform(state_2_df[['temperature_1', 'temperature_2']].values)\n",
    "X = cresent_df[['x1', 'x2']].values\n",
    "y = cresent_df['label'].values.astype(int)\n",
    "print(f'X: {X.shape}')\n",
    "print(X)\n",
    "print(f'y: {y.shape}')\n",
    "print(y)"
   ]
  },
  {
   "cell_type": "markdown",
   "metadata": {},
   "source": [
    "### Model"
   ]
  },
  {
   "cell_type": "code",
   "execution_count": null,
   "metadata": {},
   "outputs": [],
   "source": [
    "clf = OrdinalRegression(noise_variance = 1, C=1, save_loss=True, random_state=10)\n",
    "clf.fit(X, y)\n",
    "proba = clf.predict_proba(X)\n",
    "y_predict = clf.predict(X)\n",
    "print(proba)\n",
    "print(y_predict)"
   ]
  },
  {
   "cell_type": "code",
   "execution_count": null,
   "metadata": {},
   "outputs": [],
   "source": [
    "plot_model(clf)"
   ]
  },
  {
   "cell_type": "code",
   "execution_count": null,
   "metadata": {},
   "outputs": [],
   "source": [
    "cf_matrix = confusion_matrix(y, y_predict, normalize='true',labels=list(range(y.max()+1))) \n",
    "\n",
    "ax = sns.heatmap(cf_matrix, linewidths=1, annot=True, fmt='.2f')\n",
    "ax.set_ylabel(f'Actual')\n",
    "ax.set_xlabel(f'Predicted')\n",
    "plt.show()"
   ]
  },
  {
   "attachments": {},
   "cell_type": "markdown",
   "metadata": {},
   "source": [
    "## Concentric Circles"
   ]
  },
  {
   "attachments": {},
   "cell_type": "markdown",
   "metadata": {},
   "source": [
    "### Toy Data, Point Density Factor = 1"
   ]
  },
  {
   "cell_type": "code",
   "execution_count": null,
   "metadata": {},
   "outputs": [],
   "source": [
    "circles_df = pd.read_csv('../toydata/ordinal_data/concentric_circles_4_labels_1.0_densityfactor.csv')\n",
    "circles_df"
   ]
  },
  {
   "cell_type": "code",
   "execution_count": null,
   "metadata": {},
   "outputs": [],
   "source": [
    "from IPython.display import Image\n",
    "Image(filename='../toydata/ordinal_data/concentric_circles_4_labels_1.0_densityfactor.png') "
   ]
  },
  {
   "cell_type": "code",
   "execution_count": null,
   "metadata": {},
   "outputs": [],
   "source": [
    "# scaler = MinMaxScaler()\n",
    "# X = scaler.fit_transform(state_2_df[['temperature_1', 'temperature_2']].values)\n",
    "X = circles_df[['x1', 'x2']].values\n",
    "y = circles_df['ordinal_label'].values\n",
    "print(f'X: {X.shape}')\n",
    "print(X)\n",
    "print(f'y: {y.shape}')\n",
    "print(y)"
   ]
  },
  {
   "cell_type": "markdown",
   "metadata": {},
   "source": [
    "### Model"
   ]
  },
  {
   "cell_type": "code",
   "execution_count": null,
   "metadata": {},
   "outputs": [],
   "source": [
    "clf = OrdinalRegression(noise_variance = 1, C=1, save_loss=True, random_state=10)\n",
    "clf.fit(X, y)\n",
    "proba = clf.predict_proba(X)\n",
    "y_predict = clf.predict(X)\n",
    "print(proba)\n",
    "print(y_predict)"
   ]
  },
  {
   "cell_type": "code",
   "execution_count": null,
   "metadata": {},
   "outputs": [],
   "source": [
    "plot_model(clf)"
   ]
  },
  {
   "cell_type": "code",
   "execution_count": null,
   "metadata": {},
   "outputs": [],
   "source": [
    "cf_matrix = confusion_matrix(y, y_predict, normalize='true',labels=list(range(y.max()+1))) \n",
    "\n",
    "ax = sns.heatmap(cf_matrix, linewidths=1, annot=True, fmt='.2f')\n",
    "ax.set_ylabel(f'Actual')\n",
    "ax.set_xlabel(f'Predicted')\n",
    "plt.show()"
   ]
  },
  {
   "attachments": {},
   "cell_type": "markdown",
   "metadata": {},
   "source": [
    "## Concentric Semi Circles"
   ]
  },
  {
   "cell_type": "markdown",
   "metadata": {},
   "source": [
    "### Toy Data, Point Density Factor = 1"
   ]
  },
  {
   "cell_type": "code",
   "execution_count": null,
   "metadata": {},
   "outputs": [],
   "source": [
    "semi_circles_df = pd.read_csv('../toydata/ordinal_data/concentric_semi_circles_4_labels_1_densityfactor.csv')\n",
    "semi_circles_df"
   ]
  },
  {
   "cell_type": "code",
   "execution_count": null,
   "metadata": {},
   "outputs": [],
   "source": [
    "from IPython.display import Image\n",
    "Image(filename='../toydata/ordinal_data/concentric_semi_circles_4_labels_1_densityfactor.png') "
   ]
  },
  {
   "cell_type": "code",
   "execution_count": null,
   "metadata": {},
   "outputs": [],
   "source": [
    "# scaler = MinMaxScaler()\n",
    "# X = scaler.fit_transform(state_2_df[['temperature_1', 'temperature_2']].values)\n",
    "X = semi_circles_df[['x1', 'x2']].values\n",
    "y = semi_circles_df['ordinal_label'].values\n",
    "print(f'X: {X.shape}')\n",
    "print(X)\n",
    "print(f'y: {y.shape}')\n",
    "print(y)"
   ]
  },
  {
   "cell_type": "markdown",
   "metadata": {},
   "source": [
    "### Model"
   ]
  },
  {
   "cell_type": "code",
   "execution_count": null,
   "metadata": {},
   "outputs": [],
   "source": [
    "clf = OrdinalRegression(noise_variance = 10, C=1, save_loss=True, random_state=10)\n",
    "clf.fit(X, y)\n",
    "proba = clf.predict_proba(X)\n",
    "y_predict = clf.predict(X)\n",
    "print(proba)\n",
    "print(y_predict)"
   ]
  },
  {
   "cell_type": "code",
   "execution_count": null,
   "metadata": {},
   "outputs": [],
   "source": [
    "plot_model(clf)"
   ]
  },
  {
   "cell_type": "code",
   "execution_count": null,
   "metadata": {},
   "outputs": [],
   "source": [
    "cf_matrix = confusion_matrix(y, y_predict, normalize='true',labels=list(range(y.max()+1))) \n",
    "\n",
    "ax = sns.heatmap(cf_matrix, linewidths=1, annot=True, fmt='.2f')\n",
    "ax.set_ylabel(f'Actual')\n",
    "ax.set_xlabel(f'Predicted')\n",
    "plt.show()"
   ]
  },
  {
   "attachments": {},
   "cell_type": "markdown",
   "metadata": {},
   "source": [
    "## Stacked Gaussians"
   ]
  },
  {
   "attachments": {},
   "cell_type": "markdown",
   "metadata": {},
   "source": [
    "### Toy Data, Point Density Factor = 1, Mean scale = 4"
   ]
  },
  {
   "cell_type": "code",
   "execution_count": null,
   "metadata": {},
   "outputs": [],
   "source": [
    "stacked_gaussian_df = pd.read_csv('../toydata/ordinal_data/stacked_gaussian_4_labels_1_densityfactor.csv')\n",
    "stacked_gaussian_df"
   ]
  },
  {
   "cell_type": "code",
   "execution_count": null,
   "metadata": {},
   "outputs": [],
   "source": [
    "from IPython.display import Image\n",
    "Image(filename='../toydata/ordinal_data/stacked_gaussian_4_labels_1_densityfactor.png') "
   ]
  },
  {
   "cell_type": "code",
   "execution_count": null,
   "metadata": {},
   "outputs": [],
   "source": [
    "# scaler = MinMaxScaler()\n",
    "# X = scaler.fit_transform(state_2_df[['temperature_1', 'temperature_2']].values)\n",
    "X = stacked_gaussian_df[['x1', 'x2']].values\n",
    "y = stacked_gaussian_df['ordinal_label'].values\n",
    "print(f'X: {X.shape}')\n",
    "print(X)\n",
    "print(f'y: {y.shape}')\n",
    "print(y)"
   ]
  },
  {
   "cell_type": "markdown",
   "metadata": {},
   "source": [
    "### Model"
   ]
  },
  {
   "cell_type": "code",
   "execution_count": null,
   "metadata": {},
   "outputs": [],
   "source": [
    "clf = OrdinalRegression(noise_variance = 1, C=1, save_loss=True, random_state=10)\n",
    "clf.fit(X, y)\n",
    "proba = clf.predict_proba(X)\n",
    "y_predict = clf.predict(X)\n",
    "print(proba)\n",
    "print(y_predict)"
   ]
  },
  {
   "cell_type": "code",
   "execution_count": null,
   "metadata": {},
   "outputs": [],
   "source": [
    "log_proba = clf.predict_log_proba(X)\n",
    "type(proba)"
   ]
  },
  {
   "cell_type": "code",
   "execution_count": null,
   "metadata": {},
   "outputs": [],
   "source": [
    "logsumexp(log_proba, axis=1)"
   ]
  },
  {
   "cell_type": "code",
   "execution_count": null,
   "metadata": {},
   "outputs": [],
   "source": [
    "np.log(np.sum(proba, axis=1))"
   ]
  },
  {
   "cell_type": "code",
   "execution_count": null,
   "metadata": {},
   "outputs": [],
   "source": [
    "plot_model(clf)"
   ]
  },
  {
   "cell_type": "code",
   "execution_count": null,
   "metadata": {},
   "outputs": [],
   "source": [
    "cf_matrix = confusion_matrix(y, y_predict, normalize='true',labels=list(range(y.max()+1))) \n",
    "\n",
    "ax = sns.heatmap(cf_matrix, linewidths=1, annot=True, fmt='.2f')\n",
    "ax.set_ylabel(f'Actual')\n",
    "ax.set_xlabel(f'Predicted')\n",
    "plt.show()"
   ]
  },
  {
   "cell_type": "code",
   "execution_count": null,
   "metadata": {},
   "outputs": [],
   "source": [
    "min_variance = clf.find_global_minimum_variance(iter=50)"
   ]
  },
  {
   "attachments": {},
   "cell_type": "markdown",
   "metadata": {},
   "source": [
    "### Toy Data, Point Density Factor = 0.5, Mean scale = 2"
   ]
  },
  {
   "cell_type": "code",
   "execution_count": null,
   "metadata": {},
   "outputs": [],
   "source": [
    "stacked_gaussian_df = pd.read_csv('../toydata/ordinal_data/stacked_gaussian_4_labels_0.5_densityfactor_2_meanscale.csv')\n",
    "stacked_gaussian_df"
   ]
  },
  {
   "cell_type": "code",
   "execution_count": null,
   "metadata": {},
   "outputs": [],
   "source": [
    "from IPython.display import Image\n",
    "Image(filename='../toydata/ordinal_data/stacked_gaussian_4_labels_0.5_densityfactor_2_meanscale.png') "
   ]
  },
  {
   "cell_type": "code",
   "execution_count": null,
   "metadata": {},
   "outputs": [],
   "source": [
    "# scaler = MinMaxScaler()\n",
    "# X = scaler.fit_transform(state_2_df[['temperature_1', 'temperature_2']].values)\n",
    "X = stacked_gaussian_df[['x1', 'x2']].values\n",
    "y = stacked_gaussian_df['ordinal_label'].values\n",
    "print(f'X: {X.shape}')\n",
    "print(X)\n",
    "print(f'y: {y.shape}')\n",
    "print(y)"
   ]
  },
  {
   "cell_type": "markdown",
   "metadata": {},
   "source": [
    "### Model"
   ]
  },
  {
   "cell_type": "code",
   "execution_count": null,
   "metadata": {},
   "outputs": [],
   "source": [
    "clf = OrdinalRegression(noise_variance = 1, C=1, save_loss=True, random_state=10)\n",
    "clf.fit(X, y)\n",
    "proba = clf.predict_proba(X)\n",
    "y_predict = clf.predict(X)\n",
    "print(proba)\n",
    "print(y_predict)"
   ]
  },
  {
   "cell_type": "code",
   "execution_count": null,
   "metadata": {},
   "outputs": [],
   "source": [
    "plot_model(clf)"
   ]
  },
  {
   "cell_type": "code",
   "execution_count": null,
   "metadata": {},
   "outputs": [],
   "source": [
    "cf_matrix = confusion_matrix(y, y_predict, normalize='true',labels=list(range(y.max()+1))) \n",
    "\n",
    "ax = sns.heatmap(cf_matrix, linewidths=1, annot=True, fmt='.2f')\n",
    "ax.set_ylabel(f'Actual')\n",
    "ax.set_xlabel(f'Predicted')\n",
    "plt.show()"
   ]
  },
  {
   "cell_type": "code",
   "execution_count": null,
   "metadata": {},
   "outputs": [],
   "source": [
    "min_variance = clf.find_global_minimum_variance()"
   ]
  },
  {
   "cell_type": "code",
   "execution_count": null,
   "metadata": {},
   "outputs": [],
   "source": [
    "clf.grid_search_variance()"
   ]
  },
  {
   "cell_type": "markdown",
   "metadata": {},
   "source": [
    "## Concentric Semi Circles"
   ]
  },
  {
   "cell_type": "markdown",
   "metadata": {},
   "source": [
    "### Toy Data, Point Density Factor = 1"
   ]
  },
  {
   "cell_type": "code",
   "execution_count": null,
   "metadata": {},
   "outputs": [],
   "source": [
    "semi_circles_df = pd.read_csv('../toydata/ordinal_data/concentric_semi_circles_4_labels_1_densityfactor.csv')\n",
    "semi_circles_df"
   ]
  },
  {
   "cell_type": "code",
   "execution_count": null,
   "metadata": {},
   "outputs": [],
   "source": [
    "from IPython.display import Image\n",
    "Image(filename='../toydata/ordinal_data/concentric_semi_circles_4_labels_1_densityfactor.png') "
   ]
  },
  {
   "cell_type": "code",
   "execution_count": null,
   "metadata": {},
   "outputs": [],
   "source": [
    "# scaler = MinMaxScaler()\n",
    "# X = scaler.fit_transform(state_2_df[['temperature_1', 'temperature_2']].values)\n",
    "X = semi_circles_df[['x1', 'x2']].values\n",
    "y = semi_circles_df['ordinal_label'].values\n",
    "print(f'X: {X.shape}')\n",
    "print(X)\n",
    "print(f'y: {y.shape}')\n",
    "print(y)"
   ]
  },
  {
   "cell_type": "markdown",
   "metadata": {},
   "source": [
    "### Model"
   ]
  },
  {
   "cell_type": "code",
   "execution_count": null,
   "metadata": {},
   "outputs": [],
   "source": [
    "clf = OrdinalRegression(noise_variance = 1, C=1, save_loss=True, random_state=10)\n",
    "clf.fit(X, y)\n",
    "proba = clf.predict_proba(X)\n",
    "y_predict = clf.predict(X)\n",
    "print(proba)\n",
    "print(y_predict)"
   ]
  },
  {
   "cell_type": "code",
   "execution_count": null,
   "metadata": {},
   "outputs": [],
   "source": [
    "plot_model(clf)"
   ]
  },
  {
   "cell_type": "code",
   "execution_count": null,
   "metadata": {},
   "outputs": [],
   "source": [
    "cf_matrix = confusion_matrix(y, y_predict, normalize='true',labels=list(range(y.max()+1))) \n",
    "\n",
    "ax = sns.heatmap(cf_matrix, linewidths=1, annot=True, fmt='.2f')\n",
    "ax.set_ylabel(f'Actual')\n",
    "ax.set_xlabel(f'Predicted')\n",
    "plt.show()"
   ]
  },
  {
   "attachments": {},
   "cell_type": "markdown",
   "metadata": {},
   "source": [
    "# Misc. Testing"
   ]
  },
  {
   "cell_type": "code",
   "execution_count": null,
   "metadata": {},
   "outputs": [],
   "source": [
    "X = np.array(\n",
    "    [\n",
    "        [-80,-90,-100],\n",
    "        [4,5,6],\n",
    "        [80,90,100],\n",
    "        [-81,-93,-99],\n",
    "        [4.2,5.1,6.3],\n",
    "        [81,93,99],\n",
    "        [-87,-94,-98],\n",
    "        [4.1,5.2,6.5],\n",
    "        [87,94,98],\n",
    "    ]\n",
    ")\n",
    "y = np.array(\n",
    "    [\n",
    "        0,\n",
    "        1,\n",
    "        2,\n",
    "        0,\n",
    "        1,\n",
    "        2,\n",
    "        0,\n",
    "        1,\n",
    "        2,\n",
    "    ]\n",
    ")\n",
    "w_inits = []\n",
    "for i in range(100):\n",
    "    w_inits.append(np.random.rand(3) * np.random.randint(0,10))"
   ]
  },
  {
   "cell_type": "code",
   "execution_count": null,
   "metadata": {},
   "outputs": [],
   "source": [
    "clf = OrdinalRegression()\n",
    "clf.set_params(R = 3, N = 3, cut_points  = np.array([-np.inf, -3, 3, np.inf]))"
   ]
  },
  {
   "cell_type": "code",
   "execution_count": null,
   "metadata": {},
   "outputs": [],
   "source": [
    "# for w in w_inits:\n",
    "#     print(clf.log_likelihood(w, X, y))"
   ]
  },
  {
   "cell_type": "code",
   "execution_count": null,
   "metadata": {},
   "outputs": [],
   "source": [
    "clf.fit(X, y)"
   ]
  },
  {
   "cell_type": "code",
   "execution_count": null,
   "metadata": {},
   "outputs": [],
   "source": [
    "best_w = clf.w"
   ]
  },
  {
   "cell_type": "code",
   "execution_count": null,
   "metadata": {},
   "outputs": [],
   "source": [
    "clf.predict(X)"
   ]
  },
  {
   "attachments": {},
   "cell_type": "markdown",
   "metadata": {},
   "source": [
    "## Softplus"
   ]
  },
  {
   "cell_type": "code",
   "execution_count": null,
   "metadata": {},
   "outputs": [],
   "source": [
    "test_arr = np.absolute(np.random.normal(size=3))\n",
    "print(test_arr)\n",
    "inverse_arr = softplus_inv(test_arr)\n",
    "print(inverse_arr)\n",
    "recovered = softplus(inverse_arr)\n",
    "print(recovered)"
   ]
  },
  {
   "cell_type": "code",
   "execution_count": null,
   "metadata": {},
   "outputs": [],
   "source": [
    "softplus_inv(0.5969)"
   ]
  },
  {
   "cell_type": "code",
   "execution_count": null,
   "metadata": {},
   "outputs": [],
   "source": [
    "softplus(np.array([1,2,3]))"
   ]
  },
  {
   "cell_type": "code",
   "execution_count": null,
   "metadata": {},
   "outputs": [],
   "source": [
    "arr = np.array([1,2,10, 50])"
   ]
  },
  {
   "cell_type": "code",
   "execution_count": null,
   "metadata": {},
   "outputs": [],
   "source": [
    "arr.shape"
   ]
  },
  {
   "cell_type": "code",
   "execution_count": null,
   "metadata": {},
   "outputs": [],
   "source": [
    "softplus(arr)"
   ]
  },
  {
   "cell_type": "code",
   "execution_count": null,
   "metadata": {},
   "outputs": [],
   "source": [
    "np.array(1)[np.newaxis].shape"
   ]
  },
  {
   "cell_type": "code",
   "execution_count": null,
   "metadata": {},
   "outputs": [],
   "source": []
  }
 ],
 "metadata": {
  "kernelspec": {
   "display_name": "pchmm",
   "language": "python",
   "name": "python3"
  },
  "language_info": {
   "codemirror_mode": {
    "name": "ipython",
    "version": 3
   },
   "file_extension": ".py",
   "mimetype": "text/x-python",
   "name": "python",
   "nbconvert_exporter": "python",
   "pygments_lexer": "ipython3",
   "version": "3.6.12"
  },
  "orig_nbformat": 4,
  "vscode": {
   "interpreter": {
    "hash": "8e69f699a147a25772268aff28204399ade70520118b5e6fc0347c6bec943bcc"
   }
  }
 },
 "nbformat": 4,
 "nbformat_minor": 2
}
